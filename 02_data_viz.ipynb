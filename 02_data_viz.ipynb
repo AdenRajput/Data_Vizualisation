{
 "cells": [
  {
   "cell_type": "markdown",
   "metadata": {},
   "source": [
    "# Data Visualization Day#2"
   ]
  },
  {
   "cell_type": "code",
   "execution_count": 3,
   "metadata": {},
   "outputs": [],
   "source": [
    "# import libraries\n",
    "import pandas as pd\n",
    "import numpy as np\n",
    "import matplotlib.pyplot as plt\n",
    "import seaborn as sns"
   ]
  },
  {
   "cell_type": "code",
   "execution_count": 4,
   "metadata": {},
   "outputs": [
    {
     "data": {
      "text/html": [
       "<div>\n",
       "<style scoped>\n",
       "    .dataframe tbody tr th:only-of-type {\n",
       "        vertical-align: middle;\n",
       "    }\n",
       "\n",
       "    .dataframe tbody tr th {\n",
       "        vertical-align: top;\n",
       "    }\n",
       "\n",
       "    .dataframe thead th {\n",
       "        text-align: right;\n",
       "    }\n",
       "</style>\n",
       "<table border=\"1\" class=\"dataframe\">\n",
       "  <thead>\n",
       "    <tr style=\"text-align: right;\">\n",
       "      <th></th>\n",
       "      <th>total_bill</th>\n",
       "      <th>tip</th>\n",
       "      <th>sex</th>\n",
       "      <th>smoker</th>\n",
       "      <th>day</th>\n",
       "      <th>time</th>\n",
       "      <th>size</th>\n",
       "    </tr>\n",
       "  </thead>\n",
       "  <tbody>\n",
       "    <tr>\n",
       "      <th>0</th>\n",
       "      <td>16.99</td>\n",
       "      <td>1.01</td>\n",
       "      <td>Female</td>\n",
       "      <td>No</td>\n",
       "      <td>Sun</td>\n",
       "      <td>Dinner</td>\n",
       "      <td>2</td>\n",
       "    </tr>\n",
       "    <tr>\n",
       "      <th>1</th>\n",
       "      <td>10.34</td>\n",
       "      <td>1.66</td>\n",
       "      <td>Male</td>\n",
       "      <td>No</td>\n",
       "      <td>Sun</td>\n",
       "      <td>Dinner</td>\n",
       "      <td>3</td>\n",
       "    </tr>\n",
       "    <tr>\n",
       "      <th>2</th>\n",
       "      <td>21.01</td>\n",
       "      <td>3.50</td>\n",
       "      <td>Male</td>\n",
       "      <td>No</td>\n",
       "      <td>Sun</td>\n",
       "      <td>Dinner</td>\n",
       "      <td>3</td>\n",
       "    </tr>\n",
       "    <tr>\n",
       "      <th>3</th>\n",
       "      <td>23.68</td>\n",
       "      <td>3.31</td>\n",
       "      <td>Male</td>\n",
       "      <td>No</td>\n",
       "      <td>Sun</td>\n",
       "      <td>Dinner</td>\n",
       "      <td>2</td>\n",
       "    </tr>\n",
       "    <tr>\n",
       "      <th>4</th>\n",
       "      <td>24.59</td>\n",
       "      <td>3.61</td>\n",
       "      <td>Female</td>\n",
       "      <td>No</td>\n",
       "      <td>Sun</td>\n",
       "      <td>Dinner</td>\n",
       "      <td>4</td>\n",
       "    </tr>\n",
       "  </tbody>\n",
       "</table>\n",
       "</div>"
      ],
      "text/plain": [
       "   total_bill   tip     sex smoker  day    time  size\n",
       "0       16.99  1.01  Female     No  Sun  Dinner     2\n",
       "1       10.34  1.66    Male     No  Sun  Dinner     3\n",
       "2       21.01  3.50    Male     No  Sun  Dinner     3\n",
       "3       23.68  3.31    Male     No  Sun  Dinner     2\n",
       "4       24.59  3.61  Female     No  Sun  Dinner     4"
      ]
     },
     "execution_count": 4,
     "metadata": {},
     "output_type": "execute_result"
    }
   ],
   "source": [
    "# tips ka data\n",
    "tips = sns.load_dataset('tips')\n",
    "tips.head()"
   ]
  },
  {
   "cell_type": "code",
   "execution_count": null,
   "metadata": {},
   "outputs": [],
   "source": [
    "# Scatter plot using matplotlib\n",
    "plt.scatter(tips['total_bill'], tips['tip'])\n",
    "\n",
    "# adding lables\n",
    "plt.xlabel('Total Bill')\n",
    "plt.ylabel('Tip')\n",
    "plt.title('Scatter Plot of Total Bill vs Tip')\n",
    "plt.show()\n"
   ]
  },
  {
   "cell_type": "code",
   "execution_count": null,
   "metadata": {},
   "outputs": [],
   "source": [
    "# Scatter plot using seaborn\n",
    "sns.scatterplot(x='total_bill', y='tip', data=tips, hue = 'sex')\n",
    "plt.show()"
   ]
  },
  {
   "cell_type": "code",
   "execution_count": null,
   "metadata": {},
   "outputs": [],
   "source": [
    "# how many tips were given for each day\n",
    "sns.countplot(x='day', data=tips)"
   ]
  },
  {
   "cell_type": "code",
   "execution_count": null,
   "metadata": {},
   "outputs": [],
   "source": [
    "# plot a scatter plot using matplotlib and give each point a different color based on the day\n",
    "plt.scatter(tips['total_bill'], tips['tip'], c=tips['size'], marker='o', cmap='viridis')\n",
    "plt.colorbar()\n",
    "plt.show()\n"
   ]
  },
  {
   "cell_type": "code",
   "execution_count": null,
   "metadata": {},
   "outputs": [],
   "source": [
    "# count the size of the party for each day and annot the percentage on top of each bar and sort the bars in descending order\n",
    "ax = sns.countplot(x='size', data=tips, order=tips['size'].value_counts().index)\n",
    "plt.xticks(size=12)\n",
    "plt.xlabel('Table Size', size=14)\n",
    "plt.yticks(size=12)\n",
    "plt.ylabel('Count', size=12)\n",
    "plt.title(\"Count per table size\", size=16)\n",
    "ax.set_xticklabels(ax.get_xticklabels(), rotation=0, ha=\"right\")\n",
    "\n",
    "total = len(tips)\n",
    "for p in ax.patches:\n",
    "    percentage = f'{100 * p.get_height() / total:.1f}%\\n'\n",
    "    x = p.get_x() + p.get_width() / 2\n",
    "    y = p.get_height()\n",
    "    ax.annotate(percentage, (x, y), ha='center', va='center')\n",
    "#plt.tight_layout()\n",
    "plt.show()\n"
   ]
  },
  {
   "cell_type": "code",
   "execution_count": null,
   "metadata": {},
   "outputs": [],
   "source": [
    "# plot a scatter plot using matplotlib and give each point a different color based on the day\n",
    "plt.scatter(tips['day'], tips['tip'], c=tips['size'], marker='o', cmap='viridis')\n",
    "plt.colorbar()\n",
    "plt.show()\n"
   ]
  },
  {
   "cell_type": "code",
   "execution_count": null,
   "metadata": {},
   "outputs": [],
   "source": [
    "plt.plot(tips['tip'])\n",
    "plt.plot(tips['time'])\n",
    "# plt.xlabel('Index')\n",
    "# plt.ylabel('Tip')\n",
    "plt.show()"
   ]
  },
  {
   "cell_type": "code",
   "execution_count": null,
   "metadata": {},
   "outputs": [],
   "source": [
    "plt.plot(tips['day'])\n",
    "plt.plot(tips['time'])\n",
    "# plt.xlabel('Index')\n",
    "# plt.ylabel('Tip')\n",
    "plt.show()"
   ]
  },
  {
   "cell_type": "code",
   "execution_count": 5,
   "metadata": {},
   "outputs": [],
   "source": [
    "df = pd.read_csv('data_viz.csv')"
   ]
  },
  {
   "cell_type": "code",
   "execution_count": null,
   "metadata": {},
   "outputs": [],
   "source": [
    "df.columns"
   ]
  },
  {
   "cell_type": "code",
   "execution_count": null,
   "metadata": {},
   "outputs": [],
   "source": [
    "df.describe()"
   ]
  },
  {
   "cell_type": "code",
   "execution_count": null,
   "metadata": {},
   "outputs": [],
   "source": [
    "# plot a scatter plot using matplotlib and give each point a different color based on the day\n",
    "plt.scatter(df['age'], df['weight'], c=df['salary'], marker='*', cmap='viridis')\n",
    "plt.xlabel('Age')\n",
    "plt.ylabel('Weight')\n",
    "plt.title('Scatter Plot of Age vs Weight')\n",
    "plt.colorbar()\n",
    "plt.show()\n"
   ]
  },
  {
   "cell_type": "code",
   "execution_count": null,
   "metadata": {},
   "outputs": [],
   "source": [
    "# plot a scatter plot using matplotlib and give each point a different color based on the day\n",
    "plt.scatter(df['weight'], df['height'], c=df['age'], marker='*', cmap='viridis')\n",
    "plt.xlabel('Weight')\n",
    "plt.ylabel('Height')\n",
    "plt.title('Scatter Plot of Weight vs Height')\n",
    "plt.colorbar()\n",
    "plt.show()\n"
   ]
  },
  {
   "cell_type": "code",
   "execution_count": null,
   "metadata": {},
   "outputs": [],
   "source": [
    "# draw a hist plot with a normal curve in the same plot using matplotlib\n",
    "plt.hist(df['salary'], bins=10, density=True)\n",
    "# show the normal curve\n",
    "mu = df['salary'].mean()\n",
    "sigma = df['salary'].std()\n",
    "x = np.linspace(mu - 3*sigma, mu + 3*sigma, 100)\n",
    "plt.plot(x, 1/(sigma * np.sqrt(2 * np.pi)) * np.exp( - (x - mu)**2 / (2 * sigma**2) ), linewidth=2, color='r')\n",
    "plt.show()\n"
   ]
  },
  {
   "cell_type": "code",
   "execution_count": null,
   "metadata": {},
   "outputs": [],
   "source": [
    "# Installing the bokeh library\n",
    "# pip install bokeh\n",
    "#pip install selenium chromedriver-binary"
   ]
  },
  {
   "cell_type": "code",
   "execution_count": 12,
   "metadata": {},
   "outputs": [
    {
     "data": {
      "text/html": [
       "<div class=\"bk-root\">\n",
       "        <a href=\"https://bokeh.org\" target=\"_blank\" class=\"bk-logo bk-logo-small bk-logo-notebook\"></a>\n",
       "        <span id=\"1978\">Loading BokehJS ...</span>\n",
       "    </div>\n"
      ]
     },
     "metadata": {},
     "output_type": "display_data"
    },
    {
     "data": {
      "application/javascript": "(function(root) {\n  function now() {\n    return new Date();\n  }\n\n  const force = true;\n\n  if (typeof root._bokeh_onload_callbacks === \"undefined\" || force === true) {\n    root._bokeh_onload_callbacks = [];\n    root._bokeh_is_loading = undefined;\n  }\n\nconst JS_MIME_TYPE = 'application/javascript';\n  const HTML_MIME_TYPE = 'text/html';\n  const EXEC_MIME_TYPE = 'application/vnd.bokehjs_exec.v0+json';\n  const CLASS_NAME = 'output_bokeh rendered_html';\n\n  /**\n   * Render data to the DOM node\n   */\n  function render(props, node) {\n    const script = document.createElement(\"script\");\n    node.appendChild(script);\n  }\n\n  /**\n   * Handle when an output is cleared or removed\n   */\n  function handleClearOutput(event, handle) {\n    const cell = handle.cell;\n\n    const id = cell.output_area._bokeh_element_id;\n    const server_id = cell.output_area._bokeh_server_id;\n    // Clean up Bokeh references\n    if (id != null && id in Bokeh.index) {\n      Bokeh.index[id].model.document.clear();\n      delete Bokeh.index[id];\n    }\n\n    if (server_id !== undefined) {\n      // Clean up Bokeh references\n      const cmd_clean = \"from bokeh.io.state import curstate; print(curstate().uuid_to_server['\" + server_id + \"'].get_sessions()[0].document.roots[0]._id)\";\n      cell.notebook.kernel.execute(cmd_clean, {\n        iopub: {\n          output: function(msg) {\n            const id = msg.content.text.trim();\n            if (id in Bokeh.index) {\n              Bokeh.index[id].model.document.clear();\n              delete Bokeh.index[id];\n            }\n          }\n        }\n      });\n      // Destroy server and session\n      const cmd_destroy = \"import bokeh.io.notebook as ion; ion.destroy_server('\" + server_id + \"')\";\n      cell.notebook.kernel.execute(cmd_destroy);\n    }\n  }\n\n  /**\n   * Handle when a new output is added\n   */\n  function handleAddOutput(event, handle) {\n    const output_area = handle.output_area;\n    const output = handle.output;\n\n    // limit handleAddOutput to display_data with EXEC_MIME_TYPE content only\n    if ((output.output_type != \"display_data\") || (!Object.prototype.hasOwnProperty.call(output.data, EXEC_MIME_TYPE))) {\n      return\n    }\n\n    const toinsert = output_area.element.find(\".\" + CLASS_NAME.split(' ')[0]);\n\n    if (output.metadata[EXEC_MIME_TYPE][\"id\"] !== undefined) {\n      toinsert[toinsert.length - 1].firstChild.textContent = output.data[JS_MIME_TYPE];\n      // store reference to embed id on output_area\n      output_area._bokeh_element_id = output.metadata[EXEC_MIME_TYPE][\"id\"];\n    }\n    if (output.metadata[EXEC_MIME_TYPE][\"server_id\"] !== undefined) {\n      const bk_div = document.createElement(\"div\");\n      bk_div.innerHTML = output.data[HTML_MIME_TYPE];\n      const script_attrs = bk_div.children[0].attributes;\n      for (let i = 0; i < script_attrs.length; i++) {\n        toinsert[toinsert.length - 1].firstChild.setAttribute(script_attrs[i].name, script_attrs[i].value);\n        toinsert[toinsert.length - 1].firstChild.textContent = bk_div.children[0].textContent\n      }\n      // store reference to server id on output_area\n      output_area._bokeh_server_id = output.metadata[EXEC_MIME_TYPE][\"server_id\"];\n    }\n  }\n\n  function register_renderer(events, OutputArea) {\n\n    function append_mime(data, metadata, element) {\n      // create a DOM node to render to\n      const toinsert = this.create_output_subarea(\n        metadata,\n        CLASS_NAME,\n        EXEC_MIME_TYPE\n      );\n      this.keyboard_manager.register_events(toinsert);\n      // Render to node\n      const props = {data: data, metadata: metadata[EXEC_MIME_TYPE]};\n      render(props, toinsert[toinsert.length - 1]);\n      element.append(toinsert);\n      return toinsert\n    }\n\n    /* Handle when an output is cleared or removed */\n    events.on('clear_output.CodeCell', handleClearOutput);\n    events.on('delete.Cell', handleClearOutput);\n\n    /* Handle when a new output is added */\n    events.on('output_added.OutputArea', handleAddOutput);\n\n    /**\n     * Register the mime type and append_mime function with output_area\n     */\n    OutputArea.prototype.register_mime_type(EXEC_MIME_TYPE, append_mime, {\n      /* Is output safe? */\n      safe: true,\n      /* Index of renderer in `output_area.display_order` */\n      index: 0\n    });\n  }\n\n  // register the mime type if in Jupyter Notebook environment and previously unregistered\n  if (root.Jupyter !== undefined) {\n    const events = require('base/js/events');\n    const OutputArea = require('notebook/js/outputarea').OutputArea;\n\n    if (OutputArea.prototype.mime_types().indexOf(EXEC_MIME_TYPE) == -1) {\n      register_renderer(events, OutputArea);\n    }\n  }\n  if (typeof (root._bokeh_timeout) === \"undefined\" || force === true) {\n    root._bokeh_timeout = Date.now() + 5000;\n    root._bokeh_failed_load = false;\n  }\n\n  const NB_LOAD_WARNING = {'data': {'text/html':\n     \"<div style='background-color: #fdd'>\\n\"+\n     \"<p>\\n\"+\n     \"BokehJS does not appear to have successfully loaded. If loading BokehJS from CDN, this \\n\"+\n     \"may be due to a slow or bad network connection. Possible fixes:\\n\"+\n     \"</p>\\n\"+\n     \"<ul>\\n\"+\n     \"<li>re-rerun `output_notebook()` to attempt to load from CDN again, or</li>\\n\"+\n     \"<li>use INLINE resources instead, as so:</li>\\n\"+\n     \"</ul>\\n\"+\n     \"<code>\\n\"+\n     \"from bokeh.resources import INLINE\\n\"+\n     \"output_notebook(resources=INLINE)\\n\"+\n     \"</code>\\n\"+\n     \"</div>\"}};\n\n  function display_loaded() {\n    const el = document.getElementById(\"1978\");\n    if (el != null) {\n      el.textContent = \"BokehJS is loading...\";\n    }\n    if (root.Bokeh !== undefined) {\n      if (el != null) {\n        el.textContent = \"BokehJS \" + root.Bokeh.version + \" successfully loaded.\";\n      }\n    } else if (Date.now() < root._bokeh_timeout) {\n      setTimeout(display_loaded, 100)\n    }\n  }\n\n  function run_callbacks() {\n    try {\n      root._bokeh_onload_callbacks.forEach(function(callback) {\n        if (callback != null)\n          callback();\n      });\n    } finally {\n      delete root._bokeh_onload_callbacks\n    }\n    console.debug(\"Bokeh: all callbacks have finished\");\n  }\n\n  function load_libs(css_urls, js_urls, callback) {\n    if (css_urls == null) css_urls = [];\n    if (js_urls == null) js_urls = [];\n\n    root._bokeh_onload_callbacks.push(callback);\n    if (root._bokeh_is_loading > 0) {\n      console.debug(\"Bokeh: BokehJS is being loaded, scheduling callback at\", now());\n      return null;\n    }\n    if (js_urls == null || js_urls.length === 0) {\n      run_callbacks();\n      return null;\n    }\n    console.debug(\"Bokeh: BokehJS not loaded, scheduling load and callback at\", now());\n    root._bokeh_is_loading = css_urls.length + js_urls.length;\n\n    function on_load() {\n      root._bokeh_is_loading--;\n      if (root._bokeh_is_loading === 0) {\n        console.debug(\"Bokeh: all BokehJS libraries/stylesheets loaded\");\n        run_callbacks()\n      }\n    }\n\n    function on_error(url) {\n      console.error(\"failed to load \" + url);\n    }\n\n    for (let i = 0; i < css_urls.length; i++) {\n      const url = css_urls[i];\n      const element = document.createElement(\"link\");\n      element.onload = on_load;\n      element.onerror = on_error.bind(null, url);\n      element.rel = \"stylesheet\";\n      element.type = \"text/css\";\n      element.href = url;\n      console.debug(\"Bokeh: injecting link tag for BokehJS stylesheet: \", url);\n      document.body.appendChild(element);\n    }\n\n    for (let i = 0; i < js_urls.length; i++) {\n      const url = js_urls[i];\n      const element = document.createElement('script');\n      element.onload = on_load;\n      element.onerror = on_error.bind(null, url);\n      element.async = false;\n      element.src = url;\n      console.debug(\"Bokeh: injecting script tag for BokehJS library: \", url);\n      document.head.appendChild(element);\n    }\n  };\n\n  function inject_raw_css(css) {\n    const element = document.createElement(\"style\");\n    element.appendChild(document.createTextNode(css));\n    document.body.appendChild(element);\n  }\n\n  const js_urls = [\"https://cdn.bokeh.org/bokeh/release/bokeh-2.4.3.min.js\", \"https://cdn.bokeh.org/bokeh/release/bokeh-gl-2.4.3.min.js\", \"https://cdn.bokeh.org/bokeh/release/bokeh-widgets-2.4.3.min.js\", \"https://cdn.bokeh.org/bokeh/release/bokeh-tables-2.4.3.min.js\", \"https://cdn.bokeh.org/bokeh/release/bokeh-mathjax-2.4.3.min.js\"];\n  const css_urls = [];\n\n  const inline_js = [    function(Bokeh) {\n      Bokeh.set_log_level(\"info\");\n    },\nfunction(Bokeh) {\n    }\n  ];\n\n  function run_inline_js() {\n    if (root.Bokeh !== undefined || force === true) {\n          for (let i = 0; i < inline_js.length; i++) {\n      inline_js[i].call(root, root.Bokeh);\n    }\nif (force === true) {\n        display_loaded();\n      }} else if (Date.now() < root._bokeh_timeout) {\n      setTimeout(run_inline_js, 100);\n    } else if (!root._bokeh_failed_load) {\n      console.log(\"Bokeh: BokehJS failed to load within specified timeout.\");\n      root._bokeh_failed_load = true;\n    } else if (force !== true) {\n      const cell = $(document.getElementById(\"1978\")).parents('.cell').data().cell;\n      cell.output_area.append_execute_result(NB_LOAD_WARNING)\n    }\n  }\n\n  if (root._bokeh_is_loading === 0) {\n    console.debug(\"Bokeh: BokehJS loaded, going straight to plotting\");\n    run_inline_js();\n  } else {\n    load_libs(css_urls, js_urls, function() {\n      console.debug(\"Bokeh: BokehJS plotting callback run at\", now());\n      run_inline_js();\n    });\n  }\n}(window));",
      "application/vnd.bokehjs_load.v0+json": ""
     },
     "metadata": {},
     "output_type": "display_data"
    },
    {
     "data": {
      "text/html": [
       "\n",
       "  <div class=\"bk-root\" id=\"6188628f-1885-49f7-b571-69b9191d6c03\" data-root-id=\"1979\"></div>\n"
      ]
     },
     "metadata": {},
     "output_type": "display_data"
    },
    {
     "data": {
      "application/javascript": "(function(root) {\n  function embed_document(root) {\n  const docs_json = {\"94398d66-1931-49f2-8e6d-030b16329d83\":{\"defs\":[],\"roots\":{\"references\":[{\"attributes\":{\"below\":[{\"id\":\"1988\"}],\"center\":[{\"id\":\"1991\"},{\"id\":\"1995\"}],\"height\":400,\"left\":[{\"id\":\"1992\"}],\"renderers\":[{\"id\":\"2014\"}],\"title\":{\"id\":\"2082\"},\"toolbar\":{\"id\":\"2003\"},\"width\":400,\"x_range\":{\"id\":\"1980\"},\"x_scale\":{\"id\":\"1984\"},\"y_range\":{\"id\":\"1982\"},\"y_scale\":{\"id\":\"1986\"}},\"id\":\"1979\",\"subtype\":\"Figure\",\"type\":\"Plot\"},{\"attributes\":{\"axis\":{\"id\":\"1992\"},\"coordinates\":null,\"dimension\":1,\"group\":null,\"ticker\":null},\"id\":\"1995\",\"type\":\"Grid\"},{\"attributes\":{\"coordinates\":null,\"data_source\":{\"id\":\"2010\"},\"glyph\":{\"id\":\"2011\"},\"group\":null,\"hover_glyph\":null,\"muted_glyph\":{\"id\":\"2013\"},\"nonselection_glyph\":{\"id\":\"2012\"},\"view\":{\"id\":\"2015\"}},\"id\":\"2014\",\"type\":\"GlyphRenderer\"},{\"attributes\":{\"coordinates\":null,\"group\":null},\"id\":\"2082\",\"type\":\"Title\"},{\"attributes\":{},\"id\":\"1989\",\"type\":\"BasicTicker\"},{\"attributes\":{},\"id\":\"1986\",\"type\":\"LinearScale\"},{\"attributes\":{},\"id\":\"2090\",\"type\":\"UnionRenderers\"},{\"attributes\":{\"fill_alpha\":{\"value\":0.1},\"fill_color\":{\"value\":\"red\"},\"hatch_alpha\":{\"value\":0.1},\"hatch_color\":{\"value\":\"red\"},\"line_alpha\":{\"value\":0.1},\"line_color\":{\"value\":\"red\"},\"size\":{\"value\":10},\"x\":{\"field\":\"x\"},\"y\":{\"field\":\"y\"}},\"id\":\"2012\",\"type\":\"Circle\"},{\"attributes\":{\"axis\":{\"id\":\"1988\"},\"coordinates\":null,\"group\":null,\"ticker\":null},\"id\":\"1991\",\"type\":\"Grid\"},{\"attributes\":{},\"id\":\"2001\",\"type\":\"HelpTool\"},{\"attributes\":{\"source\":{\"id\":\"2010\"}},\"id\":\"2015\",\"type\":\"CDSView\"},{\"attributes\":{},\"id\":\"1982\",\"type\":\"DataRange1d\"},{\"attributes\":{},\"id\":\"2091\",\"type\":\"Selection\"},{\"attributes\":{\"fill_alpha\":{\"value\":0.2},\"fill_color\":{\"value\":\"red\"},\"hatch_alpha\":{\"value\":0.2},\"hatch_color\":{\"value\":\"red\"},\"line_alpha\":{\"value\":0.2},\"line_color\":{\"value\":\"red\"},\"size\":{\"value\":10},\"x\":{\"field\":\"x\"},\"y\":{\"field\":\"y\"}},\"id\":\"2013\",\"type\":\"Circle\"},{\"attributes\":{},\"id\":\"1984\",\"type\":\"LinearScale\"},{\"attributes\":{\"coordinates\":null,\"formatter\":{\"id\":\"2085\"},\"group\":null,\"major_label_policy\":{\"id\":\"2086\"},\"ticker\":{\"id\":\"1993\"}},\"id\":\"1992\",\"type\":\"LinearAxis\"},{\"attributes\":{\"fill_alpha\":{\"value\":0.3},\"fill_color\":{\"value\":\"red\"},\"hatch_alpha\":{\"value\":0.3},\"hatch_color\":{\"value\":\"red\"},\"line_alpha\":{\"value\":0.3},\"line_color\":{\"value\":\"red\"},\"size\":{\"value\":10},\"x\":{\"field\":\"x\"},\"y\":{\"field\":\"y\"}},\"id\":\"2011\",\"type\":\"Circle\"},{\"attributes\":{},\"id\":\"1993\",\"type\":\"BasicTicker\"},{\"attributes\":{},\"id\":\"1996\",\"type\":\"PanTool\"},{\"attributes\":{},\"id\":\"1997\",\"type\":\"WheelZoomTool\"},{\"attributes\":{\"coordinates\":null,\"formatter\":{\"id\":\"2088\"},\"group\":null,\"major_label_policy\":{\"id\":\"2089\"},\"ticker\":{\"id\":\"1989\"}},\"id\":\"1988\",\"type\":\"LinearAxis\"},{\"attributes\":{},\"id\":\"2085\",\"type\":\"BasicTickFormatter\"},{\"attributes\":{},\"id\":\"2086\",\"type\":\"AllLabels\"},{\"attributes\":{},\"id\":\"1999\",\"type\":\"SaveTool\"},{\"attributes\":{},\"id\":\"2000\",\"type\":\"ResetTool\"},{\"attributes\":{},\"id\":\"2088\",\"type\":\"BasicTickFormatter\"},{\"attributes\":{\"data\":{\"x\":{\"__ndarray__\":\"AAAAAAAAP0AAAAAAAAA1QAAAAAAAgERAAAAAAAAANkAAAAAAAAA6QAAAAAAAgEJAAAAAAAAAN0AAAAAAAAA/QAAAAAAAADdAAAAAAACAQEAAAAAAAAA7QAAAAAAAADZAAAAAAAAAP0AAAAAAAAA6QAAAAAAAgEJAAAAAAAAAQEAAAAAAAAA2QAAAAAAAAD5AAAAAAAAANEAAAAAAAIBCQAAAAAAAAEFAAAAAAAAAPUAAAAAAAAA1QAAAAAAAADpAAAAAAACAQEAAAAAAAAA5QAAAAAAAADRAAAAAAAAAQEAAAAAAAAA2QAAAAAAAAEFAAAAAAAAAP0AAAAAAAABCQAAAAAAAADtAAAAAAAAAPUAAAAAAAAA5QAAAAAAAgEFAAAAAAAAAOEAAAAAAAIBBQAAAAAAAgEBAAAAAAAAAN0AAAAAAAAA8QAAAAAAAADdAAAAAAAAAM0AAAAAAAMBCQAAAAAAAAD1AAAAAAACAQ0AAAAAAAAA6QAAAAAAAADhAAAAAAAAANUAAAAAAAAA9QAAAAAAAADxAAAAAAAAAOEAAAAAAAABFQAAAAAAAADxAAAAAAAAAPkAAAAAAAAA1QAAAAAAAADhAAAAAAAAAP0AAAAAAAAA7QAAAAAAAgEBAAAAAAACANUAAAAAAAABBQAAAAAAAADZAAAAAAAAANkAAAAAAAAA0QAAAAAAAgEFAAAAAAACAQUAAAAAAAAA3QAAAAAAAADZAAAAAAACASUAAAAAAAAA7QAAAAAAAADZAAAAAAAAAQUAAAAAAAABAQAAAAAAAAERAAAAAAAAAN0AAAAAAAAA+QAAAAAAAgEZAAAAAAACAQEAAAAAAAABDQAAAAAAAADJAAAAAAAAANkAAAAAAAIBDQAAAAAAAgEFAAAAAAAAAPkAAAAAAAAA2QAAAAAAAAEJAAAAAAAAANEAAAAAAAABAQAAAAAAAgEtA\",\"dtype\":\"float64\",\"order\":\"little\",\"shape\":[90]},\"y\":{\"__ndarray__\":\"AAAAAABAUkAAAAAAAIBRQAAAAAAAIFJAAAAAAADAUkAAAAAAAMBSQAAAAAAAAFhAzczMzMzsUUAAAAAAAIBRQAAAAAAAQFBAAAAAAACAVUAAAAAAAEBRQAAAAAAAYFBAAAAAAAAAVEDNzMzMzExQQAAAAAAAgFZAAAAAAACARkAAAAAAAABJQAAAAAAAQFZAMzMzMzOzQ0AAAAAAAABUQAAAAAAAAFBAAAAAAADAV0BmZmZmZuZNQAAAAAAAgEtAzczMzMzsUkAAAAAAAIBRQAAAAAAAAExAAAAAAADAVEAAAAAAAIBUQAAAAAAAQFdAvp8aL91oYEAAAAAAACBSQAAAAAAAgFNAAAAAAACgUkAAAAAAAABJQAAAAAAAgFFAzczMzMyMUUAAAAAAAABPQM3MzMzMbFJAAAAAAAAAVEAAAAAAAABNQAAAAAAAAD5AAAAAAAAgUUAAAAAAAIBWQAAAAAAAgFVAAAAAAABAUkAAAAAAAIBLQGZmZmZmpkZAAAAAAADgV0AAAAAAAEBTQAAAAAAAAFVAAAAAAACAS0AAAAAAAOBXQAAAAAAAgFRAAAAAAAAAS0AAAAAAAABMQAAAAAAAAFxAAAAAAAAgU0AAAAAAAIBTQDMzMzMzk1VAAAAAAACARkAAAAAAAIBMQJqZmZmZGU9AzczMzMxMUEDNzMzMzExKQAAAAAAAwFJAAAAAAACAUUAzMzMzM9NRQMdLN4lBkFdAAAAAAADAV0AAAAAAAMBSQAAAAAAA4FJAAAAAAAAASEAAAAAAAABOQAAAAAAAAFRAAAAAAAAAUEAAAAAAAABLQAAAAAAAQFBAAAAAAACAUUAAAAAAAIBRQGZmZmZmZkhAAAAAAABgZEDNzMzMzExGQAAAAAAAAE5AAAAAAABAUUAAAAAAAIBRQAAAAAAAgFVAzczMzMxMS0AAAAAAAMBQQAAAAAAAQFVA\",\"dtype\":\"float64\",\"order\":\"little\",\"shape\":[90]}},\"selected\":{\"id\":\"2091\"},\"selection_policy\":{\"id\":\"2090\"}},\"id\":\"2010\",\"type\":\"ColumnDataSource\"},{\"attributes\":{\"bottom_units\":\"screen\",\"coordinates\":null,\"fill_alpha\":0.5,\"fill_color\":\"lightgrey\",\"group\":null,\"left_units\":\"screen\",\"level\":\"overlay\",\"line_alpha\":1.0,\"line_color\":\"black\",\"line_dash\":[4,4],\"line_width\":2,\"right_units\":\"screen\",\"syncable\":false,\"top_units\":\"screen\"},\"id\":\"2002\",\"type\":\"BoxAnnotation\"},{\"attributes\":{\"tools\":[{\"id\":\"1996\"},{\"id\":\"1997\"},{\"id\":\"1998\"},{\"id\":\"1999\"},{\"id\":\"2000\"},{\"id\":\"2001\"}]},\"id\":\"2003\",\"type\":\"Toolbar\"},{\"attributes\":{},\"id\":\"1980\",\"type\":\"DataRange1d\"},{\"attributes\":{},\"id\":\"2089\",\"type\":\"AllLabels\"},{\"attributes\":{\"overlay\":{\"id\":\"2002\"}},\"id\":\"1998\",\"type\":\"BoxZoomTool\"}],\"root_ids\":[\"1979\"]},\"title\":\"Bokeh Application\",\"version\":\"2.4.3\"}};\n  const render_items = [{\"docid\":\"94398d66-1931-49f2-8e6d-030b16329d83\",\"root_ids\":[\"1979\"],\"roots\":{\"1979\":\"6188628f-1885-49f7-b571-69b9191d6c03\"}}];\n  root.Bokeh.embed.embed_items_notebook(docs_json, render_items);\n  }\n  if (root.Bokeh !== undefined) {\n    embed_document(root);\n  } else {\n    let attempts = 0;\n    const timer = setInterval(function(root) {\n      if (root.Bokeh !== undefined) {\n        clearInterval(timer);\n        embed_document(root);\n      } else {\n        attempts++;\n        if (attempts > 100) {\n          clearInterval(timer);\n          console.log(\"Bokeh: ERROR: Unable to run BokehJS code because BokehJS library is missing\");\n        }\n      }\n    }, 10, root)\n  }\n})(window);",
      "application/vnd.bokehjs_exec.v0+json": ""
     },
     "metadata": {
      "application/vnd.bokehjs_exec.v0+json": {
       "id": "1979"
      }
     },
     "output_type": "display_data"
    }
   ],
   "source": [
    "# make a scatter plot using bokeh\n",
    "from bokeh.plotting import figure, output_file, show\n",
    "from bokeh.io import output_notebook\n",
    "output_notebook()\n",
    "\n",
    "p = figure(plot_width=400, plot_height=400)\n",
    "p.circle(df['age'], df['weight'], size=10, color='red', alpha=0.3)\n",
    "show(p)\n",
    "\n",
    "# # save the plot in to png file\n",
    "# from bokeh.io import export_png\n",
    "# export_png(p, filename=\"scatter.png\")"
   ]
  },
  {
   "cell_type": "code",
   "execution_count": null,
   "metadata": {},
   "outputs": [],
   "source": []
  },
  {
   "cell_type": "code",
   "execution_count": 28,
   "metadata": {},
   "outputs": [
    {
     "data": {
      "text/plain": [
       "Index(['timestamp', 'age', 'city', 'weight', 'height', 'BMI', 'salary',\n",
       "       'gender', 'qualification', 'employment_status', 'covid_vaccine',\n",
       "       'marital_status', 'github_copilot_user', 'favourite_dish'],\n",
       "      dtype='object')"
      ]
     },
     "execution_count": 28,
     "metadata": {},
     "output_type": "execute_result"
    }
   ],
   "source": [
    "df.columns"
   ]
  },
  {
   "cell_type": "code",
   "execution_count": 32,
   "metadata": {},
   "outputs": [
    {
     "data": {
      "application/vnd.plotly.v1+json": {
       "config": {
        "plotlyServerURL": "https://plot.ly"
       },
       "data": [
        {
         "customdata": [
          [
           "Biryani"
          ],
          [
           "Biryani"
          ],
          [
           "Biryani"
          ],
          [
           "Biryani"
          ],
          [
           "Biryani"
          ],
          [
           "Biryani"
          ],
          [
           "Biryani"
          ],
          [
           "Biryani"
          ],
          [
           "Biryani"
          ],
          [
           "Biryani"
          ],
          [
           "Biryani"
          ],
          [
           "Biryani"
          ],
          [
           "Biryani"
          ],
          [
           "Biryani"
          ],
          [
           "Biryani"
          ],
          [
           "Biryani"
          ],
          [
           "Biryani"
          ],
          [
           "Biryani"
          ],
          [
           "Biryani"
          ],
          [
           "Biryani"
          ],
          [
           "Biryani"
          ],
          [
           "Biryani"
          ],
          [
           "Biryani"
          ],
          [
           "Biryani"
          ],
          [
           "Biryani"
          ],
          [
           "Biryani"
          ],
          [
           "Biryani"
          ],
          [
           "Biryani"
          ],
          [
           "Biryani"
          ],
          [
           "Biryani"
          ],
          [
           "Biryani"
          ],
          [
           "Biryani"
          ],
          [
           "Biryani"
          ],
          [
           "Biryani"
          ],
          [
           "Biryani"
          ],
          [
           "Biryani"
          ],
          [
           "Biryani"
          ]
         ],
         "hovertemplate": "favourite_dish=%{customdata[0]}<br>age=%{x}<br>weight=%{y}<br>salary=%{marker.size}<extra></extra>",
         "legendgroup": "Biryani",
         "marker": {
          "color": "#636efa",
          "size": [
           10000,
           3000,
           10000,
           88000,
           120000,
           1000,
           20000,
           10000,
           20000,
           5000,
           105000,
           2000,
           5000,
           3000,
           7000,
           120000,
           8000,
           8000,
           3000,
           300000,
           1000,
           3000,
           15000,
           2000,
           10000,
           41531.5,
           50000,
           25600,
           100000,
           60000,
           3500,
           115000,
           3000,
           3000,
           30000,
           90000,
           3000
          ],
          "sizemode": "area",
          "sizeref": 750,
          "symbol": "circle"
         },
         "mode": "markers",
         "name": "Biryani",
         "orientation": "v",
         "showlegend": true,
         "type": "scatter",
         "x": [
          31,
          21,
          33,
          26,
          30,
          20,
          26,
          25,
          22,
          19,
          29,
          24,
          21,
          28,
          24,
          42,
          30,
          21,
          24,
          31,
          21.5,
          34,
          22,
          20,
          35,
          35,
          23,
          22,
          51,
          27,
          22,
          32,
          40,
          23,
          30,
          30,
          32
         ],
         "xaxis": "x",
         "y": [
          73,
          70,
          86,
          65.2,
          89,
          39.4,
          55,
          70,
          82,
          68.5,
          86,
          45.3,
          95.5,
          84,
          55,
          95.5,
          54,
          56,
          112,
          76.5,
          45,
          57,
          65.2,
          52.6,
          75,
          70,
          71.3,
          94.254,
          95,
          75,
          75.5,
          60,
          80,
          64,
          54,
          69,
          67
         ],
         "yaxis": "y"
        },
        {
         "customdata": [
          [
           "Daal"
          ],
          [
           "Daal"
          ],
          [
           "Daal"
          ],
          [
           "Daal"
          ],
          [
           "Daal"
          ],
          [
           "Daal"
          ],
          [
           "Daal"
          ],
          [
           "Daal"
          ]
         ],
         "hovertemplate": "favourite_dish=%{customdata[0]}<br>age=%{x}<br>weight=%{y}<br>salary=%{marker.size}<extra></extra>",
         "legendgroup": "Daal",
         "marker": {
          "color": "#EF553B",
          "size": [
           35000,
           35000,
           222.22,
           240000,
           20000,
           60000,
           87000,
           105000
          ],
          "sizemode": "area",
          "sizeref": 750,
          "symbol": "circle"
         },
         "mode": "markers",
         "name": "Daal",
         "orientation": "v",
         "showlegend": true,
         "type": "scatter",
         "x": [
          41,
          26,
          21,
          34,
          22,
          45,
          35,
          36
         ],
         "xaxis": "x",
         "y": [
          72.5,
          75,
          59.8,
          93,
          62.2,
          65,
          60,
          86
         ],
         "yaxis": "y"
        },
        {
         "customdata": [
          [
           "Karahi Ghosht"
          ],
          [
           "Karahi Ghosht"
          ],
          [
           "Karahi Ghosht"
          ],
          [
           "Karahi Ghosht"
          ],
          [
           "Karahi Ghosht"
          ],
          [
           "Karahi Ghosht"
          ],
          [
           "Karahi Ghosht"
          ],
          [
           "Karahi Ghosht"
          ],
          [
           "Karahi Ghosht"
          ],
          [
           "Karahi Ghosht"
          ],
          [
           "Karahi Ghosht"
          ],
          [
           "Karahi Ghosht"
          ],
          [
           "Karahi Ghosht"
          ],
          [
           "Karahi Ghosht"
          ],
          [
           "Karahi Ghosht"
          ],
          [
           "Karahi Ghosht"
          ],
          [
           "Karahi Ghosht"
          ],
          [
           "Karahi Ghosht"
          ],
          [
           "Karahi Ghosht"
          ],
          [
           "Karahi Ghosht"
          ],
          [
           "Karahi Ghosht"
          ],
          [
           "Karahi Ghosht"
          ],
          [
           "Karahi Ghosht"
          ],
          [
           "Karahi Ghosht"
          ],
          [
           "Karahi Ghosht"
          ],
          [
           "Karahi Ghosht"
          ],
          [
           "Karahi Ghosht"
          ]
         ],
         "hovertemplate": "favourite_dish=%{customdata[0]}<br>age=%{x}<br>weight=%{y}<br>salary=%{marker.size}<extra></extra>",
         "legendgroup": "Karahi Ghosht",
         "marker": {
          "color": "#00cc96",
          "size": [
           50000,
           55000,
           20000,
           120000,
           15000,
           50000,
           120000,
           40000,
           100000,
           20000,
           40632,
           250000,
           110000,
           5500,
           15000,
           10000,
           40000,
           40000,
           39860,
           30000,
           198000,
           55000,
           30000,
           80000,
           6000,
           5000,
           35000
          ],
          "sizemode": "area",
          "sizeref": 750,
          "symbol": "circle"
         },
         "mode": "markers",
         "name": "Karahi Ghosht",
         "orientation": "v",
         "showlegend": true,
         "type": "scatter",
         "x": [
          22,
          37,
          23,
          31,
          22,
          31,
          37,
          37,
          29,
          20,
          32,
          31,
          36,
          27,
          29,
          24,
          35,
          23,
          28,
          26,
          29,
          28,
          27,
          38,
          18,
          22,
          20
         ],
         "xaxis": "x",
         "y": [
          75,
          96,
          71.7,
          70,
          65.5,
          80,
          90,
          80,
          95,
          56,
          83,
          131.277,
          72.5,
          78,
          74.5,
          70.2,
          62,
          80,
          58,
          55,
          77,
          82,
          78,
          70,
          48.8,
          70,
          54.6
         ],
         "yaxis": "y"
        },
        {
         "customdata": [
          [
           "Saag"
          ],
          [
           "Saag"
          ],
          [
           "Saag"
          ],
          [
           "Saag"
          ],
          [
           "Saag"
          ],
          [
           "Saag"
          ],
          [
           "Saag"
          ],
          [
           "Saag"
          ],
          [
           "Saag"
          ],
          [
           "Saag"
          ],
          [
           "Saag"
          ],
          [
           "Saag"
          ]
         ],
         "hovertemplate": "favourite_dish=%{customdata[0]}<br>age=%{x}<br>weight=%{y}<br>salary=%{marker.size}<extra></extra>",
         "legendgroup": "Saag",
         "marker": {
          "color": "#ab63fa",
          "size": [
           5000,
           5000,
           15000,
           5000,
           28000,
           65000,
           286136.5,
           10300,
           135000,
           60000,
           8000,
           100000
          ],
          "sizemode": "area",
          "sizeref": 750,
          "symbol": "circle"
         },
         "mode": "markers",
         "name": "Saag",
         "orientation": "v",
         "showlegend": true,
         "type": "scatter",
         "x": [
          23,
          22,
          33,
          25,
          33,
          37.5,
          39,
          33,
          34,
          33,
          22,
          55
         ],
         "xaxis": "x",
         "y": [
          65,
          50,
          75.7,
          50,
          73.7,
          90,
          73,
          86.3,
          48,
          70,
          163,
          85
         ],
         "yaxis": "y"
        },
        {
         "customdata": [
          [
           "Naan Haleem"
          ],
          [
           "Naan Haleem"
          ],
          [
           "Naan Haleem"
          ],
          [
           "Naan Haleem"
          ],
          [
           "Naan Haleem"
          ],
          [
           "Naan Haleem"
          ]
         ],
         "hovertemplate": "favourite_dish=%{customdata[0]}<br>age=%{x}<br>weight=%{y}<br>salary=%{marker.size}<extra></extra>",
         "legendgroup": "Naan Haleem",
         "marker": {
          "color": "#FFA15A",
          "size": [
           20000,
           60000,
           1100,
           50000,
           10000,
           4000
          ],
          "sizemode": "area",
          "sizeref": 750,
          "symbol": "circle"
         },
         "mode": "markers",
         "name": "Naan Haleem",
         "orientation": "v",
         "showlegend": true,
         "type": "scatter",
         "x": [
          27,
          32,
          34,
          35,
          23,
          39
         ],
         "xaxis": "x",
         "y": [
          69,
          45,
          64,
          70,
          30,
          44.6
         ],
         "yaxis": "y"
        }
       ],
       "layout": {
        "legend": {
         "itemsizing": "constant",
         "title": {
          "text": "favourite_dish"
         },
         "tracegroupgap": 0
        },
        "margin": {
         "t": 60
        },
        "template": {
         "data": {
          "bar": [
           {
            "error_x": {
             "color": "#2a3f5f"
            },
            "error_y": {
             "color": "#2a3f5f"
            },
            "marker": {
             "line": {
              "color": "#E5ECF6",
              "width": 0.5
             },
             "pattern": {
              "fillmode": "overlay",
              "size": 10,
              "solidity": 0.2
             }
            },
            "type": "bar"
           }
          ],
          "barpolar": [
           {
            "marker": {
             "line": {
              "color": "#E5ECF6",
              "width": 0.5
             },
             "pattern": {
              "fillmode": "overlay",
              "size": 10,
              "solidity": 0.2
             }
            },
            "type": "barpolar"
           }
          ],
          "carpet": [
           {
            "aaxis": {
             "endlinecolor": "#2a3f5f",
             "gridcolor": "white",
             "linecolor": "white",
             "minorgridcolor": "white",
             "startlinecolor": "#2a3f5f"
            },
            "baxis": {
             "endlinecolor": "#2a3f5f",
             "gridcolor": "white",
             "linecolor": "white",
             "minorgridcolor": "white",
             "startlinecolor": "#2a3f5f"
            },
            "type": "carpet"
           }
          ],
          "choropleth": [
           {
            "colorbar": {
             "outlinewidth": 0,
             "ticks": ""
            },
            "type": "choropleth"
           }
          ],
          "contour": [
           {
            "colorbar": {
             "outlinewidth": 0,
             "ticks": ""
            },
            "colorscale": [
             [
              0,
              "#0d0887"
             ],
             [
              0.1111111111111111,
              "#46039f"
             ],
             [
              0.2222222222222222,
              "#7201a8"
             ],
             [
              0.3333333333333333,
              "#9c179e"
             ],
             [
              0.4444444444444444,
              "#bd3786"
             ],
             [
              0.5555555555555556,
              "#d8576b"
             ],
             [
              0.6666666666666666,
              "#ed7953"
             ],
             [
              0.7777777777777778,
              "#fb9f3a"
             ],
             [
              0.8888888888888888,
              "#fdca26"
             ],
             [
              1,
              "#f0f921"
             ]
            ],
            "type": "contour"
           }
          ],
          "contourcarpet": [
           {
            "colorbar": {
             "outlinewidth": 0,
             "ticks": ""
            },
            "type": "contourcarpet"
           }
          ],
          "heatmap": [
           {
            "colorbar": {
             "outlinewidth": 0,
             "ticks": ""
            },
            "colorscale": [
             [
              0,
              "#0d0887"
             ],
             [
              0.1111111111111111,
              "#46039f"
             ],
             [
              0.2222222222222222,
              "#7201a8"
             ],
             [
              0.3333333333333333,
              "#9c179e"
             ],
             [
              0.4444444444444444,
              "#bd3786"
             ],
             [
              0.5555555555555556,
              "#d8576b"
             ],
             [
              0.6666666666666666,
              "#ed7953"
             ],
             [
              0.7777777777777778,
              "#fb9f3a"
             ],
             [
              0.8888888888888888,
              "#fdca26"
             ],
             [
              1,
              "#f0f921"
             ]
            ],
            "type": "heatmap"
           }
          ],
          "heatmapgl": [
           {
            "colorbar": {
             "outlinewidth": 0,
             "ticks": ""
            },
            "colorscale": [
             [
              0,
              "#0d0887"
             ],
             [
              0.1111111111111111,
              "#46039f"
             ],
             [
              0.2222222222222222,
              "#7201a8"
             ],
             [
              0.3333333333333333,
              "#9c179e"
             ],
             [
              0.4444444444444444,
              "#bd3786"
             ],
             [
              0.5555555555555556,
              "#d8576b"
             ],
             [
              0.6666666666666666,
              "#ed7953"
             ],
             [
              0.7777777777777778,
              "#fb9f3a"
             ],
             [
              0.8888888888888888,
              "#fdca26"
             ],
             [
              1,
              "#f0f921"
             ]
            ],
            "type": "heatmapgl"
           }
          ],
          "histogram": [
           {
            "marker": {
             "pattern": {
              "fillmode": "overlay",
              "size": 10,
              "solidity": 0.2
             }
            },
            "type": "histogram"
           }
          ],
          "histogram2d": [
           {
            "colorbar": {
             "outlinewidth": 0,
             "ticks": ""
            },
            "colorscale": [
             [
              0,
              "#0d0887"
             ],
             [
              0.1111111111111111,
              "#46039f"
             ],
             [
              0.2222222222222222,
              "#7201a8"
             ],
             [
              0.3333333333333333,
              "#9c179e"
             ],
             [
              0.4444444444444444,
              "#bd3786"
             ],
             [
              0.5555555555555556,
              "#d8576b"
             ],
             [
              0.6666666666666666,
              "#ed7953"
             ],
             [
              0.7777777777777778,
              "#fb9f3a"
             ],
             [
              0.8888888888888888,
              "#fdca26"
             ],
             [
              1,
              "#f0f921"
             ]
            ],
            "type": "histogram2d"
           }
          ],
          "histogram2dcontour": [
           {
            "colorbar": {
             "outlinewidth": 0,
             "ticks": ""
            },
            "colorscale": [
             [
              0,
              "#0d0887"
             ],
             [
              0.1111111111111111,
              "#46039f"
             ],
             [
              0.2222222222222222,
              "#7201a8"
             ],
             [
              0.3333333333333333,
              "#9c179e"
             ],
             [
              0.4444444444444444,
              "#bd3786"
             ],
             [
              0.5555555555555556,
              "#d8576b"
             ],
             [
              0.6666666666666666,
              "#ed7953"
             ],
             [
              0.7777777777777778,
              "#fb9f3a"
             ],
             [
              0.8888888888888888,
              "#fdca26"
             ],
             [
              1,
              "#f0f921"
             ]
            ],
            "type": "histogram2dcontour"
           }
          ],
          "mesh3d": [
           {
            "colorbar": {
             "outlinewidth": 0,
             "ticks": ""
            },
            "type": "mesh3d"
           }
          ],
          "parcoords": [
           {
            "line": {
             "colorbar": {
              "outlinewidth": 0,
              "ticks": ""
             }
            },
            "type": "parcoords"
           }
          ],
          "pie": [
           {
            "automargin": true,
            "type": "pie"
           }
          ],
          "scatter": [
           {
            "fillpattern": {
             "fillmode": "overlay",
             "size": 10,
             "solidity": 0.2
            },
            "type": "scatter"
           }
          ],
          "scatter3d": [
           {
            "line": {
             "colorbar": {
              "outlinewidth": 0,
              "ticks": ""
             }
            },
            "marker": {
             "colorbar": {
              "outlinewidth": 0,
              "ticks": ""
             }
            },
            "type": "scatter3d"
           }
          ],
          "scattercarpet": [
           {
            "marker": {
             "colorbar": {
              "outlinewidth": 0,
              "ticks": ""
             }
            },
            "type": "scattercarpet"
           }
          ],
          "scattergeo": [
           {
            "marker": {
             "colorbar": {
              "outlinewidth": 0,
              "ticks": ""
             }
            },
            "type": "scattergeo"
           }
          ],
          "scattergl": [
           {
            "marker": {
             "colorbar": {
              "outlinewidth": 0,
              "ticks": ""
             }
            },
            "type": "scattergl"
           }
          ],
          "scattermapbox": [
           {
            "marker": {
             "colorbar": {
              "outlinewidth": 0,
              "ticks": ""
             }
            },
            "type": "scattermapbox"
           }
          ],
          "scatterpolar": [
           {
            "marker": {
             "colorbar": {
              "outlinewidth": 0,
              "ticks": ""
             }
            },
            "type": "scatterpolar"
           }
          ],
          "scatterpolargl": [
           {
            "marker": {
             "colorbar": {
              "outlinewidth": 0,
              "ticks": ""
             }
            },
            "type": "scatterpolargl"
           }
          ],
          "scatterternary": [
           {
            "marker": {
             "colorbar": {
              "outlinewidth": 0,
              "ticks": ""
             }
            },
            "type": "scatterternary"
           }
          ],
          "surface": [
           {
            "colorbar": {
             "outlinewidth": 0,
             "ticks": ""
            },
            "colorscale": [
             [
              0,
              "#0d0887"
             ],
             [
              0.1111111111111111,
              "#46039f"
             ],
             [
              0.2222222222222222,
              "#7201a8"
             ],
             [
              0.3333333333333333,
              "#9c179e"
             ],
             [
              0.4444444444444444,
              "#bd3786"
             ],
             [
              0.5555555555555556,
              "#d8576b"
             ],
             [
              0.6666666666666666,
              "#ed7953"
             ],
             [
              0.7777777777777778,
              "#fb9f3a"
             ],
             [
              0.8888888888888888,
              "#fdca26"
             ],
             [
              1,
              "#f0f921"
             ]
            ],
            "type": "surface"
           }
          ],
          "table": [
           {
            "cells": {
             "fill": {
              "color": "#EBF0F8"
             },
             "line": {
              "color": "white"
             }
            },
            "header": {
             "fill": {
              "color": "#C8D4E3"
             },
             "line": {
              "color": "white"
             }
            },
            "type": "table"
           }
          ]
         },
         "layout": {
          "annotationdefaults": {
           "arrowcolor": "#2a3f5f",
           "arrowhead": 0,
           "arrowwidth": 1
          },
          "autotypenumbers": "strict",
          "coloraxis": {
           "colorbar": {
            "outlinewidth": 0,
            "ticks": ""
           }
          },
          "colorscale": {
           "diverging": [
            [
             0,
             "#8e0152"
            ],
            [
             0.1,
             "#c51b7d"
            ],
            [
             0.2,
             "#de77ae"
            ],
            [
             0.3,
             "#f1b6da"
            ],
            [
             0.4,
             "#fde0ef"
            ],
            [
             0.5,
             "#f7f7f7"
            ],
            [
             0.6,
             "#e6f5d0"
            ],
            [
             0.7,
             "#b8e186"
            ],
            [
             0.8,
             "#7fbc41"
            ],
            [
             0.9,
             "#4d9221"
            ],
            [
             1,
             "#276419"
            ]
           ],
           "sequential": [
            [
             0,
             "#0d0887"
            ],
            [
             0.1111111111111111,
             "#46039f"
            ],
            [
             0.2222222222222222,
             "#7201a8"
            ],
            [
             0.3333333333333333,
             "#9c179e"
            ],
            [
             0.4444444444444444,
             "#bd3786"
            ],
            [
             0.5555555555555556,
             "#d8576b"
            ],
            [
             0.6666666666666666,
             "#ed7953"
            ],
            [
             0.7777777777777778,
             "#fb9f3a"
            ],
            [
             0.8888888888888888,
             "#fdca26"
            ],
            [
             1,
             "#f0f921"
            ]
           ],
           "sequentialminus": [
            [
             0,
             "#0d0887"
            ],
            [
             0.1111111111111111,
             "#46039f"
            ],
            [
             0.2222222222222222,
             "#7201a8"
            ],
            [
             0.3333333333333333,
             "#9c179e"
            ],
            [
             0.4444444444444444,
             "#bd3786"
            ],
            [
             0.5555555555555556,
             "#d8576b"
            ],
            [
             0.6666666666666666,
             "#ed7953"
            ],
            [
             0.7777777777777778,
             "#fb9f3a"
            ],
            [
             0.8888888888888888,
             "#fdca26"
            ],
            [
             1,
             "#f0f921"
            ]
           ]
          },
          "colorway": [
           "#636efa",
           "#EF553B",
           "#00cc96",
           "#ab63fa",
           "#FFA15A",
           "#19d3f3",
           "#FF6692",
           "#B6E880",
           "#FF97FF",
           "#FECB52"
          ],
          "font": {
           "color": "#2a3f5f"
          },
          "geo": {
           "bgcolor": "white",
           "lakecolor": "white",
           "landcolor": "#E5ECF6",
           "showlakes": true,
           "showland": true,
           "subunitcolor": "white"
          },
          "hoverlabel": {
           "align": "left"
          },
          "hovermode": "closest",
          "mapbox": {
           "style": "light"
          },
          "paper_bgcolor": "white",
          "plot_bgcolor": "#E5ECF6",
          "polar": {
           "angularaxis": {
            "gridcolor": "white",
            "linecolor": "white",
            "ticks": ""
           },
           "bgcolor": "#E5ECF6",
           "radialaxis": {
            "gridcolor": "white",
            "linecolor": "white",
            "ticks": ""
           }
          },
          "scene": {
           "xaxis": {
            "backgroundcolor": "#E5ECF6",
            "gridcolor": "white",
            "gridwidth": 2,
            "linecolor": "white",
            "showbackground": true,
            "ticks": "",
            "zerolinecolor": "white"
           },
           "yaxis": {
            "backgroundcolor": "#E5ECF6",
            "gridcolor": "white",
            "gridwidth": 2,
            "linecolor": "white",
            "showbackground": true,
            "ticks": "",
            "zerolinecolor": "white"
           },
           "zaxis": {
            "backgroundcolor": "#E5ECF6",
            "gridcolor": "white",
            "gridwidth": 2,
            "linecolor": "white",
            "showbackground": true,
            "ticks": "",
            "zerolinecolor": "white"
           }
          },
          "shapedefaults": {
           "line": {
            "color": "#2a3f5f"
           }
          },
          "ternary": {
           "aaxis": {
            "gridcolor": "white",
            "linecolor": "white",
            "ticks": ""
           },
           "baxis": {
            "gridcolor": "white",
            "linecolor": "white",
            "ticks": ""
           },
           "bgcolor": "#E5ECF6",
           "caxis": {
            "gridcolor": "white",
            "linecolor": "white",
            "ticks": ""
           }
          },
          "title": {
           "x": 0.05
          },
          "xaxis": {
           "automargin": true,
           "gridcolor": "white",
           "linecolor": "white",
           "ticks": "",
           "title": {
            "standoff": 15
           },
           "zerolinecolor": "white",
           "zerolinewidth": 2
          },
          "yaxis": {
           "automargin": true,
           "gridcolor": "white",
           "linecolor": "white",
           "ticks": "",
           "title": {
            "standoff": 15
           },
           "zerolinecolor": "white",
           "zerolinewidth": 2
          }
         }
        },
        "xaxis": {
         "anchor": "y",
         "domain": [
          0,
          1
         ],
         "title": {
          "text": "age"
         }
        },
        "yaxis": {
         "anchor": "x",
         "domain": [
          0,
          1
         ],
         "title": {
          "text": "weight"
         }
        }
       }
      }
     },
     "metadata": {},
     "output_type": "display_data"
    }
   ],
   "source": [
    "# making a scatter plot using plotly\n",
    "import plotly.express as px\n",
    "fig = px.scatter(df, x=\"age\", y=\"weight\", color='favourite_dish', size='salary', hover_data=['favourite_dish'])\n",
    "fig.show()"
   ]
  },
  {
   "cell_type": "code",
   "execution_count": 13,
   "metadata": {},
   "outputs": [
    {
     "data": {
      "application/vnd.plotly.v1+json": {
       "config": {
        "plotlyServerURL": "https://plot.ly"
       },
       "data": [
        {
         "hovertemplate": "<b>%{hovertext}</b><br><br>country=Afghanistan<br>year=1952<br>gdpPercap=%{x}<br>lifeExp=%{y}<br>pop=%{marker.size}<extra></extra>",
         "hovertext": [
          "Afghanistan"
         ],
         "ids": [
          "Afghanistan"
         ],
         "legendgroup": "Afghanistan",
         "marker": {
          "color": "#636efa",
          "size": [
           8425333
          ],
          "sizemode": "area",
          "sizeref": 435928.2961983471,
          "symbol": "circle"
         },
         "mode": "markers",
         "name": "Afghanistan",
         "orientation": "v",
         "showlegend": true,
         "type": "scatter",
         "x": [
          779.4453145
         ],
         "xaxis": "x",
         "y": [
          28.801
         ],
         "yaxis": "y"
        },
        {
         "hovertemplate": "<b>%{hovertext}</b><br><br>country=Bahrain<br>year=1952<br>gdpPercap=%{x}<br>lifeExp=%{y}<br>pop=%{marker.size}<extra></extra>",
         "hovertext": [
          "Bahrain"
         ],
         "ids": [
          "Bahrain"
         ],
         "legendgroup": "Bahrain",
         "marker": {
          "color": "#EF553B",
          "size": [
           120447
          ],
          "sizemode": "area",
          "sizeref": 435928.2961983471,
          "symbol": "circle"
         },
         "mode": "markers",
         "name": "Bahrain",
         "orientation": "v",
         "showlegend": true,
         "type": "scatter",
         "x": [
          9867.084765
         ],
         "xaxis": "x",
         "y": [
          50.93899999999999
         ],
         "yaxis": "y"
        },
        {
         "hovertemplate": "<b>%{hovertext}</b><br><br>country=Bangladesh<br>year=1952<br>gdpPercap=%{x}<br>lifeExp=%{y}<br>pop=%{marker.size}<extra></extra>",
         "hovertext": [
          "Bangladesh"
         ],
         "ids": [
          "Bangladesh"
         ],
         "legendgroup": "Bangladesh",
         "marker": {
          "color": "#00cc96",
          "size": [
           46886859
          ],
          "sizemode": "area",
          "sizeref": 435928.2961983471,
          "symbol": "circle"
         },
         "mode": "markers",
         "name": "Bangladesh",
         "orientation": "v",
         "showlegend": true,
         "type": "scatter",
         "x": [
          684.2441716
         ],
         "xaxis": "x",
         "y": [
          37.484
         ],
         "yaxis": "y"
        },
        {
         "hovertemplate": "<b>%{hovertext}</b><br><br>country=Cambodia<br>year=1952<br>gdpPercap=%{x}<br>lifeExp=%{y}<br>pop=%{marker.size}<extra></extra>",
         "hovertext": [
          "Cambodia"
         ],
         "ids": [
          "Cambodia"
         ],
         "legendgroup": "Cambodia",
         "marker": {
          "color": "#ab63fa",
          "size": [
           4693836
          ],
          "sizemode": "area",
          "sizeref": 435928.2961983471,
          "symbol": "circle"
         },
         "mode": "markers",
         "name": "Cambodia",
         "orientation": "v",
         "showlegend": true,
         "type": "scatter",
         "x": [
          368.4692856
         ],
         "xaxis": "x",
         "y": [
          39.417
         ],
         "yaxis": "y"
        },
        {
         "hovertemplate": "<b>%{hovertext}</b><br><br>country=China<br>year=1952<br>gdpPercap=%{x}<br>lifeExp=%{y}<br>pop=%{marker.size}<extra></extra>",
         "hovertext": [
          "China"
         ],
         "ids": [
          "China"
         ],
         "legendgroup": "China",
         "marker": {
          "color": "#FFA15A",
          "size": [
           556263527
          ],
          "sizemode": "area",
          "sizeref": 435928.2961983471,
          "symbol": "circle"
         },
         "mode": "markers",
         "name": "China",
         "orientation": "v",
         "showlegend": true,
         "type": "scatter",
         "x": [
          400.448611
         ],
         "xaxis": "x",
         "y": [
          44
         ],
         "yaxis": "y"
        },
        {
         "hovertemplate": "<b>%{hovertext}</b><br><br>country=Hong Kong, China<br>year=1952<br>gdpPercap=%{x}<br>lifeExp=%{y}<br>pop=%{marker.size}<extra></extra>",
         "hovertext": [
          "Hong Kong, China"
         ],
         "ids": [
          "Hong Kong, China"
         ],
         "legendgroup": "Hong Kong, China",
         "marker": {
          "color": "#19d3f3",
          "size": [
           2125900
          ],
          "sizemode": "area",
          "sizeref": 435928.2961983471,
          "symbol": "circle"
         },
         "mode": "markers",
         "name": "Hong Kong, China",
         "orientation": "v",
         "showlegend": true,
         "type": "scatter",
         "x": [
          3054.421209
         ],
         "xaxis": "x",
         "y": [
          60.96
         ],
         "yaxis": "y"
        },
        {
         "hovertemplate": "<b>%{hovertext}</b><br><br>country=India<br>year=1952<br>gdpPercap=%{x}<br>lifeExp=%{y}<br>pop=%{marker.size}<extra></extra>",
         "hovertext": [
          "India"
         ],
         "ids": [
          "India"
         ],
         "legendgroup": "India",
         "marker": {
          "color": "#FF6692",
          "size": [
           372000000
          ],
          "sizemode": "area",
          "sizeref": 435928.2961983471,
          "symbol": "circle"
         },
         "mode": "markers",
         "name": "India",
         "orientation": "v",
         "showlegend": true,
         "type": "scatter",
         "x": [
          546.5657493
         ],
         "xaxis": "x",
         "y": [
          37.37300000000001
         ],
         "yaxis": "y"
        },
        {
         "hovertemplate": "<b>%{hovertext}</b><br><br>country=Indonesia<br>year=1952<br>gdpPercap=%{x}<br>lifeExp=%{y}<br>pop=%{marker.size}<extra></extra>",
         "hovertext": [
          "Indonesia"
         ],
         "ids": [
          "Indonesia"
         ],
         "legendgroup": "Indonesia",
         "marker": {
          "color": "#B6E880",
          "size": [
           82052000
          ],
          "sizemode": "area",
          "sizeref": 435928.2961983471,
          "symbol": "circle"
         },
         "mode": "markers",
         "name": "Indonesia",
         "orientation": "v",
         "showlegend": true,
         "type": "scatter",
         "x": [
          749.6816546
         ],
         "xaxis": "x",
         "y": [
          37.468
         ],
         "yaxis": "y"
        },
        {
         "hovertemplate": "<b>%{hovertext}</b><br><br>country=Iran<br>year=1952<br>gdpPercap=%{x}<br>lifeExp=%{y}<br>pop=%{marker.size}<extra></extra>",
         "hovertext": [
          "Iran"
         ],
         "ids": [
          "Iran"
         ],
         "legendgroup": "Iran",
         "marker": {
          "color": "#FF97FF",
          "size": [
           17272000
          ],
          "sizemode": "area",
          "sizeref": 435928.2961983471,
          "symbol": "circle"
         },
         "mode": "markers",
         "name": "Iran",
         "orientation": "v",
         "showlegend": true,
         "type": "scatter",
         "x": [
          3035.326002
         ],
         "xaxis": "x",
         "y": [
          44.869
         ],
         "yaxis": "y"
        },
        {
         "hovertemplate": "<b>%{hovertext}</b><br><br>country=Iraq<br>year=1952<br>gdpPercap=%{x}<br>lifeExp=%{y}<br>pop=%{marker.size}<extra></extra>",
         "hovertext": [
          "Iraq"
         ],
         "ids": [
          "Iraq"
         ],
         "legendgroup": "Iraq",
         "marker": {
          "color": "#FECB52",
          "size": [
           5441766
          ],
          "sizemode": "area",
          "sizeref": 435928.2961983471,
          "symbol": "circle"
         },
         "mode": "markers",
         "name": "Iraq",
         "orientation": "v",
         "showlegend": true,
         "type": "scatter",
         "x": [
          4129.766056
         ],
         "xaxis": "x",
         "y": [
          45.32
         ],
         "yaxis": "y"
        },
        {
         "hovertemplate": "<b>%{hovertext}</b><br><br>country=Israel<br>year=1952<br>gdpPercap=%{x}<br>lifeExp=%{y}<br>pop=%{marker.size}<extra></extra>",
         "hovertext": [
          "Israel"
         ],
         "ids": [
          "Israel"
         ],
         "legendgroup": "Israel",
         "marker": {
          "color": "#636efa",
          "size": [
           1620914
          ],
          "sizemode": "area",
          "sizeref": 435928.2961983471,
          "symbol": "circle"
         },
         "mode": "markers",
         "name": "Israel",
         "orientation": "v",
         "showlegend": true,
         "type": "scatter",
         "x": [
          4086.522128
         ],
         "xaxis": "x",
         "y": [
          65.39
         ],
         "yaxis": "y"
        },
        {
         "hovertemplate": "<b>%{hovertext}</b><br><br>country=Japan<br>year=1952<br>gdpPercap=%{x}<br>lifeExp=%{y}<br>pop=%{marker.size}<extra></extra>",
         "hovertext": [
          "Japan"
         ],
         "ids": [
          "Japan"
         ],
         "legendgroup": "Japan",
         "marker": {
          "color": "#EF553B",
          "size": [
           86459025
          ],
          "sizemode": "area",
          "sizeref": 435928.2961983471,
          "symbol": "circle"
         },
         "mode": "markers",
         "name": "Japan",
         "orientation": "v",
         "showlegend": true,
         "type": "scatter",
         "x": [
          3216.956347
         ],
         "xaxis": "x",
         "y": [
          63.03
         ],
         "yaxis": "y"
        },
        {
         "hovertemplate": "<b>%{hovertext}</b><br><br>country=Jordan<br>year=1952<br>gdpPercap=%{x}<br>lifeExp=%{y}<br>pop=%{marker.size}<extra></extra>",
         "hovertext": [
          "Jordan"
         ],
         "ids": [
          "Jordan"
         ],
         "legendgroup": "Jordan",
         "marker": {
          "color": "#00cc96",
          "size": [
           607914
          ],
          "sizemode": "area",
          "sizeref": 435928.2961983471,
          "symbol": "circle"
         },
         "mode": "markers",
         "name": "Jordan",
         "orientation": "v",
         "showlegend": true,
         "type": "scatter",
         "x": [
          1546.907807
         ],
         "xaxis": "x",
         "y": [
          43.158
         ],
         "yaxis": "y"
        },
        {
         "hovertemplate": "<b>%{hovertext}</b><br><br>country=Korea, Dem. Rep.<br>year=1952<br>gdpPercap=%{x}<br>lifeExp=%{y}<br>pop=%{marker.size}<extra></extra>",
         "hovertext": [
          "Korea, Dem. Rep."
         ],
         "ids": [
          "Korea, Dem. Rep."
         ],
         "legendgroup": "Korea, Dem. Rep.",
         "marker": {
          "color": "#ab63fa",
          "size": [
           8865488
          ],
          "sizemode": "area",
          "sizeref": 435928.2961983471,
          "symbol": "circle"
         },
         "mode": "markers",
         "name": "Korea, Dem. Rep.",
         "orientation": "v",
         "showlegend": true,
         "type": "scatter",
         "x": [
          1088.277758
         ],
         "xaxis": "x",
         "y": [
          50.056
         ],
         "yaxis": "y"
        },
        {
         "hovertemplate": "<b>%{hovertext}</b><br><br>country=Korea, Rep.<br>year=1952<br>gdpPercap=%{x}<br>lifeExp=%{y}<br>pop=%{marker.size}<extra></extra>",
         "hovertext": [
          "Korea, Rep."
         ],
         "ids": [
          "Korea, Rep."
         ],
         "legendgroup": "Korea, Rep.",
         "marker": {
          "color": "#FFA15A",
          "size": [
           20947571
          ],
          "sizemode": "area",
          "sizeref": 435928.2961983471,
          "symbol": "circle"
         },
         "mode": "markers",
         "name": "Korea, Rep.",
         "orientation": "v",
         "showlegend": true,
         "type": "scatter",
         "x": [
          1030.592226
         ],
         "xaxis": "x",
         "y": [
          47.453
         ],
         "yaxis": "y"
        },
        {
         "hovertemplate": "<b>%{hovertext}</b><br><br>country=Kuwait<br>year=1952<br>gdpPercap=%{x}<br>lifeExp=%{y}<br>pop=%{marker.size}<extra></extra>",
         "hovertext": [
          "Kuwait"
         ],
         "ids": [
          "Kuwait"
         ],
         "legendgroup": "Kuwait",
         "marker": {
          "color": "#19d3f3",
          "size": [
           160000
          ],
          "sizemode": "area",
          "sizeref": 435928.2961983471,
          "symbol": "circle"
         },
         "mode": "markers",
         "name": "Kuwait",
         "orientation": "v",
         "showlegend": true,
         "type": "scatter",
         "x": [
          108382.3529
         ],
         "xaxis": "x",
         "y": [
          55.565
         ],
         "yaxis": "y"
        },
        {
         "hovertemplate": "<b>%{hovertext}</b><br><br>country=Lebanon<br>year=1952<br>gdpPercap=%{x}<br>lifeExp=%{y}<br>pop=%{marker.size}<extra></extra>",
         "hovertext": [
          "Lebanon"
         ],
         "ids": [
          "Lebanon"
         ],
         "legendgroup": "Lebanon",
         "marker": {
          "color": "#FF6692",
          "size": [
           1439529
          ],
          "sizemode": "area",
          "sizeref": 435928.2961983471,
          "symbol": "circle"
         },
         "mode": "markers",
         "name": "Lebanon",
         "orientation": "v",
         "showlegend": true,
         "type": "scatter",
         "x": [
          4834.804067
         ],
         "xaxis": "x",
         "y": [
          55.928
         ],
         "yaxis": "y"
        },
        {
         "hovertemplate": "<b>%{hovertext}</b><br><br>country=Malaysia<br>year=1952<br>gdpPercap=%{x}<br>lifeExp=%{y}<br>pop=%{marker.size}<extra></extra>",
         "hovertext": [
          "Malaysia"
         ],
         "ids": [
          "Malaysia"
         ],
         "legendgroup": "Malaysia",
         "marker": {
          "color": "#B6E880",
          "size": [
           6748378
          ],
          "sizemode": "area",
          "sizeref": 435928.2961983471,
          "symbol": "circle"
         },
         "mode": "markers",
         "name": "Malaysia",
         "orientation": "v",
         "showlegend": true,
         "type": "scatter",
         "x": [
          1831.132894
         ],
         "xaxis": "x",
         "y": [
          48.463
         ],
         "yaxis": "y"
        },
        {
         "hovertemplate": "<b>%{hovertext}</b><br><br>country=Mongolia<br>year=1952<br>gdpPercap=%{x}<br>lifeExp=%{y}<br>pop=%{marker.size}<extra></extra>",
         "hovertext": [
          "Mongolia"
         ],
         "ids": [
          "Mongolia"
         ],
         "legendgroup": "Mongolia",
         "marker": {
          "color": "#FF97FF",
          "size": [
           800663
          ],
          "sizemode": "area",
          "sizeref": 435928.2961983471,
          "symbol": "circle"
         },
         "mode": "markers",
         "name": "Mongolia",
         "orientation": "v",
         "showlegend": true,
         "type": "scatter",
         "x": [
          786.5668575
         ],
         "xaxis": "x",
         "y": [
          42.244
         ],
         "yaxis": "y"
        },
        {
         "hovertemplate": "<b>%{hovertext}</b><br><br>country=Myanmar<br>year=1952<br>gdpPercap=%{x}<br>lifeExp=%{y}<br>pop=%{marker.size}<extra></extra>",
         "hovertext": [
          "Myanmar"
         ],
         "ids": [
          "Myanmar"
         ],
         "legendgroup": "Myanmar",
         "marker": {
          "color": "#FECB52",
          "size": [
           20092996
          ],
          "sizemode": "area",
          "sizeref": 435928.2961983471,
          "symbol": "circle"
         },
         "mode": "markers",
         "name": "Myanmar",
         "orientation": "v",
         "showlegend": true,
         "type": "scatter",
         "x": [
          331
         ],
         "xaxis": "x",
         "y": [
          36.319
         ],
         "yaxis": "y"
        },
        {
         "hovertemplate": "<b>%{hovertext}</b><br><br>country=Nepal<br>year=1952<br>gdpPercap=%{x}<br>lifeExp=%{y}<br>pop=%{marker.size}<extra></extra>",
         "hovertext": [
          "Nepal"
         ],
         "ids": [
          "Nepal"
         ],
         "legendgroup": "Nepal",
         "marker": {
          "color": "#636efa",
          "size": [
           9182536
          ],
          "sizemode": "area",
          "sizeref": 435928.2961983471,
          "symbol": "circle"
         },
         "mode": "markers",
         "name": "Nepal",
         "orientation": "v",
         "showlegend": true,
         "type": "scatter",
         "x": [
          545.8657228999998
         ],
         "xaxis": "x",
         "y": [
          36.157
         ],
         "yaxis": "y"
        },
        {
         "hovertemplate": "<b>%{hovertext}</b><br><br>country=Oman<br>year=1952<br>gdpPercap=%{x}<br>lifeExp=%{y}<br>pop=%{marker.size}<extra></extra>",
         "hovertext": [
          "Oman"
         ],
         "ids": [
          "Oman"
         ],
         "legendgroup": "Oman",
         "marker": {
          "color": "#EF553B",
          "size": [
           507833
          ],
          "sizemode": "area",
          "sizeref": 435928.2961983471,
          "symbol": "circle"
         },
         "mode": "markers",
         "name": "Oman",
         "orientation": "v",
         "showlegend": true,
         "type": "scatter",
         "x": [
          1828.230307
         ],
         "xaxis": "x",
         "y": [
          37.578
         ],
         "yaxis": "y"
        },
        {
         "hovertemplate": "<b>%{hovertext}</b><br><br>country=Pakistan<br>year=1952<br>gdpPercap=%{x}<br>lifeExp=%{y}<br>pop=%{marker.size}<extra></extra>",
         "hovertext": [
          "Pakistan"
         ],
         "ids": [
          "Pakistan"
         ],
         "legendgroup": "Pakistan",
         "marker": {
          "color": "#00cc96",
          "size": [
           41346560
          ],
          "sizemode": "area",
          "sizeref": 435928.2961983471,
          "symbol": "circle"
         },
         "mode": "markers",
         "name": "Pakistan",
         "orientation": "v",
         "showlegend": true,
         "type": "scatter",
         "x": [
          684.5971437999998
         ],
         "xaxis": "x",
         "y": [
          43.43600000000001
         ],
         "yaxis": "y"
        },
        {
         "hovertemplate": "<b>%{hovertext}</b><br><br>country=Philippines<br>year=1952<br>gdpPercap=%{x}<br>lifeExp=%{y}<br>pop=%{marker.size}<extra></extra>",
         "hovertext": [
          "Philippines"
         ],
         "ids": [
          "Philippines"
         ],
         "legendgroup": "Philippines",
         "marker": {
          "color": "#ab63fa",
          "size": [
           22438691
          ],
          "sizemode": "area",
          "sizeref": 435928.2961983471,
          "symbol": "circle"
         },
         "mode": "markers",
         "name": "Philippines",
         "orientation": "v",
         "showlegend": true,
         "type": "scatter",
         "x": [
          1272.880995
         ],
         "xaxis": "x",
         "y": [
          47.752
         ],
         "yaxis": "y"
        },
        {
         "hovertemplate": "<b>%{hovertext}</b><br><br>country=Saudi Arabia<br>year=1952<br>gdpPercap=%{x}<br>lifeExp=%{y}<br>pop=%{marker.size}<extra></extra>",
         "hovertext": [
          "Saudi Arabia"
         ],
         "ids": [
          "Saudi Arabia"
         ],
         "legendgroup": "Saudi Arabia",
         "marker": {
          "color": "#FFA15A",
          "size": [
           4005677
          ],
          "sizemode": "area",
          "sizeref": 435928.2961983471,
          "symbol": "circle"
         },
         "mode": "markers",
         "name": "Saudi Arabia",
         "orientation": "v",
         "showlegend": true,
         "type": "scatter",
         "x": [
          6459.554823
         ],
         "xaxis": "x",
         "y": [
          39.875
         ],
         "yaxis": "y"
        },
        {
         "hovertemplate": "<b>%{hovertext}</b><br><br>country=Singapore<br>year=1952<br>gdpPercap=%{x}<br>lifeExp=%{y}<br>pop=%{marker.size}<extra></extra>",
         "hovertext": [
          "Singapore"
         ],
         "ids": [
          "Singapore"
         ],
         "legendgroup": "Singapore",
         "marker": {
          "color": "#19d3f3",
          "size": [
           1127000
          ],
          "sizemode": "area",
          "sizeref": 435928.2961983471,
          "symbol": "circle"
         },
         "mode": "markers",
         "name": "Singapore",
         "orientation": "v",
         "showlegend": true,
         "type": "scatter",
         "x": [
          2315.138227
         ],
         "xaxis": "x",
         "y": [
          60.396
         ],
         "yaxis": "y"
        },
        {
         "hovertemplate": "<b>%{hovertext}</b><br><br>country=Sri Lanka<br>year=1952<br>gdpPercap=%{x}<br>lifeExp=%{y}<br>pop=%{marker.size}<extra></extra>",
         "hovertext": [
          "Sri Lanka"
         ],
         "ids": [
          "Sri Lanka"
         ],
         "legendgroup": "Sri Lanka",
         "marker": {
          "color": "#FF6692",
          "size": [
           7982342
          ],
          "sizemode": "area",
          "sizeref": 435928.2961983471,
          "symbol": "circle"
         },
         "mode": "markers",
         "name": "Sri Lanka",
         "orientation": "v",
         "showlegend": true,
         "type": "scatter",
         "x": [
          1083.53203
         ],
         "xaxis": "x",
         "y": [
          57.593
         ],
         "yaxis": "y"
        },
        {
         "hovertemplate": "<b>%{hovertext}</b><br><br>country=Syria<br>year=1952<br>gdpPercap=%{x}<br>lifeExp=%{y}<br>pop=%{marker.size}<extra></extra>",
         "hovertext": [
          "Syria"
         ],
         "ids": [
          "Syria"
         ],
         "legendgroup": "Syria",
         "marker": {
          "color": "#B6E880",
          "size": [
           3661549
          ],
          "sizemode": "area",
          "sizeref": 435928.2961983471,
          "symbol": "circle"
         },
         "mode": "markers",
         "name": "Syria",
         "orientation": "v",
         "showlegend": true,
         "type": "scatter",
         "x": [
          1643.485354
         ],
         "xaxis": "x",
         "y": [
          45.883
         ],
         "yaxis": "y"
        },
        {
         "hovertemplate": "<b>%{hovertext}</b><br><br>country=Taiwan<br>year=1952<br>gdpPercap=%{x}<br>lifeExp=%{y}<br>pop=%{marker.size}<extra></extra>",
         "hovertext": [
          "Taiwan"
         ],
         "ids": [
          "Taiwan"
         ],
         "legendgroup": "Taiwan",
         "marker": {
          "color": "#FF97FF",
          "size": [
           8550362
          ],
          "sizemode": "area",
          "sizeref": 435928.2961983471,
          "symbol": "circle"
         },
         "mode": "markers",
         "name": "Taiwan",
         "orientation": "v",
         "showlegend": true,
         "type": "scatter",
         "x": [
          1206.947913
         ],
         "xaxis": "x",
         "y": [
          58.5
         ],
         "yaxis": "y"
        },
        {
         "hovertemplate": "<b>%{hovertext}</b><br><br>country=Thailand<br>year=1952<br>gdpPercap=%{x}<br>lifeExp=%{y}<br>pop=%{marker.size}<extra></extra>",
         "hovertext": [
          "Thailand"
         ],
         "ids": [
          "Thailand"
         ],
         "legendgroup": "Thailand",
         "marker": {
          "color": "#FECB52",
          "size": [
           21289402
          ],
          "sizemode": "area",
          "sizeref": 435928.2961983471,
          "symbol": "circle"
         },
         "mode": "markers",
         "name": "Thailand",
         "orientation": "v",
         "showlegend": true,
         "type": "scatter",
         "x": [
          757.7974177
         ],
         "xaxis": "x",
         "y": [
          50.848
         ],
         "yaxis": "y"
        },
        {
         "hovertemplate": "<b>%{hovertext}</b><br><br>country=Vietnam<br>year=1952<br>gdpPercap=%{x}<br>lifeExp=%{y}<br>pop=%{marker.size}<extra></extra>",
         "hovertext": [
          "Vietnam"
         ],
         "ids": [
          "Vietnam"
         ],
         "legendgroup": "Vietnam",
         "marker": {
          "color": "#636efa",
          "size": [
           26246839
          ],
          "sizemode": "area",
          "sizeref": 435928.2961983471,
          "symbol": "circle"
         },
         "mode": "markers",
         "name": "Vietnam",
         "orientation": "v",
         "showlegend": true,
         "type": "scatter",
         "x": [
          605.0664917
         ],
         "xaxis": "x",
         "y": [
          40.412
         ],
         "yaxis": "y"
        },
        {
         "hovertemplate": "<b>%{hovertext}</b><br><br>country=West Bank and Gaza<br>year=1952<br>gdpPercap=%{x}<br>lifeExp=%{y}<br>pop=%{marker.size}<extra></extra>",
         "hovertext": [
          "West Bank and Gaza"
         ],
         "ids": [
          "West Bank and Gaza"
         ],
         "legendgroup": "West Bank and Gaza",
         "marker": {
          "color": "#EF553B",
          "size": [
           1030585
          ],
          "sizemode": "area",
          "sizeref": 435928.2961983471,
          "symbol": "circle"
         },
         "mode": "markers",
         "name": "West Bank and Gaza",
         "orientation": "v",
         "showlegend": true,
         "type": "scatter",
         "x": [
          1515.5923289999996
         ],
         "xaxis": "x",
         "y": [
          43.16
         ],
         "yaxis": "y"
        },
        {
         "hovertemplate": "<b>%{hovertext}</b><br><br>country=Yemen, Rep.<br>year=1952<br>gdpPercap=%{x}<br>lifeExp=%{y}<br>pop=%{marker.size}<extra></extra>",
         "hovertext": [
          "Yemen, Rep."
         ],
         "ids": [
          "Yemen, Rep."
         ],
         "legendgroup": "Yemen, Rep.",
         "marker": {
          "color": "#00cc96",
          "size": [
           4963829
          ],
          "sizemode": "area",
          "sizeref": 435928.2961983471,
          "symbol": "circle"
         },
         "mode": "markers",
         "name": "Yemen, Rep.",
         "orientation": "v",
         "showlegend": true,
         "type": "scatter",
         "x": [
          781.7175761
         ],
         "xaxis": "x",
         "y": [
          32.548
         ],
         "yaxis": "y"
        }
       ],
       "frames": [
        {
         "data": [
          {
           "hovertemplate": "<b>%{hovertext}</b><br><br>country=Afghanistan<br>year=1952<br>gdpPercap=%{x}<br>lifeExp=%{y}<br>pop=%{marker.size}<extra></extra>",
           "hovertext": [
            "Afghanistan"
           ],
           "ids": [
            "Afghanistan"
           ],
           "legendgroup": "Afghanistan",
           "marker": {
            "color": "#636efa",
            "size": [
             8425333
            ],
            "sizemode": "area",
            "sizeref": 435928.2961983471,
            "symbol": "circle"
           },
           "mode": "markers",
           "name": "Afghanistan",
           "orientation": "v",
           "showlegend": true,
           "type": "scatter",
           "x": [
            779.4453145
           ],
           "xaxis": "x",
           "y": [
            28.801
           ],
           "yaxis": "y"
          },
          {
           "hovertemplate": "<b>%{hovertext}</b><br><br>country=Bahrain<br>year=1952<br>gdpPercap=%{x}<br>lifeExp=%{y}<br>pop=%{marker.size}<extra></extra>",
           "hovertext": [
            "Bahrain"
           ],
           "ids": [
            "Bahrain"
           ],
           "legendgroup": "Bahrain",
           "marker": {
            "color": "#EF553B",
            "size": [
             120447
            ],
            "sizemode": "area",
            "sizeref": 435928.2961983471,
            "symbol": "circle"
           },
           "mode": "markers",
           "name": "Bahrain",
           "orientation": "v",
           "showlegend": true,
           "type": "scatter",
           "x": [
            9867.084765
           ],
           "xaxis": "x",
           "y": [
            50.93899999999999
           ],
           "yaxis": "y"
          },
          {
           "hovertemplate": "<b>%{hovertext}</b><br><br>country=Bangladesh<br>year=1952<br>gdpPercap=%{x}<br>lifeExp=%{y}<br>pop=%{marker.size}<extra></extra>",
           "hovertext": [
            "Bangladesh"
           ],
           "ids": [
            "Bangladesh"
           ],
           "legendgroup": "Bangladesh",
           "marker": {
            "color": "#00cc96",
            "size": [
             46886859
            ],
            "sizemode": "area",
            "sizeref": 435928.2961983471,
            "symbol": "circle"
           },
           "mode": "markers",
           "name": "Bangladesh",
           "orientation": "v",
           "showlegend": true,
           "type": "scatter",
           "x": [
            684.2441716
           ],
           "xaxis": "x",
           "y": [
            37.484
           ],
           "yaxis": "y"
          },
          {
           "hovertemplate": "<b>%{hovertext}</b><br><br>country=Cambodia<br>year=1952<br>gdpPercap=%{x}<br>lifeExp=%{y}<br>pop=%{marker.size}<extra></extra>",
           "hovertext": [
            "Cambodia"
           ],
           "ids": [
            "Cambodia"
           ],
           "legendgroup": "Cambodia",
           "marker": {
            "color": "#ab63fa",
            "size": [
             4693836
            ],
            "sizemode": "area",
            "sizeref": 435928.2961983471,
            "symbol": "circle"
           },
           "mode": "markers",
           "name": "Cambodia",
           "orientation": "v",
           "showlegend": true,
           "type": "scatter",
           "x": [
            368.4692856
           ],
           "xaxis": "x",
           "y": [
            39.417
           ],
           "yaxis": "y"
          },
          {
           "hovertemplate": "<b>%{hovertext}</b><br><br>country=China<br>year=1952<br>gdpPercap=%{x}<br>lifeExp=%{y}<br>pop=%{marker.size}<extra></extra>",
           "hovertext": [
            "China"
           ],
           "ids": [
            "China"
           ],
           "legendgroup": "China",
           "marker": {
            "color": "#FFA15A",
            "size": [
             556263527
            ],
            "sizemode": "area",
            "sizeref": 435928.2961983471,
            "symbol": "circle"
           },
           "mode": "markers",
           "name": "China",
           "orientation": "v",
           "showlegend": true,
           "type": "scatter",
           "x": [
            400.448611
           ],
           "xaxis": "x",
           "y": [
            44
           ],
           "yaxis": "y"
          },
          {
           "hovertemplate": "<b>%{hovertext}</b><br><br>country=Hong Kong, China<br>year=1952<br>gdpPercap=%{x}<br>lifeExp=%{y}<br>pop=%{marker.size}<extra></extra>",
           "hovertext": [
            "Hong Kong, China"
           ],
           "ids": [
            "Hong Kong, China"
           ],
           "legendgroup": "Hong Kong, China",
           "marker": {
            "color": "#19d3f3",
            "size": [
             2125900
            ],
            "sizemode": "area",
            "sizeref": 435928.2961983471,
            "symbol": "circle"
           },
           "mode": "markers",
           "name": "Hong Kong, China",
           "orientation": "v",
           "showlegend": true,
           "type": "scatter",
           "x": [
            3054.421209
           ],
           "xaxis": "x",
           "y": [
            60.96
           ],
           "yaxis": "y"
          },
          {
           "hovertemplate": "<b>%{hovertext}</b><br><br>country=India<br>year=1952<br>gdpPercap=%{x}<br>lifeExp=%{y}<br>pop=%{marker.size}<extra></extra>",
           "hovertext": [
            "India"
           ],
           "ids": [
            "India"
           ],
           "legendgroup": "India",
           "marker": {
            "color": "#FF6692",
            "size": [
             372000000
            ],
            "sizemode": "area",
            "sizeref": 435928.2961983471,
            "symbol": "circle"
           },
           "mode": "markers",
           "name": "India",
           "orientation": "v",
           "showlegend": true,
           "type": "scatter",
           "x": [
            546.5657493
           ],
           "xaxis": "x",
           "y": [
            37.37300000000001
           ],
           "yaxis": "y"
          },
          {
           "hovertemplate": "<b>%{hovertext}</b><br><br>country=Indonesia<br>year=1952<br>gdpPercap=%{x}<br>lifeExp=%{y}<br>pop=%{marker.size}<extra></extra>",
           "hovertext": [
            "Indonesia"
           ],
           "ids": [
            "Indonesia"
           ],
           "legendgroup": "Indonesia",
           "marker": {
            "color": "#B6E880",
            "size": [
             82052000
            ],
            "sizemode": "area",
            "sizeref": 435928.2961983471,
            "symbol": "circle"
           },
           "mode": "markers",
           "name": "Indonesia",
           "orientation": "v",
           "showlegend": true,
           "type": "scatter",
           "x": [
            749.6816546
           ],
           "xaxis": "x",
           "y": [
            37.468
           ],
           "yaxis": "y"
          },
          {
           "hovertemplate": "<b>%{hovertext}</b><br><br>country=Iran<br>year=1952<br>gdpPercap=%{x}<br>lifeExp=%{y}<br>pop=%{marker.size}<extra></extra>",
           "hovertext": [
            "Iran"
           ],
           "ids": [
            "Iran"
           ],
           "legendgroup": "Iran",
           "marker": {
            "color": "#FF97FF",
            "size": [
             17272000
            ],
            "sizemode": "area",
            "sizeref": 435928.2961983471,
            "symbol": "circle"
           },
           "mode": "markers",
           "name": "Iran",
           "orientation": "v",
           "showlegend": true,
           "type": "scatter",
           "x": [
            3035.326002
           ],
           "xaxis": "x",
           "y": [
            44.869
           ],
           "yaxis": "y"
          },
          {
           "hovertemplate": "<b>%{hovertext}</b><br><br>country=Iraq<br>year=1952<br>gdpPercap=%{x}<br>lifeExp=%{y}<br>pop=%{marker.size}<extra></extra>",
           "hovertext": [
            "Iraq"
           ],
           "ids": [
            "Iraq"
           ],
           "legendgroup": "Iraq",
           "marker": {
            "color": "#FECB52",
            "size": [
             5441766
            ],
            "sizemode": "area",
            "sizeref": 435928.2961983471,
            "symbol": "circle"
           },
           "mode": "markers",
           "name": "Iraq",
           "orientation": "v",
           "showlegend": true,
           "type": "scatter",
           "x": [
            4129.766056
           ],
           "xaxis": "x",
           "y": [
            45.32
           ],
           "yaxis": "y"
          },
          {
           "hovertemplate": "<b>%{hovertext}</b><br><br>country=Israel<br>year=1952<br>gdpPercap=%{x}<br>lifeExp=%{y}<br>pop=%{marker.size}<extra></extra>",
           "hovertext": [
            "Israel"
           ],
           "ids": [
            "Israel"
           ],
           "legendgroup": "Israel",
           "marker": {
            "color": "#636efa",
            "size": [
             1620914
            ],
            "sizemode": "area",
            "sizeref": 435928.2961983471,
            "symbol": "circle"
           },
           "mode": "markers",
           "name": "Israel",
           "orientation": "v",
           "showlegend": true,
           "type": "scatter",
           "x": [
            4086.522128
           ],
           "xaxis": "x",
           "y": [
            65.39
           ],
           "yaxis": "y"
          },
          {
           "hovertemplate": "<b>%{hovertext}</b><br><br>country=Japan<br>year=1952<br>gdpPercap=%{x}<br>lifeExp=%{y}<br>pop=%{marker.size}<extra></extra>",
           "hovertext": [
            "Japan"
           ],
           "ids": [
            "Japan"
           ],
           "legendgroup": "Japan",
           "marker": {
            "color": "#EF553B",
            "size": [
             86459025
            ],
            "sizemode": "area",
            "sizeref": 435928.2961983471,
            "symbol": "circle"
           },
           "mode": "markers",
           "name": "Japan",
           "orientation": "v",
           "showlegend": true,
           "type": "scatter",
           "x": [
            3216.956347
           ],
           "xaxis": "x",
           "y": [
            63.03
           ],
           "yaxis": "y"
          },
          {
           "hovertemplate": "<b>%{hovertext}</b><br><br>country=Jordan<br>year=1952<br>gdpPercap=%{x}<br>lifeExp=%{y}<br>pop=%{marker.size}<extra></extra>",
           "hovertext": [
            "Jordan"
           ],
           "ids": [
            "Jordan"
           ],
           "legendgroup": "Jordan",
           "marker": {
            "color": "#00cc96",
            "size": [
             607914
            ],
            "sizemode": "area",
            "sizeref": 435928.2961983471,
            "symbol": "circle"
           },
           "mode": "markers",
           "name": "Jordan",
           "orientation": "v",
           "showlegend": true,
           "type": "scatter",
           "x": [
            1546.907807
           ],
           "xaxis": "x",
           "y": [
            43.158
           ],
           "yaxis": "y"
          },
          {
           "hovertemplate": "<b>%{hovertext}</b><br><br>country=Korea, Dem. Rep.<br>year=1952<br>gdpPercap=%{x}<br>lifeExp=%{y}<br>pop=%{marker.size}<extra></extra>",
           "hovertext": [
            "Korea, Dem. Rep."
           ],
           "ids": [
            "Korea, Dem. Rep."
           ],
           "legendgroup": "Korea, Dem. Rep.",
           "marker": {
            "color": "#ab63fa",
            "size": [
             8865488
            ],
            "sizemode": "area",
            "sizeref": 435928.2961983471,
            "symbol": "circle"
           },
           "mode": "markers",
           "name": "Korea, Dem. Rep.",
           "orientation": "v",
           "showlegend": true,
           "type": "scatter",
           "x": [
            1088.277758
           ],
           "xaxis": "x",
           "y": [
            50.056
           ],
           "yaxis": "y"
          },
          {
           "hovertemplate": "<b>%{hovertext}</b><br><br>country=Korea, Rep.<br>year=1952<br>gdpPercap=%{x}<br>lifeExp=%{y}<br>pop=%{marker.size}<extra></extra>",
           "hovertext": [
            "Korea, Rep."
           ],
           "ids": [
            "Korea, Rep."
           ],
           "legendgroup": "Korea, Rep.",
           "marker": {
            "color": "#FFA15A",
            "size": [
             20947571
            ],
            "sizemode": "area",
            "sizeref": 435928.2961983471,
            "symbol": "circle"
           },
           "mode": "markers",
           "name": "Korea, Rep.",
           "orientation": "v",
           "showlegend": true,
           "type": "scatter",
           "x": [
            1030.592226
           ],
           "xaxis": "x",
           "y": [
            47.453
           ],
           "yaxis": "y"
          },
          {
           "hovertemplate": "<b>%{hovertext}</b><br><br>country=Kuwait<br>year=1952<br>gdpPercap=%{x}<br>lifeExp=%{y}<br>pop=%{marker.size}<extra></extra>",
           "hovertext": [
            "Kuwait"
           ],
           "ids": [
            "Kuwait"
           ],
           "legendgroup": "Kuwait",
           "marker": {
            "color": "#19d3f3",
            "size": [
             160000
            ],
            "sizemode": "area",
            "sizeref": 435928.2961983471,
            "symbol": "circle"
           },
           "mode": "markers",
           "name": "Kuwait",
           "orientation": "v",
           "showlegend": true,
           "type": "scatter",
           "x": [
            108382.3529
           ],
           "xaxis": "x",
           "y": [
            55.565
           ],
           "yaxis": "y"
          },
          {
           "hovertemplate": "<b>%{hovertext}</b><br><br>country=Lebanon<br>year=1952<br>gdpPercap=%{x}<br>lifeExp=%{y}<br>pop=%{marker.size}<extra></extra>",
           "hovertext": [
            "Lebanon"
           ],
           "ids": [
            "Lebanon"
           ],
           "legendgroup": "Lebanon",
           "marker": {
            "color": "#FF6692",
            "size": [
             1439529
            ],
            "sizemode": "area",
            "sizeref": 435928.2961983471,
            "symbol": "circle"
           },
           "mode": "markers",
           "name": "Lebanon",
           "orientation": "v",
           "showlegend": true,
           "type": "scatter",
           "x": [
            4834.804067
           ],
           "xaxis": "x",
           "y": [
            55.928
           ],
           "yaxis": "y"
          },
          {
           "hovertemplate": "<b>%{hovertext}</b><br><br>country=Malaysia<br>year=1952<br>gdpPercap=%{x}<br>lifeExp=%{y}<br>pop=%{marker.size}<extra></extra>",
           "hovertext": [
            "Malaysia"
           ],
           "ids": [
            "Malaysia"
           ],
           "legendgroup": "Malaysia",
           "marker": {
            "color": "#B6E880",
            "size": [
             6748378
            ],
            "sizemode": "area",
            "sizeref": 435928.2961983471,
            "symbol": "circle"
           },
           "mode": "markers",
           "name": "Malaysia",
           "orientation": "v",
           "showlegend": true,
           "type": "scatter",
           "x": [
            1831.132894
           ],
           "xaxis": "x",
           "y": [
            48.463
           ],
           "yaxis": "y"
          },
          {
           "hovertemplate": "<b>%{hovertext}</b><br><br>country=Mongolia<br>year=1952<br>gdpPercap=%{x}<br>lifeExp=%{y}<br>pop=%{marker.size}<extra></extra>",
           "hovertext": [
            "Mongolia"
           ],
           "ids": [
            "Mongolia"
           ],
           "legendgroup": "Mongolia",
           "marker": {
            "color": "#FF97FF",
            "size": [
             800663
            ],
            "sizemode": "area",
            "sizeref": 435928.2961983471,
            "symbol": "circle"
           },
           "mode": "markers",
           "name": "Mongolia",
           "orientation": "v",
           "showlegend": true,
           "type": "scatter",
           "x": [
            786.5668575
           ],
           "xaxis": "x",
           "y": [
            42.244
           ],
           "yaxis": "y"
          },
          {
           "hovertemplate": "<b>%{hovertext}</b><br><br>country=Myanmar<br>year=1952<br>gdpPercap=%{x}<br>lifeExp=%{y}<br>pop=%{marker.size}<extra></extra>",
           "hovertext": [
            "Myanmar"
           ],
           "ids": [
            "Myanmar"
           ],
           "legendgroup": "Myanmar",
           "marker": {
            "color": "#FECB52",
            "size": [
             20092996
            ],
            "sizemode": "area",
            "sizeref": 435928.2961983471,
            "symbol": "circle"
           },
           "mode": "markers",
           "name": "Myanmar",
           "orientation": "v",
           "showlegend": true,
           "type": "scatter",
           "x": [
            331
           ],
           "xaxis": "x",
           "y": [
            36.319
           ],
           "yaxis": "y"
          },
          {
           "hovertemplate": "<b>%{hovertext}</b><br><br>country=Nepal<br>year=1952<br>gdpPercap=%{x}<br>lifeExp=%{y}<br>pop=%{marker.size}<extra></extra>",
           "hovertext": [
            "Nepal"
           ],
           "ids": [
            "Nepal"
           ],
           "legendgroup": "Nepal",
           "marker": {
            "color": "#636efa",
            "size": [
             9182536
            ],
            "sizemode": "area",
            "sizeref": 435928.2961983471,
            "symbol": "circle"
           },
           "mode": "markers",
           "name": "Nepal",
           "orientation": "v",
           "showlegend": true,
           "type": "scatter",
           "x": [
            545.8657228999998
           ],
           "xaxis": "x",
           "y": [
            36.157
           ],
           "yaxis": "y"
          },
          {
           "hovertemplate": "<b>%{hovertext}</b><br><br>country=Oman<br>year=1952<br>gdpPercap=%{x}<br>lifeExp=%{y}<br>pop=%{marker.size}<extra></extra>",
           "hovertext": [
            "Oman"
           ],
           "ids": [
            "Oman"
           ],
           "legendgroup": "Oman",
           "marker": {
            "color": "#EF553B",
            "size": [
             507833
            ],
            "sizemode": "area",
            "sizeref": 435928.2961983471,
            "symbol": "circle"
           },
           "mode": "markers",
           "name": "Oman",
           "orientation": "v",
           "showlegend": true,
           "type": "scatter",
           "x": [
            1828.230307
           ],
           "xaxis": "x",
           "y": [
            37.578
           ],
           "yaxis": "y"
          },
          {
           "hovertemplate": "<b>%{hovertext}</b><br><br>country=Pakistan<br>year=1952<br>gdpPercap=%{x}<br>lifeExp=%{y}<br>pop=%{marker.size}<extra></extra>",
           "hovertext": [
            "Pakistan"
           ],
           "ids": [
            "Pakistan"
           ],
           "legendgroup": "Pakistan",
           "marker": {
            "color": "#00cc96",
            "size": [
             41346560
            ],
            "sizemode": "area",
            "sizeref": 435928.2961983471,
            "symbol": "circle"
           },
           "mode": "markers",
           "name": "Pakistan",
           "orientation": "v",
           "showlegend": true,
           "type": "scatter",
           "x": [
            684.5971437999998
           ],
           "xaxis": "x",
           "y": [
            43.43600000000001
           ],
           "yaxis": "y"
          },
          {
           "hovertemplate": "<b>%{hovertext}</b><br><br>country=Philippines<br>year=1952<br>gdpPercap=%{x}<br>lifeExp=%{y}<br>pop=%{marker.size}<extra></extra>",
           "hovertext": [
            "Philippines"
           ],
           "ids": [
            "Philippines"
           ],
           "legendgroup": "Philippines",
           "marker": {
            "color": "#ab63fa",
            "size": [
             22438691
            ],
            "sizemode": "area",
            "sizeref": 435928.2961983471,
            "symbol": "circle"
           },
           "mode": "markers",
           "name": "Philippines",
           "orientation": "v",
           "showlegend": true,
           "type": "scatter",
           "x": [
            1272.880995
           ],
           "xaxis": "x",
           "y": [
            47.752
           ],
           "yaxis": "y"
          },
          {
           "hovertemplate": "<b>%{hovertext}</b><br><br>country=Saudi Arabia<br>year=1952<br>gdpPercap=%{x}<br>lifeExp=%{y}<br>pop=%{marker.size}<extra></extra>",
           "hovertext": [
            "Saudi Arabia"
           ],
           "ids": [
            "Saudi Arabia"
           ],
           "legendgroup": "Saudi Arabia",
           "marker": {
            "color": "#FFA15A",
            "size": [
             4005677
            ],
            "sizemode": "area",
            "sizeref": 435928.2961983471,
            "symbol": "circle"
           },
           "mode": "markers",
           "name": "Saudi Arabia",
           "orientation": "v",
           "showlegend": true,
           "type": "scatter",
           "x": [
            6459.554823
           ],
           "xaxis": "x",
           "y": [
            39.875
           ],
           "yaxis": "y"
          },
          {
           "hovertemplate": "<b>%{hovertext}</b><br><br>country=Singapore<br>year=1952<br>gdpPercap=%{x}<br>lifeExp=%{y}<br>pop=%{marker.size}<extra></extra>",
           "hovertext": [
            "Singapore"
           ],
           "ids": [
            "Singapore"
           ],
           "legendgroup": "Singapore",
           "marker": {
            "color": "#19d3f3",
            "size": [
             1127000
            ],
            "sizemode": "area",
            "sizeref": 435928.2961983471,
            "symbol": "circle"
           },
           "mode": "markers",
           "name": "Singapore",
           "orientation": "v",
           "showlegend": true,
           "type": "scatter",
           "x": [
            2315.138227
           ],
           "xaxis": "x",
           "y": [
            60.396
           ],
           "yaxis": "y"
          },
          {
           "hovertemplate": "<b>%{hovertext}</b><br><br>country=Sri Lanka<br>year=1952<br>gdpPercap=%{x}<br>lifeExp=%{y}<br>pop=%{marker.size}<extra></extra>",
           "hovertext": [
            "Sri Lanka"
           ],
           "ids": [
            "Sri Lanka"
           ],
           "legendgroup": "Sri Lanka",
           "marker": {
            "color": "#FF6692",
            "size": [
             7982342
            ],
            "sizemode": "area",
            "sizeref": 435928.2961983471,
            "symbol": "circle"
           },
           "mode": "markers",
           "name": "Sri Lanka",
           "orientation": "v",
           "showlegend": true,
           "type": "scatter",
           "x": [
            1083.53203
           ],
           "xaxis": "x",
           "y": [
            57.593
           ],
           "yaxis": "y"
          },
          {
           "hovertemplate": "<b>%{hovertext}</b><br><br>country=Syria<br>year=1952<br>gdpPercap=%{x}<br>lifeExp=%{y}<br>pop=%{marker.size}<extra></extra>",
           "hovertext": [
            "Syria"
           ],
           "ids": [
            "Syria"
           ],
           "legendgroup": "Syria",
           "marker": {
            "color": "#B6E880",
            "size": [
             3661549
            ],
            "sizemode": "area",
            "sizeref": 435928.2961983471,
            "symbol": "circle"
           },
           "mode": "markers",
           "name": "Syria",
           "orientation": "v",
           "showlegend": true,
           "type": "scatter",
           "x": [
            1643.485354
           ],
           "xaxis": "x",
           "y": [
            45.883
           ],
           "yaxis": "y"
          },
          {
           "hovertemplate": "<b>%{hovertext}</b><br><br>country=Taiwan<br>year=1952<br>gdpPercap=%{x}<br>lifeExp=%{y}<br>pop=%{marker.size}<extra></extra>",
           "hovertext": [
            "Taiwan"
           ],
           "ids": [
            "Taiwan"
           ],
           "legendgroup": "Taiwan",
           "marker": {
            "color": "#FF97FF",
            "size": [
             8550362
            ],
            "sizemode": "area",
            "sizeref": 435928.2961983471,
            "symbol": "circle"
           },
           "mode": "markers",
           "name": "Taiwan",
           "orientation": "v",
           "showlegend": true,
           "type": "scatter",
           "x": [
            1206.947913
           ],
           "xaxis": "x",
           "y": [
            58.5
           ],
           "yaxis": "y"
          },
          {
           "hovertemplate": "<b>%{hovertext}</b><br><br>country=Thailand<br>year=1952<br>gdpPercap=%{x}<br>lifeExp=%{y}<br>pop=%{marker.size}<extra></extra>",
           "hovertext": [
            "Thailand"
           ],
           "ids": [
            "Thailand"
           ],
           "legendgroup": "Thailand",
           "marker": {
            "color": "#FECB52",
            "size": [
             21289402
            ],
            "sizemode": "area",
            "sizeref": 435928.2961983471,
            "symbol": "circle"
           },
           "mode": "markers",
           "name": "Thailand",
           "orientation": "v",
           "showlegend": true,
           "type": "scatter",
           "x": [
            757.7974177
           ],
           "xaxis": "x",
           "y": [
            50.848
           ],
           "yaxis": "y"
          },
          {
           "hovertemplate": "<b>%{hovertext}</b><br><br>country=Vietnam<br>year=1952<br>gdpPercap=%{x}<br>lifeExp=%{y}<br>pop=%{marker.size}<extra></extra>",
           "hovertext": [
            "Vietnam"
           ],
           "ids": [
            "Vietnam"
           ],
           "legendgroup": "Vietnam",
           "marker": {
            "color": "#636efa",
            "size": [
             26246839
            ],
            "sizemode": "area",
            "sizeref": 435928.2961983471,
            "symbol": "circle"
           },
           "mode": "markers",
           "name": "Vietnam",
           "orientation": "v",
           "showlegend": true,
           "type": "scatter",
           "x": [
            605.0664917
           ],
           "xaxis": "x",
           "y": [
            40.412
           ],
           "yaxis": "y"
          },
          {
           "hovertemplate": "<b>%{hovertext}</b><br><br>country=West Bank and Gaza<br>year=1952<br>gdpPercap=%{x}<br>lifeExp=%{y}<br>pop=%{marker.size}<extra></extra>",
           "hovertext": [
            "West Bank and Gaza"
           ],
           "ids": [
            "West Bank and Gaza"
           ],
           "legendgroup": "West Bank and Gaza",
           "marker": {
            "color": "#EF553B",
            "size": [
             1030585
            ],
            "sizemode": "area",
            "sizeref": 435928.2961983471,
            "symbol": "circle"
           },
           "mode": "markers",
           "name": "West Bank and Gaza",
           "orientation": "v",
           "showlegend": true,
           "type": "scatter",
           "x": [
            1515.5923289999996
           ],
           "xaxis": "x",
           "y": [
            43.16
           ],
           "yaxis": "y"
          },
          {
           "hovertemplate": "<b>%{hovertext}</b><br><br>country=Yemen, Rep.<br>year=1952<br>gdpPercap=%{x}<br>lifeExp=%{y}<br>pop=%{marker.size}<extra></extra>",
           "hovertext": [
            "Yemen, Rep."
           ],
           "ids": [
            "Yemen, Rep."
           ],
           "legendgroup": "Yemen, Rep.",
           "marker": {
            "color": "#00cc96",
            "size": [
             4963829
            ],
            "sizemode": "area",
            "sizeref": 435928.2961983471,
            "symbol": "circle"
           },
           "mode": "markers",
           "name": "Yemen, Rep.",
           "orientation": "v",
           "showlegend": true,
           "type": "scatter",
           "x": [
            781.7175761
           ],
           "xaxis": "x",
           "y": [
            32.548
           ],
           "yaxis": "y"
          }
         ],
         "name": "1952"
        },
        {
         "data": [
          {
           "hovertemplate": "<b>%{hovertext}</b><br><br>country=Afghanistan<br>year=1957<br>gdpPercap=%{x}<br>lifeExp=%{y}<br>pop=%{marker.size}<extra></extra>",
           "hovertext": [
            "Afghanistan"
           ],
           "ids": [
            "Afghanistan"
           ],
           "legendgroup": "Afghanistan",
           "marker": {
            "color": "#636efa",
            "size": [
             9240934
            ],
            "sizemode": "area",
            "sizeref": 435928.2961983471,
            "symbol": "circle"
           },
           "mode": "markers",
           "name": "Afghanistan",
           "orientation": "v",
           "showlegend": true,
           "type": "scatter",
           "x": [
            820.8530296
           ],
           "xaxis": "x",
           "y": [
            30.332
           ],
           "yaxis": "y"
          },
          {
           "hovertemplate": "<b>%{hovertext}</b><br><br>country=Bahrain<br>year=1957<br>gdpPercap=%{x}<br>lifeExp=%{y}<br>pop=%{marker.size}<extra></extra>",
           "hovertext": [
            "Bahrain"
           ],
           "ids": [
            "Bahrain"
           ],
           "legendgroup": "Bahrain",
           "marker": {
            "color": "#EF553B",
            "size": [
             138655
            ],
            "sizemode": "area",
            "sizeref": 435928.2961983471,
            "symbol": "circle"
           },
           "mode": "markers",
           "name": "Bahrain",
           "orientation": "v",
           "showlegend": true,
           "type": "scatter",
           "x": [
            11635.79945
           ],
           "xaxis": "x",
           "y": [
            53.832
           ],
           "yaxis": "y"
          },
          {
           "hovertemplate": "<b>%{hovertext}</b><br><br>country=Bangladesh<br>year=1957<br>gdpPercap=%{x}<br>lifeExp=%{y}<br>pop=%{marker.size}<extra></extra>",
           "hovertext": [
            "Bangladesh"
           ],
           "ids": [
            "Bangladesh"
           ],
           "legendgroup": "Bangladesh",
           "marker": {
            "color": "#00cc96",
            "size": [
             51365468
            ],
            "sizemode": "area",
            "sizeref": 435928.2961983471,
            "symbol": "circle"
           },
           "mode": "markers",
           "name": "Bangladesh",
           "orientation": "v",
           "showlegend": true,
           "type": "scatter",
           "x": [
            661.6374577
           ],
           "xaxis": "x",
           "y": [
            39.348
           ],
           "yaxis": "y"
          },
          {
           "hovertemplate": "<b>%{hovertext}</b><br><br>country=Cambodia<br>year=1957<br>gdpPercap=%{x}<br>lifeExp=%{y}<br>pop=%{marker.size}<extra></extra>",
           "hovertext": [
            "Cambodia"
           ],
           "ids": [
            "Cambodia"
           ],
           "legendgroup": "Cambodia",
           "marker": {
            "color": "#ab63fa",
            "size": [
             5322536
            ],
            "sizemode": "area",
            "sizeref": 435928.2961983471,
            "symbol": "circle"
           },
           "mode": "markers",
           "name": "Cambodia",
           "orientation": "v",
           "showlegend": true,
           "type": "scatter",
           "x": [
            434.0383364
           ],
           "xaxis": "x",
           "y": [
            41.36600000000001
           ],
           "yaxis": "y"
          },
          {
           "hovertemplate": "<b>%{hovertext}</b><br><br>country=China<br>year=1957<br>gdpPercap=%{x}<br>lifeExp=%{y}<br>pop=%{marker.size}<extra></extra>",
           "hovertext": [
            "China"
           ],
           "ids": [
            "China"
           ],
           "legendgroup": "China",
           "marker": {
            "color": "#FFA15A",
            "size": [
             637408000
            ],
            "sizemode": "area",
            "sizeref": 435928.2961983471,
            "symbol": "circle"
           },
           "mode": "markers",
           "name": "China",
           "orientation": "v",
           "showlegend": true,
           "type": "scatter",
           "x": [
            575.9870009
           ],
           "xaxis": "x",
           "y": [
            50.54896
           ],
           "yaxis": "y"
          },
          {
           "hovertemplate": "<b>%{hovertext}</b><br><br>country=Hong Kong, China<br>year=1957<br>gdpPercap=%{x}<br>lifeExp=%{y}<br>pop=%{marker.size}<extra></extra>",
           "hovertext": [
            "Hong Kong, China"
           ],
           "ids": [
            "Hong Kong, China"
           ],
           "legendgroup": "Hong Kong, China",
           "marker": {
            "color": "#19d3f3",
            "size": [
             2736300
            ],
            "sizemode": "area",
            "sizeref": 435928.2961983471,
            "symbol": "circle"
           },
           "mode": "markers",
           "name": "Hong Kong, China",
           "orientation": "v",
           "showlegend": true,
           "type": "scatter",
           "x": [
            3629.076457
           ],
           "xaxis": "x",
           "y": [
            64.75
           ],
           "yaxis": "y"
          },
          {
           "hovertemplate": "<b>%{hovertext}</b><br><br>country=India<br>year=1957<br>gdpPercap=%{x}<br>lifeExp=%{y}<br>pop=%{marker.size}<extra></extra>",
           "hovertext": [
            "India"
           ],
           "ids": [
            "India"
           ],
           "legendgroup": "India",
           "marker": {
            "color": "#FF6692",
            "size": [
             409000000
            ],
            "sizemode": "area",
            "sizeref": 435928.2961983471,
            "symbol": "circle"
           },
           "mode": "markers",
           "name": "India",
           "orientation": "v",
           "showlegend": true,
           "type": "scatter",
           "x": [
            590.061996
           ],
           "xaxis": "x",
           "y": [
            40.249
           ],
           "yaxis": "y"
          },
          {
           "hovertemplate": "<b>%{hovertext}</b><br><br>country=Indonesia<br>year=1957<br>gdpPercap=%{x}<br>lifeExp=%{y}<br>pop=%{marker.size}<extra></extra>",
           "hovertext": [
            "Indonesia"
           ],
           "ids": [
            "Indonesia"
           ],
           "legendgroup": "Indonesia",
           "marker": {
            "color": "#B6E880",
            "size": [
             90124000
            ],
            "sizemode": "area",
            "sizeref": 435928.2961983471,
            "symbol": "circle"
           },
           "mode": "markers",
           "name": "Indonesia",
           "orientation": "v",
           "showlegend": true,
           "type": "scatter",
           "x": [
            858.9002707000002
           ],
           "xaxis": "x",
           "y": [
            39.918
           ],
           "yaxis": "y"
          },
          {
           "hovertemplate": "<b>%{hovertext}</b><br><br>country=Iran<br>year=1957<br>gdpPercap=%{x}<br>lifeExp=%{y}<br>pop=%{marker.size}<extra></extra>",
           "hovertext": [
            "Iran"
           ],
           "ids": [
            "Iran"
           ],
           "legendgroup": "Iran",
           "marker": {
            "color": "#FF97FF",
            "size": [
             19792000
            ],
            "sizemode": "area",
            "sizeref": 435928.2961983471,
            "symbol": "circle"
           },
           "mode": "markers",
           "name": "Iran",
           "orientation": "v",
           "showlegend": true,
           "type": "scatter",
           "x": [
            3290.257643
           ],
           "xaxis": "x",
           "y": [
            47.181
           ],
           "yaxis": "y"
          },
          {
           "hovertemplate": "<b>%{hovertext}</b><br><br>country=Iraq<br>year=1957<br>gdpPercap=%{x}<br>lifeExp=%{y}<br>pop=%{marker.size}<extra></extra>",
           "hovertext": [
            "Iraq"
           ],
           "ids": [
            "Iraq"
           ],
           "legendgroup": "Iraq",
           "marker": {
            "color": "#FECB52",
            "size": [
             6248643
            ],
            "sizemode": "area",
            "sizeref": 435928.2961983471,
            "symbol": "circle"
           },
           "mode": "markers",
           "name": "Iraq",
           "orientation": "v",
           "showlegend": true,
           "type": "scatter",
           "x": [
            6229.333562
           ],
           "xaxis": "x",
           "y": [
            48.437
           ],
           "yaxis": "y"
          },
          {
           "hovertemplate": "<b>%{hovertext}</b><br><br>country=Israel<br>year=1957<br>gdpPercap=%{x}<br>lifeExp=%{y}<br>pop=%{marker.size}<extra></extra>",
           "hovertext": [
            "Israel"
           ],
           "ids": [
            "Israel"
           ],
           "legendgroup": "Israel",
           "marker": {
            "color": "#636efa",
            "size": [
             1944401
            ],
            "sizemode": "area",
            "sizeref": 435928.2961983471,
            "symbol": "circle"
           },
           "mode": "markers",
           "name": "Israel",
           "orientation": "v",
           "showlegend": true,
           "type": "scatter",
           "x": [
            5385.278451
           ],
           "xaxis": "x",
           "y": [
            67.84
           ],
           "yaxis": "y"
          },
          {
           "hovertemplate": "<b>%{hovertext}</b><br><br>country=Japan<br>year=1957<br>gdpPercap=%{x}<br>lifeExp=%{y}<br>pop=%{marker.size}<extra></extra>",
           "hovertext": [
            "Japan"
           ],
           "ids": [
            "Japan"
           ],
           "legendgroup": "Japan",
           "marker": {
            "color": "#EF553B",
            "size": [
             91563009
            ],
            "sizemode": "area",
            "sizeref": 435928.2961983471,
            "symbol": "circle"
           },
           "mode": "markers",
           "name": "Japan",
           "orientation": "v",
           "showlegend": true,
           "type": "scatter",
           "x": [
            4317.694365
           ],
           "xaxis": "x",
           "y": [
            65.5
           ],
           "yaxis": "y"
          },
          {
           "hovertemplate": "<b>%{hovertext}</b><br><br>country=Jordan<br>year=1957<br>gdpPercap=%{x}<br>lifeExp=%{y}<br>pop=%{marker.size}<extra></extra>",
           "hovertext": [
            "Jordan"
           ],
           "ids": [
            "Jordan"
           ],
           "legendgroup": "Jordan",
           "marker": {
            "color": "#00cc96",
            "size": [
             746559
            ],
            "sizemode": "area",
            "sizeref": 435928.2961983471,
            "symbol": "circle"
           },
           "mode": "markers",
           "name": "Jordan",
           "orientation": "v",
           "showlegend": true,
           "type": "scatter",
           "x": [
            1886.080591
           ],
           "xaxis": "x",
           "y": [
            45.669
           ],
           "yaxis": "y"
          },
          {
           "hovertemplate": "<b>%{hovertext}</b><br><br>country=Korea, Dem. Rep.<br>year=1957<br>gdpPercap=%{x}<br>lifeExp=%{y}<br>pop=%{marker.size}<extra></extra>",
           "hovertext": [
            "Korea, Dem. Rep."
           ],
           "ids": [
            "Korea, Dem. Rep."
           ],
           "legendgroup": "Korea, Dem. Rep.",
           "marker": {
            "color": "#ab63fa",
            "size": [
             9411381
            ],
            "sizemode": "area",
            "sizeref": 435928.2961983471,
            "symbol": "circle"
           },
           "mode": "markers",
           "name": "Korea, Dem. Rep.",
           "orientation": "v",
           "showlegend": true,
           "type": "scatter",
           "x": [
            1571.134655
           ],
           "xaxis": "x",
           "y": [
            54.081
           ],
           "yaxis": "y"
          },
          {
           "hovertemplate": "<b>%{hovertext}</b><br><br>country=Korea, Rep.<br>year=1957<br>gdpPercap=%{x}<br>lifeExp=%{y}<br>pop=%{marker.size}<extra></extra>",
           "hovertext": [
            "Korea, Rep."
           ],
           "ids": [
            "Korea, Rep."
           ],
           "legendgroup": "Korea, Rep.",
           "marker": {
            "color": "#FFA15A",
            "size": [
             22611552
            ],
            "sizemode": "area",
            "sizeref": 435928.2961983471,
            "symbol": "circle"
           },
           "mode": "markers",
           "name": "Korea, Rep.",
           "orientation": "v",
           "showlegend": true,
           "type": "scatter",
           "x": [
            1487.593537
           ],
           "xaxis": "x",
           "y": [
            52.681
           ],
           "yaxis": "y"
          },
          {
           "hovertemplate": "<b>%{hovertext}</b><br><br>country=Kuwait<br>year=1957<br>gdpPercap=%{x}<br>lifeExp=%{y}<br>pop=%{marker.size}<extra></extra>",
           "hovertext": [
            "Kuwait"
           ],
           "ids": [
            "Kuwait"
           ],
           "legendgroup": "Kuwait",
           "marker": {
            "color": "#19d3f3",
            "size": [
             212846
            ],
            "sizemode": "area",
            "sizeref": 435928.2961983471,
            "symbol": "circle"
           },
           "mode": "markers",
           "name": "Kuwait",
           "orientation": "v",
           "showlegend": true,
           "type": "scatter",
           "x": [
            113523.1329
           ],
           "xaxis": "x",
           "y": [
            58.033
           ],
           "yaxis": "y"
          },
          {
           "hovertemplate": "<b>%{hovertext}</b><br><br>country=Lebanon<br>year=1957<br>gdpPercap=%{x}<br>lifeExp=%{y}<br>pop=%{marker.size}<extra></extra>",
           "hovertext": [
            "Lebanon"
           ],
           "ids": [
            "Lebanon"
           ],
           "legendgroup": "Lebanon",
           "marker": {
            "color": "#FF6692",
            "size": [
             1647412
            ],
            "sizemode": "area",
            "sizeref": 435928.2961983471,
            "symbol": "circle"
           },
           "mode": "markers",
           "name": "Lebanon",
           "orientation": "v",
           "showlegend": true,
           "type": "scatter",
           "x": [
            6089.786934000002
           ],
           "xaxis": "x",
           "y": [
            59.489
           ],
           "yaxis": "y"
          },
          {
           "hovertemplate": "<b>%{hovertext}</b><br><br>country=Malaysia<br>year=1957<br>gdpPercap=%{x}<br>lifeExp=%{y}<br>pop=%{marker.size}<extra></extra>",
           "hovertext": [
            "Malaysia"
           ],
           "ids": [
            "Malaysia"
           ],
           "legendgroup": "Malaysia",
           "marker": {
            "color": "#B6E880",
            "size": [
             7739235
            ],
            "sizemode": "area",
            "sizeref": 435928.2961983471,
            "symbol": "circle"
           },
           "mode": "markers",
           "name": "Malaysia",
           "orientation": "v",
           "showlegend": true,
           "type": "scatter",
           "x": [
            1810.0669920000007
           ],
           "xaxis": "x",
           "y": [
            52.102
           ],
           "yaxis": "y"
          },
          {
           "hovertemplate": "<b>%{hovertext}</b><br><br>country=Mongolia<br>year=1957<br>gdpPercap=%{x}<br>lifeExp=%{y}<br>pop=%{marker.size}<extra></extra>",
           "hovertext": [
            "Mongolia"
           ],
           "ids": [
            "Mongolia"
           ],
           "legendgroup": "Mongolia",
           "marker": {
            "color": "#FF97FF",
            "size": [
             882134
            ],
            "sizemode": "area",
            "sizeref": 435928.2961983471,
            "symbol": "circle"
           },
           "mode": "markers",
           "name": "Mongolia",
           "orientation": "v",
           "showlegend": true,
           "type": "scatter",
           "x": [
            912.6626085
           ],
           "xaxis": "x",
           "y": [
            45.24800000000001
           ],
           "yaxis": "y"
          },
          {
           "hovertemplate": "<b>%{hovertext}</b><br><br>country=Myanmar<br>year=1957<br>gdpPercap=%{x}<br>lifeExp=%{y}<br>pop=%{marker.size}<extra></extra>",
           "hovertext": [
            "Myanmar"
           ],
           "ids": [
            "Myanmar"
           ],
           "legendgroup": "Myanmar",
           "marker": {
            "color": "#FECB52",
            "size": [
             21731844
            ],
            "sizemode": "area",
            "sizeref": 435928.2961983471,
            "symbol": "circle"
           },
           "mode": "markers",
           "name": "Myanmar",
           "orientation": "v",
           "showlegend": true,
           "type": "scatter",
           "x": [
            350
           ],
           "xaxis": "x",
           "y": [
            41.905
           ],
           "yaxis": "y"
          },
          {
           "hovertemplate": "<b>%{hovertext}</b><br><br>country=Nepal<br>year=1957<br>gdpPercap=%{x}<br>lifeExp=%{y}<br>pop=%{marker.size}<extra></extra>",
           "hovertext": [
            "Nepal"
           ],
           "ids": [
            "Nepal"
           ],
           "legendgroup": "Nepal",
           "marker": {
            "color": "#636efa",
            "size": [
             9682338
            ],
            "sizemode": "area",
            "sizeref": 435928.2961983471,
            "symbol": "circle"
           },
           "mode": "markers",
           "name": "Nepal",
           "orientation": "v",
           "showlegend": true,
           "type": "scatter",
           "x": [
            597.9363557999999
           ],
           "xaxis": "x",
           "y": [
            37.686
           ],
           "yaxis": "y"
          },
          {
           "hovertemplate": "<b>%{hovertext}</b><br><br>country=Oman<br>year=1957<br>gdpPercap=%{x}<br>lifeExp=%{y}<br>pop=%{marker.size}<extra></extra>",
           "hovertext": [
            "Oman"
           ],
           "ids": [
            "Oman"
           ],
           "legendgroup": "Oman",
           "marker": {
            "color": "#EF553B",
            "size": [
             561977
            ],
            "sizemode": "area",
            "sizeref": 435928.2961983471,
            "symbol": "circle"
           },
           "mode": "markers",
           "name": "Oman",
           "orientation": "v",
           "showlegend": true,
           "type": "scatter",
           "x": [
            2242.746551
           ],
           "xaxis": "x",
           "y": [
            40.08
           ],
           "yaxis": "y"
          },
          {
           "hovertemplate": "<b>%{hovertext}</b><br><br>country=Pakistan<br>year=1957<br>gdpPercap=%{x}<br>lifeExp=%{y}<br>pop=%{marker.size}<extra></extra>",
           "hovertext": [
            "Pakistan"
           ],
           "ids": [
            "Pakistan"
           ],
           "legendgroup": "Pakistan",
           "marker": {
            "color": "#00cc96",
            "size": [
             46679944
            ],
            "sizemode": "area",
            "sizeref": 435928.2961983471,
            "symbol": "circle"
           },
           "mode": "markers",
           "name": "Pakistan",
           "orientation": "v",
           "showlegend": true,
           "type": "scatter",
           "x": [
            747.0835292
           ],
           "xaxis": "x",
           "y": [
            45.557
           ],
           "yaxis": "y"
          },
          {
           "hovertemplate": "<b>%{hovertext}</b><br><br>country=Philippines<br>year=1957<br>gdpPercap=%{x}<br>lifeExp=%{y}<br>pop=%{marker.size}<extra></extra>",
           "hovertext": [
            "Philippines"
           ],
           "ids": [
            "Philippines"
           ],
           "legendgroup": "Philippines",
           "marker": {
            "color": "#ab63fa",
            "size": [
             26072194
            ],
            "sizemode": "area",
            "sizeref": 435928.2961983471,
            "symbol": "circle"
           },
           "mode": "markers",
           "name": "Philippines",
           "orientation": "v",
           "showlegend": true,
           "type": "scatter",
           "x": [
            1547.944844
           ],
           "xaxis": "x",
           "y": [
            51.334
           ],
           "yaxis": "y"
          },
          {
           "hovertemplate": "<b>%{hovertext}</b><br><br>country=Saudi Arabia<br>year=1957<br>gdpPercap=%{x}<br>lifeExp=%{y}<br>pop=%{marker.size}<extra></extra>",
           "hovertext": [
            "Saudi Arabia"
           ],
           "ids": [
            "Saudi Arabia"
           ],
           "legendgroup": "Saudi Arabia",
           "marker": {
            "color": "#FFA15A",
            "size": [
             4419650
            ],
            "sizemode": "area",
            "sizeref": 435928.2961983471,
            "symbol": "circle"
           },
           "mode": "markers",
           "name": "Saudi Arabia",
           "orientation": "v",
           "showlegend": true,
           "type": "scatter",
           "x": [
            8157.5912480000015
           ],
           "xaxis": "x",
           "y": [
            42.868
           ],
           "yaxis": "y"
          },
          {
           "hovertemplate": "<b>%{hovertext}</b><br><br>country=Singapore<br>year=1957<br>gdpPercap=%{x}<br>lifeExp=%{y}<br>pop=%{marker.size}<extra></extra>",
           "hovertext": [
            "Singapore"
           ],
           "ids": [
            "Singapore"
           ],
           "legendgroup": "Singapore",
           "marker": {
            "color": "#19d3f3",
            "size": [
             1445929
            ],
            "sizemode": "area",
            "sizeref": 435928.2961983471,
            "symbol": "circle"
           },
           "mode": "markers",
           "name": "Singapore",
           "orientation": "v",
           "showlegend": true,
           "type": "scatter",
           "x": [
            2843.104409
           ],
           "xaxis": "x",
           "y": [
            63.179
           ],
           "yaxis": "y"
          },
          {
           "hovertemplate": "<b>%{hovertext}</b><br><br>country=Sri Lanka<br>year=1957<br>gdpPercap=%{x}<br>lifeExp=%{y}<br>pop=%{marker.size}<extra></extra>",
           "hovertext": [
            "Sri Lanka"
           ],
           "ids": [
            "Sri Lanka"
           ],
           "legendgroup": "Sri Lanka",
           "marker": {
            "color": "#FF6692",
            "size": [
             9128546
            ],
            "sizemode": "area",
            "sizeref": 435928.2961983471,
            "symbol": "circle"
           },
           "mode": "markers",
           "name": "Sri Lanka",
           "orientation": "v",
           "showlegend": true,
           "type": "scatter",
           "x": [
            1072.546602
           ],
           "xaxis": "x",
           "y": [
            61.456
           ],
           "yaxis": "y"
          },
          {
           "hovertemplate": "<b>%{hovertext}</b><br><br>country=Syria<br>year=1957<br>gdpPercap=%{x}<br>lifeExp=%{y}<br>pop=%{marker.size}<extra></extra>",
           "hovertext": [
            "Syria"
           ],
           "ids": [
            "Syria"
           ],
           "legendgroup": "Syria",
           "marker": {
            "color": "#B6E880",
            "size": [
             4149908
            ],
            "sizemode": "area",
            "sizeref": 435928.2961983471,
            "symbol": "circle"
           },
           "mode": "markers",
           "name": "Syria",
           "orientation": "v",
           "showlegend": true,
           "type": "scatter",
           "x": [
            2117.234893
           ],
           "xaxis": "x",
           "y": [
            48.284
           ],
           "yaxis": "y"
          },
          {
           "hovertemplate": "<b>%{hovertext}</b><br><br>country=Taiwan<br>year=1957<br>gdpPercap=%{x}<br>lifeExp=%{y}<br>pop=%{marker.size}<extra></extra>",
           "hovertext": [
            "Taiwan"
           ],
           "ids": [
            "Taiwan"
           ],
           "legendgroup": "Taiwan",
           "marker": {
            "color": "#FF97FF",
            "size": [
             10164215
            ],
            "sizemode": "area",
            "sizeref": 435928.2961983471,
            "symbol": "circle"
           },
           "mode": "markers",
           "name": "Taiwan",
           "orientation": "v",
           "showlegend": true,
           "type": "scatter",
           "x": [
            1507.86129
           ],
           "xaxis": "x",
           "y": [
            62.4
           ],
           "yaxis": "y"
          },
          {
           "hovertemplate": "<b>%{hovertext}</b><br><br>country=Thailand<br>year=1957<br>gdpPercap=%{x}<br>lifeExp=%{y}<br>pop=%{marker.size}<extra></extra>",
           "hovertext": [
            "Thailand"
           ],
           "ids": [
            "Thailand"
           ],
           "legendgroup": "Thailand",
           "marker": {
            "color": "#FECB52",
            "size": [
             25041917
            ],
            "sizemode": "area",
            "sizeref": 435928.2961983471,
            "symbol": "circle"
           },
           "mode": "markers",
           "name": "Thailand",
           "orientation": "v",
           "showlegend": true,
           "type": "scatter",
           "x": [
            793.5774147999998
           ],
           "xaxis": "x",
           "y": [
            53.63
           ],
           "yaxis": "y"
          },
          {
           "hovertemplate": "<b>%{hovertext}</b><br><br>country=Vietnam<br>year=1957<br>gdpPercap=%{x}<br>lifeExp=%{y}<br>pop=%{marker.size}<extra></extra>",
           "hovertext": [
            "Vietnam"
           ],
           "ids": [
            "Vietnam"
           ],
           "legendgroup": "Vietnam",
           "marker": {
            "color": "#636efa",
            "size": [
             28998543
            ],
            "sizemode": "area",
            "sizeref": 435928.2961983471,
            "symbol": "circle"
           },
           "mode": "markers",
           "name": "Vietnam",
           "orientation": "v",
           "showlegend": true,
           "type": "scatter",
           "x": [
            676.2854477999998
           ],
           "xaxis": "x",
           "y": [
            42.887
           ],
           "yaxis": "y"
          },
          {
           "hovertemplate": "<b>%{hovertext}</b><br><br>country=West Bank and Gaza<br>year=1957<br>gdpPercap=%{x}<br>lifeExp=%{y}<br>pop=%{marker.size}<extra></extra>",
           "hovertext": [
            "West Bank and Gaza"
           ],
           "ids": [
            "West Bank and Gaza"
           ],
           "legendgroup": "West Bank and Gaza",
           "marker": {
            "color": "#EF553B",
            "size": [
             1070439
            ],
            "sizemode": "area",
            "sizeref": 435928.2961983471,
            "symbol": "circle"
           },
           "mode": "markers",
           "name": "West Bank and Gaza",
           "orientation": "v",
           "showlegend": true,
           "type": "scatter",
           "x": [
            1827.067742
           ],
           "xaxis": "x",
           "y": [
            45.67100000000001
           ],
           "yaxis": "y"
          },
          {
           "hovertemplate": "<b>%{hovertext}</b><br><br>country=Yemen, Rep.<br>year=1957<br>gdpPercap=%{x}<br>lifeExp=%{y}<br>pop=%{marker.size}<extra></extra>",
           "hovertext": [
            "Yemen, Rep."
           ],
           "ids": [
            "Yemen, Rep."
           ],
           "legendgroup": "Yemen, Rep.",
           "marker": {
            "color": "#00cc96",
            "size": [
             5498090
            ],
            "sizemode": "area",
            "sizeref": 435928.2961983471,
            "symbol": "circle"
           },
           "mode": "markers",
           "name": "Yemen, Rep.",
           "orientation": "v",
           "showlegend": true,
           "type": "scatter",
           "x": [
            804.8304547
           ],
           "xaxis": "x",
           "y": [
            33.97
           ],
           "yaxis": "y"
          }
         ],
         "name": "1957"
        },
        {
         "data": [
          {
           "hovertemplate": "<b>%{hovertext}</b><br><br>country=Afghanistan<br>year=1962<br>gdpPercap=%{x}<br>lifeExp=%{y}<br>pop=%{marker.size}<extra></extra>",
           "hovertext": [
            "Afghanistan"
           ],
           "ids": [
            "Afghanistan"
           ],
           "legendgroup": "Afghanistan",
           "marker": {
            "color": "#636efa",
            "size": [
             10267083
            ],
            "sizemode": "area",
            "sizeref": 435928.2961983471,
            "symbol": "circle"
           },
           "mode": "markers",
           "name": "Afghanistan",
           "orientation": "v",
           "showlegend": true,
           "type": "scatter",
           "x": [
            853.1007099999998
           ],
           "xaxis": "x",
           "y": [
            31.997
           ],
           "yaxis": "y"
          },
          {
           "hovertemplate": "<b>%{hovertext}</b><br><br>country=Bahrain<br>year=1962<br>gdpPercap=%{x}<br>lifeExp=%{y}<br>pop=%{marker.size}<extra></extra>",
           "hovertext": [
            "Bahrain"
           ],
           "ids": [
            "Bahrain"
           ],
           "legendgroup": "Bahrain",
           "marker": {
            "color": "#EF553B",
            "size": [
             171863
            ],
            "sizemode": "area",
            "sizeref": 435928.2961983471,
            "symbol": "circle"
           },
           "mode": "markers",
           "name": "Bahrain",
           "orientation": "v",
           "showlegend": true,
           "type": "scatter",
           "x": [
            12753.27514
           ],
           "xaxis": "x",
           "y": [
            56.923
           ],
           "yaxis": "y"
          },
          {
           "hovertemplate": "<b>%{hovertext}</b><br><br>country=Bangladesh<br>year=1962<br>gdpPercap=%{x}<br>lifeExp=%{y}<br>pop=%{marker.size}<extra></extra>",
           "hovertext": [
            "Bangladesh"
           ],
           "ids": [
            "Bangladesh"
           ],
           "legendgroup": "Bangladesh",
           "marker": {
            "color": "#00cc96",
            "size": [
             56839289
            ],
            "sizemode": "area",
            "sizeref": 435928.2961983471,
            "symbol": "circle"
           },
           "mode": "markers",
           "name": "Bangladesh",
           "orientation": "v",
           "showlegend": true,
           "type": "scatter",
           "x": [
            686.3415537999998
           ],
           "xaxis": "x",
           "y": [
            41.216
           ],
           "yaxis": "y"
          },
          {
           "hovertemplate": "<b>%{hovertext}</b><br><br>country=Cambodia<br>year=1962<br>gdpPercap=%{x}<br>lifeExp=%{y}<br>pop=%{marker.size}<extra></extra>",
           "hovertext": [
            "Cambodia"
           ],
           "ids": [
            "Cambodia"
           ],
           "legendgroup": "Cambodia",
           "marker": {
            "color": "#ab63fa",
            "size": [
             6083619
            ],
            "sizemode": "area",
            "sizeref": 435928.2961983471,
            "symbol": "circle"
           },
           "mode": "markers",
           "name": "Cambodia",
           "orientation": "v",
           "showlegend": true,
           "type": "scatter",
           "x": [
            496.9136476
           ],
           "xaxis": "x",
           "y": [
            43.415
           ],
           "yaxis": "y"
          },
          {
           "hovertemplate": "<b>%{hovertext}</b><br><br>country=China<br>year=1962<br>gdpPercap=%{x}<br>lifeExp=%{y}<br>pop=%{marker.size}<extra></extra>",
           "hovertext": [
            "China"
           ],
           "ids": [
            "China"
           ],
           "legendgroup": "China",
           "marker": {
            "color": "#FFA15A",
            "size": [
             665770000
            ],
            "sizemode": "area",
            "sizeref": 435928.2961983471,
            "symbol": "circle"
           },
           "mode": "markers",
           "name": "China",
           "orientation": "v",
           "showlegend": true,
           "type": "scatter",
           "x": [
            487.6740183
           ],
           "xaxis": "x",
           "y": [
            44.50136
           ],
           "yaxis": "y"
          },
          {
           "hovertemplate": "<b>%{hovertext}</b><br><br>country=Hong Kong, China<br>year=1962<br>gdpPercap=%{x}<br>lifeExp=%{y}<br>pop=%{marker.size}<extra></extra>",
           "hovertext": [
            "Hong Kong, China"
           ],
           "ids": [
            "Hong Kong, China"
           ],
           "legendgroup": "Hong Kong, China",
           "marker": {
            "color": "#19d3f3",
            "size": [
             3305200
            ],
            "sizemode": "area",
            "sizeref": 435928.2961983471,
            "symbol": "circle"
           },
           "mode": "markers",
           "name": "Hong Kong, China",
           "orientation": "v",
           "showlegend": true,
           "type": "scatter",
           "x": [
            4692.648271999999
           ],
           "xaxis": "x",
           "y": [
            67.65
           ],
           "yaxis": "y"
          },
          {
           "hovertemplate": "<b>%{hovertext}</b><br><br>country=India<br>year=1962<br>gdpPercap=%{x}<br>lifeExp=%{y}<br>pop=%{marker.size}<extra></extra>",
           "hovertext": [
            "India"
           ],
           "ids": [
            "India"
           ],
           "legendgroup": "India",
           "marker": {
            "color": "#FF6692",
            "size": [
             454000000
            ],
            "sizemode": "area",
            "sizeref": 435928.2961983471,
            "symbol": "circle"
           },
           "mode": "markers",
           "name": "India",
           "orientation": "v",
           "showlegend": true,
           "type": "scatter",
           "x": [
            658.3471509
           ],
           "xaxis": "x",
           "y": [
            43.605
           ],
           "yaxis": "y"
          },
          {
           "hovertemplate": "<b>%{hovertext}</b><br><br>country=Indonesia<br>year=1962<br>gdpPercap=%{x}<br>lifeExp=%{y}<br>pop=%{marker.size}<extra></extra>",
           "hovertext": [
            "Indonesia"
           ],
           "ids": [
            "Indonesia"
           ],
           "legendgroup": "Indonesia",
           "marker": {
            "color": "#B6E880",
            "size": [
             99028000
            ],
            "sizemode": "area",
            "sizeref": 435928.2961983471,
            "symbol": "circle"
           },
           "mode": "markers",
           "name": "Indonesia",
           "orientation": "v",
           "showlegend": true,
           "type": "scatter",
           "x": [
            849.2897700999998
           ],
           "xaxis": "x",
           "y": [
            42.518
           ],
           "yaxis": "y"
          },
          {
           "hovertemplate": "<b>%{hovertext}</b><br><br>country=Iran<br>year=1962<br>gdpPercap=%{x}<br>lifeExp=%{y}<br>pop=%{marker.size}<extra></extra>",
           "hovertext": [
            "Iran"
           ],
           "ids": [
            "Iran"
           ],
           "legendgroup": "Iran",
           "marker": {
            "color": "#FF97FF",
            "size": [
             22874000
            ],
            "sizemode": "area",
            "sizeref": 435928.2961983471,
            "symbol": "circle"
           },
           "mode": "markers",
           "name": "Iran",
           "orientation": "v",
           "showlegend": true,
           "type": "scatter",
           "x": [
            4187.329802
           ],
           "xaxis": "x",
           "y": [
            49.325
           ],
           "yaxis": "y"
          },
          {
           "hovertemplate": "<b>%{hovertext}</b><br><br>country=Iraq<br>year=1962<br>gdpPercap=%{x}<br>lifeExp=%{y}<br>pop=%{marker.size}<extra></extra>",
           "hovertext": [
            "Iraq"
           ],
           "ids": [
            "Iraq"
           ],
           "legendgroup": "Iraq",
           "marker": {
            "color": "#FECB52",
            "size": [
             7240260
            ],
            "sizemode": "area",
            "sizeref": 435928.2961983471,
            "symbol": "circle"
           },
           "mode": "markers",
           "name": "Iraq",
           "orientation": "v",
           "showlegend": true,
           "type": "scatter",
           "x": [
            8341.737815
           ],
           "xaxis": "x",
           "y": [
            51.457
           ],
           "yaxis": "y"
          },
          {
           "hovertemplate": "<b>%{hovertext}</b><br><br>country=Israel<br>year=1962<br>gdpPercap=%{x}<br>lifeExp=%{y}<br>pop=%{marker.size}<extra></extra>",
           "hovertext": [
            "Israel"
           ],
           "ids": [
            "Israel"
           ],
           "legendgroup": "Israel",
           "marker": {
            "color": "#636efa",
            "size": [
             2310904
            ],
            "sizemode": "area",
            "sizeref": 435928.2961983471,
            "symbol": "circle"
           },
           "mode": "markers",
           "name": "Israel",
           "orientation": "v",
           "showlegend": true,
           "type": "scatter",
           "x": [
            7105.630706
           ],
           "xaxis": "x",
           "y": [
            69.39
           ],
           "yaxis": "y"
          },
          {
           "hovertemplate": "<b>%{hovertext}</b><br><br>country=Japan<br>year=1962<br>gdpPercap=%{x}<br>lifeExp=%{y}<br>pop=%{marker.size}<extra></extra>",
           "hovertext": [
            "Japan"
           ],
           "ids": [
            "Japan"
           ],
           "legendgroup": "Japan",
           "marker": {
            "color": "#EF553B",
            "size": [
             95831757
            ],
            "sizemode": "area",
            "sizeref": 435928.2961983471,
            "symbol": "circle"
           },
           "mode": "markers",
           "name": "Japan",
           "orientation": "v",
           "showlegend": true,
           "type": "scatter",
           "x": [
            6576.649461
           ],
           "xaxis": "x",
           "y": [
            68.73
           ],
           "yaxis": "y"
          },
          {
           "hovertemplate": "<b>%{hovertext}</b><br><br>country=Jordan<br>year=1962<br>gdpPercap=%{x}<br>lifeExp=%{y}<br>pop=%{marker.size}<extra></extra>",
           "hovertext": [
            "Jordan"
           ],
           "ids": [
            "Jordan"
           ],
           "legendgroup": "Jordan",
           "marker": {
            "color": "#00cc96",
            "size": [
             933559
            ],
            "sizemode": "area",
            "sizeref": 435928.2961983471,
            "symbol": "circle"
           },
           "mode": "markers",
           "name": "Jordan",
           "orientation": "v",
           "showlegend": true,
           "type": "scatter",
           "x": [
            2348.009158
           ],
           "xaxis": "x",
           "y": [
            48.12600000000001
           ],
           "yaxis": "y"
          },
          {
           "hovertemplate": "<b>%{hovertext}</b><br><br>country=Korea, Dem. Rep.<br>year=1962<br>gdpPercap=%{x}<br>lifeExp=%{y}<br>pop=%{marker.size}<extra></extra>",
           "hovertext": [
            "Korea, Dem. Rep."
           ],
           "ids": [
            "Korea, Dem. Rep."
           ],
           "legendgroup": "Korea, Dem. Rep.",
           "marker": {
            "color": "#ab63fa",
            "size": [
             10917494
            ],
            "sizemode": "area",
            "sizeref": 435928.2961983471,
            "symbol": "circle"
           },
           "mode": "markers",
           "name": "Korea, Dem. Rep.",
           "orientation": "v",
           "showlegend": true,
           "type": "scatter",
           "x": [
            1621.693598
           ],
           "xaxis": "x",
           "y": [
            56.65600000000001
           ],
           "yaxis": "y"
          },
          {
           "hovertemplate": "<b>%{hovertext}</b><br><br>country=Korea, Rep.<br>year=1962<br>gdpPercap=%{x}<br>lifeExp=%{y}<br>pop=%{marker.size}<extra></extra>",
           "hovertext": [
            "Korea, Rep."
           ],
           "ids": [
            "Korea, Rep."
           ],
           "legendgroup": "Korea, Rep.",
           "marker": {
            "color": "#FFA15A",
            "size": [
             26420307
            ],
            "sizemode": "area",
            "sizeref": 435928.2961983471,
            "symbol": "circle"
           },
           "mode": "markers",
           "name": "Korea, Rep.",
           "orientation": "v",
           "showlegend": true,
           "type": "scatter",
           "x": [
            1536.344387
           ],
           "xaxis": "x",
           "y": [
            55.292
           ],
           "yaxis": "y"
          },
          {
           "hovertemplate": "<b>%{hovertext}</b><br><br>country=Kuwait<br>year=1962<br>gdpPercap=%{x}<br>lifeExp=%{y}<br>pop=%{marker.size}<extra></extra>",
           "hovertext": [
            "Kuwait"
           ],
           "ids": [
            "Kuwait"
           ],
           "legendgroup": "Kuwait",
           "marker": {
            "color": "#19d3f3",
            "size": [
             358266
            ],
            "sizemode": "area",
            "sizeref": 435928.2961983471,
            "symbol": "circle"
           },
           "mode": "markers",
           "name": "Kuwait",
           "orientation": "v",
           "showlegend": true,
           "type": "scatter",
           "x": [
            95458.11176
           ],
           "xaxis": "x",
           "y": [
            60.47
           ],
           "yaxis": "y"
          },
          {
           "hovertemplate": "<b>%{hovertext}</b><br><br>country=Lebanon<br>year=1962<br>gdpPercap=%{x}<br>lifeExp=%{y}<br>pop=%{marker.size}<extra></extra>",
           "hovertext": [
            "Lebanon"
           ],
           "ids": [
            "Lebanon"
           ],
           "legendgroup": "Lebanon",
           "marker": {
            "color": "#FF6692",
            "size": [
             1886848
            ],
            "sizemode": "area",
            "sizeref": 435928.2961983471,
            "symbol": "circle"
           },
           "mode": "markers",
           "name": "Lebanon",
           "orientation": "v",
           "showlegend": true,
           "type": "scatter",
           "x": [
            5714.560611
           ],
           "xaxis": "x",
           "y": [
            62.094
           ],
           "yaxis": "y"
          },
          {
           "hovertemplate": "<b>%{hovertext}</b><br><br>country=Malaysia<br>year=1962<br>gdpPercap=%{x}<br>lifeExp=%{y}<br>pop=%{marker.size}<extra></extra>",
           "hovertext": [
            "Malaysia"
           ],
           "ids": [
            "Malaysia"
           ],
           "legendgroup": "Malaysia",
           "marker": {
            "color": "#B6E880",
            "size": [
             8906385
            ],
            "sizemode": "area",
            "sizeref": 435928.2961983471,
            "symbol": "circle"
           },
           "mode": "markers",
           "name": "Malaysia",
           "orientation": "v",
           "showlegend": true,
           "type": "scatter",
           "x": [
            2036.884944
           ],
           "xaxis": "x",
           "y": [
            55.737
           ],
           "yaxis": "y"
          },
          {
           "hovertemplate": "<b>%{hovertext}</b><br><br>country=Mongolia<br>year=1962<br>gdpPercap=%{x}<br>lifeExp=%{y}<br>pop=%{marker.size}<extra></extra>",
           "hovertext": [
            "Mongolia"
           ],
           "ids": [
            "Mongolia"
           ],
           "legendgroup": "Mongolia",
           "marker": {
            "color": "#FF97FF",
            "size": [
             1010280
            ],
            "sizemode": "area",
            "sizeref": 435928.2961983471,
            "symbol": "circle"
           },
           "mode": "markers",
           "name": "Mongolia",
           "orientation": "v",
           "showlegend": true,
           "type": "scatter",
           "x": [
            1056.353958
           ],
           "xaxis": "x",
           "y": [
            48.25100000000001
           ],
           "yaxis": "y"
          },
          {
           "hovertemplate": "<b>%{hovertext}</b><br><br>country=Myanmar<br>year=1962<br>gdpPercap=%{x}<br>lifeExp=%{y}<br>pop=%{marker.size}<extra></extra>",
           "hovertext": [
            "Myanmar"
           ],
           "ids": [
            "Myanmar"
           ],
           "legendgroup": "Myanmar",
           "marker": {
            "color": "#FECB52",
            "size": [
             23634436
            ],
            "sizemode": "area",
            "sizeref": 435928.2961983471,
            "symbol": "circle"
           },
           "mode": "markers",
           "name": "Myanmar",
           "orientation": "v",
           "showlegend": true,
           "type": "scatter",
           "x": [
            388
           ],
           "xaxis": "x",
           "y": [
            45.108
           ],
           "yaxis": "y"
          },
          {
           "hovertemplate": "<b>%{hovertext}</b><br><br>country=Nepal<br>year=1962<br>gdpPercap=%{x}<br>lifeExp=%{y}<br>pop=%{marker.size}<extra></extra>",
           "hovertext": [
            "Nepal"
           ],
           "ids": [
            "Nepal"
           ],
           "legendgroup": "Nepal",
           "marker": {
            "color": "#636efa",
            "size": [
             10332057
            ],
            "sizemode": "area",
            "sizeref": 435928.2961983471,
            "symbol": "circle"
           },
           "mode": "markers",
           "name": "Nepal",
           "orientation": "v",
           "showlegend": true,
           "type": "scatter",
           "x": [
            652.3968593
           ],
           "xaxis": "x",
           "y": [
            39.393
           ],
           "yaxis": "y"
          },
          {
           "hovertemplate": "<b>%{hovertext}</b><br><br>country=Oman<br>year=1962<br>gdpPercap=%{x}<br>lifeExp=%{y}<br>pop=%{marker.size}<extra></extra>",
           "hovertext": [
            "Oman"
           ],
           "ids": [
            "Oman"
           ],
           "legendgroup": "Oman",
           "marker": {
            "color": "#EF553B",
            "size": [
             628164
            ],
            "sizemode": "area",
            "sizeref": 435928.2961983471,
            "symbol": "circle"
           },
           "mode": "markers",
           "name": "Oman",
           "orientation": "v",
           "showlegend": true,
           "type": "scatter",
           "x": [
            2924.638113
           ],
           "xaxis": "x",
           "y": [
            43.165
           ],
           "yaxis": "y"
          },
          {
           "hovertemplate": "<b>%{hovertext}</b><br><br>country=Pakistan<br>year=1962<br>gdpPercap=%{x}<br>lifeExp=%{y}<br>pop=%{marker.size}<extra></extra>",
           "hovertext": [
            "Pakistan"
           ],
           "ids": [
            "Pakistan"
           ],
           "legendgroup": "Pakistan",
           "marker": {
            "color": "#00cc96",
            "size": [
             53100671
            ],
            "sizemode": "area",
            "sizeref": 435928.2961983471,
            "symbol": "circle"
           },
           "mode": "markers",
           "name": "Pakistan",
           "orientation": "v",
           "showlegend": true,
           "type": "scatter",
           "x": [
            803.3427418
           ],
           "xaxis": "x",
           "y": [
            47.67
           ],
           "yaxis": "y"
          },
          {
           "hovertemplate": "<b>%{hovertext}</b><br><br>country=Philippines<br>year=1962<br>gdpPercap=%{x}<br>lifeExp=%{y}<br>pop=%{marker.size}<extra></extra>",
           "hovertext": [
            "Philippines"
           ],
           "ids": [
            "Philippines"
           ],
           "legendgroup": "Philippines",
           "marker": {
            "color": "#ab63fa",
            "size": [
             30325264
            ],
            "sizemode": "area",
            "sizeref": 435928.2961983471,
            "symbol": "circle"
           },
           "mode": "markers",
           "name": "Philippines",
           "orientation": "v",
           "showlegend": true,
           "type": "scatter",
           "x": [
            1649.552153
           ],
           "xaxis": "x",
           "y": [
            54.757
           ],
           "yaxis": "y"
          },
          {
           "hovertemplate": "<b>%{hovertext}</b><br><br>country=Saudi Arabia<br>year=1962<br>gdpPercap=%{x}<br>lifeExp=%{y}<br>pop=%{marker.size}<extra></extra>",
           "hovertext": [
            "Saudi Arabia"
           ],
           "ids": [
            "Saudi Arabia"
           ],
           "legendgroup": "Saudi Arabia",
           "marker": {
            "color": "#FFA15A",
            "size": [
             4943029
            ],
            "sizemode": "area",
            "sizeref": 435928.2961983471,
            "symbol": "circle"
           },
           "mode": "markers",
           "name": "Saudi Arabia",
           "orientation": "v",
           "showlegend": true,
           "type": "scatter",
           "x": [
            11626.41975
           ],
           "xaxis": "x",
           "y": [
            45.914
           ],
           "yaxis": "y"
          },
          {
           "hovertemplate": "<b>%{hovertext}</b><br><br>country=Singapore<br>year=1962<br>gdpPercap=%{x}<br>lifeExp=%{y}<br>pop=%{marker.size}<extra></extra>",
           "hovertext": [
            "Singapore"
           ],
           "ids": [
            "Singapore"
           ],
           "legendgroup": "Singapore",
           "marker": {
            "color": "#19d3f3",
            "size": [
             1750200
            ],
            "sizemode": "area",
            "sizeref": 435928.2961983471,
            "symbol": "circle"
           },
           "mode": "markers",
           "name": "Singapore",
           "orientation": "v",
           "showlegend": true,
           "type": "scatter",
           "x": [
            3674.735572
           ],
           "xaxis": "x",
           "y": [
            65.798
           ],
           "yaxis": "y"
          },
          {
           "hovertemplate": "<b>%{hovertext}</b><br><br>country=Sri Lanka<br>year=1962<br>gdpPercap=%{x}<br>lifeExp=%{y}<br>pop=%{marker.size}<extra></extra>",
           "hovertext": [
            "Sri Lanka"
           ],
           "ids": [
            "Sri Lanka"
           ],
           "legendgroup": "Sri Lanka",
           "marker": {
            "color": "#FF6692",
            "size": [
             10421936
            ],
            "sizemode": "area",
            "sizeref": 435928.2961983471,
            "symbol": "circle"
           },
           "mode": "markers",
           "name": "Sri Lanka",
           "orientation": "v",
           "showlegend": true,
           "type": "scatter",
           "x": [
            1074.47196
           ],
           "xaxis": "x",
           "y": [
            62.192
           ],
           "yaxis": "y"
          },
          {
           "hovertemplate": "<b>%{hovertext}</b><br><br>country=Syria<br>year=1962<br>gdpPercap=%{x}<br>lifeExp=%{y}<br>pop=%{marker.size}<extra></extra>",
           "hovertext": [
            "Syria"
           ],
           "ids": [
            "Syria"
           ],
           "legendgroup": "Syria",
           "marker": {
            "color": "#B6E880",
            "size": [
             4834621
            ],
            "sizemode": "area",
            "sizeref": 435928.2961983471,
            "symbol": "circle"
           },
           "mode": "markers",
           "name": "Syria",
           "orientation": "v",
           "showlegend": true,
           "type": "scatter",
           "x": [
            2193.037133
           ],
           "xaxis": "x",
           "y": [
            50.305
           ],
           "yaxis": "y"
          },
          {
           "hovertemplate": "<b>%{hovertext}</b><br><br>country=Taiwan<br>year=1962<br>gdpPercap=%{x}<br>lifeExp=%{y}<br>pop=%{marker.size}<extra></extra>",
           "hovertext": [
            "Taiwan"
           ],
           "ids": [
            "Taiwan"
           ],
           "legendgroup": "Taiwan",
           "marker": {
            "color": "#FF97FF",
            "size": [
             11918938
            ],
            "sizemode": "area",
            "sizeref": 435928.2961983471,
            "symbol": "circle"
           },
           "mode": "markers",
           "name": "Taiwan",
           "orientation": "v",
           "showlegend": true,
           "type": "scatter",
           "x": [
            1822.879028
           ],
           "xaxis": "x",
           "y": [
            65.2
           ],
           "yaxis": "y"
          },
          {
           "hovertemplate": "<b>%{hovertext}</b><br><br>country=Thailand<br>year=1962<br>gdpPercap=%{x}<br>lifeExp=%{y}<br>pop=%{marker.size}<extra></extra>",
           "hovertext": [
            "Thailand"
           ],
           "ids": [
            "Thailand"
           ],
           "legendgroup": "Thailand",
           "marker": {
            "color": "#FECB52",
            "size": [
             29263397
            ],
            "sizemode": "area",
            "sizeref": 435928.2961983471,
            "symbol": "circle"
           },
           "mode": "markers",
           "name": "Thailand",
           "orientation": "v",
           "showlegend": true,
           "type": "scatter",
           "x": [
            1002.199172
           ],
           "xaxis": "x",
           "y": [
            56.06100000000001
           ],
           "yaxis": "y"
          },
          {
           "hovertemplate": "<b>%{hovertext}</b><br><br>country=Vietnam<br>year=1962<br>gdpPercap=%{x}<br>lifeExp=%{y}<br>pop=%{marker.size}<extra></extra>",
           "hovertext": [
            "Vietnam"
           ],
           "ids": [
            "Vietnam"
           ],
           "legendgroup": "Vietnam",
           "marker": {
            "color": "#636efa",
            "size": [
             33796140
            ],
            "sizemode": "area",
            "sizeref": 435928.2961983471,
            "symbol": "circle"
           },
           "mode": "markers",
           "name": "Vietnam",
           "orientation": "v",
           "showlegend": true,
           "type": "scatter",
           "x": [
            772.0491602000002
           ],
           "xaxis": "x",
           "y": [
            45.363
           ],
           "yaxis": "y"
          },
          {
           "hovertemplate": "<b>%{hovertext}</b><br><br>country=West Bank and Gaza<br>year=1962<br>gdpPercap=%{x}<br>lifeExp=%{y}<br>pop=%{marker.size}<extra></extra>",
           "hovertext": [
            "West Bank and Gaza"
           ],
           "ids": [
            "West Bank and Gaza"
           ],
           "legendgroup": "West Bank and Gaza",
           "marker": {
            "color": "#EF553B",
            "size": [
             1133134
            ],
            "sizemode": "area",
            "sizeref": 435928.2961983471,
            "symbol": "circle"
           },
           "mode": "markers",
           "name": "West Bank and Gaza",
           "orientation": "v",
           "showlegend": true,
           "type": "scatter",
           "x": [
            2198.9563120000007
           ],
           "xaxis": "x",
           "y": [
            48.127
           ],
           "yaxis": "y"
          },
          {
           "hovertemplate": "<b>%{hovertext}</b><br><br>country=Yemen, Rep.<br>year=1962<br>gdpPercap=%{x}<br>lifeExp=%{y}<br>pop=%{marker.size}<extra></extra>",
           "hovertext": [
            "Yemen, Rep."
           ],
           "ids": [
            "Yemen, Rep."
           ],
           "legendgroup": "Yemen, Rep.",
           "marker": {
            "color": "#00cc96",
            "size": [
             6120081
            ],
            "sizemode": "area",
            "sizeref": 435928.2961983471,
            "symbol": "circle"
           },
           "mode": "markers",
           "name": "Yemen, Rep.",
           "orientation": "v",
           "showlegend": true,
           "type": "scatter",
           "x": [
            825.6232006
           ],
           "xaxis": "x",
           "y": [
            35.18
           ],
           "yaxis": "y"
          }
         ],
         "name": "1962"
        },
        {
         "data": [
          {
           "hovertemplate": "<b>%{hovertext}</b><br><br>country=Afghanistan<br>year=1967<br>gdpPercap=%{x}<br>lifeExp=%{y}<br>pop=%{marker.size}<extra></extra>",
           "hovertext": [
            "Afghanistan"
           ],
           "ids": [
            "Afghanistan"
           ],
           "legendgroup": "Afghanistan",
           "marker": {
            "color": "#636efa",
            "size": [
             11537966
            ],
            "sizemode": "area",
            "sizeref": 435928.2961983471,
            "symbol": "circle"
           },
           "mode": "markers",
           "name": "Afghanistan",
           "orientation": "v",
           "showlegend": true,
           "type": "scatter",
           "x": [
            836.1971382
           ],
           "xaxis": "x",
           "y": [
            34.02
           ],
           "yaxis": "y"
          },
          {
           "hovertemplate": "<b>%{hovertext}</b><br><br>country=Bahrain<br>year=1967<br>gdpPercap=%{x}<br>lifeExp=%{y}<br>pop=%{marker.size}<extra></extra>",
           "hovertext": [
            "Bahrain"
           ],
           "ids": [
            "Bahrain"
           ],
           "legendgroup": "Bahrain",
           "marker": {
            "color": "#EF553B",
            "size": [
             202182
            ],
            "sizemode": "area",
            "sizeref": 435928.2961983471,
            "symbol": "circle"
           },
           "mode": "markers",
           "name": "Bahrain",
           "orientation": "v",
           "showlegend": true,
           "type": "scatter",
           "x": [
            14804.6727
           ],
           "xaxis": "x",
           "y": [
            59.923
           ],
           "yaxis": "y"
          },
          {
           "hovertemplate": "<b>%{hovertext}</b><br><br>country=Bangladesh<br>year=1967<br>gdpPercap=%{x}<br>lifeExp=%{y}<br>pop=%{marker.size}<extra></extra>",
           "hovertext": [
            "Bangladesh"
           ],
           "ids": [
            "Bangladesh"
           ],
           "legendgroup": "Bangladesh",
           "marker": {
            "color": "#00cc96",
            "size": [
             62821884
            ],
            "sizemode": "area",
            "sizeref": 435928.2961983471,
            "symbol": "circle"
           },
           "mode": "markers",
           "name": "Bangladesh",
           "orientation": "v",
           "showlegend": true,
           "type": "scatter",
           "x": [
            721.1860862000002
           ],
           "xaxis": "x",
           "y": [
            43.453
           ],
           "yaxis": "y"
          },
          {
           "hovertemplate": "<b>%{hovertext}</b><br><br>country=Cambodia<br>year=1967<br>gdpPercap=%{x}<br>lifeExp=%{y}<br>pop=%{marker.size}<extra></extra>",
           "hovertext": [
            "Cambodia"
           ],
           "ids": [
            "Cambodia"
           ],
           "legendgroup": "Cambodia",
           "marker": {
            "color": "#ab63fa",
            "size": [
             6960067
            ],
            "sizemode": "area",
            "sizeref": 435928.2961983471,
            "symbol": "circle"
           },
           "mode": "markers",
           "name": "Cambodia",
           "orientation": "v",
           "showlegend": true,
           "type": "scatter",
           "x": [
            523.4323142
           ],
           "xaxis": "x",
           "y": [
            45.415
           ],
           "yaxis": "y"
          },
          {
           "hovertemplate": "<b>%{hovertext}</b><br><br>country=China<br>year=1967<br>gdpPercap=%{x}<br>lifeExp=%{y}<br>pop=%{marker.size}<extra></extra>",
           "hovertext": [
            "China"
           ],
           "ids": [
            "China"
           ],
           "legendgroup": "China",
           "marker": {
            "color": "#FFA15A",
            "size": [
             754550000
            ],
            "sizemode": "area",
            "sizeref": 435928.2961983471,
            "symbol": "circle"
           },
           "mode": "markers",
           "name": "China",
           "orientation": "v",
           "showlegend": true,
           "type": "scatter",
           "x": [
            612.7056934
           ],
           "xaxis": "x",
           "y": [
            58.38112
           ],
           "yaxis": "y"
          },
          {
           "hovertemplate": "<b>%{hovertext}</b><br><br>country=Hong Kong, China<br>year=1967<br>gdpPercap=%{x}<br>lifeExp=%{y}<br>pop=%{marker.size}<extra></extra>",
           "hovertext": [
            "Hong Kong, China"
           ],
           "ids": [
            "Hong Kong, China"
           ],
           "legendgroup": "Hong Kong, China",
           "marker": {
            "color": "#19d3f3",
            "size": [
             3722800
            ],
            "sizemode": "area",
            "sizeref": 435928.2961983471,
            "symbol": "circle"
           },
           "mode": "markers",
           "name": "Hong Kong, China",
           "orientation": "v",
           "showlegend": true,
           "type": "scatter",
           "x": [
            6197.962814
           ],
           "xaxis": "x",
           "y": [
            70
           ],
           "yaxis": "y"
          },
          {
           "hovertemplate": "<b>%{hovertext}</b><br><br>country=India<br>year=1967<br>gdpPercap=%{x}<br>lifeExp=%{y}<br>pop=%{marker.size}<extra></extra>",
           "hovertext": [
            "India"
           ],
           "ids": [
            "India"
           ],
           "legendgroup": "India",
           "marker": {
            "color": "#FF6692",
            "size": [
             506000000
            ],
            "sizemode": "area",
            "sizeref": 435928.2961983471,
            "symbol": "circle"
           },
           "mode": "markers",
           "name": "India",
           "orientation": "v",
           "showlegend": true,
           "type": "scatter",
           "x": [
            700.7706107000001
           ],
           "xaxis": "x",
           "y": [
            47.19300000000001
           ],
           "yaxis": "y"
          },
          {
           "hovertemplate": "<b>%{hovertext}</b><br><br>country=Indonesia<br>year=1967<br>gdpPercap=%{x}<br>lifeExp=%{y}<br>pop=%{marker.size}<extra></extra>",
           "hovertext": [
            "Indonesia"
           ],
           "ids": [
            "Indonesia"
           ],
           "legendgroup": "Indonesia",
           "marker": {
            "color": "#B6E880",
            "size": [
             109343000
            ],
            "sizemode": "area",
            "sizeref": 435928.2961983471,
            "symbol": "circle"
           },
           "mode": "markers",
           "name": "Indonesia",
           "orientation": "v",
           "showlegend": true,
           "type": "scatter",
           "x": [
            762.4317721
           ],
           "xaxis": "x",
           "y": [
            45.964
           ],
           "yaxis": "y"
          },
          {
           "hovertemplate": "<b>%{hovertext}</b><br><br>country=Iran<br>year=1967<br>gdpPercap=%{x}<br>lifeExp=%{y}<br>pop=%{marker.size}<extra></extra>",
           "hovertext": [
            "Iran"
           ],
           "ids": [
            "Iran"
           ],
           "legendgroup": "Iran",
           "marker": {
            "color": "#FF97FF",
            "size": [
             26538000
            ],
            "sizemode": "area",
            "sizeref": 435928.2961983471,
            "symbol": "circle"
           },
           "mode": "markers",
           "name": "Iran",
           "orientation": "v",
           "showlegend": true,
           "type": "scatter",
           "x": [
            5906.731804999999
           ],
           "xaxis": "x",
           "y": [
            52.469
           ],
           "yaxis": "y"
          },
          {
           "hovertemplate": "<b>%{hovertext}</b><br><br>country=Iraq<br>year=1967<br>gdpPercap=%{x}<br>lifeExp=%{y}<br>pop=%{marker.size}<extra></extra>",
           "hovertext": [
            "Iraq"
           ],
           "ids": [
            "Iraq"
           ],
           "legendgroup": "Iraq",
           "marker": {
            "color": "#FECB52",
            "size": [
             8519282
            ],
            "sizemode": "area",
            "sizeref": 435928.2961983471,
            "symbol": "circle"
           },
           "mode": "markers",
           "name": "Iraq",
           "orientation": "v",
           "showlegend": true,
           "type": "scatter",
           "x": [
            8931.459811
           ],
           "xaxis": "x",
           "y": [
            54.459
           ],
           "yaxis": "y"
          },
          {
           "hovertemplate": "<b>%{hovertext}</b><br><br>country=Israel<br>year=1967<br>gdpPercap=%{x}<br>lifeExp=%{y}<br>pop=%{marker.size}<extra></extra>",
           "hovertext": [
            "Israel"
           ],
           "ids": [
            "Israel"
           ],
           "legendgroup": "Israel",
           "marker": {
            "color": "#636efa",
            "size": [
             2693585
            ],
            "sizemode": "area",
            "sizeref": 435928.2961983471,
            "symbol": "circle"
           },
           "mode": "markers",
           "name": "Israel",
           "orientation": "v",
           "showlegend": true,
           "type": "scatter",
           "x": [
            8393.741404
           ],
           "xaxis": "x",
           "y": [
            70.75
           ],
           "yaxis": "y"
          },
          {
           "hovertemplate": "<b>%{hovertext}</b><br><br>country=Japan<br>year=1967<br>gdpPercap=%{x}<br>lifeExp=%{y}<br>pop=%{marker.size}<extra></extra>",
           "hovertext": [
            "Japan"
           ],
           "ids": [
            "Japan"
           ],
           "legendgroup": "Japan",
           "marker": {
            "color": "#EF553B",
            "size": [
             100825279
            ],
            "sizemode": "area",
            "sizeref": 435928.2961983471,
            "symbol": "circle"
           },
           "mode": "markers",
           "name": "Japan",
           "orientation": "v",
           "showlegend": true,
           "type": "scatter",
           "x": [
            9847.788607
           ],
           "xaxis": "x",
           "y": [
            71.43
           ],
           "yaxis": "y"
          },
          {
           "hovertemplate": "<b>%{hovertext}</b><br><br>country=Jordan<br>year=1967<br>gdpPercap=%{x}<br>lifeExp=%{y}<br>pop=%{marker.size}<extra></extra>",
           "hovertext": [
            "Jordan"
           ],
           "ids": [
            "Jordan"
           ],
           "legendgroup": "Jordan",
           "marker": {
            "color": "#00cc96",
            "size": [
             1255058
            ],
            "sizemode": "area",
            "sizeref": 435928.2961983471,
            "symbol": "circle"
           },
           "mode": "markers",
           "name": "Jordan",
           "orientation": "v",
           "showlegend": true,
           "type": "scatter",
           "x": [
            2741.796252
           ],
           "xaxis": "x",
           "y": [
            51.629
           ],
           "yaxis": "y"
          },
          {
           "hovertemplate": "<b>%{hovertext}</b><br><br>country=Korea, Dem. Rep.<br>year=1967<br>gdpPercap=%{x}<br>lifeExp=%{y}<br>pop=%{marker.size}<extra></extra>",
           "hovertext": [
            "Korea, Dem. Rep."
           ],
           "ids": [
            "Korea, Dem. Rep."
           ],
           "legendgroup": "Korea, Dem. Rep.",
           "marker": {
            "color": "#ab63fa",
            "size": [
             12617009
            ],
            "sizemode": "area",
            "sizeref": 435928.2961983471,
            "symbol": "circle"
           },
           "mode": "markers",
           "name": "Korea, Dem. Rep.",
           "orientation": "v",
           "showlegend": true,
           "type": "scatter",
           "x": [
            2143.540609
           ],
           "xaxis": "x",
           "y": [
            59.942
           ],
           "yaxis": "y"
          },
          {
           "hovertemplate": "<b>%{hovertext}</b><br><br>country=Korea, Rep.<br>year=1967<br>gdpPercap=%{x}<br>lifeExp=%{y}<br>pop=%{marker.size}<extra></extra>",
           "hovertext": [
            "Korea, Rep."
           ],
           "ids": [
            "Korea, Rep."
           ],
           "legendgroup": "Korea, Rep.",
           "marker": {
            "color": "#FFA15A",
            "size": [
             30131000
            ],
            "sizemode": "area",
            "sizeref": 435928.2961983471,
            "symbol": "circle"
           },
           "mode": "markers",
           "name": "Korea, Rep.",
           "orientation": "v",
           "showlegend": true,
           "type": "scatter",
           "x": [
            2029.228142
           ],
           "xaxis": "x",
           "y": [
            57.716
           ],
           "yaxis": "y"
          },
          {
           "hovertemplate": "<b>%{hovertext}</b><br><br>country=Kuwait<br>year=1967<br>gdpPercap=%{x}<br>lifeExp=%{y}<br>pop=%{marker.size}<extra></extra>",
           "hovertext": [
            "Kuwait"
           ],
           "ids": [
            "Kuwait"
           ],
           "legendgroup": "Kuwait",
           "marker": {
            "color": "#19d3f3",
            "size": [
             575003
            ],
            "sizemode": "area",
            "sizeref": 435928.2961983471,
            "symbol": "circle"
           },
           "mode": "markers",
           "name": "Kuwait",
           "orientation": "v",
           "showlegend": true,
           "type": "scatter",
           "x": [
            80894.88326
           ],
           "xaxis": "x",
           "y": [
            64.624
           ],
           "yaxis": "y"
          },
          {
           "hovertemplate": "<b>%{hovertext}</b><br><br>country=Lebanon<br>year=1967<br>gdpPercap=%{x}<br>lifeExp=%{y}<br>pop=%{marker.size}<extra></extra>",
           "hovertext": [
            "Lebanon"
           ],
           "ids": [
            "Lebanon"
           ],
           "legendgroup": "Lebanon",
           "marker": {
            "color": "#FF6692",
            "size": [
             2186894
            ],
            "sizemode": "area",
            "sizeref": 435928.2961983471,
            "symbol": "circle"
           },
           "mode": "markers",
           "name": "Lebanon",
           "orientation": "v",
           "showlegend": true,
           "type": "scatter",
           "x": [
            6006.983042
           ],
           "xaxis": "x",
           "y": [
            63.87
           ],
           "yaxis": "y"
          },
          {
           "hovertemplate": "<b>%{hovertext}</b><br><br>country=Malaysia<br>year=1967<br>gdpPercap=%{x}<br>lifeExp=%{y}<br>pop=%{marker.size}<extra></extra>",
           "hovertext": [
            "Malaysia"
           ],
           "ids": [
            "Malaysia"
           ],
           "legendgroup": "Malaysia",
           "marker": {
            "color": "#B6E880",
            "size": [
             10154878
            ],
            "sizemode": "area",
            "sizeref": 435928.2961983471,
            "symbol": "circle"
           },
           "mode": "markers",
           "name": "Malaysia",
           "orientation": "v",
           "showlegend": true,
           "type": "scatter",
           "x": [
            2277.742396
           ],
           "xaxis": "x",
           "y": [
            59.371
           ],
           "yaxis": "y"
          },
          {
           "hovertemplate": "<b>%{hovertext}</b><br><br>country=Mongolia<br>year=1967<br>gdpPercap=%{x}<br>lifeExp=%{y}<br>pop=%{marker.size}<extra></extra>",
           "hovertext": [
            "Mongolia"
           ],
           "ids": [
            "Mongolia"
           ],
           "legendgroup": "Mongolia",
           "marker": {
            "color": "#FF97FF",
            "size": [
             1149500
            ],
            "sizemode": "area",
            "sizeref": 435928.2961983471,
            "symbol": "circle"
           },
           "mode": "markers",
           "name": "Mongolia",
           "orientation": "v",
           "showlegend": true,
           "type": "scatter",
           "x": [
            1226.04113
           ],
           "xaxis": "x",
           "y": [
            51.253
           ],
           "yaxis": "y"
          },
          {
           "hovertemplate": "<b>%{hovertext}</b><br><br>country=Myanmar<br>year=1967<br>gdpPercap=%{x}<br>lifeExp=%{y}<br>pop=%{marker.size}<extra></extra>",
           "hovertext": [
            "Myanmar"
           ],
           "ids": [
            "Myanmar"
           ],
           "legendgroup": "Myanmar",
           "marker": {
            "color": "#FECB52",
            "size": [
             25870271
            ],
            "sizemode": "area",
            "sizeref": 435928.2961983471,
            "symbol": "circle"
           },
           "mode": "markers",
           "name": "Myanmar",
           "orientation": "v",
           "showlegend": true,
           "type": "scatter",
           "x": [
            349
           ],
           "xaxis": "x",
           "y": [
            49.379
           ],
           "yaxis": "y"
          },
          {
           "hovertemplate": "<b>%{hovertext}</b><br><br>country=Nepal<br>year=1967<br>gdpPercap=%{x}<br>lifeExp=%{y}<br>pop=%{marker.size}<extra></extra>",
           "hovertext": [
            "Nepal"
           ],
           "ids": [
            "Nepal"
           ],
           "legendgroup": "Nepal",
           "marker": {
            "color": "#636efa",
            "size": [
             11261690
            ],
            "sizemode": "area",
            "sizeref": 435928.2961983471,
            "symbol": "circle"
           },
           "mode": "markers",
           "name": "Nepal",
           "orientation": "v",
           "showlegend": true,
           "type": "scatter",
           "x": [
            676.4422254
           ],
           "xaxis": "x",
           "y": [
            41.472
           ],
           "yaxis": "y"
          },
          {
           "hovertemplate": "<b>%{hovertext}</b><br><br>country=Oman<br>year=1967<br>gdpPercap=%{x}<br>lifeExp=%{y}<br>pop=%{marker.size}<extra></extra>",
           "hovertext": [
            "Oman"
           ],
           "ids": [
            "Oman"
           ],
           "legendgroup": "Oman",
           "marker": {
            "color": "#EF553B",
            "size": [
             714775
            ],
            "sizemode": "area",
            "sizeref": 435928.2961983471,
            "symbol": "circle"
           },
           "mode": "markers",
           "name": "Oman",
           "orientation": "v",
           "showlegend": true,
           "type": "scatter",
           "x": [
            4720.942687
           ],
           "xaxis": "x",
           "y": [
            46.988
           ],
           "yaxis": "y"
          },
          {
           "hovertemplate": "<b>%{hovertext}</b><br><br>country=Pakistan<br>year=1967<br>gdpPercap=%{x}<br>lifeExp=%{y}<br>pop=%{marker.size}<extra></extra>",
           "hovertext": [
            "Pakistan"
           ],
           "ids": [
            "Pakistan"
           ],
           "legendgroup": "Pakistan",
           "marker": {
            "color": "#00cc96",
            "size": [
             60641899
            ],
            "sizemode": "area",
            "sizeref": 435928.2961983471,
            "symbol": "circle"
           },
           "mode": "markers",
           "name": "Pakistan",
           "orientation": "v",
           "showlegend": true,
           "type": "scatter",
           "x": [
            942.4082588
           ],
           "xaxis": "x",
           "y": [
            49.8
           ],
           "yaxis": "y"
          },
          {
           "hovertemplate": "<b>%{hovertext}</b><br><br>country=Philippines<br>year=1967<br>gdpPercap=%{x}<br>lifeExp=%{y}<br>pop=%{marker.size}<extra></extra>",
           "hovertext": [
            "Philippines"
           ],
           "ids": [
            "Philippines"
           ],
           "legendgroup": "Philippines",
           "marker": {
            "color": "#ab63fa",
            "size": [
             35356600
            ],
            "sizemode": "area",
            "sizeref": 435928.2961983471,
            "symbol": "circle"
           },
           "mode": "markers",
           "name": "Philippines",
           "orientation": "v",
           "showlegend": true,
           "type": "scatter",
           "x": [
            1814.12743
           ],
           "xaxis": "x",
           "y": [
            56.393
           ],
           "yaxis": "y"
          },
          {
           "hovertemplate": "<b>%{hovertext}</b><br><br>country=Saudi Arabia<br>year=1967<br>gdpPercap=%{x}<br>lifeExp=%{y}<br>pop=%{marker.size}<extra></extra>",
           "hovertext": [
            "Saudi Arabia"
           ],
           "ids": [
            "Saudi Arabia"
           ],
           "legendgroup": "Saudi Arabia",
           "marker": {
            "color": "#FFA15A",
            "size": [
             5618198
            ],
            "sizemode": "area",
            "sizeref": 435928.2961983471,
            "symbol": "circle"
           },
           "mode": "markers",
           "name": "Saudi Arabia",
           "orientation": "v",
           "showlegend": true,
           "type": "scatter",
           "x": [
            16903.04886
           ],
           "xaxis": "x",
           "y": [
            49.901
           ],
           "yaxis": "y"
          },
          {
           "hovertemplate": "<b>%{hovertext}</b><br><br>country=Singapore<br>year=1967<br>gdpPercap=%{x}<br>lifeExp=%{y}<br>pop=%{marker.size}<extra></extra>",
           "hovertext": [
            "Singapore"
           ],
           "ids": [
            "Singapore"
           ],
           "legendgroup": "Singapore",
           "marker": {
            "color": "#19d3f3",
            "size": [
             1977600
            ],
            "sizemode": "area",
            "sizeref": 435928.2961983471,
            "symbol": "circle"
           },
           "mode": "markers",
           "name": "Singapore",
           "orientation": "v",
           "showlegend": true,
           "type": "scatter",
           "x": [
            4977.41854
           ],
           "xaxis": "x",
           "y": [
            67.946
           ],
           "yaxis": "y"
          },
          {
           "hovertemplate": "<b>%{hovertext}</b><br><br>country=Sri Lanka<br>year=1967<br>gdpPercap=%{x}<br>lifeExp=%{y}<br>pop=%{marker.size}<extra></extra>",
           "hovertext": [
            "Sri Lanka"
           ],
           "ids": [
            "Sri Lanka"
           ],
           "legendgroup": "Sri Lanka",
           "marker": {
            "color": "#FF6692",
            "size": [
             11737396
            ],
            "sizemode": "area",
            "sizeref": 435928.2961983471,
            "symbol": "circle"
           },
           "mode": "markers",
           "name": "Sri Lanka",
           "orientation": "v",
           "showlegend": true,
           "type": "scatter",
           "x": [
            1135.514326
           ],
           "xaxis": "x",
           "y": [
            64.266
           ],
           "yaxis": "y"
          },
          {
           "hovertemplate": "<b>%{hovertext}</b><br><br>country=Syria<br>year=1967<br>gdpPercap=%{x}<br>lifeExp=%{y}<br>pop=%{marker.size}<extra></extra>",
           "hovertext": [
            "Syria"
           ],
           "ids": [
            "Syria"
           ],
           "legendgroup": "Syria",
           "marker": {
            "color": "#B6E880",
            "size": [
             5680812
            ],
            "sizemode": "area",
            "sizeref": 435928.2961983471,
            "symbol": "circle"
           },
           "mode": "markers",
           "name": "Syria",
           "orientation": "v",
           "showlegend": true,
           "type": "scatter",
           "x": [
            1881.923632
           ],
           "xaxis": "x",
           "y": [
            53.655
           ],
           "yaxis": "y"
          },
          {
           "hovertemplate": "<b>%{hovertext}</b><br><br>country=Taiwan<br>year=1967<br>gdpPercap=%{x}<br>lifeExp=%{y}<br>pop=%{marker.size}<extra></extra>",
           "hovertext": [
            "Taiwan"
           ],
           "ids": [
            "Taiwan"
           ],
           "legendgroup": "Taiwan",
           "marker": {
            "color": "#FF97FF",
            "size": [
             13648692
            ],
            "sizemode": "area",
            "sizeref": 435928.2961983471,
            "symbol": "circle"
           },
           "mode": "markers",
           "name": "Taiwan",
           "orientation": "v",
           "showlegend": true,
           "type": "scatter",
           "x": [
            2643.858681
           ],
           "xaxis": "x",
           "y": [
            67.5
           ],
           "yaxis": "y"
          },
          {
           "hovertemplate": "<b>%{hovertext}</b><br><br>country=Thailand<br>year=1967<br>gdpPercap=%{x}<br>lifeExp=%{y}<br>pop=%{marker.size}<extra></extra>",
           "hovertext": [
            "Thailand"
           ],
           "ids": [
            "Thailand"
           ],
           "legendgroup": "Thailand",
           "marker": {
            "color": "#FECB52",
            "size": [
             34024249
            ],
            "sizemode": "area",
            "sizeref": 435928.2961983471,
            "symbol": "circle"
           },
           "mode": "markers",
           "name": "Thailand",
           "orientation": "v",
           "showlegend": true,
           "type": "scatter",
           "x": [
            1295.46066
           ],
           "xaxis": "x",
           "y": [
            58.285
           ],
           "yaxis": "y"
          },
          {
           "hovertemplate": "<b>%{hovertext}</b><br><br>country=Vietnam<br>year=1967<br>gdpPercap=%{x}<br>lifeExp=%{y}<br>pop=%{marker.size}<extra></extra>",
           "hovertext": [
            "Vietnam"
           ],
           "ids": [
            "Vietnam"
           ],
           "legendgroup": "Vietnam",
           "marker": {
            "color": "#636efa",
            "size": [
             39463910
            ],
            "sizemode": "area",
            "sizeref": 435928.2961983471,
            "symbol": "circle"
           },
           "mode": "markers",
           "name": "Vietnam",
           "orientation": "v",
           "showlegend": true,
           "type": "scatter",
           "x": [
            637.1232887
           ],
           "xaxis": "x",
           "y": [
            47.838
           ],
           "yaxis": "y"
          },
          {
           "hovertemplate": "<b>%{hovertext}</b><br><br>country=West Bank and Gaza<br>year=1967<br>gdpPercap=%{x}<br>lifeExp=%{y}<br>pop=%{marker.size}<extra></extra>",
           "hovertext": [
            "West Bank and Gaza"
           ],
           "ids": [
            "West Bank and Gaza"
           ],
           "legendgroup": "West Bank and Gaza",
           "marker": {
            "color": "#EF553B",
            "size": [
             1142636
            ],
            "sizemode": "area",
            "sizeref": 435928.2961983471,
            "symbol": "circle"
           },
           "mode": "markers",
           "name": "West Bank and Gaza",
           "orientation": "v",
           "showlegend": true,
           "type": "scatter",
           "x": [
            2649.715007
           ],
           "xaxis": "x",
           "y": [
            51.631
           ],
           "yaxis": "y"
          },
          {
           "hovertemplate": "<b>%{hovertext}</b><br><br>country=Yemen, Rep.<br>year=1967<br>gdpPercap=%{x}<br>lifeExp=%{y}<br>pop=%{marker.size}<extra></extra>",
           "hovertext": [
            "Yemen, Rep."
           ],
           "ids": [
            "Yemen, Rep."
           ],
           "legendgroup": "Yemen, Rep.",
           "marker": {
            "color": "#00cc96",
            "size": [
             6740785
            ],
            "sizemode": "area",
            "sizeref": 435928.2961983471,
            "symbol": "circle"
           },
           "mode": "markers",
           "name": "Yemen, Rep.",
           "orientation": "v",
           "showlegend": true,
           "type": "scatter",
           "x": [
            862.4421463
           ],
           "xaxis": "x",
           "y": [
            36.984
           ],
           "yaxis": "y"
          }
         ],
         "name": "1967"
        },
        {
         "data": [
          {
           "hovertemplate": "<b>%{hovertext}</b><br><br>country=Afghanistan<br>year=1972<br>gdpPercap=%{x}<br>lifeExp=%{y}<br>pop=%{marker.size}<extra></extra>",
           "hovertext": [
            "Afghanistan"
           ],
           "ids": [
            "Afghanistan"
           ],
           "legendgroup": "Afghanistan",
           "marker": {
            "color": "#636efa",
            "size": [
             13079460
            ],
            "sizemode": "area",
            "sizeref": 435928.2961983471,
            "symbol": "circle"
           },
           "mode": "markers",
           "name": "Afghanistan",
           "orientation": "v",
           "showlegend": true,
           "type": "scatter",
           "x": [
            739.9811057999998
           ],
           "xaxis": "x",
           "y": [
            36.088
           ],
           "yaxis": "y"
          },
          {
           "hovertemplate": "<b>%{hovertext}</b><br><br>country=Bahrain<br>year=1972<br>gdpPercap=%{x}<br>lifeExp=%{y}<br>pop=%{marker.size}<extra></extra>",
           "hovertext": [
            "Bahrain"
           ],
           "ids": [
            "Bahrain"
           ],
           "legendgroup": "Bahrain",
           "marker": {
            "color": "#EF553B",
            "size": [
             230800
            ],
            "sizemode": "area",
            "sizeref": 435928.2961983471,
            "symbol": "circle"
           },
           "mode": "markers",
           "name": "Bahrain",
           "orientation": "v",
           "showlegend": true,
           "type": "scatter",
           "x": [
            18268.65839
           ],
           "xaxis": "x",
           "y": [
            63.3
           ],
           "yaxis": "y"
          },
          {
           "hovertemplate": "<b>%{hovertext}</b><br><br>country=Bangladesh<br>year=1972<br>gdpPercap=%{x}<br>lifeExp=%{y}<br>pop=%{marker.size}<extra></extra>",
           "hovertext": [
            "Bangladesh"
           ],
           "ids": [
            "Bangladesh"
           ],
           "legendgroup": "Bangladesh",
           "marker": {
            "color": "#00cc96",
            "size": [
             70759295
            ],
            "sizemode": "area",
            "sizeref": 435928.2961983471,
            "symbol": "circle"
           },
           "mode": "markers",
           "name": "Bangladesh",
           "orientation": "v",
           "showlegend": true,
           "type": "scatter",
           "x": [
            630.2336265
           ],
           "xaxis": "x",
           "y": [
            45.252
           ],
           "yaxis": "y"
          },
          {
           "hovertemplate": "<b>%{hovertext}</b><br><br>country=Cambodia<br>year=1972<br>gdpPercap=%{x}<br>lifeExp=%{y}<br>pop=%{marker.size}<extra></extra>",
           "hovertext": [
            "Cambodia"
           ],
           "ids": [
            "Cambodia"
           ],
           "legendgroup": "Cambodia",
           "marker": {
            "color": "#ab63fa",
            "size": [
             7450606
            ],
            "sizemode": "area",
            "sizeref": 435928.2961983471,
            "symbol": "circle"
           },
           "mode": "markers",
           "name": "Cambodia",
           "orientation": "v",
           "showlegend": true,
           "type": "scatter",
           "x": [
            421.6240257
           ],
           "xaxis": "x",
           "y": [
            40.317
           ],
           "yaxis": "y"
          },
          {
           "hovertemplate": "<b>%{hovertext}</b><br><br>country=China<br>year=1972<br>gdpPercap=%{x}<br>lifeExp=%{y}<br>pop=%{marker.size}<extra></extra>",
           "hovertext": [
            "China"
           ],
           "ids": [
            "China"
           ],
           "legendgroup": "China",
           "marker": {
            "color": "#FFA15A",
            "size": [
             862030000
            ],
            "sizemode": "area",
            "sizeref": 435928.2961983471,
            "symbol": "circle"
           },
           "mode": "markers",
           "name": "China",
           "orientation": "v",
           "showlegend": true,
           "type": "scatter",
           "x": [
            676.9000921
           ],
           "xaxis": "x",
           "y": [
            63.11888
           ],
           "yaxis": "y"
          },
          {
           "hovertemplate": "<b>%{hovertext}</b><br><br>country=Hong Kong, China<br>year=1972<br>gdpPercap=%{x}<br>lifeExp=%{y}<br>pop=%{marker.size}<extra></extra>",
           "hovertext": [
            "Hong Kong, China"
           ],
           "ids": [
            "Hong Kong, China"
           ],
           "legendgroup": "Hong Kong, China",
           "marker": {
            "color": "#19d3f3",
            "size": [
             4115700
            ],
            "sizemode": "area",
            "sizeref": 435928.2961983471,
            "symbol": "circle"
           },
           "mode": "markers",
           "name": "Hong Kong, China",
           "orientation": "v",
           "showlegend": true,
           "type": "scatter",
           "x": [
            8315.928145
           ],
           "xaxis": "x",
           "y": [
            72
           ],
           "yaxis": "y"
          },
          {
           "hovertemplate": "<b>%{hovertext}</b><br><br>country=India<br>year=1972<br>gdpPercap=%{x}<br>lifeExp=%{y}<br>pop=%{marker.size}<extra></extra>",
           "hovertext": [
            "India"
           ],
           "ids": [
            "India"
           ],
           "legendgroup": "India",
           "marker": {
            "color": "#FF6692",
            "size": [
             567000000
            ],
            "sizemode": "area",
            "sizeref": 435928.2961983471,
            "symbol": "circle"
           },
           "mode": "markers",
           "name": "India",
           "orientation": "v",
           "showlegend": true,
           "type": "scatter",
           "x": [
            724.032527
           ],
           "xaxis": "x",
           "y": [
            50.651
           ],
           "yaxis": "y"
          },
          {
           "hovertemplate": "<b>%{hovertext}</b><br><br>country=Indonesia<br>year=1972<br>gdpPercap=%{x}<br>lifeExp=%{y}<br>pop=%{marker.size}<extra></extra>",
           "hovertext": [
            "Indonesia"
           ],
           "ids": [
            "Indonesia"
           ],
           "legendgroup": "Indonesia",
           "marker": {
            "color": "#B6E880",
            "size": [
             121282000
            ],
            "sizemode": "area",
            "sizeref": 435928.2961983471,
            "symbol": "circle"
           },
           "mode": "markers",
           "name": "Indonesia",
           "orientation": "v",
           "showlegend": true,
           "type": "scatter",
           "x": [
            1111.107907
           ],
           "xaxis": "x",
           "y": [
            49.203
           ],
           "yaxis": "y"
          },
          {
           "hovertemplate": "<b>%{hovertext}</b><br><br>country=Iran<br>year=1972<br>gdpPercap=%{x}<br>lifeExp=%{y}<br>pop=%{marker.size}<extra></extra>",
           "hovertext": [
            "Iran"
           ],
           "ids": [
            "Iran"
           ],
           "legendgroup": "Iran",
           "marker": {
            "color": "#FF97FF",
            "size": [
             30614000
            ],
            "sizemode": "area",
            "sizeref": 435928.2961983471,
            "symbol": "circle"
           },
           "mode": "markers",
           "name": "Iran",
           "orientation": "v",
           "showlegend": true,
           "type": "scatter",
           "x": [
            9613.818607
           ],
           "xaxis": "x",
           "y": [
            55.234
           ],
           "yaxis": "y"
          },
          {
           "hovertemplate": "<b>%{hovertext}</b><br><br>country=Iraq<br>year=1972<br>gdpPercap=%{x}<br>lifeExp=%{y}<br>pop=%{marker.size}<extra></extra>",
           "hovertext": [
            "Iraq"
           ],
           "ids": [
            "Iraq"
           ],
           "legendgroup": "Iraq",
           "marker": {
            "color": "#FECB52",
            "size": [
             10061506
            ],
            "sizemode": "area",
            "sizeref": 435928.2961983471,
            "symbol": "circle"
           },
           "mode": "markers",
           "name": "Iraq",
           "orientation": "v",
           "showlegend": true,
           "type": "scatter",
           "x": [
            9576.037596
           ],
           "xaxis": "x",
           "y": [
            56.95
           ],
           "yaxis": "y"
          },
          {
           "hovertemplate": "<b>%{hovertext}</b><br><br>country=Israel<br>year=1972<br>gdpPercap=%{x}<br>lifeExp=%{y}<br>pop=%{marker.size}<extra></extra>",
           "hovertext": [
            "Israel"
           ],
           "ids": [
            "Israel"
           ],
           "legendgroup": "Israel",
           "marker": {
            "color": "#636efa",
            "size": [
             3095893
            ],
            "sizemode": "area",
            "sizeref": 435928.2961983471,
            "symbol": "circle"
           },
           "mode": "markers",
           "name": "Israel",
           "orientation": "v",
           "showlegend": true,
           "type": "scatter",
           "x": [
            12786.93223
           ],
           "xaxis": "x",
           "y": [
            71.63
           ],
           "yaxis": "y"
          },
          {
           "hovertemplate": "<b>%{hovertext}</b><br><br>country=Japan<br>year=1972<br>gdpPercap=%{x}<br>lifeExp=%{y}<br>pop=%{marker.size}<extra></extra>",
           "hovertext": [
            "Japan"
           ],
           "ids": [
            "Japan"
           ],
           "legendgroup": "Japan",
           "marker": {
            "color": "#EF553B",
            "size": [
             107188273
            ],
            "sizemode": "area",
            "sizeref": 435928.2961983471,
            "symbol": "circle"
           },
           "mode": "markers",
           "name": "Japan",
           "orientation": "v",
           "showlegend": true,
           "type": "scatter",
           "x": [
            14778.78636
           ],
           "xaxis": "x",
           "y": [
            73.42
           ],
           "yaxis": "y"
          },
          {
           "hovertemplate": "<b>%{hovertext}</b><br><br>country=Jordan<br>year=1972<br>gdpPercap=%{x}<br>lifeExp=%{y}<br>pop=%{marker.size}<extra></extra>",
           "hovertext": [
            "Jordan"
           ],
           "ids": [
            "Jordan"
           ],
           "legendgroup": "Jordan",
           "marker": {
            "color": "#00cc96",
            "size": [
             1613551
            ],
            "sizemode": "area",
            "sizeref": 435928.2961983471,
            "symbol": "circle"
           },
           "mode": "markers",
           "name": "Jordan",
           "orientation": "v",
           "showlegend": true,
           "type": "scatter",
           "x": [
            2110.856309
           ],
           "xaxis": "x",
           "y": [
            56.528
           ],
           "yaxis": "y"
          },
          {
           "hovertemplate": "<b>%{hovertext}</b><br><br>country=Korea, Dem. Rep.<br>year=1972<br>gdpPercap=%{x}<br>lifeExp=%{y}<br>pop=%{marker.size}<extra></extra>",
           "hovertext": [
            "Korea, Dem. Rep."
           ],
           "ids": [
            "Korea, Dem. Rep."
           ],
           "legendgroup": "Korea, Dem. Rep.",
           "marker": {
            "color": "#ab63fa",
            "size": [
             14781241
            ],
            "sizemode": "area",
            "sizeref": 435928.2961983471,
            "symbol": "circle"
           },
           "mode": "markers",
           "name": "Korea, Dem. Rep.",
           "orientation": "v",
           "showlegend": true,
           "type": "scatter",
           "x": [
            3701.621503
           ],
           "xaxis": "x",
           "y": [
            63.983
           ],
           "yaxis": "y"
          },
          {
           "hovertemplate": "<b>%{hovertext}</b><br><br>country=Korea, Rep.<br>year=1972<br>gdpPercap=%{x}<br>lifeExp=%{y}<br>pop=%{marker.size}<extra></extra>",
           "hovertext": [
            "Korea, Rep."
           ],
           "ids": [
            "Korea, Rep."
           ],
           "legendgroup": "Korea, Rep.",
           "marker": {
            "color": "#FFA15A",
            "size": [
             33505000
            ],
            "sizemode": "area",
            "sizeref": 435928.2961983471,
            "symbol": "circle"
           },
           "mode": "markers",
           "name": "Korea, Rep.",
           "orientation": "v",
           "showlegend": true,
           "type": "scatter",
           "x": [
            3030.87665
           ],
           "xaxis": "x",
           "y": [
            62.612
           ],
           "yaxis": "y"
          },
          {
           "hovertemplate": "<b>%{hovertext}</b><br><br>country=Kuwait<br>year=1972<br>gdpPercap=%{x}<br>lifeExp=%{y}<br>pop=%{marker.size}<extra></extra>",
           "hovertext": [
            "Kuwait"
           ],
           "ids": [
            "Kuwait"
           ],
           "legendgroup": "Kuwait",
           "marker": {
            "color": "#19d3f3",
            "size": [
             841934
            ],
            "sizemode": "area",
            "sizeref": 435928.2961983471,
            "symbol": "circle"
           },
           "mode": "markers",
           "name": "Kuwait",
           "orientation": "v",
           "showlegend": true,
           "type": "scatter",
           "x": [
            109347.867
           ],
           "xaxis": "x",
           "y": [
            67.712
           ],
           "yaxis": "y"
          },
          {
           "hovertemplate": "<b>%{hovertext}</b><br><br>country=Lebanon<br>year=1972<br>gdpPercap=%{x}<br>lifeExp=%{y}<br>pop=%{marker.size}<extra></extra>",
           "hovertext": [
            "Lebanon"
           ],
           "ids": [
            "Lebanon"
           ],
           "legendgroup": "Lebanon",
           "marker": {
            "color": "#FF6692",
            "size": [
             2680018
            ],
            "sizemode": "area",
            "sizeref": 435928.2961983471,
            "symbol": "circle"
           },
           "mode": "markers",
           "name": "Lebanon",
           "orientation": "v",
           "showlegend": true,
           "type": "scatter",
           "x": [
            7486.384341
           ],
           "xaxis": "x",
           "y": [
            65.421
           ],
           "yaxis": "y"
          },
          {
           "hovertemplate": "<b>%{hovertext}</b><br><br>country=Malaysia<br>year=1972<br>gdpPercap=%{x}<br>lifeExp=%{y}<br>pop=%{marker.size}<extra></extra>",
           "hovertext": [
            "Malaysia"
           ],
           "ids": [
            "Malaysia"
           ],
           "legendgroup": "Malaysia",
           "marker": {
            "color": "#B6E880",
            "size": [
             11441462
            ],
            "sizemode": "area",
            "sizeref": 435928.2961983471,
            "symbol": "circle"
           },
           "mode": "markers",
           "name": "Malaysia",
           "orientation": "v",
           "showlegend": true,
           "type": "scatter",
           "x": [
            2849.09478
           ],
           "xaxis": "x",
           "y": [
            63.01
           ],
           "yaxis": "y"
          },
          {
           "hovertemplate": "<b>%{hovertext}</b><br><br>country=Mongolia<br>year=1972<br>gdpPercap=%{x}<br>lifeExp=%{y}<br>pop=%{marker.size}<extra></extra>",
           "hovertext": [
            "Mongolia"
           ],
           "ids": [
            "Mongolia"
           ],
           "legendgroup": "Mongolia",
           "marker": {
            "color": "#FF97FF",
            "size": [
             1320500
            ],
            "sizemode": "area",
            "sizeref": 435928.2961983471,
            "symbol": "circle"
           },
           "mode": "markers",
           "name": "Mongolia",
           "orientation": "v",
           "showlegend": true,
           "type": "scatter",
           "x": [
            1421.741975
           ],
           "xaxis": "x",
           "y": [
            53.754
           ],
           "yaxis": "y"
          },
          {
           "hovertemplate": "<b>%{hovertext}</b><br><br>country=Myanmar<br>year=1972<br>gdpPercap=%{x}<br>lifeExp=%{y}<br>pop=%{marker.size}<extra></extra>",
           "hovertext": [
            "Myanmar"
           ],
           "ids": [
            "Myanmar"
           ],
           "legendgroup": "Myanmar",
           "marker": {
            "color": "#FECB52",
            "size": [
             28466390
            ],
            "sizemode": "area",
            "sizeref": 435928.2961983471,
            "symbol": "circle"
           },
           "mode": "markers",
           "name": "Myanmar",
           "orientation": "v",
           "showlegend": true,
           "type": "scatter",
           "x": [
            357
           ],
           "xaxis": "x",
           "y": [
            53.07
           ],
           "yaxis": "y"
          },
          {
           "hovertemplate": "<b>%{hovertext}</b><br><br>country=Nepal<br>year=1972<br>gdpPercap=%{x}<br>lifeExp=%{y}<br>pop=%{marker.size}<extra></extra>",
           "hovertext": [
            "Nepal"
           ],
           "ids": [
            "Nepal"
           ],
           "legendgroup": "Nepal",
           "marker": {
            "color": "#636efa",
            "size": [
             12412593
            ],
            "sizemode": "area",
            "sizeref": 435928.2961983471,
            "symbol": "circle"
           },
           "mode": "markers",
           "name": "Nepal",
           "orientation": "v",
           "showlegend": true,
           "type": "scatter",
           "x": [
            674.7881296
           ],
           "xaxis": "x",
           "y": [
            43.971
           ],
           "yaxis": "y"
          },
          {
           "hovertemplate": "<b>%{hovertext}</b><br><br>country=Oman<br>year=1972<br>gdpPercap=%{x}<br>lifeExp=%{y}<br>pop=%{marker.size}<extra></extra>",
           "hovertext": [
            "Oman"
           ],
           "ids": [
            "Oman"
           ],
           "legendgroup": "Oman",
           "marker": {
            "color": "#EF553B",
            "size": [
             829050
            ],
            "sizemode": "area",
            "sizeref": 435928.2961983471,
            "symbol": "circle"
           },
           "mode": "markers",
           "name": "Oman",
           "orientation": "v",
           "showlegend": true,
           "type": "scatter",
           "x": [
            10618.03855
           ],
           "xaxis": "x",
           "y": [
            52.143
           ],
           "yaxis": "y"
          },
          {
           "hovertemplate": "<b>%{hovertext}</b><br><br>country=Pakistan<br>year=1972<br>gdpPercap=%{x}<br>lifeExp=%{y}<br>pop=%{marker.size}<extra></extra>",
           "hovertext": [
            "Pakistan"
           ],
           "ids": [
            "Pakistan"
           ],
           "legendgroup": "Pakistan",
           "marker": {
            "color": "#00cc96",
            "size": [
             69325921
            ],
            "sizemode": "area",
            "sizeref": 435928.2961983471,
            "symbol": "circle"
           },
           "mode": "markers",
           "name": "Pakistan",
           "orientation": "v",
           "showlegend": true,
           "type": "scatter",
           "x": [
            1049.938981
           ],
           "xaxis": "x",
           "y": [
            51.929
           ],
           "yaxis": "y"
          },
          {
           "hovertemplate": "<b>%{hovertext}</b><br><br>country=Philippines<br>year=1972<br>gdpPercap=%{x}<br>lifeExp=%{y}<br>pop=%{marker.size}<extra></extra>",
           "hovertext": [
            "Philippines"
           ],
           "ids": [
            "Philippines"
           ],
           "legendgroup": "Philippines",
           "marker": {
            "color": "#ab63fa",
            "size": [
             40850141
            ],
            "sizemode": "area",
            "sizeref": 435928.2961983471,
            "symbol": "circle"
           },
           "mode": "markers",
           "name": "Philippines",
           "orientation": "v",
           "showlegend": true,
           "type": "scatter",
           "x": [
            1989.37407
           ],
           "xaxis": "x",
           "y": [
            58.065
           ],
           "yaxis": "y"
          },
          {
           "hovertemplate": "<b>%{hovertext}</b><br><br>country=Saudi Arabia<br>year=1972<br>gdpPercap=%{x}<br>lifeExp=%{y}<br>pop=%{marker.size}<extra></extra>",
           "hovertext": [
            "Saudi Arabia"
           ],
           "ids": [
            "Saudi Arabia"
           ],
           "legendgroup": "Saudi Arabia",
           "marker": {
            "color": "#FFA15A",
            "size": [
             6472756
            ],
            "sizemode": "area",
            "sizeref": 435928.2961983471,
            "symbol": "circle"
           },
           "mode": "markers",
           "name": "Saudi Arabia",
           "orientation": "v",
           "showlegend": true,
           "type": "scatter",
           "x": [
            24837.42865
           ],
           "xaxis": "x",
           "y": [
            53.886
           ],
           "yaxis": "y"
          },
          {
           "hovertemplate": "<b>%{hovertext}</b><br><br>country=Singapore<br>year=1972<br>gdpPercap=%{x}<br>lifeExp=%{y}<br>pop=%{marker.size}<extra></extra>",
           "hovertext": [
            "Singapore"
           ],
           "ids": [
            "Singapore"
           ],
           "legendgroup": "Singapore",
           "marker": {
            "color": "#19d3f3",
            "size": [
             2152400
            ],
            "sizemode": "area",
            "sizeref": 435928.2961983471,
            "symbol": "circle"
           },
           "mode": "markers",
           "name": "Singapore",
           "orientation": "v",
           "showlegend": true,
           "type": "scatter",
           "x": [
            8597.756202
           ],
           "xaxis": "x",
           "y": [
            69.521
           ],
           "yaxis": "y"
          },
          {
           "hovertemplate": "<b>%{hovertext}</b><br><br>country=Sri Lanka<br>year=1972<br>gdpPercap=%{x}<br>lifeExp=%{y}<br>pop=%{marker.size}<extra></extra>",
           "hovertext": [
            "Sri Lanka"
           ],
           "ids": [
            "Sri Lanka"
           ],
           "legendgroup": "Sri Lanka",
           "marker": {
            "color": "#FF6692",
            "size": [
             13016733
            ],
            "sizemode": "area",
            "sizeref": 435928.2961983471,
            "symbol": "circle"
           },
           "mode": "markers",
           "name": "Sri Lanka",
           "orientation": "v",
           "showlegend": true,
           "type": "scatter",
           "x": [
            1213.39553
           ],
           "xaxis": "x",
           "y": [
            65.042
           ],
           "yaxis": "y"
          },
          {
           "hovertemplate": "<b>%{hovertext}</b><br><br>country=Syria<br>year=1972<br>gdpPercap=%{x}<br>lifeExp=%{y}<br>pop=%{marker.size}<extra></extra>",
           "hovertext": [
            "Syria"
           ],
           "ids": [
            "Syria"
           ],
           "legendgroup": "Syria",
           "marker": {
            "color": "#B6E880",
            "size": [
             6701172
            ],
            "sizemode": "area",
            "sizeref": 435928.2961983471,
            "symbol": "circle"
           },
           "mode": "markers",
           "name": "Syria",
           "orientation": "v",
           "showlegend": true,
           "type": "scatter",
           "x": [
            2571.423014
           ],
           "xaxis": "x",
           "y": [
            57.29600000000001
           ],
           "yaxis": "y"
          },
          {
           "hovertemplate": "<b>%{hovertext}</b><br><br>country=Taiwan<br>year=1972<br>gdpPercap=%{x}<br>lifeExp=%{y}<br>pop=%{marker.size}<extra></extra>",
           "hovertext": [
            "Taiwan"
           ],
           "ids": [
            "Taiwan"
           ],
           "legendgroup": "Taiwan",
           "marker": {
            "color": "#FF97FF",
            "size": [
             15226039
            ],
            "sizemode": "area",
            "sizeref": 435928.2961983471,
            "symbol": "circle"
           },
           "mode": "markers",
           "name": "Taiwan",
           "orientation": "v",
           "showlegend": true,
           "type": "scatter",
           "x": [
            4062.523897
           ],
           "xaxis": "x",
           "y": [
            69.39
           ],
           "yaxis": "y"
          },
          {
           "hovertemplate": "<b>%{hovertext}</b><br><br>country=Thailand<br>year=1972<br>gdpPercap=%{x}<br>lifeExp=%{y}<br>pop=%{marker.size}<extra></extra>",
           "hovertext": [
            "Thailand"
           ],
           "ids": [
            "Thailand"
           ],
           "legendgroup": "Thailand",
           "marker": {
            "color": "#FECB52",
            "size": [
             39276153
            ],
            "sizemode": "area",
            "sizeref": 435928.2961983471,
            "symbol": "circle"
           },
           "mode": "markers",
           "name": "Thailand",
           "orientation": "v",
           "showlegend": true,
           "type": "scatter",
           "x": [
            1524.358936
           ],
           "xaxis": "x",
           "y": [
            60.405
           ],
           "yaxis": "y"
          },
          {
           "hovertemplate": "<b>%{hovertext}</b><br><br>country=Vietnam<br>year=1972<br>gdpPercap=%{x}<br>lifeExp=%{y}<br>pop=%{marker.size}<extra></extra>",
           "hovertext": [
            "Vietnam"
           ],
           "ids": [
            "Vietnam"
           ],
           "legendgroup": "Vietnam",
           "marker": {
            "color": "#636efa",
            "size": [
             44655014
            ],
            "sizemode": "area",
            "sizeref": 435928.2961983471,
            "symbol": "circle"
           },
           "mode": "markers",
           "name": "Vietnam",
           "orientation": "v",
           "showlegend": true,
           "type": "scatter",
           "x": [
            699.5016441
           ],
           "xaxis": "x",
           "y": [
            50.254
           ],
           "yaxis": "y"
          },
          {
           "hovertemplate": "<b>%{hovertext}</b><br><br>country=West Bank and Gaza<br>year=1972<br>gdpPercap=%{x}<br>lifeExp=%{y}<br>pop=%{marker.size}<extra></extra>",
           "hovertext": [
            "West Bank and Gaza"
           ],
           "ids": [
            "West Bank and Gaza"
           ],
           "legendgroup": "West Bank and Gaza",
           "marker": {
            "color": "#EF553B",
            "size": [
             1089572
            ],
            "sizemode": "area",
            "sizeref": 435928.2961983471,
            "symbol": "circle"
           },
           "mode": "markers",
           "name": "West Bank and Gaza",
           "orientation": "v",
           "showlegend": true,
           "type": "scatter",
           "x": [
            3133.409277
           ],
           "xaxis": "x",
           "y": [
            56.532
           ],
           "yaxis": "y"
          },
          {
           "hovertemplate": "<b>%{hovertext}</b><br><br>country=Yemen, Rep.<br>year=1972<br>gdpPercap=%{x}<br>lifeExp=%{y}<br>pop=%{marker.size}<extra></extra>",
           "hovertext": [
            "Yemen, Rep."
           ],
           "ids": [
            "Yemen, Rep."
           ],
           "legendgroup": "Yemen, Rep.",
           "marker": {
            "color": "#00cc96",
            "size": [
             7407075
            ],
            "sizemode": "area",
            "sizeref": 435928.2961983471,
            "symbol": "circle"
           },
           "mode": "markers",
           "name": "Yemen, Rep.",
           "orientation": "v",
           "showlegend": true,
           "type": "scatter",
           "x": [
            1265.047031
           ],
           "xaxis": "x",
           "y": [
            39.848
           ],
           "yaxis": "y"
          }
         ],
         "name": "1972"
        },
        {
         "data": [
          {
           "hovertemplate": "<b>%{hovertext}</b><br><br>country=Afghanistan<br>year=1977<br>gdpPercap=%{x}<br>lifeExp=%{y}<br>pop=%{marker.size}<extra></extra>",
           "hovertext": [
            "Afghanistan"
           ],
           "ids": [
            "Afghanistan"
           ],
           "legendgroup": "Afghanistan",
           "marker": {
            "color": "#636efa",
            "size": [
             14880372
            ],
            "sizemode": "area",
            "sizeref": 435928.2961983471,
            "symbol": "circle"
           },
           "mode": "markers",
           "name": "Afghanistan",
           "orientation": "v",
           "showlegend": true,
           "type": "scatter",
           "x": [
            786.11336
           ],
           "xaxis": "x",
           "y": [
            38.438
           ],
           "yaxis": "y"
          },
          {
           "hovertemplate": "<b>%{hovertext}</b><br><br>country=Bahrain<br>year=1977<br>gdpPercap=%{x}<br>lifeExp=%{y}<br>pop=%{marker.size}<extra></extra>",
           "hovertext": [
            "Bahrain"
           ],
           "ids": [
            "Bahrain"
           ],
           "legendgroup": "Bahrain",
           "marker": {
            "color": "#EF553B",
            "size": [
             297410
            ],
            "sizemode": "area",
            "sizeref": 435928.2961983471,
            "symbol": "circle"
           },
           "mode": "markers",
           "name": "Bahrain",
           "orientation": "v",
           "showlegend": true,
           "type": "scatter",
           "x": [
            19340.10196
           ],
           "xaxis": "x",
           "y": [
            65.593
           ],
           "yaxis": "y"
          },
          {
           "hovertemplate": "<b>%{hovertext}</b><br><br>country=Bangladesh<br>year=1977<br>gdpPercap=%{x}<br>lifeExp=%{y}<br>pop=%{marker.size}<extra></extra>",
           "hovertext": [
            "Bangladesh"
           ],
           "ids": [
            "Bangladesh"
           ],
           "legendgroup": "Bangladesh",
           "marker": {
            "color": "#00cc96",
            "size": [
             80428306
            ],
            "sizemode": "area",
            "sizeref": 435928.2961983471,
            "symbol": "circle"
           },
           "mode": "markers",
           "name": "Bangladesh",
           "orientation": "v",
           "showlegend": true,
           "type": "scatter",
           "x": [
            659.8772322000002
           ],
           "xaxis": "x",
           "y": [
            46.923
           ],
           "yaxis": "y"
          },
          {
           "hovertemplate": "<b>%{hovertext}</b><br><br>country=Cambodia<br>year=1977<br>gdpPercap=%{x}<br>lifeExp=%{y}<br>pop=%{marker.size}<extra></extra>",
           "hovertext": [
            "Cambodia"
           ],
           "ids": [
            "Cambodia"
           ],
           "legendgroup": "Cambodia",
           "marker": {
            "color": "#ab63fa",
            "size": [
             6978607
            ],
            "sizemode": "area",
            "sizeref": 435928.2961983471,
            "symbol": "circle"
           },
           "mode": "markers",
           "name": "Cambodia",
           "orientation": "v",
           "showlegend": true,
           "type": "scatter",
           "x": [
            524.9721831999999
           ],
           "xaxis": "x",
           "y": [
            31.22
           ],
           "yaxis": "y"
          },
          {
           "hovertemplate": "<b>%{hovertext}</b><br><br>country=China<br>year=1977<br>gdpPercap=%{x}<br>lifeExp=%{y}<br>pop=%{marker.size}<extra></extra>",
           "hovertext": [
            "China"
           ],
           "ids": [
            "China"
           ],
           "legendgroup": "China",
           "marker": {
            "color": "#FFA15A",
            "size": [
             943455000
            ],
            "sizemode": "area",
            "sizeref": 435928.2961983471,
            "symbol": "circle"
           },
           "mode": "markers",
           "name": "China",
           "orientation": "v",
           "showlegend": true,
           "type": "scatter",
           "x": [
            741.2374699
           ],
           "xaxis": "x",
           "y": [
            63.96736
           ],
           "yaxis": "y"
          },
          {
           "hovertemplate": "<b>%{hovertext}</b><br><br>country=Hong Kong, China<br>year=1977<br>gdpPercap=%{x}<br>lifeExp=%{y}<br>pop=%{marker.size}<extra></extra>",
           "hovertext": [
            "Hong Kong, China"
           ],
           "ids": [
            "Hong Kong, China"
           ],
           "legendgroup": "Hong Kong, China",
           "marker": {
            "color": "#19d3f3",
            "size": [
             4583700
            ],
            "sizemode": "area",
            "sizeref": 435928.2961983471,
            "symbol": "circle"
           },
           "mode": "markers",
           "name": "Hong Kong, China",
           "orientation": "v",
           "showlegend": true,
           "type": "scatter",
           "x": [
            11186.14125
           ],
           "xaxis": "x",
           "y": [
            73.6
           ],
           "yaxis": "y"
          },
          {
           "hovertemplate": "<b>%{hovertext}</b><br><br>country=India<br>year=1977<br>gdpPercap=%{x}<br>lifeExp=%{y}<br>pop=%{marker.size}<extra></extra>",
           "hovertext": [
            "India"
           ],
           "ids": [
            "India"
           ],
           "legendgroup": "India",
           "marker": {
            "color": "#FF6692",
            "size": [
             634000000
            ],
            "sizemode": "area",
            "sizeref": 435928.2961983471,
            "symbol": "circle"
           },
           "mode": "markers",
           "name": "India",
           "orientation": "v",
           "showlegend": true,
           "type": "scatter",
           "x": [
            813.3373230000002
           ],
           "xaxis": "x",
           "y": [
            54.208
           ],
           "yaxis": "y"
          },
          {
           "hovertemplate": "<b>%{hovertext}</b><br><br>country=Indonesia<br>year=1977<br>gdpPercap=%{x}<br>lifeExp=%{y}<br>pop=%{marker.size}<extra></extra>",
           "hovertext": [
            "Indonesia"
           ],
           "ids": [
            "Indonesia"
           ],
           "legendgroup": "Indonesia",
           "marker": {
            "color": "#B6E880",
            "size": [
             136725000
            ],
            "sizemode": "area",
            "sizeref": 435928.2961983471,
            "symbol": "circle"
           },
           "mode": "markers",
           "name": "Indonesia",
           "orientation": "v",
           "showlegend": true,
           "type": "scatter",
           "x": [
            1382.702056
           ],
           "xaxis": "x",
           "y": [
            52.702
           ],
           "yaxis": "y"
          },
          {
           "hovertemplate": "<b>%{hovertext}</b><br><br>country=Iran<br>year=1977<br>gdpPercap=%{x}<br>lifeExp=%{y}<br>pop=%{marker.size}<extra></extra>",
           "hovertext": [
            "Iran"
           ],
           "ids": [
            "Iran"
           ],
           "legendgroup": "Iran",
           "marker": {
            "color": "#FF97FF",
            "size": [
             35480679
            ],
            "sizemode": "area",
            "sizeref": 435928.2961983471,
            "symbol": "circle"
           },
           "mode": "markers",
           "name": "Iran",
           "orientation": "v",
           "showlegend": true,
           "type": "scatter",
           "x": [
            11888.59508
           ],
           "xaxis": "x",
           "y": [
            57.702
           ],
           "yaxis": "y"
          },
          {
           "hovertemplate": "<b>%{hovertext}</b><br><br>country=Iraq<br>year=1977<br>gdpPercap=%{x}<br>lifeExp=%{y}<br>pop=%{marker.size}<extra></extra>",
           "hovertext": [
            "Iraq"
           ],
           "ids": [
            "Iraq"
           ],
           "legendgroup": "Iraq",
           "marker": {
            "color": "#FECB52",
            "size": [
             11882916
            ],
            "sizemode": "area",
            "sizeref": 435928.2961983471,
            "symbol": "circle"
           },
           "mode": "markers",
           "name": "Iraq",
           "orientation": "v",
           "showlegend": true,
           "type": "scatter",
           "x": [
            14688.23507
           ],
           "xaxis": "x",
           "y": [
            60.413
           ],
           "yaxis": "y"
          },
          {
           "hovertemplate": "<b>%{hovertext}</b><br><br>country=Israel<br>year=1977<br>gdpPercap=%{x}<br>lifeExp=%{y}<br>pop=%{marker.size}<extra></extra>",
           "hovertext": [
            "Israel"
           ],
           "ids": [
            "Israel"
           ],
           "legendgroup": "Israel",
           "marker": {
            "color": "#636efa",
            "size": [
             3495918
            ],
            "sizemode": "area",
            "sizeref": 435928.2961983471,
            "symbol": "circle"
           },
           "mode": "markers",
           "name": "Israel",
           "orientation": "v",
           "showlegend": true,
           "type": "scatter",
           "x": [
            13306.61921
           ],
           "xaxis": "x",
           "y": [
            73.06
           ],
           "yaxis": "y"
          },
          {
           "hovertemplate": "<b>%{hovertext}</b><br><br>country=Japan<br>year=1977<br>gdpPercap=%{x}<br>lifeExp=%{y}<br>pop=%{marker.size}<extra></extra>",
           "hovertext": [
            "Japan"
           ],
           "ids": [
            "Japan"
           ],
           "legendgroup": "Japan",
           "marker": {
            "color": "#EF553B",
            "size": [
             113872473
            ],
            "sizemode": "area",
            "sizeref": 435928.2961983471,
            "symbol": "circle"
           },
           "mode": "markers",
           "name": "Japan",
           "orientation": "v",
           "showlegend": true,
           "type": "scatter",
           "x": [
            16610.37701
           ],
           "xaxis": "x",
           "y": [
            75.38
           ],
           "yaxis": "y"
          },
          {
           "hovertemplate": "<b>%{hovertext}</b><br><br>country=Jordan<br>year=1977<br>gdpPercap=%{x}<br>lifeExp=%{y}<br>pop=%{marker.size}<extra></extra>",
           "hovertext": [
            "Jordan"
           ],
           "ids": [
            "Jordan"
           ],
           "legendgroup": "Jordan",
           "marker": {
            "color": "#00cc96",
            "size": [
             1937652
            ],
            "sizemode": "area",
            "sizeref": 435928.2961983471,
            "symbol": "circle"
           },
           "mode": "markers",
           "name": "Jordan",
           "orientation": "v",
           "showlegend": true,
           "type": "scatter",
           "x": [
            2852.351568
           ],
           "xaxis": "x",
           "y": [
            61.13399999999999
           ],
           "yaxis": "y"
          },
          {
           "hovertemplate": "<b>%{hovertext}</b><br><br>country=Korea, Dem. Rep.<br>year=1977<br>gdpPercap=%{x}<br>lifeExp=%{y}<br>pop=%{marker.size}<extra></extra>",
           "hovertext": [
            "Korea, Dem. Rep."
           ],
           "ids": [
            "Korea, Dem. Rep."
           ],
           "legendgroup": "Korea, Dem. Rep.",
           "marker": {
            "color": "#ab63fa",
            "size": [
             16325320
            ],
            "sizemode": "area",
            "sizeref": 435928.2961983471,
            "symbol": "circle"
           },
           "mode": "markers",
           "name": "Korea, Dem. Rep.",
           "orientation": "v",
           "showlegend": true,
           "type": "scatter",
           "x": [
            4106.301249
           ],
           "xaxis": "x",
           "y": [
            67.15899999999999
           ],
           "yaxis": "y"
          },
          {
           "hovertemplate": "<b>%{hovertext}</b><br><br>country=Korea, Rep.<br>year=1977<br>gdpPercap=%{x}<br>lifeExp=%{y}<br>pop=%{marker.size}<extra></extra>",
           "hovertext": [
            "Korea, Rep."
           ],
           "ids": [
            "Korea, Rep."
           ],
           "legendgroup": "Korea, Rep.",
           "marker": {
            "color": "#FFA15A",
            "size": [
             36436000
            ],
            "sizemode": "area",
            "sizeref": 435928.2961983471,
            "symbol": "circle"
           },
           "mode": "markers",
           "name": "Korea, Rep.",
           "orientation": "v",
           "showlegend": true,
           "type": "scatter",
           "x": [
            4657.22102
           ],
           "xaxis": "x",
           "y": [
            64.766
           ],
           "yaxis": "y"
          },
          {
           "hovertemplate": "<b>%{hovertext}</b><br><br>country=Kuwait<br>year=1977<br>gdpPercap=%{x}<br>lifeExp=%{y}<br>pop=%{marker.size}<extra></extra>",
           "hovertext": [
            "Kuwait"
           ],
           "ids": [
            "Kuwait"
           ],
           "legendgroup": "Kuwait",
           "marker": {
            "color": "#19d3f3",
            "size": [
             1140357
            ],
            "sizemode": "area",
            "sizeref": 435928.2961983471,
            "symbol": "circle"
           },
           "mode": "markers",
           "name": "Kuwait",
           "orientation": "v",
           "showlegend": true,
           "type": "scatter",
           "x": [
            59265.47714
           ],
           "xaxis": "x",
           "y": [
            69.343
           ],
           "yaxis": "y"
          },
          {
           "hovertemplate": "<b>%{hovertext}</b><br><br>country=Lebanon<br>year=1977<br>gdpPercap=%{x}<br>lifeExp=%{y}<br>pop=%{marker.size}<extra></extra>",
           "hovertext": [
            "Lebanon"
           ],
           "ids": [
            "Lebanon"
           ],
           "legendgroup": "Lebanon",
           "marker": {
            "color": "#FF6692",
            "size": [
             3115787
            ],
            "sizemode": "area",
            "sizeref": 435928.2961983471,
            "symbol": "circle"
           },
           "mode": "markers",
           "name": "Lebanon",
           "orientation": "v",
           "showlegend": true,
           "type": "scatter",
           "x": [
            8659.696836
           ],
           "xaxis": "x",
           "y": [
            66.09899999999999
           ],
           "yaxis": "y"
          },
          {
           "hovertemplate": "<b>%{hovertext}</b><br><br>country=Malaysia<br>year=1977<br>gdpPercap=%{x}<br>lifeExp=%{y}<br>pop=%{marker.size}<extra></extra>",
           "hovertext": [
            "Malaysia"
           ],
           "ids": [
            "Malaysia"
           ],
           "legendgroup": "Malaysia",
           "marker": {
            "color": "#B6E880",
            "size": [
             12845381
            ],
            "sizemode": "area",
            "sizeref": 435928.2961983471,
            "symbol": "circle"
           },
           "mode": "markers",
           "name": "Malaysia",
           "orientation": "v",
           "showlegend": true,
           "type": "scatter",
           "x": [
            3827.921571
           ],
           "xaxis": "x",
           "y": [
            65.256
           ],
           "yaxis": "y"
          },
          {
           "hovertemplate": "<b>%{hovertext}</b><br><br>country=Mongolia<br>year=1977<br>gdpPercap=%{x}<br>lifeExp=%{y}<br>pop=%{marker.size}<extra></extra>",
           "hovertext": [
            "Mongolia"
           ],
           "ids": [
            "Mongolia"
           ],
           "legendgroup": "Mongolia",
           "marker": {
            "color": "#FF97FF",
            "size": [
             1528000
            ],
            "sizemode": "area",
            "sizeref": 435928.2961983471,
            "symbol": "circle"
           },
           "mode": "markers",
           "name": "Mongolia",
           "orientation": "v",
           "showlegend": true,
           "type": "scatter",
           "x": [
            1647.511665
           ],
           "xaxis": "x",
           "y": [
            55.49100000000001
           ],
           "yaxis": "y"
          },
          {
           "hovertemplate": "<b>%{hovertext}</b><br><br>country=Myanmar<br>year=1977<br>gdpPercap=%{x}<br>lifeExp=%{y}<br>pop=%{marker.size}<extra></extra>",
           "hovertext": [
            "Myanmar"
           ],
           "ids": [
            "Myanmar"
           ],
           "legendgroup": "Myanmar",
           "marker": {
            "color": "#FECB52",
            "size": [
             31528087
            ],
            "sizemode": "area",
            "sizeref": 435928.2961983471,
            "symbol": "circle"
           },
           "mode": "markers",
           "name": "Myanmar",
           "orientation": "v",
           "showlegend": true,
           "type": "scatter",
           "x": [
            371
           ],
           "xaxis": "x",
           "y": [
            56.059
           ],
           "yaxis": "y"
          },
          {
           "hovertemplate": "<b>%{hovertext}</b><br><br>country=Nepal<br>year=1977<br>gdpPercap=%{x}<br>lifeExp=%{y}<br>pop=%{marker.size}<extra></extra>",
           "hovertext": [
            "Nepal"
           ],
           "ids": [
            "Nepal"
           ],
           "legendgroup": "Nepal",
           "marker": {
            "color": "#636efa",
            "size": [
             13933198
            ],
            "sizemode": "area",
            "sizeref": 435928.2961983471,
            "symbol": "circle"
           },
           "mode": "markers",
           "name": "Nepal",
           "orientation": "v",
           "showlegend": true,
           "type": "scatter",
           "x": [
            694.1124398
           ],
           "xaxis": "x",
           "y": [
            46.74800000000001
           ],
           "yaxis": "y"
          },
          {
           "hovertemplate": "<b>%{hovertext}</b><br><br>country=Oman<br>year=1977<br>gdpPercap=%{x}<br>lifeExp=%{y}<br>pop=%{marker.size}<extra></extra>",
           "hovertext": [
            "Oman"
           ],
           "ids": [
            "Oman"
           ],
           "legendgroup": "Oman",
           "marker": {
            "color": "#EF553B",
            "size": [
             1004533
            ],
            "sizemode": "area",
            "sizeref": 435928.2961983471,
            "symbol": "circle"
           },
           "mode": "markers",
           "name": "Oman",
           "orientation": "v",
           "showlegend": true,
           "type": "scatter",
           "x": [
            11848.34392
           ],
           "xaxis": "x",
           "y": [
            57.367
           ],
           "yaxis": "y"
          },
          {
           "hovertemplate": "<b>%{hovertext}</b><br><br>country=Pakistan<br>year=1977<br>gdpPercap=%{x}<br>lifeExp=%{y}<br>pop=%{marker.size}<extra></extra>",
           "hovertext": [
            "Pakistan"
           ],
           "ids": [
            "Pakistan"
           ],
           "legendgroup": "Pakistan",
           "marker": {
            "color": "#00cc96",
            "size": [
             78152686
            ],
            "sizemode": "area",
            "sizeref": 435928.2961983471,
            "symbol": "circle"
           },
           "mode": "markers",
           "name": "Pakistan",
           "orientation": "v",
           "showlegend": true,
           "type": "scatter",
           "x": [
            1175.921193
           ],
           "xaxis": "x",
           "y": [
            54.043
           ],
           "yaxis": "y"
          },
          {
           "hovertemplate": "<b>%{hovertext}</b><br><br>country=Philippines<br>year=1977<br>gdpPercap=%{x}<br>lifeExp=%{y}<br>pop=%{marker.size}<extra></extra>",
           "hovertext": [
            "Philippines"
           ],
           "ids": [
            "Philippines"
           ],
           "legendgroup": "Philippines",
           "marker": {
            "color": "#ab63fa",
            "size": [
             46850962
            ],
            "sizemode": "area",
            "sizeref": 435928.2961983471,
            "symbol": "circle"
           },
           "mode": "markers",
           "name": "Philippines",
           "orientation": "v",
           "showlegend": true,
           "type": "scatter",
           "x": [
            2373.204287
           ],
           "xaxis": "x",
           "y": [
            60.06
           ],
           "yaxis": "y"
          },
          {
           "hovertemplate": "<b>%{hovertext}</b><br><br>country=Saudi Arabia<br>year=1977<br>gdpPercap=%{x}<br>lifeExp=%{y}<br>pop=%{marker.size}<extra></extra>",
           "hovertext": [
            "Saudi Arabia"
           ],
           "ids": [
            "Saudi Arabia"
           ],
           "legendgroup": "Saudi Arabia",
           "marker": {
            "color": "#FFA15A",
            "size": [
             8128505
            ],
            "sizemode": "area",
            "sizeref": 435928.2961983471,
            "symbol": "circle"
           },
           "mode": "markers",
           "name": "Saudi Arabia",
           "orientation": "v",
           "showlegend": true,
           "type": "scatter",
           "x": [
            34167.7626
           ],
           "xaxis": "x",
           "y": [
            58.69
           ],
           "yaxis": "y"
          },
          {
           "hovertemplate": "<b>%{hovertext}</b><br><br>country=Singapore<br>year=1977<br>gdpPercap=%{x}<br>lifeExp=%{y}<br>pop=%{marker.size}<extra></extra>",
           "hovertext": [
            "Singapore"
           ],
           "ids": [
            "Singapore"
           ],
           "legendgroup": "Singapore",
           "marker": {
            "color": "#19d3f3",
            "size": [
             2325300
            ],
            "sizemode": "area",
            "sizeref": 435928.2961983471,
            "symbol": "circle"
           },
           "mode": "markers",
           "name": "Singapore",
           "orientation": "v",
           "showlegend": true,
           "type": "scatter",
           "x": [
            11210.08948
           ],
           "xaxis": "x",
           "y": [
            70.795
           ],
           "yaxis": "y"
          },
          {
           "hovertemplate": "<b>%{hovertext}</b><br><br>country=Sri Lanka<br>year=1977<br>gdpPercap=%{x}<br>lifeExp=%{y}<br>pop=%{marker.size}<extra></extra>",
           "hovertext": [
            "Sri Lanka"
           ],
           "ids": [
            "Sri Lanka"
           ],
           "legendgroup": "Sri Lanka",
           "marker": {
            "color": "#FF6692",
            "size": [
             14116836
            ],
            "sizemode": "area",
            "sizeref": 435928.2961983471,
            "symbol": "circle"
           },
           "mode": "markers",
           "name": "Sri Lanka",
           "orientation": "v",
           "showlegend": true,
           "type": "scatter",
           "x": [
            1348.775651
           ],
           "xaxis": "x",
           "y": [
            65.949
           ],
           "yaxis": "y"
          },
          {
           "hovertemplate": "<b>%{hovertext}</b><br><br>country=Syria<br>year=1977<br>gdpPercap=%{x}<br>lifeExp=%{y}<br>pop=%{marker.size}<extra></extra>",
           "hovertext": [
            "Syria"
           ],
           "ids": [
            "Syria"
           ],
           "legendgroup": "Syria",
           "marker": {
            "color": "#B6E880",
            "size": [
             7932503
            ],
            "sizemode": "area",
            "sizeref": 435928.2961983471,
            "symbol": "circle"
           },
           "mode": "markers",
           "name": "Syria",
           "orientation": "v",
           "showlegend": true,
           "type": "scatter",
           "x": [
            3195.484582
           ],
           "xaxis": "x",
           "y": [
            61.195
           ],
           "yaxis": "y"
          },
          {
           "hovertemplate": "<b>%{hovertext}</b><br><br>country=Taiwan<br>year=1977<br>gdpPercap=%{x}<br>lifeExp=%{y}<br>pop=%{marker.size}<extra></extra>",
           "hovertext": [
            "Taiwan"
           ],
           "ids": [
            "Taiwan"
           ],
           "legendgroup": "Taiwan",
           "marker": {
            "color": "#FF97FF",
            "size": [
             16785196
            ],
            "sizemode": "area",
            "sizeref": 435928.2961983471,
            "symbol": "circle"
           },
           "mode": "markers",
           "name": "Taiwan",
           "orientation": "v",
           "showlegend": true,
           "type": "scatter",
           "x": [
            5596.519826
           ],
           "xaxis": "x",
           "y": [
            70.59
           ],
           "yaxis": "y"
          },
          {
           "hovertemplate": "<b>%{hovertext}</b><br><br>country=Thailand<br>year=1977<br>gdpPercap=%{x}<br>lifeExp=%{y}<br>pop=%{marker.size}<extra></extra>",
           "hovertext": [
            "Thailand"
           ],
           "ids": [
            "Thailand"
           ],
           "legendgroup": "Thailand",
           "marker": {
            "color": "#FECB52",
            "size": [
             44148285
            ],
            "sizemode": "area",
            "sizeref": 435928.2961983471,
            "symbol": "circle"
           },
           "mode": "markers",
           "name": "Thailand",
           "orientation": "v",
           "showlegend": true,
           "type": "scatter",
           "x": [
            1961.2246350000007
           ],
           "xaxis": "x",
           "y": [
            62.494
           ],
           "yaxis": "y"
          },
          {
           "hovertemplate": "<b>%{hovertext}</b><br><br>country=Vietnam<br>year=1977<br>gdpPercap=%{x}<br>lifeExp=%{y}<br>pop=%{marker.size}<extra></extra>",
           "hovertext": [
            "Vietnam"
           ],
           "ids": [
            "Vietnam"
           ],
           "legendgroup": "Vietnam",
           "marker": {
            "color": "#636efa",
            "size": [
             50533506
            ],
            "sizemode": "area",
            "sizeref": 435928.2961983471,
            "symbol": "circle"
           },
           "mode": "markers",
           "name": "Vietnam",
           "orientation": "v",
           "showlegend": true,
           "type": "scatter",
           "x": [
            713.5371196000001
           ],
           "xaxis": "x",
           "y": [
            55.764
           ],
           "yaxis": "y"
          },
          {
           "hovertemplate": "<b>%{hovertext}</b><br><br>country=West Bank and Gaza<br>year=1977<br>gdpPercap=%{x}<br>lifeExp=%{y}<br>pop=%{marker.size}<extra></extra>",
           "hovertext": [
            "West Bank and Gaza"
           ],
           "ids": [
            "West Bank and Gaza"
           ],
           "legendgroup": "West Bank and Gaza",
           "marker": {
            "color": "#EF553B",
            "size": [
             1261091
            ],
            "sizemode": "area",
            "sizeref": 435928.2961983471,
            "symbol": "circle"
           },
           "mode": "markers",
           "name": "West Bank and Gaza",
           "orientation": "v",
           "showlegend": true,
           "type": "scatter",
           "x": [
            3682.831494
           ],
           "xaxis": "x",
           "y": [
            60.765
           ],
           "yaxis": "y"
          },
          {
           "hovertemplate": "<b>%{hovertext}</b><br><br>country=Yemen, Rep.<br>year=1977<br>gdpPercap=%{x}<br>lifeExp=%{y}<br>pop=%{marker.size}<extra></extra>",
           "hovertext": [
            "Yemen, Rep."
           ],
           "ids": [
            "Yemen, Rep."
           ],
           "legendgroup": "Yemen, Rep.",
           "marker": {
            "color": "#00cc96",
            "size": [
             8403990
            ],
            "sizemode": "area",
            "sizeref": 435928.2961983471,
            "symbol": "circle"
           },
           "mode": "markers",
           "name": "Yemen, Rep.",
           "orientation": "v",
           "showlegend": true,
           "type": "scatter",
           "x": [
            1829.765177
           ],
           "xaxis": "x",
           "y": [
            44.175
           ],
           "yaxis": "y"
          }
         ],
         "name": "1977"
        },
        {
         "data": [
          {
           "hovertemplate": "<b>%{hovertext}</b><br><br>country=Afghanistan<br>year=1982<br>gdpPercap=%{x}<br>lifeExp=%{y}<br>pop=%{marker.size}<extra></extra>",
           "hovertext": [
            "Afghanistan"
           ],
           "ids": [
            "Afghanistan"
           ],
           "legendgroup": "Afghanistan",
           "marker": {
            "color": "#636efa",
            "size": [
             12881816
            ],
            "sizemode": "area",
            "sizeref": 435928.2961983471,
            "symbol": "circle"
           },
           "mode": "markers",
           "name": "Afghanistan",
           "orientation": "v",
           "showlegend": true,
           "type": "scatter",
           "x": [
            978.0114388
           ],
           "xaxis": "x",
           "y": [
            39.854
           ],
           "yaxis": "y"
          },
          {
           "hovertemplate": "<b>%{hovertext}</b><br><br>country=Bahrain<br>year=1982<br>gdpPercap=%{x}<br>lifeExp=%{y}<br>pop=%{marker.size}<extra></extra>",
           "hovertext": [
            "Bahrain"
           ],
           "ids": [
            "Bahrain"
           ],
           "legendgroup": "Bahrain",
           "marker": {
            "color": "#EF553B",
            "size": [
             377967
            ],
            "sizemode": "area",
            "sizeref": 435928.2961983471,
            "symbol": "circle"
           },
           "mode": "markers",
           "name": "Bahrain",
           "orientation": "v",
           "showlegend": true,
           "type": "scatter",
           "x": [
            19211.14731
           ],
           "xaxis": "x",
           "y": [
            69.05199999999999
           ],
           "yaxis": "y"
          },
          {
           "hovertemplate": "<b>%{hovertext}</b><br><br>country=Bangladesh<br>year=1982<br>gdpPercap=%{x}<br>lifeExp=%{y}<br>pop=%{marker.size}<extra></extra>",
           "hovertext": [
            "Bangladesh"
           ],
           "ids": [
            "Bangladesh"
           ],
           "legendgroup": "Bangladesh",
           "marker": {
            "color": "#00cc96",
            "size": [
             93074406
            ],
            "sizemode": "area",
            "sizeref": 435928.2961983471,
            "symbol": "circle"
           },
           "mode": "markers",
           "name": "Bangladesh",
           "orientation": "v",
           "showlegend": true,
           "type": "scatter",
           "x": [
            676.9818656
           ],
           "xaxis": "x",
           "y": [
            50.00899999999999
           ],
           "yaxis": "y"
          },
          {
           "hovertemplate": "<b>%{hovertext}</b><br><br>country=Cambodia<br>year=1982<br>gdpPercap=%{x}<br>lifeExp=%{y}<br>pop=%{marker.size}<extra></extra>",
           "hovertext": [
            "Cambodia"
           ],
           "ids": [
            "Cambodia"
           ],
           "legendgroup": "Cambodia",
           "marker": {
            "color": "#ab63fa",
            "size": [
             7272485
            ],
            "sizemode": "area",
            "sizeref": 435928.2961983471,
            "symbol": "circle"
           },
           "mode": "markers",
           "name": "Cambodia",
           "orientation": "v",
           "showlegend": true,
           "type": "scatter",
           "x": [
            624.4754784
           ],
           "xaxis": "x",
           "y": [
            50.957
           ],
           "yaxis": "y"
          },
          {
           "hovertemplate": "<b>%{hovertext}</b><br><br>country=China<br>year=1982<br>gdpPercap=%{x}<br>lifeExp=%{y}<br>pop=%{marker.size}<extra></extra>",
           "hovertext": [
            "China"
           ],
           "ids": [
            "China"
           ],
           "legendgroup": "China",
           "marker": {
            "color": "#FFA15A",
            "size": [
             1000281000
            ],
            "sizemode": "area",
            "sizeref": 435928.2961983471,
            "symbol": "circle"
           },
           "mode": "markers",
           "name": "China",
           "orientation": "v",
           "showlegend": true,
           "type": "scatter",
           "x": [
            962.4213805
           ],
           "xaxis": "x",
           "y": [
            65.525
           ],
           "yaxis": "y"
          },
          {
           "hovertemplate": "<b>%{hovertext}</b><br><br>country=Hong Kong, China<br>year=1982<br>gdpPercap=%{x}<br>lifeExp=%{y}<br>pop=%{marker.size}<extra></extra>",
           "hovertext": [
            "Hong Kong, China"
           ],
           "ids": [
            "Hong Kong, China"
           ],
           "legendgroup": "Hong Kong, China",
           "marker": {
            "color": "#19d3f3",
            "size": [
             5264500
            ],
            "sizemode": "area",
            "sizeref": 435928.2961983471,
            "symbol": "circle"
           },
           "mode": "markers",
           "name": "Hong Kong, China",
           "orientation": "v",
           "showlegend": true,
           "type": "scatter",
           "x": [
            14560.53051
           ],
           "xaxis": "x",
           "y": [
            75.45
           ],
           "yaxis": "y"
          },
          {
           "hovertemplate": "<b>%{hovertext}</b><br><br>country=India<br>year=1982<br>gdpPercap=%{x}<br>lifeExp=%{y}<br>pop=%{marker.size}<extra></extra>",
           "hovertext": [
            "India"
           ],
           "ids": [
            "India"
           ],
           "legendgroup": "India",
           "marker": {
            "color": "#FF6692",
            "size": [
             708000000
            ],
            "sizemode": "area",
            "sizeref": 435928.2961983471,
            "symbol": "circle"
           },
           "mode": "markers",
           "name": "India",
           "orientation": "v",
           "showlegend": true,
           "type": "scatter",
           "x": [
            855.7235377000002
           ],
           "xaxis": "x",
           "y": [
            56.596
           ],
           "yaxis": "y"
          },
          {
           "hovertemplate": "<b>%{hovertext}</b><br><br>country=Indonesia<br>year=1982<br>gdpPercap=%{x}<br>lifeExp=%{y}<br>pop=%{marker.size}<extra></extra>",
           "hovertext": [
            "Indonesia"
           ],
           "ids": [
            "Indonesia"
           ],
           "legendgroup": "Indonesia",
           "marker": {
            "color": "#B6E880",
            "size": [
             153343000
            ],
            "sizemode": "area",
            "sizeref": 435928.2961983471,
            "symbol": "circle"
           },
           "mode": "markers",
           "name": "Indonesia",
           "orientation": "v",
           "showlegend": true,
           "type": "scatter",
           "x": [
            1516.872988
           ],
           "xaxis": "x",
           "y": [
            56.159
           ],
           "yaxis": "y"
          },
          {
           "hovertemplate": "<b>%{hovertext}</b><br><br>country=Iran<br>year=1982<br>gdpPercap=%{x}<br>lifeExp=%{y}<br>pop=%{marker.size}<extra></extra>",
           "hovertext": [
            "Iran"
           ],
           "ids": [
            "Iran"
           ],
           "legendgroup": "Iran",
           "marker": {
            "color": "#FF97FF",
            "size": [
             43072751
            ],
            "sizemode": "area",
            "sizeref": 435928.2961983471,
            "symbol": "circle"
           },
           "mode": "markers",
           "name": "Iran",
           "orientation": "v",
           "showlegend": true,
           "type": "scatter",
           "x": [
            7608.334602
           ],
           "xaxis": "x",
           "y": [
            59.62
           ],
           "yaxis": "y"
          },
          {
           "hovertemplate": "<b>%{hovertext}</b><br><br>country=Iraq<br>year=1982<br>gdpPercap=%{x}<br>lifeExp=%{y}<br>pop=%{marker.size}<extra></extra>",
           "hovertext": [
            "Iraq"
           ],
           "ids": [
            "Iraq"
           ],
           "legendgroup": "Iraq",
           "marker": {
            "color": "#FECB52",
            "size": [
             14173318
            ],
            "sizemode": "area",
            "sizeref": 435928.2961983471,
            "symbol": "circle"
           },
           "mode": "markers",
           "name": "Iraq",
           "orientation": "v",
           "showlegend": true,
           "type": "scatter",
           "x": [
            14517.90711
           ],
           "xaxis": "x",
           "y": [
            62.038
           ],
           "yaxis": "y"
          },
          {
           "hovertemplate": "<b>%{hovertext}</b><br><br>country=Israel<br>year=1982<br>gdpPercap=%{x}<br>lifeExp=%{y}<br>pop=%{marker.size}<extra></extra>",
           "hovertext": [
            "Israel"
           ],
           "ids": [
            "Israel"
           ],
           "legendgroup": "Israel",
           "marker": {
            "color": "#636efa",
            "size": [
             3858421
            ],
            "sizemode": "area",
            "sizeref": 435928.2961983471,
            "symbol": "circle"
           },
           "mode": "markers",
           "name": "Israel",
           "orientation": "v",
           "showlegend": true,
           "type": "scatter",
           "x": [
            15367.0292
           ],
           "xaxis": "x",
           "y": [
            74.45
           ],
           "yaxis": "y"
          },
          {
           "hovertemplate": "<b>%{hovertext}</b><br><br>country=Japan<br>year=1982<br>gdpPercap=%{x}<br>lifeExp=%{y}<br>pop=%{marker.size}<extra></extra>",
           "hovertext": [
            "Japan"
           ],
           "ids": [
            "Japan"
           ],
           "legendgroup": "Japan",
           "marker": {
            "color": "#EF553B",
            "size": [
             118454974
            ],
            "sizemode": "area",
            "sizeref": 435928.2961983471,
            "symbol": "circle"
           },
           "mode": "markers",
           "name": "Japan",
           "orientation": "v",
           "showlegend": true,
           "type": "scatter",
           "x": [
            19384.10571
           ],
           "xaxis": "x",
           "y": [
            77.11
           ],
           "yaxis": "y"
          },
          {
           "hovertemplate": "<b>%{hovertext}</b><br><br>country=Jordan<br>year=1982<br>gdpPercap=%{x}<br>lifeExp=%{y}<br>pop=%{marker.size}<extra></extra>",
           "hovertext": [
            "Jordan"
           ],
           "ids": [
            "Jordan"
           ],
           "legendgroup": "Jordan",
           "marker": {
            "color": "#00cc96",
            "size": [
             2347031
            ],
            "sizemode": "area",
            "sizeref": 435928.2961983471,
            "symbol": "circle"
           },
           "mode": "markers",
           "name": "Jordan",
           "orientation": "v",
           "showlegend": true,
           "type": "scatter",
           "x": [
            4161.415959
           ],
           "xaxis": "x",
           "y": [
            63.739
           ],
           "yaxis": "y"
          },
          {
           "hovertemplate": "<b>%{hovertext}</b><br><br>country=Korea, Dem. Rep.<br>year=1982<br>gdpPercap=%{x}<br>lifeExp=%{y}<br>pop=%{marker.size}<extra></extra>",
           "hovertext": [
            "Korea, Dem. Rep."
           ],
           "ids": [
            "Korea, Dem. Rep."
           ],
           "legendgroup": "Korea, Dem. Rep.",
           "marker": {
            "color": "#ab63fa",
            "size": [
             17647518
            ],
            "sizemode": "area",
            "sizeref": 435928.2961983471,
            "symbol": "circle"
           },
           "mode": "markers",
           "name": "Korea, Dem. Rep.",
           "orientation": "v",
           "showlegend": true,
           "type": "scatter",
           "x": [
            4106.525293
           ],
           "xaxis": "x",
           "y": [
            69.1
           ],
           "yaxis": "y"
          },
          {
           "hovertemplate": "<b>%{hovertext}</b><br><br>country=Korea, Rep.<br>year=1982<br>gdpPercap=%{x}<br>lifeExp=%{y}<br>pop=%{marker.size}<extra></extra>",
           "hovertext": [
            "Korea, Rep."
           ],
           "ids": [
            "Korea, Rep."
           ],
           "legendgroup": "Korea, Rep.",
           "marker": {
            "color": "#FFA15A",
            "size": [
             39326000
            ],
            "sizemode": "area",
            "sizeref": 435928.2961983471,
            "symbol": "circle"
           },
           "mode": "markers",
           "name": "Korea, Rep.",
           "orientation": "v",
           "showlegend": true,
           "type": "scatter",
           "x": [
            5622.942464
           ],
           "xaxis": "x",
           "y": [
            67.123
           ],
           "yaxis": "y"
          },
          {
           "hovertemplate": "<b>%{hovertext}</b><br><br>country=Kuwait<br>year=1982<br>gdpPercap=%{x}<br>lifeExp=%{y}<br>pop=%{marker.size}<extra></extra>",
           "hovertext": [
            "Kuwait"
           ],
           "ids": [
            "Kuwait"
           ],
           "legendgroup": "Kuwait",
           "marker": {
            "color": "#19d3f3",
            "size": [
             1497494
            ],
            "sizemode": "area",
            "sizeref": 435928.2961983471,
            "symbol": "circle"
           },
           "mode": "markers",
           "name": "Kuwait",
           "orientation": "v",
           "showlegend": true,
           "type": "scatter",
           "x": [
            31354.03573
           ],
           "xaxis": "x",
           "y": [
            71.309
           ],
           "yaxis": "y"
          },
          {
           "hovertemplate": "<b>%{hovertext}</b><br><br>country=Lebanon<br>year=1982<br>gdpPercap=%{x}<br>lifeExp=%{y}<br>pop=%{marker.size}<extra></extra>",
           "hovertext": [
            "Lebanon"
           ],
           "ids": [
            "Lebanon"
           ],
           "legendgroup": "Lebanon",
           "marker": {
            "color": "#FF6692",
            "size": [
             3086876
            ],
            "sizemode": "area",
            "sizeref": 435928.2961983471,
            "symbol": "circle"
           },
           "mode": "markers",
           "name": "Lebanon",
           "orientation": "v",
           "showlegend": true,
           "type": "scatter",
           "x": [
            7640.519520999998
           ],
           "xaxis": "x",
           "y": [
            66.983
           ],
           "yaxis": "y"
          },
          {
           "hovertemplate": "<b>%{hovertext}</b><br><br>country=Malaysia<br>year=1982<br>gdpPercap=%{x}<br>lifeExp=%{y}<br>pop=%{marker.size}<extra></extra>",
           "hovertext": [
            "Malaysia"
           ],
           "ids": [
            "Malaysia"
           ],
           "legendgroup": "Malaysia",
           "marker": {
            "color": "#B6E880",
            "size": [
             14441916
            ],
            "sizemode": "area",
            "sizeref": 435928.2961983471,
            "symbol": "circle"
           },
           "mode": "markers",
           "name": "Malaysia",
           "orientation": "v",
           "showlegend": true,
           "type": "scatter",
           "x": [
            4920.355951
           ],
           "xaxis": "x",
           "y": [
            68
           ],
           "yaxis": "y"
          },
          {
           "hovertemplate": "<b>%{hovertext}</b><br><br>country=Mongolia<br>year=1982<br>gdpPercap=%{x}<br>lifeExp=%{y}<br>pop=%{marker.size}<extra></extra>",
           "hovertext": [
            "Mongolia"
           ],
           "ids": [
            "Mongolia"
           ],
           "legendgroup": "Mongolia",
           "marker": {
            "color": "#FF97FF",
            "size": [
             1756032
            ],
            "sizemode": "area",
            "sizeref": 435928.2961983471,
            "symbol": "circle"
           },
           "mode": "markers",
           "name": "Mongolia",
           "orientation": "v",
           "showlegend": true,
           "type": "scatter",
           "x": [
            2000.603139
           ],
           "xaxis": "x",
           "y": [
            57.489
           ],
           "yaxis": "y"
          },
          {
           "hovertemplate": "<b>%{hovertext}</b><br><br>country=Myanmar<br>year=1982<br>gdpPercap=%{x}<br>lifeExp=%{y}<br>pop=%{marker.size}<extra></extra>",
           "hovertext": [
            "Myanmar"
           ],
           "ids": [
            "Myanmar"
           ],
           "legendgroup": "Myanmar",
           "marker": {
            "color": "#FECB52",
            "size": [
             34680442
            ],
            "sizemode": "area",
            "sizeref": 435928.2961983471,
            "symbol": "circle"
           },
           "mode": "markers",
           "name": "Myanmar",
           "orientation": "v",
           "showlegend": true,
           "type": "scatter",
           "x": [
            424
           ],
           "xaxis": "x",
           "y": [
            58.056
           ],
           "yaxis": "y"
          },
          {
           "hovertemplate": "<b>%{hovertext}</b><br><br>country=Nepal<br>year=1982<br>gdpPercap=%{x}<br>lifeExp=%{y}<br>pop=%{marker.size}<extra></extra>",
           "hovertext": [
            "Nepal"
           ],
           "ids": [
            "Nepal"
           ],
           "legendgroup": "Nepal",
           "marker": {
            "color": "#636efa",
            "size": [
             15796314
            ],
            "sizemode": "area",
            "sizeref": 435928.2961983471,
            "symbol": "circle"
           },
           "mode": "markers",
           "name": "Nepal",
           "orientation": "v",
           "showlegend": true,
           "type": "scatter",
           "x": [
            718.3730947
           ],
           "xaxis": "x",
           "y": [
            49.594
           ],
           "yaxis": "y"
          },
          {
           "hovertemplate": "<b>%{hovertext}</b><br><br>country=Oman<br>year=1982<br>gdpPercap=%{x}<br>lifeExp=%{y}<br>pop=%{marker.size}<extra></extra>",
           "hovertext": [
            "Oman"
           ],
           "ids": [
            "Oman"
           ],
           "legendgroup": "Oman",
           "marker": {
            "color": "#EF553B",
            "size": [
             1301048
            ],
            "sizemode": "area",
            "sizeref": 435928.2961983471,
            "symbol": "circle"
           },
           "mode": "markers",
           "name": "Oman",
           "orientation": "v",
           "showlegend": true,
           "type": "scatter",
           "x": [
            12954.79101
           ],
           "xaxis": "x",
           "y": [
            62.728
           ],
           "yaxis": "y"
          },
          {
           "hovertemplate": "<b>%{hovertext}</b><br><br>country=Pakistan<br>year=1982<br>gdpPercap=%{x}<br>lifeExp=%{y}<br>pop=%{marker.size}<extra></extra>",
           "hovertext": [
            "Pakistan"
           ],
           "ids": [
            "Pakistan"
           ],
           "legendgroup": "Pakistan",
           "marker": {
            "color": "#00cc96",
            "size": [
             91462088
            ],
            "sizemode": "area",
            "sizeref": 435928.2961983471,
            "symbol": "circle"
           },
           "mode": "markers",
           "name": "Pakistan",
           "orientation": "v",
           "showlegend": true,
           "type": "scatter",
           "x": [
            1443.429832
           ],
           "xaxis": "x",
           "y": [
            56.158
           ],
           "yaxis": "y"
          },
          {
           "hovertemplate": "<b>%{hovertext}</b><br><br>country=Philippines<br>year=1982<br>gdpPercap=%{x}<br>lifeExp=%{y}<br>pop=%{marker.size}<extra></extra>",
           "hovertext": [
            "Philippines"
           ],
           "ids": [
            "Philippines"
           ],
           "legendgroup": "Philippines",
           "marker": {
            "color": "#ab63fa",
            "size": [
             53456774
            ],
            "sizemode": "area",
            "sizeref": 435928.2961983471,
            "symbol": "circle"
           },
           "mode": "markers",
           "name": "Philippines",
           "orientation": "v",
           "showlegend": true,
           "type": "scatter",
           "x": [
            2603.273765
           ],
           "xaxis": "x",
           "y": [
            62.082
           ],
           "yaxis": "y"
          },
          {
           "hovertemplate": "<b>%{hovertext}</b><br><br>country=Saudi Arabia<br>year=1982<br>gdpPercap=%{x}<br>lifeExp=%{y}<br>pop=%{marker.size}<extra></extra>",
           "hovertext": [
            "Saudi Arabia"
           ],
           "ids": [
            "Saudi Arabia"
           ],
           "legendgroup": "Saudi Arabia",
           "marker": {
            "color": "#FFA15A",
            "size": [
             11254672
            ],
            "sizemode": "area",
            "sizeref": 435928.2961983471,
            "symbol": "circle"
           },
           "mode": "markers",
           "name": "Saudi Arabia",
           "orientation": "v",
           "showlegend": true,
           "type": "scatter",
           "x": [
            33693.17525
           ],
           "xaxis": "x",
           "y": [
            63.012
           ],
           "yaxis": "y"
          },
          {
           "hovertemplate": "<b>%{hovertext}</b><br><br>country=Singapore<br>year=1982<br>gdpPercap=%{x}<br>lifeExp=%{y}<br>pop=%{marker.size}<extra></extra>",
           "hovertext": [
            "Singapore"
           ],
           "ids": [
            "Singapore"
           ],
           "legendgroup": "Singapore",
           "marker": {
            "color": "#19d3f3",
            "size": [
             2651869
            ],
            "sizemode": "area",
            "sizeref": 435928.2961983471,
            "symbol": "circle"
           },
           "mode": "markers",
           "name": "Singapore",
           "orientation": "v",
           "showlegend": true,
           "type": "scatter",
           "x": [
            15169.16112
           ],
           "xaxis": "x",
           "y": [
            71.76
           ],
           "yaxis": "y"
          },
          {
           "hovertemplate": "<b>%{hovertext}</b><br><br>country=Sri Lanka<br>year=1982<br>gdpPercap=%{x}<br>lifeExp=%{y}<br>pop=%{marker.size}<extra></extra>",
           "hovertext": [
            "Sri Lanka"
           ],
           "ids": [
            "Sri Lanka"
           ],
           "legendgroup": "Sri Lanka",
           "marker": {
            "color": "#FF6692",
            "size": [
             15410151
            ],
            "sizemode": "area",
            "sizeref": 435928.2961983471,
            "symbol": "circle"
           },
           "mode": "markers",
           "name": "Sri Lanka",
           "orientation": "v",
           "showlegend": true,
           "type": "scatter",
           "x": [
            1648.079789
           ],
           "xaxis": "x",
           "y": [
            68.757
           ],
           "yaxis": "y"
          },
          {
           "hovertemplate": "<b>%{hovertext}</b><br><br>country=Syria<br>year=1982<br>gdpPercap=%{x}<br>lifeExp=%{y}<br>pop=%{marker.size}<extra></extra>",
           "hovertext": [
            "Syria"
           ],
           "ids": [
            "Syria"
           ],
           "legendgroup": "Syria",
           "marker": {
            "color": "#B6E880",
            "size": [
             9410494
            ],
            "sizemode": "area",
            "sizeref": 435928.2961983471,
            "symbol": "circle"
           },
           "mode": "markers",
           "name": "Syria",
           "orientation": "v",
           "showlegend": true,
           "type": "scatter",
           "x": [
            3761.837715
           ],
           "xaxis": "x",
           "y": [
            64.59
           ],
           "yaxis": "y"
          },
          {
           "hovertemplate": "<b>%{hovertext}</b><br><br>country=Taiwan<br>year=1982<br>gdpPercap=%{x}<br>lifeExp=%{y}<br>pop=%{marker.size}<extra></extra>",
           "hovertext": [
            "Taiwan"
           ],
           "ids": [
            "Taiwan"
           ],
           "legendgroup": "Taiwan",
           "marker": {
            "color": "#FF97FF",
            "size": [
             18501390
            ],
            "sizemode": "area",
            "sizeref": 435928.2961983471,
            "symbol": "circle"
           },
           "mode": "markers",
           "name": "Taiwan",
           "orientation": "v",
           "showlegend": true,
           "type": "scatter",
           "x": [
            7426.3547739999985
           ],
           "xaxis": "x",
           "y": [
            72.16
           ],
           "yaxis": "y"
          },
          {
           "hovertemplate": "<b>%{hovertext}</b><br><br>country=Thailand<br>year=1982<br>gdpPercap=%{x}<br>lifeExp=%{y}<br>pop=%{marker.size}<extra></extra>",
           "hovertext": [
            "Thailand"
           ],
           "ids": [
            "Thailand"
           ],
           "legendgroup": "Thailand",
           "marker": {
            "color": "#FECB52",
            "size": [
             48827160
            ],
            "sizemode": "area",
            "sizeref": 435928.2961983471,
            "symbol": "circle"
           },
           "mode": "markers",
           "name": "Thailand",
           "orientation": "v",
           "showlegend": true,
           "type": "scatter",
           "x": [
            2393.219781
           ],
           "xaxis": "x",
           "y": [
            64.597
           ],
           "yaxis": "y"
          },
          {
           "hovertemplate": "<b>%{hovertext}</b><br><br>country=Vietnam<br>year=1982<br>gdpPercap=%{x}<br>lifeExp=%{y}<br>pop=%{marker.size}<extra></extra>",
           "hovertext": [
            "Vietnam"
           ],
           "ids": [
            "Vietnam"
           ],
           "legendgroup": "Vietnam",
           "marker": {
            "color": "#636efa",
            "size": [
             56142181
            ],
            "sizemode": "area",
            "sizeref": 435928.2961983471,
            "symbol": "circle"
           },
           "mode": "markers",
           "name": "Vietnam",
           "orientation": "v",
           "showlegend": true,
           "type": "scatter",
           "x": [
            707.2357863
           ],
           "xaxis": "x",
           "y": [
            58.816
           ],
           "yaxis": "y"
          },
          {
           "hovertemplate": "<b>%{hovertext}</b><br><br>country=West Bank and Gaza<br>year=1982<br>gdpPercap=%{x}<br>lifeExp=%{y}<br>pop=%{marker.size}<extra></extra>",
           "hovertext": [
            "West Bank and Gaza"
           ],
           "ids": [
            "West Bank and Gaza"
           ],
           "legendgroup": "West Bank and Gaza",
           "marker": {
            "color": "#EF553B",
            "size": [
             1425876
            ],
            "sizemode": "area",
            "sizeref": 435928.2961983471,
            "symbol": "circle"
           },
           "mode": "markers",
           "name": "West Bank and Gaza",
           "orientation": "v",
           "showlegend": true,
           "type": "scatter",
           "x": [
            4336.032082
           ],
           "xaxis": "x",
           "y": [
            64.406
           ],
           "yaxis": "y"
          },
          {
           "hovertemplate": "<b>%{hovertext}</b><br><br>country=Yemen, Rep.<br>year=1982<br>gdpPercap=%{x}<br>lifeExp=%{y}<br>pop=%{marker.size}<extra></extra>",
           "hovertext": [
            "Yemen, Rep."
           ],
           "ids": [
            "Yemen, Rep."
           ],
           "legendgroup": "Yemen, Rep.",
           "marker": {
            "color": "#00cc96",
            "size": [
             9657618
            ],
            "sizemode": "area",
            "sizeref": 435928.2961983471,
            "symbol": "circle"
           },
           "mode": "markers",
           "name": "Yemen, Rep.",
           "orientation": "v",
           "showlegend": true,
           "type": "scatter",
           "x": [
            1977.55701
           ],
           "xaxis": "x",
           "y": [
            49.113
           ],
           "yaxis": "y"
          }
         ],
         "name": "1982"
        },
        {
         "data": [
          {
           "hovertemplate": "<b>%{hovertext}</b><br><br>country=Afghanistan<br>year=1987<br>gdpPercap=%{x}<br>lifeExp=%{y}<br>pop=%{marker.size}<extra></extra>",
           "hovertext": [
            "Afghanistan"
           ],
           "ids": [
            "Afghanistan"
           ],
           "legendgroup": "Afghanistan",
           "marker": {
            "color": "#636efa",
            "size": [
             13867957
            ],
            "sizemode": "area",
            "sizeref": 435928.2961983471,
            "symbol": "circle"
           },
           "mode": "markers",
           "name": "Afghanistan",
           "orientation": "v",
           "showlegend": true,
           "type": "scatter",
           "x": [
            852.3959447999998
           ],
           "xaxis": "x",
           "y": [
            40.822
           ],
           "yaxis": "y"
          },
          {
           "hovertemplate": "<b>%{hovertext}</b><br><br>country=Bahrain<br>year=1987<br>gdpPercap=%{x}<br>lifeExp=%{y}<br>pop=%{marker.size}<extra></extra>",
           "hovertext": [
            "Bahrain"
           ],
           "ids": [
            "Bahrain"
           ],
           "legendgroup": "Bahrain",
           "marker": {
            "color": "#EF553B",
            "size": [
             454612
            ],
            "sizemode": "area",
            "sizeref": 435928.2961983471,
            "symbol": "circle"
           },
           "mode": "markers",
           "name": "Bahrain",
           "orientation": "v",
           "showlegend": true,
           "type": "scatter",
           "x": [
            18524.02406
           ],
           "xaxis": "x",
           "y": [
            70.75
           ],
           "yaxis": "y"
          },
          {
           "hovertemplate": "<b>%{hovertext}</b><br><br>country=Bangladesh<br>year=1987<br>gdpPercap=%{x}<br>lifeExp=%{y}<br>pop=%{marker.size}<extra></extra>",
           "hovertext": [
            "Bangladesh"
           ],
           "ids": [
            "Bangladesh"
           ],
           "legendgroup": "Bangladesh",
           "marker": {
            "color": "#00cc96",
            "size": [
             103764241
            ],
            "sizemode": "area",
            "sizeref": 435928.2961983471,
            "symbol": "circle"
           },
           "mode": "markers",
           "name": "Bangladesh",
           "orientation": "v",
           "showlegend": true,
           "type": "scatter",
           "x": [
            751.9794035
           ],
           "xaxis": "x",
           "y": [
            52.819
           ],
           "yaxis": "y"
          },
          {
           "hovertemplate": "<b>%{hovertext}</b><br><br>country=Cambodia<br>year=1987<br>gdpPercap=%{x}<br>lifeExp=%{y}<br>pop=%{marker.size}<extra></extra>",
           "hovertext": [
            "Cambodia"
           ],
           "ids": [
            "Cambodia"
           ],
           "legendgroup": "Cambodia",
           "marker": {
            "color": "#ab63fa",
            "size": [
             8371791
            ],
            "sizemode": "area",
            "sizeref": 435928.2961983471,
            "symbol": "circle"
           },
           "mode": "markers",
           "name": "Cambodia",
           "orientation": "v",
           "showlegend": true,
           "type": "scatter",
           "x": [
            683.8955732000002
           ],
           "xaxis": "x",
           "y": [
            53.914
           ],
           "yaxis": "y"
          },
          {
           "hovertemplate": "<b>%{hovertext}</b><br><br>country=China<br>year=1987<br>gdpPercap=%{x}<br>lifeExp=%{y}<br>pop=%{marker.size}<extra></extra>",
           "hovertext": [
            "China"
           ],
           "ids": [
            "China"
           ],
           "legendgroup": "China",
           "marker": {
            "color": "#FFA15A",
            "size": [
             1084035000
            ],
            "sizemode": "area",
            "sizeref": 435928.2961983471,
            "symbol": "circle"
           },
           "mode": "markers",
           "name": "China",
           "orientation": "v",
           "showlegend": true,
           "type": "scatter",
           "x": [
            1378.904018
           ],
           "xaxis": "x",
           "y": [
            67.274
           ],
           "yaxis": "y"
          },
          {
           "hovertemplate": "<b>%{hovertext}</b><br><br>country=Hong Kong, China<br>year=1987<br>gdpPercap=%{x}<br>lifeExp=%{y}<br>pop=%{marker.size}<extra></extra>",
           "hovertext": [
            "Hong Kong, China"
           ],
           "ids": [
            "Hong Kong, China"
           ],
           "legendgroup": "Hong Kong, China",
           "marker": {
            "color": "#19d3f3",
            "size": [
             5584510
            ],
            "sizemode": "area",
            "sizeref": 435928.2961983471,
            "symbol": "circle"
           },
           "mode": "markers",
           "name": "Hong Kong, China",
           "orientation": "v",
           "showlegend": true,
           "type": "scatter",
           "x": [
            20038.47269
           ],
           "xaxis": "x",
           "y": [
            76.2
           ],
           "yaxis": "y"
          },
          {
           "hovertemplate": "<b>%{hovertext}</b><br><br>country=India<br>year=1987<br>gdpPercap=%{x}<br>lifeExp=%{y}<br>pop=%{marker.size}<extra></extra>",
           "hovertext": [
            "India"
           ],
           "ids": [
            "India"
           ],
           "legendgroup": "India",
           "marker": {
            "color": "#FF6692",
            "size": [
             788000000
            ],
            "sizemode": "area",
            "sizeref": 435928.2961983471,
            "symbol": "circle"
           },
           "mode": "markers",
           "name": "India",
           "orientation": "v",
           "showlegend": true,
           "type": "scatter",
           "x": [
            976.5126756
           ],
           "xaxis": "x",
           "y": [
            58.553
           ],
           "yaxis": "y"
          },
          {
           "hovertemplate": "<b>%{hovertext}</b><br><br>country=Indonesia<br>year=1987<br>gdpPercap=%{x}<br>lifeExp=%{y}<br>pop=%{marker.size}<extra></extra>",
           "hovertext": [
            "Indonesia"
           ],
           "ids": [
            "Indonesia"
           ],
           "legendgroup": "Indonesia",
           "marker": {
            "color": "#B6E880",
            "size": [
             169276000
            ],
            "sizemode": "area",
            "sizeref": 435928.2961983471,
            "symbol": "circle"
           },
           "mode": "markers",
           "name": "Indonesia",
           "orientation": "v",
           "showlegend": true,
           "type": "scatter",
           "x": [
            1748.356961
           ],
           "xaxis": "x",
           "y": [
            60.137
           ],
           "yaxis": "y"
          },
          {
           "hovertemplate": "<b>%{hovertext}</b><br><br>country=Iran<br>year=1987<br>gdpPercap=%{x}<br>lifeExp=%{y}<br>pop=%{marker.size}<extra></extra>",
           "hovertext": [
            "Iran"
           ],
           "ids": [
            "Iran"
           ],
           "legendgroup": "Iran",
           "marker": {
            "color": "#FF97FF",
            "size": [
             51889696
            ],
            "sizemode": "area",
            "sizeref": 435928.2961983471,
            "symbol": "circle"
           },
           "mode": "markers",
           "name": "Iran",
           "orientation": "v",
           "showlegend": true,
           "type": "scatter",
           "x": [
            6642.881371
           ],
           "xaxis": "x",
           "y": [
            63.04
           ],
           "yaxis": "y"
          },
          {
           "hovertemplate": "<b>%{hovertext}</b><br><br>country=Iraq<br>year=1987<br>gdpPercap=%{x}<br>lifeExp=%{y}<br>pop=%{marker.size}<extra></extra>",
           "hovertext": [
            "Iraq"
           ],
           "ids": [
            "Iraq"
           ],
           "legendgroup": "Iraq",
           "marker": {
            "color": "#FECB52",
            "size": [
             16543189
            ],
            "sizemode": "area",
            "sizeref": 435928.2961983471,
            "symbol": "circle"
           },
           "mode": "markers",
           "name": "Iraq",
           "orientation": "v",
           "showlegend": true,
           "type": "scatter",
           "x": [
            11643.57268
           ],
           "xaxis": "x",
           "y": [
            65.044
           ],
           "yaxis": "y"
          },
          {
           "hovertemplate": "<b>%{hovertext}</b><br><br>country=Israel<br>year=1987<br>gdpPercap=%{x}<br>lifeExp=%{y}<br>pop=%{marker.size}<extra></extra>",
           "hovertext": [
            "Israel"
           ],
           "ids": [
            "Israel"
           ],
           "legendgroup": "Israel",
           "marker": {
            "color": "#636efa",
            "size": [
             4203148
            ],
            "sizemode": "area",
            "sizeref": 435928.2961983471,
            "symbol": "circle"
           },
           "mode": "markers",
           "name": "Israel",
           "orientation": "v",
           "showlegend": true,
           "type": "scatter",
           "x": [
            17122.47986
           ],
           "xaxis": "x",
           "y": [
            75.6
           ],
           "yaxis": "y"
          },
          {
           "hovertemplate": "<b>%{hovertext}</b><br><br>country=Japan<br>year=1987<br>gdpPercap=%{x}<br>lifeExp=%{y}<br>pop=%{marker.size}<extra></extra>",
           "hovertext": [
            "Japan"
           ],
           "ids": [
            "Japan"
           ],
           "legendgroup": "Japan",
           "marker": {
            "color": "#EF553B",
            "size": [
             122091325
            ],
            "sizemode": "area",
            "sizeref": 435928.2961983471,
            "symbol": "circle"
           },
           "mode": "markers",
           "name": "Japan",
           "orientation": "v",
           "showlegend": true,
           "type": "scatter",
           "x": [
            22375.94189
           ],
           "xaxis": "x",
           "y": [
            78.67
           ],
           "yaxis": "y"
          },
          {
           "hovertemplate": "<b>%{hovertext}</b><br><br>country=Jordan<br>year=1987<br>gdpPercap=%{x}<br>lifeExp=%{y}<br>pop=%{marker.size}<extra></extra>",
           "hovertext": [
            "Jordan"
           ],
           "ids": [
            "Jordan"
           ],
           "legendgroup": "Jordan",
           "marker": {
            "color": "#00cc96",
            "size": [
             2820042
            ],
            "sizemode": "area",
            "sizeref": 435928.2961983471,
            "symbol": "circle"
           },
           "mode": "markers",
           "name": "Jordan",
           "orientation": "v",
           "showlegend": true,
           "type": "scatter",
           "x": [
            4448.679912
           ],
           "xaxis": "x",
           "y": [
            65.869
           ],
           "yaxis": "y"
          },
          {
           "hovertemplate": "<b>%{hovertext}</b><br><br>country=Korea, Dem. Rep.<br>year=1987<br>gdpPercap=%{x}<br>lifeExp=%{y}<br>pop=%{marker.size}<extra></extra>",
           "hovertext": [
            "Korea, Dem. Rep."
           ],
           "ids": [
            "Korea, Dem. Rep."
           ],
           "legendgroup": "Korea, Dem. Rep.",
           "marker": {
            "color": "#ab63fa",
            "size": [
             19067554
            ],
            "sizemode": "area",
            "sizeref": 435928.2961983471,
            "symbol": "circle"
           },
           "mode": "markers",
           "name": "Korea, Dem. Rep.",
           "orientation": "v",
           "showlegend": true,
           "type": "scatter",
           "x": [
            4106.492315
           ],
           "xaxis": "x",
           "y": [
            70.64699999999998
           ],
           "yaxis": "y"
          },
          {
           "hovertemplate": "<b>%{hovertext}</b><br><br>country=Korea, Rep.<br>year=1987<br>gdpPercap=%{x}<br>lifeExp=%{y}<br>pop=%{marker.size}<extra></extra>",
           "hovertext": [
            "Korea, Rep."
           ],
           "ids": [
            "Korea, Rep."
           ],
           "legendgroup": "Korea, Rep.",
           "marker": {
            "color": "#FFA15A",
            "size": [
             41622000
            ],
            "sizemode": "area",
            "sizeref": 435928.2961983471,
            "symbol": "circle"
           },
           "mode": "markers",
           "name": "Korea, Rep.",
           "orientation": "v",
           "showlegend": true,
           "type": "scatter",
           "x": [
            8533.088805
           ],
           "xaxis": "x",
           "y": [
            69.81
           ],
           "yaxis": "y"
          },
          {
           "hovertemplate": "<b>%{hovertext}</b><br><br>country=Kuwait<br>year=1987<br>gdpPercap=%{x}<br>lifeExp=%{y}<br>pop=%{marker.size}<extra></extra>",
           "hovertext": [
            "Kuwait"
           ],
           "ids": [
            "Kuwait"
           ],
           "legendgroup": "Kuwait",
           "marker": {
            "color": "#19d3f3",
            "size": [
             1891487
            ],
            "sizemode": "area",
            "sizeref": 435928.2961983471,
            "symbol": "circle"
           },
           "mode": "markers",
           "name": "Kuwait",
           "orientation": "v",
           "showlegend": true,
           "type": "scatter",
           "x": [
            28118.42998
           ],
           "xaxis": "x",
           "y": [
            74.17399999999998
           ],
           "yaxis": "y"
          },
          {
           "hovertemplate": "<b>%{hovertext}</b><br><br>country=Lebanon<br>year=1987<br>gdpPercap=%{x}<br>lifeExp=%{y}<br>pop=%{marker.size}<extra></extra>",
           "hovertext": [
            "Lebanon"
           ],
           "ids": [
            "Lebanon"
           ],
           "legendgroup": "Lebanon",
           "marker": {
            "color": "#FF6692",
            "size": [
             3089353
            ],
            "sizemode": "area",
            "sizeref": 435928.2961983471,
            "symbol": "circle"
           },
           "mode": "markers",
           "name": "Lebanon",
           "orientation": "v",
           "showlegend": true,
           "type": "scatter",
           "x": [
            5377.091329
           ],
           "xaxis": "x",
           "y": [
            67.926
           ],
           "yaxis": "y"
          },
          {
           "hovertemplate": "<b>%{hovertext}</b><br><br>country=Malaysia<br>year=1987<br>gdpPercap=%{x}<br>lifeExp=%{y}<br>pop=%{marker.size}<extra></extra>",
           "hovertext": [
            "Malaysia"
           ],
           "ids": [
            "Malaysia"
           ],
           "legendgroup": "Malaysia",
           "marker": {
            "color": "#B6E880",
            "size": [
             16331785
            ],
            "sizemode": "area",
            "sizeref": 435928.2961983471,
            "symbol": "circle"
           },
           "mode": "markers",
           "name": "Malaysia",
           "orientation": "v",
           "showlegend": true,
           "type": "scatter",
           "x": [
            5249.802653
           ],
           "xaxis": "x",
           "y": [
            69.5
           ],
           "yaxis": "y"
          },
          {
           "hovertemplate": "<b>%{hovertext}</b><br><br>country=Mongolia<br>year=1987<br>gdpPercap=%{x}<br>lifeExp=%{y}<br>pop=%{marker.size}<extra></extra>",
           "hovertext": [
            "Mongolia"
           ],
           "ids": [
            "Mongolia"
           ],
           "legendgroup": "Mongolia",
           "marker": {
            "color": "#FF97FF",
            "size": [
             2015133
            ],
            "sizemode": "area",
            "sizeref": 435928.2961983471,
            "symbol": "circle"
           },
           "mode": "markers",
           "name": "Mongolia",
           "orientation": "v",
           "showlegend": true,
           "type": "scatter",
           "x": [
            2338.008304
           ],
           "xaxis": "x",
           "y": [
            60.222
           ],
           "yaxis": "y"
          },
          {
           "hovertemplate": "<b>%{hovertext}</b><br><br>country=Myanmar<br>year=1987<br>gdpPercap=%{x}<br>lifeExp=%{y}<br>pop=%{marker.size}<extra></extra>",
           "hovertext": [
            "Myanmar"
           ],
           "ids": [
            "Myanmar"
           ],
           "legendgroup": "Myanmar",
           "marker": {
            "color": "#FECB52",
            "size": [
             38028578
            ],
            "sizemode": "area",
            "sizeref": 435928.2961983471,
            "symbol": "circle"
           },
           "mode": "markers",
           "name": "Myanmar",
           "orientation": "v",
           "showlegend": true,
           "type": "scatter",
           "x": [
            385
           ],
           "xaxis": "x",
           "y": [
            58.339
           ],
           "yaxis": "y"
          },
          {
           "hovertemplate": "<b>%{hovertext}</b><br><br>country=Nepal<br>year=1987<br>gdpPercap=%{x}<br>lifeExp=%{y}<br>pop=%{marker.size}<extra></extra>",
           "hovertext": [
            "Nepal"
           ],
           "ids": [
            "Nepal"
           ],
           "legendgroup": "Nepal",
           "marker": {
            "color": "#636efa",
            "size": [
             17917180
            ],
            "sizemode": "area",
            "sizeref": 435928.2961983471,
            "symbol": "circle"
           },
           "mode": "markers",
           "name": "Nepal",
           "orientation": "v",
           "showlegend": true,
           "type": "scatter",
           "x": [
            775.6324501
           ],
           "xaxis": "x",
           "y": [
            52.537
           ],
           "yaxis": "y"
          },
          {
           "hovertemplate": "<b>%{hovertext}</b><br><br>country=Oman<br>year=1987<br>gdpPercap=%{x}<br>lifeExp=%{y}<br>pop=%{marker.size}<extra></extra>",
           "hovertext": [
            "Oman"
           ],
           "ids": [
            "Oman"
           ],
           "legendgroup": "Oman",
           "marker": {
            "color": "#EF553B",
            "size": [
             1593882
            ],
            "sizemode": "area",
            "sizeref": 435928.2961983471,
            "symbol": "circle"
           },
           "mode": "markers",
           "name": "Oman",
           "orientation": "v",
           "showlegend": true,
           "type": "scatter",
           "x": [
            18115.22313
           ],
           "xaxis": "x",
           "y": [
            67.734
           ],
           "yaxis": "y"
          },
          {
           "hovertemplate": "<b>%{hovertext}</b><br><br>country=Pakistan<br>year=1987<br>gdpPercap=%{x}<br>lifeExp=%{y}<br>pop=%{marker.size}<extra></extra>",
           "hovertext": [
            "Pakistan"
           ],
           "ids": [
            "Pakistan"
           ],
           "legendgroup": "Pakistan",
           "marker": {
            "color": "#00cc96",
            "size": [
             105186881
            ],
            "sizemode": "area",
            "sizeref": 435928.2961983471,
            "symbol": "circle"
           },
           "mode": "markers",
           "name": "Pakistan",
           "orientation": "v",
           "showlegend": true,
           "type": "scatter",
           "x": [
            1704.686583
           ],
           "xaxis": "x",
           "y": [
            58.245
           ],
           "yaxis": "y"
          },
          {
           "hovertemplate": "<b>%{hovertext}</b><br><br>country=Philippines<br>year=1987<br>gdpPercap=%{x}<br>lifeExp=%{y}<br>pop=%{marker.size}<extra></extra>",
           "hovertext": [
            "Philippines"
           ],
           "ids": [
            "Philippines"
           ],
           "legendgroup": "Philippines",
           "marker": {
            "color": "#ab63fa",
            "size": [
             60017788
            ],
            "sizemode": "area",
            "sizeref": 435928.2961983471,
            "symbol": "circle"
           },
           "mode": "markers",
           "name": "Philippines",
           "orientation": "v",
           "showlegend": true,
           "type": "scatter",
           "x": [
            2189.634995
           ],
           "xaxis": "x",
           "y": [
            64.15100000000001
           ],
           "yaxis": "y"
          },
          {
           "hovertemplate": "<b>%{hovertext}</b><br><br>country=Saudi Arabia<br>year=1987<br>gdpPercap=%{x}<br>lifeExp=%{y}<br>pop=%{marker.size}<extra></extra>",
           "hovertext": [
            "Saudi Arabia"
           ],
           "ids": [
            "Saudi Arabia"
           ],
           "legendgroup": "Saudi Arabia",
           "marker": {
            "color": "#FFA15A",
            "size": [
             14619745
            ],
            "sizemode": "area",
            "sizeref": 435928.2961983471,
            "symbol": "circle"
           },
           "mode": "markers",
           "name": "Saudi Arabia",
           "orientation": "v",
           "showlegend": true,
           "type": "scatter",
           "x": [
            21198.26136
           ],
           "xaxis": "x",
           "y": [
            66.295
           ],
           "yaxis": "y"
          },
          {
           "hovertemplate": "<b>%{hovertext}</b><br><br>country=Singapore<br>year=1987<br>gdpPercap=%{x}<br>lifeExp=%{y}<br>pop=%{marker.size}<extra></extra>",
           "hovertext": [
            "Singapore"
           ],
           "ids": [
            "Singapore"
           ],
           "legendgroup": "Singapore",
           "marker": {
            "color": "#19d3f3",
            "size": [
             2794552
            ],
            "sizemode": "area",
            "sizeref": 435928.2961983471,
            "symbol": "circle"
           },
           "mode": "markers",
           "name": "Singapore",
           "orientation": "v",
           "showlegend": true,
           "type": "scatter",
           "x": [
            18861.53081
           ],
           "xaxis": "x",
           "y": [
            73.56
           ],
           "yaxis": "y"
          },
          {
           "hovertemplate": "<b>%{hovertext}</b><br><br>country=Sri Lanka<br>year=1987<br>gdpPercap=%{x}<br>lifeExp=%{y}<br>pop=%{marker.size}<extra></extra>",
           "hovertext": [
            "Sri Lanka"
           ],
           "ids": [
            "Sri Lanka"
           ],
           "legendgroup": "Sri Lanka",
           "marker": {
            "color": "#FF6692",
            "size": [
             16495304
            ],
            "sizemode": "area",
            "sizeref": 435928.2961983471,
            "symbol": "circle"
           },
           "mode": "markers",
           "name": "Sri Lanka",
           "orientation": "v",
           "showlegend": true,
           "type": "scatter",
           "x": [
            1876.766827
           ],
           "xaxis": "x",
           "y": [
            69.01100000000001
           ],
           "yaxis": "y"
          },
          {
           "hovertemplate": "<b>%{hovertext}</b><br><br>country=Syria<br>year=1987<br>gdpPercap=%{x}<br>lifeExp=%{y}<br>pop=%{marker.size}<extra></extra>",
           "hovertext": [
            "Syria"
           ],
           "ids": [
            "Syria"
           ],
           "legendgroup": "Syria",
           "marker": {
            "color": "#B6E880",
            "size": [
             11242847
            ],
            "sizemode": "area",
            "sizeref": 435928.2961983471,
            "symbol": "circle"
           },
           "mode": "markers",
           "name": "Syria",
           "orientation": "v",
           "showlegend": true,
           "type": "scatter",
           "x": [
            3116.774285
           ],
           "xaxis": "x",
           "y": [
            66.97399999999999
           ],
           "yaxis": "y"
          },
          {
           "hovertemplate": "<b>%{hovertext}</b><br><br>country=Taiwan<br>year=1987<br>gdpPercap=%{x}<br>lifeExp=%{y}<br>pop=%{marker.size}<extra></extra>",
           "hovertext": [
            "Taiwan"
           ],
           "ids": [
            "Taiwan"
           ],
           "legendgroup": "Taiwan",
           "marker": {
            "color": "#FF97FF",
            "size": [
             19757799
            ],
            "sizemode": "area",
            "sizeref": 435928.2961983471,
            "symbol": "circle"
           },
           "mode": "markers",
           "name": "Taiwan",
           "orientation": "v",
           "showlegend": true,
           "type": "scatter",
           "x": [
            11054.56175
           ],
           "xaxis": "x",
           "y": [
            73.4
           ],
           "yaxis": "y"
          },
          {
           "hovertemplate": "<b>%{hovertext}</b><br><br>country=Thailand<br>year=1987<br>gdpPercap=%{x}<br>lifeExp=%{y}<br>pop=%{marker.size}<extra></extra>",
           "hovertext": [
            "Thailand"
           ],
           "ids": [
            "Thailand"
           ],
           "legendgroup": "Thailand",
           "marker": {
            "color": "#FECB52",
            "size": [
             52910342
            ],
            "sizemode": "area",
            "sizeref": 435928.2961983471,
            "symbol": "circle"
           },
           "mode": "markers",
           "name": "Thailand",
           "orientation": "v",
           "showlegend": true,
           "type": "scatter",
           "x": [
            2982.653773
           ],
           "xaxis": "x",
           "y": [
            66.084
           ],
           "yaxis": "y"
          },
          {
           "hovertemplate": "<b>%{hovertext}</b><br><br>country=Vietnam<br>year=1987<br>gdpPercap=%{x}<br>lifeExp=%{y}<br>pop=%{marker.size}<extra></extra>",
           "hovertext": [
            "Vietnam"
           ],
           "ids": [
            "Vietnam"
           ],
           "legendgroup": "Vietnam",
           "marker": {
            "color": "#636efa",
            "size": [
             62826491
            ],
            "sizemode": "area",
            "sizeref": 435928.2961983471,
            "symbol": "circle"
           },
           "mode": "markers",
           "name": "Vietnam",
           "orientation": "v",
           "showlegend": true,
           "type": "scatter",
           "x": [
            820.7994449
           ],
           "xaxis": "x",
           "y": [
            62.82
           ],
           "yaxis": "y"
          },
          {
           "hovertemplate": "<b>%{hovertext}</b><br><br>country=West Bank and Gaza<br>year=1987<br>gdpPercap=%{x}<br>lifeExp=%{y}<br>pop=%{marker.size}<extra></extra>",
           "hovertext": [
            "West Bank and Gaza"
           ],
           "ids": [
            "West Bank and Gaza"
           ],
           "legendgroup": "West Bank and Gaza",
           "marker": {
            "color": "#EF553B",
            "size": [
             1691210
            ],
            "sizemode": "area",
            "sizeref": 435928.2961983471,
            "symbol": "circle"
           },
           "mode": "markers",
           "name": "West Bank and Gaza",
           "orientation": "v",
           "showlegend": true,
           "type": "scatter",
           "x": [
            5107.197384
           ],
           "xaxis": "x",
           "y": [
            67.046
           ],
           "yaxis": "y"
          },
          {
           "hovertemplate": "<b>%{hovertext}</b><br><br>country=Yemen, Rep.<br>year=1987<br>gdpPercap=%{x}<br>lifeExp=%{y}<br>pop=%{marker.size}<extra></extra>",
           "hovertext": [
            "Yemen, Rep."
           ],
           "ids": [
            "Yemen, Rep."
           ],
           "legendgroup": "Yemen, Rep.",
           "marker": {
            "color": "#00cc96",
            "size": [
             11219340
            ],
            "sizemode": "area",
            "sizeref": 435928.2961983471,
            "symbol": "circle"
           },
           "mode": "markers",
           "name": "Yemen, Rep.",
           "orientation": "v",
           "showlegend": true,
           "type": "scatter",
           "x": [
            1971.741538
           ],
           "xaxis": "x",
           "y": [
            52.922
           ],
           "yaxis": "y"
          }
         ],
         "name": "1987"
        },
        {
         "data": [
          {
           "hovertemplate": "<b>%{hovertext}</b><br><br>country=Afghanistan<br>year=1992<br>gdpPercap=%{x}<br>lifeExp=%{y}<br>pop=%{marker.size}<extra></extra>",
           "hovertext": [
            "Afghanistan"
           ],
           "ids": [
            "Afghanistan"
           ],
           "legendgroup": "Afghanistan",
           "marker": {
            "color": "#636efa",
            "size": [
             16317921
            ],
            "sizemode": "area",
            "sizeref": 435928.2961983471,
            "symbol": "circle"
           },
           "mode": "markers",
           "name": "Afghanistan",
           "orientation": "v",
           "showlegend": true,
           "type": "scatter",
           "x": [
            649.3413952000002
           ],
           "xaxis": "x",
           "y": [
            41.674
           ],
           "yaxis": "y"
          },
          {
           "hovertemplate": "<b>%{hovertext}</b><br><br>country=Bahrain<br>year=1992<br>gdpPercap=%{x}<br>lifeExp=%{y}<br>pop=%{marker.size}<extra></extra>",
           "hovertext": [
            "Bahrain"
           ],
           "ids": [
            "Bahrain"
           ],
           "legendgroup": "Bahrain",
           "marker": {
            "color": "#EF553B",
            "size": [
             529491
            ],
            "sizemode": "area",
            "sizeref": 435928.2961983471,
            "symbol": "circle"
           },
           "mode": "markers",
           "name": "Bahrain",
           "orientation": "v",
           "showlegend": true,
           "type": "scatter",
           "x": [
            19035.57917
           ],
           "xaxis": "x",
           "y": [
            72.601
           ],
           "yaxis": "y"
          },
          {
           "hovertemplate": "<b>%{hovertext}</b><br><br>country=Bangladesh<br>year=1992<br>gdpPercap=%{x}<br>lifeExp=%{y}<br>pop=%{marker.size}<extra></extra>",
           "hovertext": [
            "Bangladesh"
           ],
           "ids": [
            "Bangladesh"
           ],
           "legendgroup": "Bangladesh",
           "marker": {
            "color": "#00cc96",
            "size": [
             113704579
            ],
            "sizemode": "area",
            "sizeref": 435928.2961983471,
            "symbol": "circle"
           },
           "mode": "markers",
           "name": "Bangladesh",
           "orientation": "v",
           "showlegend": true,
           "type": "scatter",
           "x": [
            837.8101642999999
           ],
           "xaxis": "x",
           "y": [
            56.018
           ],
           "yaxis": "y"
          },
          {
           "hovertemplate": "<b>%{hovertext}</b><br><br>country=Cambodia<br>year=1992<br>gdpPercap=%{x}<br>lifeExp=%{y}<br>pop=%{marker.size}<extra></extra>",
           "hovertext": [
            "Cambodia"
           ],
           "ids": [
            "Cambodia"
           ],
           "legendgroup": "Cambodia",
           "marker": {
            "color": "#ab63fa",
            "size": [
             10150094
            ],
            "sizemode": "area",
            "sizeref": 435928.2961983471,
            "symbol": "circle"
           },
           "mode": "markers",
           "name": "Cambodia",
           "orientation": "v",
           "showlegend": true,
           "type": "scatter",
           "x": [
            682.3031755
           ],
           "xaxis": "x",
           "y": [
            55.803
           ],
           "yaxis": "y"
          },
          {
           "hovertemplate": "<b>%{hovertext}</b><br><br>country=China<br>year=1992<br>gdpPercap=%{x}<br>lifeExp=%{y}<br>pop=%{marker.size}<extra></extra>",
           "hovertext": [
            "China"
           ],
           "ids": [
            "China"
           ],
           "legendgroup": "China",
           "marker": {
            "color": "#FFA15A",
            "size": [
             1164970000
            ],
            "sizemode": "area",
            "sizeref": 435928.2961983471,
            "symbol": "circle"
           },
           "mode": "markers",
           "name": "China",
           "orientation": "v",
           "showlegend": true,
           "type": "scatter",
           "x": [
            1655.784158
           ],
           "xaxis": "x",
           "y": [
            68.69
           ],
           "yaxis": "y"
          },
          {
           "hovertemplate": "<b>%{hovertext}</b><br><br>country=Hong Kong, China<br>year=1992<br>gdpPercap=%{x}<br>lifeExp=%{y}<br>pop=%{marker.size}<extra></extra>",
           "hovertext": [
            "Hong Kong, China"
           ],
           "ids": [
            "Hong Kong, China"
           ],
           "legendgroup": "Hong Kong, China",
           "marker": {
            "color": "#19d3f3",
            "size": [
             5829696
            ],
            "sizemode": "area",
            "sizeref": 435928.2961983471,
            "symbol": "circle"
           },
           "mode": "markers",
           "name": "Hong Kong, China",
           "orientation": "v",
           "showlegend": true,
           "type": "scatter",
           "x": [
            24757.60301
           ],
           "xaxis": "x",
           "y": [
            77.601
           ],
           "yaxis": "y"
          },
          {
           "hovertemplate": "<b>%{hovertext}</b><br><br>country=India<br>year=1992<br>gdpPercap=%{x}<br>lifeExp=%{y}<br>pop=%{marker.size}<extra></extra>",
           "hovertext": [
            "India"
           ],
           "ids": [
            "India"
           ],
           "legendgroup": "India",
           "marker": {
            "color": "#FF6692",
            "size": [
             872000000
            ],
            "sizemode": "area",
            "sizeref": 435928.2961983471,
            "symbol": "circle"
           },
           "mode": "markers",
           "name": "India",
           "orientation": "v",
           "showlegend": true,
           "type": "scatter",
           "x": [
            1164.406809
           ],
           "xaxis": "x",
           "y": [
            60.223
           ],
           "yaxis": "y"
          },
          {
           "hovertemplate": "<b>%{hovertext}</b><br><br>country=Indonesia<br>year=1992<br>gdpPercap=%{x}<br>lifeExp=%{y}<br>pop=%{marker.size}<extra></extra>",
           "hovertext": [
            "Indonesia"
           ],
           "ids": [
            "Indonesia"
           ],
           "legendgroup": "Indonesia",
           "marker": {
            "color": "#B6E880",
            "size": [
             184816000
            ],
            "sizemode": "area",
            "sizeref": 435928.2961983471,
            "symbol": "circle"
           },
           "mode": "markers",
           "name": "Indonesia",
           "orientation": "v",
           "showlegend": true,
           "type": "scatter",
           "x": [
            2383.140898
           ],
           "xaxis": "x",
           "y": [
            62.681
           ],
           "yaxis": "y"
          },
          {
           "hovertemplate": "<b>%{hovertext}</b><br><br>country=Iran<br>year=1992<br>gdpPercap=%{x}<br>lifeExp=%{y}<br>pop=%{marker.size}<extra></extra>",
           "hovertext": [
            "Iran"
           ],
           "ids": [
            "Iran"
           ],
           "legendgroup": "Iran",
           "marker": {
            "color": "#FF97FF",
            "size": [
             60397973
            ],
            "sizemode": "area",
            "sizeref": 435928.2961983471,
            "symbol": "circle"
           },
           "mode": "markers",
           "name": "Iran",
           "orientation": "v",
           "showlegend": true,
           "type": "scatter",
           "x": [
            7235.653187999998
           ],
           "xaxis": "x",
           "y": [
            65.742
           ],
           "yaxis": "y"
          },
          {
           "hovertemplate": "<b>%{hovertext}</b><br><br>country=Iraq<br>year=1992<br>gdpPercap=%{x}<br>lifeExp=%{y}<br>pop=%{marker.size}<extra></extra>",
           "hovertext": [
            "Iraq"
           ],
           "ids": [
            "Iraq"
           ],
           "legendgroup": "Iraq",
           "marker": {
            "color": "#FECB52",
            "size": [
             17861905
            ],
            "sizemode": "area",
            "sizeref": 435928.2961983471,
            "symbol": "circle"
           },
           "mode": "markers",
           "name": "Iraq",
           "orientation": "v",
           "showlegend": true,
           "type": "scatter",
           "x": [
            3745.640687
           ],
           "xaxis": "x",
           "y": [
            59.46100000000001
           ],
           "yaxis": "y"
          },
          {
           "hovertemplate": "<b>%{hovertext}</b><br><br>country=Israel<br>year=1992<br>gdpPercap=%{x}<br>lifeExp=%{y}<br>pop=%{marker.size}<extra></extra>",
           "hovertext": [
            "Israel"
           ],
           "ids": [
            "Israel"
           ],
           "legendgroup": "Israel",
           "marker": {
            "color": "#636efa",
            "size": [
             4936550
            ],
            "sizemode": "area",
            "sizeref": 435928.2961983471,
            "symbol": "circle"
           },
           "mode": "markers",
           "name": "Israel",
           "orientation": "v",
           "showlegend": true,
           "type": "scatter",
           "x": [
            18051.52254
           ],
           "xaxis": "x",
           "y": [
            76.93
           ],
           "yaxis": "y"
          },
          {
           "hovertemplate": "<b>%{hovertext}</b><br><br>country=Japan<br>year=1992<br>gdpPercap=%{x}<br>lifeExp=%{y}<br>pop=%{marker.size}<extra></extra>",
           "hovertext": [
            "Japan"
           ],
           "ids": [
            "Japan"
           ],
           "legendgroup": "Japan",
           "marker": {
            "color": "#EF553B",
            "size": [
             124329269
            ],
            "sizemode": "area",
            "sizeref": 435928.2961983471,
            "symbol": "circle"
           },
           "mode": "markers",
           "name": "Japan",
           "orientation": "v",
           "showlegend": true,
           "type": "scatter",
           "x": [
            26824.89511
           ],
           "xaxis": "x",
           "y": [
            79.36
           ],
           "yaxis": "y"
          },
          {
           "hovertemplate": "<b>%{hovertext}</b><br><br>country=Jordan<br>year=1992<br>gdpPercap=%{x}<br>lifeExp=%{y}<br>pop=%{marker.size}<extra></extra>",
           "hovertext": [
            "Jordan"
           ],
           "ids": [
            "Jordan"
           ],
           "legendgroup": "Jordan",
           "marker": {
            "color": "#00cc96",
            "size": [
             3867409
            ],
            "sizemode": "area",
            "sizeref": 435928.2961983471,
            "symbol": "circle"
           },
           "mode": "markers",
           "name": "Jordan",
           "orientation": "v",
           "showlegend": true,
           "type": "scatter",
           "x": [
            3431.593647
           ],
           "xaxis": "x",
           "y": [
            68.015
           ],
           "yaxis": "y"
          },
          {
           "hovertemplate": "<b>%{hovertext}</b><br><br>country=Korea, Dem. Rep.<br>year=1992<br>gdpPercap=%{x}<br>lifeExp=%{y}<br>pop=%{marker.size}<extra></extra>",
           "hovertext": [
            "Korea, Dem. Rep."
           ],
           "ids": [
            "Korea, Dem. Rep."
           ],
           "legendgroup": "Korea, Dem. Rep.",
           "marker": {
            "color": "#ab63fa",
            "size": [
             20711375
            ],
            "sizemode": "area",
            "sizeref": 435928.2961983471,
            "symbol": "circle"
           },
           "mode": "markers",
           "name": "Korea, Dem. Rep.",
           "orientation": "v",
           "showlegend": true,
           "type": "scatter",
           "x": [
            3726.063507
           ],
           "xaxis": "x",
           "y": [
            69.97800000000001
           ],
           "yaxis": "y"
          },
          {
           "hovertemplate": "<b>%{hovertext}</b><br><br>country=Korea, Rep.<br>year=1992<br>gdpPercap=%{x}<br>lifeExp=%{y}<br>pop=%{marker.size}<extra></extra>",
           "hovertext": [
            "Korea, Rep."
           ],
           "ids": [
            "Korea, Rep."
           ],
           "legendgroup": "Korea, Rep.",
           "marker": {
            "color": "#FFA15A",
            "size": [
             43805450
            ],
            "sizemode": "area",
            "sizeref": 435928.2961983471,
            "symbol": "circle"
           },
           "mode": "markers",
           "name": "Korea, Rep.",
           "orientation": "v",
           "showlegend": true,
           "type": "scatter",
           "x": [
            12104.27872
           ],
           "xaxis": "x",
           "y": [
            72.244
           ],
           "yaxis": "y"
          },
          {
           "hovertemplate": "<b>%{hovertext}</b><br><br>country=Kuwait<br>year=1992<br>gdpPercap=%{x}<br>lifeExp=%{y}<br>pop=%{marker.size}<extra></extra>",
           "hovertext": [
            "Kuwait"
           ],
           "ids": [
            "Kuwait"
           ],
           "legendgroup": "Kuwait",
           "marker": {
            "color": "#19d3f3",
            "size": [
             1418095
            ],
            "sizemode": "area",
            "sizeref": 435928.2961983471,
            "symbol": "circle"
           },
           "mode": "markers",
           "name": "Kuwait",
           "orientation": "v",
           "showlegend": true,
           "type": "scatter",
           "x": [
            34932.91959
           ],
           "xaxis": "x",
           "y": [
            75.19
           ],
           "yaxis": "y"
          },
          {
           "hovertemplate": "<b>%{hovertext}</b><br><br>country=Lebanon<br>year=1992<br>gdpPercap=%{x}<br>lifeExp=%{y}<br>pop=%{marker.size}<extra></extra>",
           "hovertext": [
            "Lebanon"
           ],
           "ids": [
            "Lebanon"
           ],
           "legendgroup": "Lebanon",
           "marker": {
            "color": "#FF6692",
            "size": [
             3219994
            ],
            "sizemode": "area",
            "sizeref": 435928.2961983471,
            "symbol": "circle"
           },
           "mode": "markers",
           "name": "Lebanon",
           "orientation": "v",
           "showlegend": true,
           "type": "scatter",
           "x": [
            6890.806854
           ],
           "xaxis": "x",
           "y": [
            69.292
           ],
           "yaxis": "y"
          },
          {
           "hovertemplate": "<b>%{hovertext}</b><br><br>country=Malaysia<br>year=1992<br>gdpPercap=%{x}<br>lifeExp=%{y}<br>pop=%{marker.size}<extra></extra>",
           "hovertext": [
            "Malaysia"
           ],
           "ids": [
            "Malaysia"
           ],
           "legendgroup": "Malaysia",
           "marker": {
            "color": "#B6E880",
            "size": [
             18319502
            ],
            "sizemode": "area",
            "sizeref": 435928.2961983471,
            "symbol": "circle"
           },
           "mode": "markers",
           "name": "Malaysia",
           "orientation": "v",
           "showlegend": true,
           "type": "scatter",
           "x": [
            7277.912802
           ],
           "xaxis": "x",
           "y": [
            70.693
           ],
           "yaxis": "y"
          },
          {
           "hovertemplate": "<b>%{hovertext}</b><br><br>country=Mongolia<br>year=1992<br>gdpPercap=%{x}<br>lifeExp=%{y}<br>pop=%{marker.size}<extra></extra>",
           "hovertext": [
            "Mongolia"
           ],
           "ids": [
            "Mongolia"
           ],
           "legendgroup": "Mongolia",
           "marker": {
            "color": "#FF97FF",
            "size": [
             2312802
            ],
            "sizemode": "area",
            "sizeref": 435928.2961983471,
            "symbol": "circle"
           },
           "mode": "markers",
           "name": "Mongolia",
           "orientation": "v",
           "showlegend": true,
           "type": "scatter",
           "x": [
            1785.402016
           ],
           "xaxis": "x",
           "y": [
            61.271
           ],
           "yaxis": "y"
          },
          {
           "hovertemplate": "<b>%{hovertext}</b><br><br>country=Myanmar<br>year=1992<br>gdpPercap=%{x}<br>lifeExp=%{y}<br>pop=%{marker.size}<extra></extra>",
           "hovertext": [
            "Myanmar"
           ],
           "ids": [
            "Myanmar"
           ],
           "legendgroup": "Myanmar",
           "marker": {
            "color": "#FECB52",
            "size": [
             40546538
            ],
            "sizemode": "area",
            "sizeref": 435928.2961983471,
            "symbol": "circle"
           },
           "mode": "markers",
           "name": "Myanmar",
           "orientation": "v",
           "showlegend": true,
           "type": "scatter",
           "x": [
            347
           ],
           "xaxis": "x",
           "y": [
            59.32
           ],
           "yaxis": "y"
          },
          {
           "hovertemplate": "<b>%{hovertext}</b><br><br>country=Nepal<br>year=1992<br>gdpPercap=%{x}<br>lifeExp=%{y}<br>pop=%{marker.size}<extra></extra>",
           "hovertext": [
            "Nepal"
           ],
           "ids": [
            "Nepal"
           ],
           "legendgroup": "Nepal",
           "marker": {
            "color": "#636efa",
            "size": [
             20326209
            ],
            "sizemode": "area",
            "sizeref": 435928.2961983471,
            "symbol": "circle"
           },
           "mode": "markers",
           "name": "Nepal",
           "orientation": "v",
           "showlegend": true,
           "type": "scatter",
           "x": [
            897.7403604
           ],
           "xaxis": "x",
           "y": [
            55.727
           ],
           "yaxis": "y"
          },
          {
           "hovertemplate": "<b>%{hovertext}</b><br><br>country=Oman<br>year=1992<br>gdpPercap=%{x}<br>lifeExp=%{y}<br>pop=%{marker.size}<extra></extra>",
           "hovertext": [
            "Oman"
           ],
           "ids": [
            "Oman"
           ],
           "legendgroup": "Oman",
           "marker": {
            "color": "#EF553B",
            "size": [
             1915208
            ],
            "sizemode": "area",
            "sizeref": 435928.2961983471,
            "symbol": "circle"
           },
           "mode": "markers",
           "name": "Oman",
           "orientation": "v",
           "showlegend": true,
           "type": "scatter",
           "x": [
            18616.70691
           ],
           "xaxis": "x",
           "y": [
            71.197
           ],
           "yaxis": "y"
          },
          {
           "hovertemplate": "<b>%{hovertext}</b><br><br>country=Pakistan<br>year=1992<br>gdpPercap=%{x}<br>lifeExp=%{y}<br>pop=%{marker.size}<extra></extra>",
           "hovertext": [
            "Pakistan"
           ],
           "ids": [
            "Pakistan"
           ],
           "legendgroup": "Pakistan",
           "marker": {
            "color": "#00cc96",
            "size": [
             120065004
            ],
            "sizemode": "area",
            "sizeref": 435928.2961983471,
            "symbol": "circle"
           },
           "mode": "markers",
           "name": "Pakistan",
           "orientation": "v",
           "showlegend": true,
           "type": "scatter",
           "x": [
            1971.829464
           ],
           "xaxis": "x",
           "y": [
            60.838
           ],
           "yaxis": "y"
          },
          {
           "hovertemplate": "<b>%{hovertext}</b><br><br>country=Philippines<br>year=1992<br>gdpPercap=%{x}<br>lifeExp=%{y}<br>pop=%{marker.size}<extra></extra>",
           "hovertext": [
            "Philippines"
           ],
           "ids": [
            "Philippines"
           ],
           "legendgroup": "Philippines",
           "marker": {
            "color": "#ab63fa",
            "size": [
             67185766
            ],
            "sizemode": "area",
            "sizeref": 435928.2961983471,
            "symbol": "circle"
           },
           "mode": "markers",
           "name": "Philippines",
           "orientation": "v",
           "showlegend": true,
           "type": "scatter",
           "x": [
            2279.324017000001
           ],
           "xaxis": "x",
           "y": [
            66.458
           ],
           "yaxis": "y"
          },
          {
           "hovertemplate": "<b>%{hovertext}</b><br><br>country=Saudi Arabia<br>year=1992<br>gdpPercap=%{x}<br>lifeExp=%{y}<br>pop=%{marker.size}<extra></extra>",
           "hovertext": [
            "Saudi Arabia"
           ],
           "ids": [
            "Saudi Arabia"
           ],
           "legendgroup": "Saudi Arabia",
           "marker": {
            "color": "#FFA15A",
            "size": [
             16945857
            ],
            "sizemode": "area",
            "sizeref": 435928.2961983471,
            "symbol": "circle"
           },
           "mode": "markers",
           "name": "Saudi Arabia",
           "orientation": "v",
           "showlegend": true,
           "type": "scatter",
           "x": [
            24841.61777
           ],
           "xaxis": "x",
           "y": [
            68.768
           ],
           "yaxis": "y"
          },
          {
           "hovertemplate": "<b>%{hovertext}</b><br><br>country=Singapore<br>year=1992<br>gdpPercap=%{x}<br>lifeExp=%{y}<br>pop=%{marker.size}<extra></extra>",
           "hovertext": [
            "Singapore"
           ],
           "ids": [
            "Singapore"
           ],
           "legendgroup": "Singapore",
           "marker": {
            "color": "#19d3f3",
            "size": [
             3235865
            ],
            "sizemode": "area",
            "sizeref": 435928.2961983471,
            "symbol": "circle"
           },
           "mode": "markers",
           "name": "Singapore",
           "orientation": "v",
           "showlegend": true,
           "type": "scatter",
           "x": [
            24769.8912
           ],
           "xaxis": "x",
           "y": [
            75.788
           ],
           "yaxis": "y"
          },
          {
           "hovertemplate": "<b>%{hovertext}</b><br><br>country=Sri Lanka<br>year=1992<br>gdpPercap=%{x}<br>lifeExp=%{y}<br>pop=%{marker.size}<extra></extra>",
           "hovertext": [
            "Sri Lanka"
           ],
           "ids": [
            "Sri Lanka"
           ],
           "legendgroup": "Sri Lanka",
           "marker": {
            "color": "#FF6692",
            "size": [
             17587060
            ],
            "sizemode": "area",
            "sizeref": 435928.2961983471,
            "symbol": "circle"
           },
           "mode": "markers",
           "name": "Sri Lanka",
           "orientation": "v",
           "showlegend": true,
           "type": "scatter",
           "x": [
            2153.739222
           ],
           "xaxis": "x",
           "y": [
            70.37899999999998
           ],
           "yaxis": "y"
          },
          {
           "hovertemplate": "<b>%{hovertext}</b><br><br>country=Syria<br>year=1992<br>gdpPercap=%{x}<br>lifeExp=%{y}<br>pop=%{marker.size}<extra></extra>",
           "hovertext": [
            "Syria"
           ],
           "ids": [
            "Syria"
           ],
           "legendgroup": "Syria",
           "marker": {
            "color": "#B6E880",
            "size": [
             13219062
            ],
            "sizemode": "area",
            "sizeref": 435928.2961983471,
            "symbol": "circle"
           },
           "mode": "markers",
           "name": "Syria",
           "orientation": "v",
           "showlegend": true,
           "type": "scatter",
           "x": [
            3340.542768
           ],
           "xaxis": "x",
           "y": [
            69.249
           ],
           "yaxis": "y"
          },
          {
           "hovertemplate": "<b>%{hovertext}</b><br><br>country=Taiwan<br>year=1992<br>gdpPercap=%{x}<br>lifeExp=%{y}<br>pop=%{marker.size}<extra></extra>",
           "hovertext": [
            "Taiwan"
           ],
           "ids": [
            "Taiwan"
           ],
           "legendgroup": "Taiwan",
           "marker": {
            "color": "#FF97FF",
            "size": [
             20686918
            ],
            "sizemode": "area",
            "sizeref": 435928.2961983471,
            "symbol": "circle"
           },
           "mode": "markers",
           "name": "Taiwan",
           "orientation": "v",
           "showlegend": true,
           "type": "scatter",
           "x": [
            15215.6579
           ],
           "xaxis": "x",
           "y": [
            74.26
           ],
           "yaxis": "y"
          },
          {
           "hovertemplate": "<b>%{hovertext}</b><br><br>country=Thailand<br>year=1992<br>gdpPercap=%{x}<br>lifeExp=%{y}<br>pop=%{marker.size}<extra></extra>",
           "hovertext": [
            "Thailand"
           ],
           "ids": [
            "Thailand"
           ],
           "legendgroup": "Thailand",
           "marker": {
            "color": "#FECB52",
            "size": [
             56667095
            ],
            "sizemode": "area",
            "sizeref": 435928.2961983471,
            "symbol": "circle"
           },
           "mode": "markers",
           "name": "Thailand",
           "orientation": "v",
           "showlegend": true,
           "type": "scatter",
           "x": [
            4616.896545000001
           ],
           "xaxis": "x",
           "y": [
            67.298
           ],
           "yaxis": "y"
          },
          {
           "hovertemplate": "<b>%{hovertext}</b><br><br>country=Vietnam<br>year=1992<br>gdpPercap=%{x}<br>lifeExp=%{y}<br>pop=%{marker.size}<extra></extra>",
           "hovertext": [
            "Vietnam"
           ],
           "ids": [
            "Vietnam"
           ],
           "legendgroup": "Vietnam",
           "marker": {
            "color": "#636efa",
            "size": [
             69940728
            ],
            "sizemode": "area",
            "sizeref": 435928.2961983471,
            "symbol": "circle"
           },
           "mode": "markers",
           "name": "Vietnam",
           "orientation": "v",
           "showlegend": true,
           "type": "scatter",
           "x": [
            989.0231487
           ],
           "xaxis": "x",
           "y": [
            67.66199999999999
           ],
           "yaxis": "y"
          },
          {
           "hovertemplate": "<b>%{hovertext}</b><br><br>country=West Bank and Gaza<br>year=1992<br>gdpPercap=%{x}<br>lifeExp=%{y}<br>pop=%{marker.size}<extra></extra>",
           "hovertext": [
            "West Bank and Gaza"
           ],
           "ids": [
            "West Bank and Gaza"
           ],
           "legendgroup": "West Bank and Gaza",
           "marker": {
            "color": "#EF553B",
            "size": [
             2104779
            ],
            "sizemode": "area",
            "sizeref": 435928.2961983471,
            "symbol": "circle"
           },
           "mode": "markers",
           "name": "West Bank and Gaza",
           "orientation": "v",
           "showlegend": true,
           "type": "scatter",
           "x": [
            6017.654756
           ],
           "xaxis": "x",
           "y": [
            69.718
           ],
           "yaxis": "y"
          },
          {
           "hovertemplate": "<b>%{hovertext}</b><br><br>country=Yemen, Rep.<br>year=1992<br>gdpPercap=%{x}<br>lifeExp=%{y}<br>pop=%{marker.size}<extra></extra>",
           "hovertext": [
            "Yemen, Rep."
           ],
           "ids": [
            "Yemen, Rep."
           ],
           "legendgroup": "Yemen, Rep.",
           "marker": {
            "color": "#00cc96",
            "size": [
             13367997
            ],
            "sizemode": "area",
            "sizeref": 435928.2961983471,
            "symbol": "circle"
           },
           "mode": "markers",
           "name": "Yemen, Rep.",
           "orientation": "v",
           "showlegend": true,
           "type": "scatter",
           "x": [
            1879.496673
           ],
           "xaxis": "x",
           "y": [
            55.599
           ],
           "yaxis": "y"
          }
         ],
         "name": "1992"
        },
        {
         "data": [
          {
           "hovertemplate": "<b>%{hovertext}</b><br><br>country=Afghanistan<br>year=1997<br>gdpPercap=%{x}<br>lifeExp=%{y}<br>pop=%{marker.size}<extra></extra>",
           "hovertext": [
            "Afghanistan"
           ],
           "ids": [
            "Afghanistan"
           ],
           "legendgroup": "Afghanistan",
           "marker": {
            "color": "#636efa",
            "size": [
             22227415
            ],
            "sizemode": "area",
            "sizeref": 435928.2961983471,
            "symbol": "circle"
           },
           "mode": "markers",
           "name": "Afghanistan",
           "orientation": "v",
           "showlegend": true,
           "type": "scatter",
           "x": [
            635.341351
           ],
           "xaxis": "x",
           "y": [
            41.76300000000001
           ],
           "yaxis": "y"
          },
          {
           "hovertemplate": "<b>%{hovertext}</b><br><br>country=Bahrain<br>year=1997<br>gdpPercap=%{x}<br>lifeExp=%{y}<br>pop=%{marker.size}<extra></extra>",
           "hovertext": [
            "Bahrain"
           ],
           "ids": [
            "Bahrain"
           ],
           "legendgroup": "Bahrain",
           "marker": {
            "color": "#EF553B",
            "size": [
             598561
            ],
            "sizemode": "area",
            "sizeref": 435928.2961983471,
            "symbol": "circle"
           },
           "mode": "markers",
           "name": "Bahrain",
           "orientation": "v",
           "showlegend": true,
           "type": "scatter",
           "x": [
            20292.01679
           ],
           "xaxis": "x",
           "y": [
            73.925
           ],
           "yaxis": "y"
          },
          {
           "hovertemplate": "<b>%{hovertext}</b><br><br>country=Bangladesh<br>year=1997<br>gdpPercap=%{x}<br>lifeExp=%{y}<br>pop=%{marker.size}<extra></extra>",
           "hovertext": [
            "Bangladesh"
           ],
           "ids": [
            "Bangladesh"
           ],
           "legendgroup": "Bangladesh",
           "marker": {
            "color": "#00cc96",
            "size": [
             123315288
            ],
            "sizemode": "area",
            "sizeref": 435928.2961983471,
            "symbol": "circle"
           },
           "mode": "markers",
           "name": "Bangladesh",
           "orientation": "v",
           "showlegend": true,
           "type": "scatter",
           "x": [
            972.7700352
           ],
           "xaxis": "x",
           "y": [
            59.412
           ],
           "yaxis": "y"
          },
          {
           "hovertemplate": "<b>%{hovertext}</b><br><br>country=Cambodia<br>year=1997<br>gdpPercap=%{x}<br>lifeExp=%{y}<br>pop=%{marker.size}<extra></extra>",
           "hovertext": [
            "Cambodia"
           ],
           "ids": [
            "Cambodia"
           ],
           "legendgroup": "Cambodia",
           "marker": {
            "color": "#ab63fa",
            "size": [
             11782962
            ],
            "sizemode": "area",
            "sizeref": 435928.2961983471,
            "symbol": "circle"
           },
           "mode": "markers",
           "name": "Cambodia",
           "orientation": "v",
           "showlegend": true,
           "type": "scatter",
           "x": [
            734.28517
           ],
           "xaxis": "x",
           "y": [
            56.534
           ],
           "yaxis": "y"
          },
          {
           "hovertemplate": "<b>%{hovertext}</b><br><br>country=China<br>year=1997<br>gdpPercap=%{x}<br>lifeExp=%{y}<br>pop=%{marker.size}<extra></extra>",
           "hovertext": [
            "China"
           ],
           "ids": [
            "China"
           ],
           "legendgroup": "China",
           "marker": {
            "color": "#FFA15A",
            "size": [
             1230075000
            ],
            "sizemode": "area",
            "sizeref": 435928.2961983471,
            "symbol": "circle"
           },
           "mode": "markers",
           "name": "China",
           "orientation": "v",
           "showlegend": true,
           "type": "scatter",
           "x": [
            2289.234136
           ],
           "xaxis": "x",
           "y": [
            70.426
           ],
           "yaxis": "y"
          },
          {
           "hovertemplate": "<b>%{hovertext}</b><br><br>country=Hong Kong, China<br>year=1997<br>gdpPercap=%{x}<br>lifeExp=%{y}<br>pop=%{marker.size}<extra></extra>",
           "hovertext": [
            "Hong Kong, China"
           ],
           "ids": [
            "Hong Kong, China"
           ],
           "legendgroup": "Hong Kong, China",
           "marker": {
            "color": "#19d3f3",
            "size": [
             6495918
            ],
            "sizemode": "area",
            "sizeref": 435928.2961983471,
            "symbol": "circle"
           },
           "mode": "markers",
           "name": "Hong Kong, China",
           "orientation": "v",
           "showlegend": true,
           "type": "scatter",
           "x": [
            28377.63219
           ],
           "xaxis": "x",
           "y": [
            80
           ],
           "yaxis": "y"
          },
          {
           "hovertemplate": "<b>%{hovertext}</b><br><br>country=India<br>year=1997<br>gdpPercap=%{x}<br>lifeExp=%{y}<br>pop=%{marker.size}<extra></extra>",
           "hovertext": [
            "India"
           ],
           "ids": [
            "India"
           ],
           "legendgroup": "India",
           "marker": {
            "color": "#FF6692",
            "size": [
             959000000
            ],
            "sizemode": "area",
            "sizeref": 435928.2961983471,
            "symbol": "circle"
           },
           "mode": "markers",
           "name": "India",
           "orientation": "v",
           "showlegend": true,
           "type": "scatter",
           "x": [
            1458.817442
           ],
           "xaxis": "x",
           "y": [
            61.765
           ],
           "yaxis": "y"
          },
          {
           "hovertemplate": "<b>%{hovertext}</b><br><br>country=Indonesia<br>year=1997<br>gdpPercap=%{x}<br>lifeExp=%{y}<br>pop=%{marker.size}<extra></extra>",
           "hovertext": [
            "Indonesia"
           ],
           "ids": [
            "Indonesia"
           ],
           "legendgroup": "Indonesia",
           "marker": {
            "color": "#B6E880",
            "size": [
             199278000
            ],
            "sizemode": "area",
            "sizeref": 435928.2961983471,
            "symbol": "circle"
           },
           "mode": "markers",
           "name": "Indonesia",
           "orientation": "v",
           "showlegend": true,
           "type": "scatter",
           "x": [
            3119.335603
           ],
           "xaxis": "x",
           "y": [
            66.041
           ],
           "yaxis": "y"
          },
          {
           "hovertemplate": "<b>%{hovertext}</b><br><br>country=Iran<br>year=1997<br>gdpPercap=%{x}<br>lifeExp=%{y}<br>pop=%{marker.size}<extra></extra>",
           "hovertext": [
            "Iran"
           ],
           "ids": [
            "Iran"
           ],
           "legendgroup": "Iran",
           "marker": {
            "color": "#FF97FF",
            "size": [
             63327987
            ],
            "sizemode": "area",
            "sizeref": 435928.2961983471,
            "symbol": "circle"
           },
           "mode": "markers",
           "name": "Iran",
           "orientation": "v",
           "showlegend": true,
           "type": "scatter",
           "x": [
            8263.590301
           ],
           "xaxis": "x",
           "y": [
            68.042
           ],
           "yaxis": "y"
          },
          {
           "hovertemplate": "<b>%{hovertext}</b><br><br>country=Iraq<br>year=1997<br>gdpPercap=%{x}<br>lifeExp=%{y}<br>pop=%{marker.size}<extra></extra>",
           "hovertext": [
            "Iraq"
           ],
           "ids": [
            "Iraq"
           ],
           "legendgroup": "Iraq",
           "marker": {
            "color": "#FECB52",
            "size": [
             20775703
            ],
            "sizemode": "area",
            "sizeref": 435928.2961983471,
            "symbol": "circle"
           },
           "mode": "markers",
           "name": "Iraq",
           "orientation": "v",
           "showlegend": true,
           "type": "scatter",
           "x": [
            3076.239795
           ],
           "xaxis": "x",
           "y": [
            58.81100000000001
           ],
           "yaxis": "y"
          },
          {
           "hovertemplate": "<b>%{hovertext}</b><br><br>country=Israel<br>year=1997<br>gdpPercap=%{x}<br>lifeExp=%{y}<br>pop=%{marker.size}<extra></extra>",
           "hovertext": [
            "Israel"
           ],
           "ids": [
            "Israel"
           ],
           "legendgroup": "Israel",
           "marker": {
            "color": "#636efa",
            "size": [
             5531387
            ],
            "sizemode": "area",
            "sizeref": 435928.2961983471,
            "symbol": "circle"
           },
           "mode": "markers",
           "name": "Israel",
           "orientation": "v",
           "showlegend": true,
           "type": "scatter",
           "x": [
            20896.60924
           ],
           "xaxis": "x",
           "y": [
            78.26899999999998
           ],
           "yaxis": "y"
          },
          {
           "hovertemplate": "<b>%{hovertext}</b><br><br>country=Japan<br>year=1997<br>gdpPercap=%{x}<br>lifeExp=%{y}<br>pop=%{marker.size}<extra></extra>",
           "hovertext": [
            "Japan"
           ],
           "ids": [
            "Japan"
           ],
           "legendgroup": "Japan",
           "marker": {
            "color": "#EF553B",
            "size": [
             125956499
            ],
            "sizemode": "area",
            "sizeref": 435928.2961983471,
            "symbol": "circle"
           },
           "mode": "markers",
           "name": "Japan",
           "orientation": "v",
           "showlegend": true,
           "type": "scatter",
           "x": [
            28816.58499
           ],
           "xaxis": "x",
           "y": [
            80.69
           ],
           "yaxis": "y"
          },
          {
           "hovertemplate": "<b>%{hovertext}</b><br><br>country=Jordan<br>year=1997<br>gdpPercap=%{x}<br>lifeExp=%{y}<br>pop=%{marker.size}<extra></extra>",
           "hovertext": [
            "Jordan"
           ],
           "ids": [
            "Jordan"
           ],
           "legendgroup": "Jordan",
           "marker": {
            "color": "#00cc96",
            "size": [
             4526235
            ],
            "sizemode": "area",
            "sizeref": 435928.2961983471,
            "symbol": "circle"
           },
           "mode": "markers",
           "name": "Jordan",
           "orientation": "v",
           "showlegend": true,
           "type": "scatter",
           "x": [
            3645.379572
           ],
           "xaxis": "x",
           "y": [
            69.77199999999999
           ],
           "yaxis": "y"
          },
          {
           "hovertemplate": "<b>%{hovertext}</b><br><br>country=Korea, Dem. Rep.<br>year=1997<br>gdpPercap=%{x}<br>lifeExp=%{y}<br>pop=%{marker.size}<extra></extra>",
           "hovertext": [
            "Korea, Dem. Rep."
           ],
           "ids": [
            "Korea, Dem. Rep."
           ],
           "legendgroup": "Korea, Dem. Rep.",
           "marker": {
            "color": "#ab63fa",
            "size": [
             21585105
            ],
            "sizemode": "area",
            "sizeref": 435928.2961983471,
            "symbol": "circle"
           },
           "mode": "markers",
           "name": "Korea, Dem. Rep.",
           "orientation": "v",
           "showlegend": true,
           "type": "scatter",
           "x": [
            1690.756814
           ],
           "xaxis": "x",
           "y": [
            67.727
           ],
           "yaxis": "y"
          },
          {
           "hovertemplate": "<b>%{hovertext}</b><br><br>country=Korea, Rep.<br>year=1997<br>gdpPercap=%{x}<br>lifeExp=%{y}<br>pop=%{marker.size}<extra></extra>",
           "hovertext": [
            "Korea, Rep."
           ],
           "ids": [
            "Korea, Rep."
           ],
           "legendgroup": "Korea, Rep.",
           "marker": {
            "color": "#FFA15A",
            "size": [
             46173816
            ],
            "sizemode": "area",
            "sizeref": 435928.2961983471,
            "symbol": "circle"
           },
           "mode": "markers",
           "name": "Korea, Rep.",
           "orientation": "v",
           "showlegend": true,
           "type": "scatter",
           "x": [
            15993.52796
           ],
           "xaxis": "x",
           "y": [
            74.64699999999998
           ],
           "yaxis": "y"
          },
          {
           "hovertemplate": "<b>%{hovertext}</b><br><br>country=Kuwait<br>year=1997<br>gdpPercap=%{x}<br>lifeExp=%{y}<br>pop=%{marker.size}<extra></extra>",
           "hovertext": [
            "Kuwait"
           ],
           "ids": [
            "Kuwait"
           ],
           "legendgroup": "Kuwait",
           "marker": {
            "color": "#19d3f3",
            "size": [
             1765345
            ],
            "sizemode": "area",
            "sizeref": 435928.2961983471,
            "symbol": "circle"
           },
           "mode": "markers",
           "name": "Kuwait",
           "orientation": "v",
           "showlegend": true,
           "type": "scatter",
           "x": [
            40300.61996
           ],
           "xaxis": "x",
           "y": [
            76.156
           ],
           "yaxis": "y"
          },
          {
           "hovertemplate": "<b>%{hovertext}</b><br><br>country=Lebanon<br>year=1997<br>gdpPercap=%{x}<br>lifeExp=%{y}<br>pop=%{marker.size}<extra></extra>",
           "hovertext": [
            "Lebanon"
           ],
           "ids": [
            "Lebanon"
           ],
           "legendgroup": "Lebanon",
           "marker": {
            "color": "#FF6692",
            "size": [
             3430388
            ],
            "sizemode": "area",
            "sizeref": 435928.2961983471,
            "symbol": "circle"
           },
           "mode": "markers",
           "name": "Lebanon",
           "orientation": "v",
           "showlegend": true,
           "type": "scatter",
           "x": [
            8754.96385
           ],
           "xaxis": "x",
           "y": [
            70.265
           ],
           "yaxis": "y"
          },
          {
           "hovertemplate": "<b>%{hovertext}</b><br><br>country=Malaysia<br>year=1997<br>gdpPercap=%{x}<br>lifeExp=%{y}<br>pop=%{marker.size}<extra></extra>",
           "hovertext": [
            "Malaysia"
           ],
           "ids": [
            "Malaysia"
           ],
           "legendgroup": "Malaysia",
           "marker": {
            "color": "#B6E880",
            "size": [
             20476091
            ],
            "sizemode": "area",
            "sizeref": 435928.2961983471,
            "symbol": "circle"
           },
           "mode": "markers",
           "name": "Malaysia",
           "orientation": "v",
           "showlegend": true,
           "type": "scatter",
           "x": [
            10132.90964
           ],
           "xaxis": "x",
           "y": [
            71.938
           ],
           "yaxis": "y"
          },
          {
           "hovertemplate": "<b>%{hovertext}</b><br><br>country=Mongolia<br>year=1997<br>gdpPercap=%{x}<br>lifeExp=%{y}<br>pop=%{marker.size}<extra></extra>",
           "hovertext": [
            "Mongolia"
           ],
           "ids": [
            "Mongolia"
           ],
           "legendgroup": "Mongolia",
           "marker": {
            "color": "#FF97FF",
            "size": [
             2494803
            ],
            "sizemode": "area",
            "sizeref": 435928.2961983471,
            "symbol": "circle"
           },
           "mode": "markers",
           "name": "Mongolia",
           "orientation": "v",
           "showlegend": true,
           "type": "scatter",
           "x": [
            1902.2521
           ],
           "xaxis": "x",
           "y": [
            63.625
           ],
           "yaxis": "y"
          },
          {
           "hovertemplate": "<b>%{hovertext}</b><br><br>country=Myanmar<br>year=1997<br>gdpPercap=%{x}<br>lifeExp=%{y}<br>pop=%{marker.size}<extra></extra>",
           "hovertext": [
            "Myanmar"
           ],
           "ids": [
            "Myanmar"
           ],
           "legendgroup": "Myanmar",
           "marker": {
            "color": "#FECB52",
            "size": [
             43247867
            ],
            "sizemode": "area",
            "sizeref": 435928.2961983471,
            "symbol": "circle"
           },
           "mode": "markers",
           "name": "Myanmar",
           "orientation": "v",
           "showlegend": true,
           "type": "scatter",
           "x": [
            415
           ],
           "xaxis": "x",
           "y": [
            60.328
           ],
           "yaxis": "y"
          },
          {
           "hovertemplate": "<b>%{hovertext}</b><br><br>country=Nepal<br>year=1997<br>gdpPercap=%{x}<br>lifeExp=%{y}<br>pop=%{marker.size}<extra></extra>",
           "hovertext": [
            "Nepal"
           ],
           "ids": [
            "Nepal"
           ],
           "legendgroup": "Nepal",
           "marker": {
            "color": "#636efa",
            "size": [
             23001113
            ],
            "sizemode": "area",
            "sizeref": 435928.2961983471,
            "symbol": "circle"
           },
           "mode": "markers",
           "name": "Nepal",
           "orientation": "v",
           "showlegend": true,
           "type": "scatter",
           "x": [
            1010.892138
           ],
           "xaxis": "x",
           "y": [
            59.426
           ],
           "yaxis": "y"
          },
          {
           "hovertemplate": "<b>%{hovertext}</b><br><br>country=Oman<br>year=1997<br>gdpPercap=%{x}<br>lifeExp=%{y}<br>pop=%{marker.size}<extra></extra>",
           "hovertext": [
            "Oman"
           ],
           "ids": [
            "Oman"
           ],
           "legendgroup": "Oman",
           "marker": {
            "color": "#EF553B",
            "size": [
             2283635
            ],
            "sizemode": "area",
            "sizeref": 435928.2961983471,
            "symbol": "circle"
           },
           "mode": "markers",
           "name": "Oman",
           "orientation": "v",
           "showlegend": true,
           "type": "scatter",
           "x": [
            19702.05581
           ],
           "xaxis": "x",
           "y": [
            72.499
           ],
           "yaxis": "y"
          },
          {
           "hovertemplate": "<b>%{hovertext}</b><br><br>country=Pakistan<br>year=1997<br>gdpPercap=%{x}<br>lifeExp=%{y}<br>pop=%{marker.size}<extra></extra>",
           "hovertext": [
            "Pakistan"
           ],
           "ids": [
            "Pakistan"
           ],
           "legendgroup": "Pakistan",
           "marker": {
            "color": "#00cc96",
            "size": [
             135564834
            ],
            "sizemode": "area",
            "sizeref": 435928.2961983471,
            "symbol": "circle"
           },
           "mode": "markers",
           "name": "Pakistan",
           "orientation": "v",
           "showlegend": true,
           "type": "scatter",
           "x": [
            2049.3505210000008
           ],
           "xaxis": "x",
           "y": [
            61.81800000000001
           ],
           "yaxis": "y"
          },
          {
           "hovertemplate": "<b>%{hovertext}</b><br><br>country=Philippines<br>year=1997<br>gdpPercap=%{x}<br>lifeExp=%{y}<br>pop=%{marker.size}<extra></extra>",
           "hovertext": [
            "Philippines"
           ],
           "ids": [
            "Philippines"
           ],
           "legendgroup": "Philippines",
           "marker": {
            "color": "#ab63fa",
            "size": [
             75012988
            ],
            "sizemode": "area",
            "sizeref": 435928.2961983471,
            "symbol": "circle"
           },
           "mode": "markers",
           "name": "Philippines",
           "orientation": "v",
           "showlegend": true,
           "type": "scatter",
           "x": [
            2536.534925
           ],
           "xaxis": "x",
           "y": [
            68.564
           ],
           "yaxis": "y"
          },
          {
           "hovertemplate": "<b>%{hovertext}</b><br><br>country=Saudi Arabia<br>year=1997<br>gdpPercap=%{x}<br>lifeExp=%{y}<br>pop=%{marker.size}<extra></extra>",
           "hovertext": [
            "Saudi Arabia"
           ],
           "ids": [
            "Saudi Arabia"
           ],
           "legendgroup": "Saudi Arabia",
           "marker": {
            "color": "#FFA15A",
            "size": [
             21229759
            ],
            "sizemode": "area",
            "sizeref": 435928.2961983471,
            "symbol": "circle"
           },
           "mode": "markers",
           "name": "Saudi Arabia",
           "orientation": "v",
           "showlegend": true,
           "type": "scatter",
           "x": [
            20586.69019
           ],
           "xaxis": "x",
           "y": [
            70.533
           ],
           "yaxis": "y"
          },
          {
           "hovertemplate": "<b>%{hovertext}</b><br><br>country=Singapore<br>year=1997<br>gdpPercap=%{x}<br>lifeExp=%{y}<br>pop=%{marker.size}<extra></extra>",
           "hovertext": [
            "Singapore"
           ],
           "ids": [
            "Singapore"
           ],
           "legendgroup": "Singapore",
           "marker": {
            "color": "#19d3f3",
            "size": [
             3802309
            ],
            "sizemode": "area",
            "sizeref": 435928.2961983471,
            "symbol": "circle"
           },
           "mode": "markers",
           "name": "Singapore",
           "orientation": "v",
           "showlegend": true,
           "type": "scatter",
           "x": [
            33519.4766
           ],
           "xaxis": "x",
           "y": [
            77.158
           ],
           "yaxis": "y"
          },
          {
           "hovertemplate": "<b>%{hovertext}</b><br><br>country=Sri Lanka<br>year=1997<br>gdpPercap=%{x}<br>lifeExp=%{y}<br>pop=%{marker.size}<extra></extra>",
           "hovertext": [
            "Sri Lanka"
           ],
           "ids": [
            "Sri Lanka"
           ],
           "legendgroup": "Sri Lanka",
           "marker": {
            "color": "#FF6692",
            "size": [
             18698655
            ],
            "sizemode": "area",
            "sizeref": 435928.2961983471,
            "symbol": "circle"
           },
           "mode": "markers",
           "name": "Sri Lanka",
           "orientation": "v",
           "showlegend": true,
           "type": "scatter",
           "x": [
            2664.477257
           ],
           "xaxis": "x",
           "y": [
            70.457
           ],
           "yaxis": "y"
          },
          {
           "hovertemplate": "<b>%{hovertext}</b><br><br>country=Syria<br>year=1997<br>gdpPercap=%{x}<br>lifeExp=%{y}<br>pop=%{marker.size}<extra></extra>",
           "hovertext": [
            "Syria"
           ],
           "ids": [
            "Syria"
           ],
           "legendgroup": "Syria",
           "marker": {
            "color": "#B6E880",
            "size": [
             15081016
            ],
            "sizemode": "area",
            "sizeref": 435928.2961983471,
            "symbol": "circle"
           },
           "mode": "markers",
           "name": "Syria",
           "orientation": "v",
           "showlegend": true,
           "type": "scatter",
           "x": [
            4014.238972
           ],
           "xaxis": "x",
           "y": [
            71.527
           ],
           "yaxis": "y"
          },
          {
           "hovertemplate": "<b>%{hovertext}</b><br><br>country=Taiwan<br>year=1997<br>gdpPercap=%{x}<br>lifeExp=%{y}<br>pop=%{marker.size}<extra></extra>",
           "hovertext": [
            "Taiwan"
           ],
           "ids": [
            "Taiwan"
           ],
           "legendgroup": "Taiwan",
           "marker": {
            "color": "#FF97FF",
            "size": [
             21628605
            ],
            "sizemode": "area",
            "sizeref": 435928.2961983471,
            "symbol": "circle"
           },
           "mode": "markers",
           "name": "Taiwan",
           "orientation": "v",
           "showlegend": true,
           "type": "scatter",
           "x": [
            20206.82098
           ],
           "xaxis": "x",
           "y": [
            75.25
           ],
           "yaxis": "y"
          },
          {
           "hovertemplate": "<b>%{hovertext}</b><br><br>country=Thailand<br>year=1997<br>gdpPercap=%{x}<br>lifeExp=%{y}<br>pop=%{marker.size}<extra></extra>",
           "hovertext": [
            "Thailand"
           ],
           "ids": [
            "Thailand"
           ],
           "legendgroup": "Thailand",
           "marker": {
            "color": "#FECB52",
            "size": [
             60216677
            ],
            "sizemode": "area",
            "sizeref": 435928.2961983471,
            "symbol": "circle"
           },
           "mode": "markers",
           "name": "Thailand",
           "orientation": "v",
           "showlegend": true,
           "type": "scatter",
           "x": [
            5852.625497
           ],
           "xaxis": "x",
           "y": [
            67.521
           ],
           "yaxis": "y"
          },
          {
           "hovertemplate": "<b>%{hovertext}</b><br><br>country=Vietnam<br>year=1997<br>gdpPercap=%{x}<br>lifeExp=%{y}<br>pop=%{marker.size}<extra></extra>",
           "hovertext": [
            "Vietnam"
           ],
           "ids": [
            "Vietnam"
           ],
           "legendgroup": "Vietnam",
           "marker": {
            "color": "#636efa",
            "size": [
             76048996
            ],
            "sizemode": "area",
            "sizeref": 435928.2961983471,
            "symbol": "circle"
           },
           "mode": "markers",
           "name": "Vietnam",
           "orientation": "v",
           "showlegend": true,
           "type": "scatter",
           "x": [
            1385.896769
           ],
           "xaxis": "x",
           "y": [
            70.672
           ],
           "yaxis": "y"
          },
          {
           "hovertemplate": "<b>%{hovertext}</b><br><br>country=West Bank and Gaza<br>year=1997<br>gdpPercap=%{x}<br>lifeExp=%{y}<br>pop=%{marker.size}<extra></extra>",
           "hovertext": [
            "West Bank and Gaza"
           ],
           "ids": [
            "West Bank and Gaza"
           ],
           "legendgroup": "West Bank and Gaza",
           "marker": {
            "color": "#EF553B",
            "size": [
             2826046
            ],
            "sizemode": "area",
            "sizeref": 435928.2961983471,
            "symbol": "circle"
           },
           "mode": "markers",
           "name": "West Bank and Gaza",
           "orientation": "v",
           "showlegend": true,
           "type": "scatter",
           "x": [
            7110.667619
           ],
           "xaxis": "x",
           "y": [
            71.096
           ],
           "yaxis": "y"
          },
          {
           "hovertemplate": "<b>%{hovertext}</b><br><br>country=Yemen, Rep.<br>year=1997<br>gdpPercap=%{x}<br>lifeExp=%{y}<br>pop=%{marker.size}<extra></extra>",
           "hovertext": [
            "Yemen, Rep."
           ],
           "ids": [
            "Yemen, Rep."
           ],
           "legendgroup": "Yemen, Rep.",
           "marker": {
            "color": "#00cc96",
            "size": [
             15826497
            ],
            "sizemode": "area",
            "sizeref": 435928.2961983471,
            "symbol": "circle"
           },
           "mode": "markers",
           "name": "Yemen, Rep.",
           "orientation": "v",
           "showlegend": true,
           "type": "scatter",
           "x": [
            2117.484526
           ],
           "xaxis": "x",
           "y": [
            58.02
           ],
           "yaxis": "y"
          }
         ],
         "name": "1997"
        },
        {
         "data": [
          {
           "hovertemplate": "<b>%{hovertext}</b><br><br>country=Afghanistan<br>year=2002<br>gdpPercap=%{x}<br>lifeExp=%{y}<br>pop=%{marker.size}<extra></extra>",
           "hovertext": [
            "Afghanistan"
           ],
           "ids": [
            "Afghanistan"
           ],
           "legendgroup": "Afghanistan",
           "marker": {
            "color": "#636efa",
            "size": [
             25268405
            ],
            "sizemode": "area",
            "sizeref": 435928.2961983471,
            "symbol": "circle"
           },
           "mode": "markers",
           "name": "Afghanistan",
           "orientation": "v",
           "showlegend": true,
           "type": "scatter",
           "x": [
            726.7340548
           ],
           "xaxis": "x",
           "y": [
            42.129
           ],
           "yaxis": "y"
          },
          {
           "hovertemplate": "<b>%{hovertext}</b><br><br>country=Bahrain<br>year=2002<br>gdpPercap=%{x}<br>lifeExp=%{y}<br>pop=%{marker.size}<extra></extra>",
           "hovertext": [
            "Bahrain"
           ],
           "ids": [
            "Bahrain"
           ],
           "legendgroup": "Bahrain",
           "marker": {
            "color": "#EF553B",
            "size": [
             656397
            ],
            "sizemode": "area",
            "sizeref": 435928.2961983471,
            "symbol": "circle"
           },
           "mode": "markers",
           "name": "Bahrain",
           "orientation": "v",
           "showlegend": true,
           "type": "scatter",
           "x": [
            23403.55927
           ],
           "xaxis": "x",
           "y": [
            74.795
           ],
           "yaxis": "y"
          },
          {
           "hovertemplate": "<b>%{hovertext}</b><br><br>country=Bangladesh<br>year=2002<br>gdpPercap=%{x}<br>lifeExp=%{y}<br>pop=%{marker.size}<extra></extra>",
           "hovertext": [
            "Bangladesh"
           ],
           "ids": [
            "Bangladesh"
           ],
           "legendgroup": "Bangladesh",
           "marker": {
            "color": "#00cc96",
            "size": [
             135656790
            ],
            "sizemode": "area",
            "sizeref": 435928.2961983471,
            "symbol": "circle"
           },
           "mode": "markers",
           "name": "Bangladesh",
           "orientation": "v",
           "showlegend": true,
           "type": "scatter",
           "x": [
            1136.3904300000004
           ],
           "xaxis": "x",
           "y": [
            62.01300000000001
           ],
           "yaxis": "y"
          },
          {
           "hovertemplate": "<b>%{hovertext}</b><br><br>country=Cambodia<br>year=2002<br>gdpPercap=%{x}<br>lifeExp=%{y}<br>pop=%{marker.size}<extra></extra>",
           "hovertext": [
            "Cambodia"
           ],
           "ids": [
            "Cambodia"
           ],
           "legendgroup": "Cambodia",
           "marker": {
            "color": "#ab63fa",
            "size": [
             12926707
            ],
            "sizemode": "area",
            "sizeref": 435928.2961983471,
            "symbol": "circle"
           },
           "mode": "markers",
           "name": "Cambodia",
           "orientation": "v",
           "showlegend": true,
           "type": "scatter",
           "x": [
            896.2260152999999
           ],
           "xaxis": "x",
           "y": [
            56.752
           ],
           "yaxis": "y"
          },
          {
           "hovertemplate": "<b>%{hovertext}</b><br><br>country=China<br>year=2002<br>gdpPercap=%{x}<br>lifeExp=%{y}<br>pop=%{marker.size}<extra></extra>",
           "hovertext": [
            "China"
           ],
           "ids": [
            "China"
           ],
           "legendgroup": "China",
           "marker": {
            "color": "#FFA15A",
            "size": [
             1280400000
            ],
            "sizemode": "area",
            "sizeref": 435928.2961983471,
            "symbol": "circle"
           },
           "mode": "markers",
           "name": "China",
           "orientation": "v",
           "showlegend": true,
           "type": "scatter",
           "x": [
            3119.280896
           ],
           "xaxis": "x",
           "y": [
            72.028
           ],
           "yaxis": "y"
          },
          {
           "hovertemplate": "<b>%{hovertext}</b><br><br>country=Hong Kong, China<br>year=2002<br>gdpPercap=%{x}<br>lifeExp=%{y}<br>pop=%{marker.size}<extra></extra>",
           "hovertext": [
            "Hong Kong, China"
           ],
           "ids": [
            "Hong Kong, China"
           ],
           "legendgroup": "Hong Kong, China",
           "marker": {
            "color": "#19d3f3",
            "size": [
             6762476
            ],
            "sizemode": "area",
            "sizeref": 435928.2961983471,
            "symbol": "circle"
           },
           "mode": "markers",
           "name": "Hong Kong, China",
           "orientation": "v",
           "showlegend": true,
           "type": "scatter",
           "x": [
            30209.015160000006
           ],
           "xaxis": "x",
           "y": [
            81.495
           ],
           "yaxis": "y"
          },
          {
           "hovertemplate": "<b>%{hovertext}</b><br><br>country=India<br>year=2002<br>gdpPercap=%{x}<br>lifeExp=%{y}<br>pop=%{marker.size}<extra></extra>",
           "hovertext": [
            "India"
           ],
           "ids": [
            "India"
           ],
           "legendgroup": "India",
           "marker": {
            "color": "#FF6692",
            "size": [
             1034172547
            ],
            "sizemode": "area",
            "sizeref": 435928.2961983471,
            "symbol": "circle"
           },
           "mode": "markers",
           "name": "India",
           "orientation": "v",
           "showlegend": true,
           "type": "scatter",
           "x": [
            1746.769454
           ],
           "xaxis": "x",
           "y": [
            62.879
           ],
           "yaxis": "y"
          },
          {
           "hovertemplate": "<b>%{hovertext}</b><br><br>country=Indonesia<br>year=2002<br>gdpPercap=%{x}<br>lifeExp=%{y}<br>pop=%{marker.size}<extra></extra>",
           "hovertext": [
            "Indonesia"
           ],
           "ids": [
            "Indonesia"
           ],
           "legendgroup": "Indonesia",
           "marker": {
            "color": "#B6E880",
            "size": [
             211060000
            ],
            "sizemode": "area",
            "sizeref": 435928.2961983471,
            "symbol": "circle"
           },
           "mode": "markers",
           "name": "Indonesia",
           "orientation": "v",
           "showlegend": true,
           "type": "scatter",
           "x": [
            2873.91287
           ],
           "xaxis": "x",
           "y": [
            68.58800000000001
           ],
           "yaxis": "y"
          },
          {
           "hovertemplate": "<b>%{hovertext}</b><br><br>country=Iran<br>year=2002<br>gdpPercap=%{x}<br>lifeExp=%{y}<br>pop=%{marker.size}<extra></extra>",
           "hovertext": [
            "Iran"
           ],
           "ids": [
            "Iran"
           ],
           "legendgroup": "Iran",
           "marker": {
            "color": "#FF97FF",
            "size": [
             66907826
            ],
            "sizemode": "area",
            "sizeref": 435928.2961983471,
            "symbol": "circle"
           },
           "mode": "markers",
           "name": "Iran",
           "orientation": "v",
           "showlegend": true,
           "type": "scatter",
           "x": [
            9240.761975
           ],
           "xaxis": "x",
           "y": [
            69.45100000000001
           ],
           "yaxis": "y"
          },
          {
           "hovertemplate": "<b>%{hovertext}</b><br><br>country=Iraq<br>year=2002<br>gdpPercap=%{x}<br>lifeExp=%{y}<br>pop=%{marker.size}<extra></extra>",
           "hovertext": [
            "Iraq"
           ],
           "ids": [
            "Iraq"
           ],
           "legendgroup": "Iraq",
           "marker": {
            "color": "#FECB52",
            "size": [
             24001816
            ],
            "sizemode": "area",
            "sizeref": 435928.2961983471,
            "symbol": "circle"
           },
           "mode": "markers",
           "name": "Iraq",
           "orientation": "v",
           "showlegend": true,
           "type": "scatter",
           "x": [
            4390.717312
           ],
           "xaxis": "x",
           "y": [
            57.04600000000001
           ],
           "yaxis": "y"
          },
          {
           "hovertemplate": "<b>%{hovertext}</b><br><br>country=Israel<br>year=2002<br>gdpPercap=%{x}<br>lifeExp=%{y}<br>pop=%{marker.size}<extra></extra>",
           "hovertext": [
            "Israel"
           ],
           "ids": [
            "Israel"
           ],
           "legendgroup": "Israel",
           "marker": {
            "color": "#636efa",
            "size": [
             6029529
            ],
            "sizemode": "area",
            "sizeref": 435928.2961983471,
            "symbol": "circle"
           },
           "mode": "markers",
           "name": "Israel",
           "orientation": "v",
           "showlegend": true,
           "type": "scatter",
           "x": [
            21905.59514
           ],
           "xaxis": "x",
           "y": [
            79.696
           ],
           "yaxis": "y"
          },
          {
           "hovertemplate": "<b>%{hovertext}</b><br><br>country=Japan<br>year=2002<br>gdpPercap=%{x}<br>lifeExp=%{y}<br>pop=%{marker.size}<extra></extra>",
           "hovertext": [
            "Japan"
           ],
           "ids": [
            "Japan"
           ],
           "legendgroup": "Japan",
           "marker": {
            "color": "#EF553B",
            "size": [
             127065841
            ],
            "sizemode": "area",
            "sizeref": 435928.2961983471,
            "symbol": "circle"
           },
           "mode": "markers",
           "name": "Japan",
           "orientation": "v",
           "showlegend": true,
           "type": "scatter",
           "x": [
            28604.5919
           ],
           "xaxis": "x",
           "y": [
            82
           ],
           "yaxis": "y"
          },
          {
           "hovertemplate": "<b>%{hovertext}</b><br><br>country=Jordan<br>year=2002<br>gdpPercap=%{x}<br>lifeExp=%{y}<br>pop=%{marker.size}<extra></extra>",
           "hovertext": [
            "Jordan"
           ],
           "ids": [
            "Jordan"
           ],
           "legendgroup": "Jordan",
           "marker": {
            "color": "#00cc96",
            "size": [
             5307470
            ],
            "sizemode": "area",
            "sizeref": 435928.2961983471,
            "symbol": "circle"
           },
           "mode": "markers",
           "name": "Jordan",
           "orientation": "v",
           "showlegend": true,
           "type": "scatter",
           "x": [
            3844.917194
           ],
           "xaxis": "x",
           "y": [
            71.263
           ],
           "yaxis": "y"
          },
          {
           "hovertemplate": "<b>%{hovertext}</b><br><br>country=Korea, Dem. Rep.<br>year=2002<br>gdpPercap=%{x}<br>lifeExp=%{y}<br>pop=%{marker.size}<extra></extra>",
           "hovertext": [
            "Korea, Dem. Rep."
           ],
           "ids": [
            "Korea, Dem. Rep."
           ],
           "legendgroup": "Korea, Dem. Rep.",
           "marker": {
            "color": "#ab63fa",
            "size": [
             22215365
            ],
            "sizemode": "area",
            "sizeref": 435928.2961983471,
            "symbol": "circle"
           },
           "mode": "markers",
           "name": "Korea, Dem. Rep.",
           "orientation": "v",
           "showlegend": true,
           "type": "scatter",
           "x": [
            1646.758151
           ],
           "xaxis": "x",
           "y": [
            66.66199999999999
           ],
           "yaxis": "y"
          },
          {
           "hovertemplate": "<b>%{hovertext}</b><br><br>country=Korea, Rep.<br>year=2002<br>gdpPercap=%{x}<br>lifeExp=%{y}<br>pop=%{marker.size}<extra></extra>",
           "hovertext": [
            "Korea, Rep."
           ],
           "ids": [
            "Korea, Rep."
           ],
           "legendgroup": "Korea, Rep.",
           "marker": {
            "color": "#FFA15A",
            "size": [
             47969150
            ],
            "sizemode": "area",
            "sizeref": 435928.2961983471,
            "symbol": "circle"
           },
           "mode": "markers",
           "name": "Korea, Rep.",
           "orientation": "v",
           "showlegend": true,
           "type": "scatter",
           "x": [
            19233.98818
           ],
           "xaxis": "x",
           "y": [
            77.045
           ],
           "yaxis": "y"
          },
          {
           "hovertemplate": "<b>%{hovertext}</b><br><br>country=Kuwait<br>year=2002<br>gdpPercap=%{x}<br>lifeExp=%{y}<br>pop=%{marker.size}<extra></extra>",
           "hovertext": [
            "Kuwait"
           ],
           "ids": [
            "Kuwait"
           ],
           "legendgroup": "Kuwait",
           "marker": {
            "color": "#19d3f3",
            "size": [
             2111561
            ],
            "sizemode": "area",
            "sizeref": 435928.2961983471,
            "symbol": "circle"
           },
           "mode": "markers",
           "name": "Kuwait",
           "orientation": "v",
           "showlegend": true,
           "type": "scatter",
           "x": [
            35110.10566
           ],
           "xaxis": "x",
           "y": [
            76.904
           ],
           "yaxis": "y"
          },
          {
           "hovertemplate": "<b>%{hovertext}</b><br><br>country=Lebanon<br>year=2002<br>gdpPercap=%{x}<br>lifeExp=%{y}<br>pop=%{marker.size}<extra></extra>",
           "hovertext": [
            "Lebanon"
           ],
           "ids": [
            "Lebanon"
           ],
           "legendgroup": "Lebanon",
           "marker": {
            "color": "#FF6692",
            "size": [
             3677780
            ],
            "sizemode": "area",
            "sizeref": 435928.2961983471,
            "symbol": "circle"
           },
           "mode": "markers",
           "name": "Lebanon",
           "orientation": "v",
           "showlegend": true,
           "type": "scatter",
           "x": [
            9313.93883
           ],
           "xaxis": "x",
           "y": [
            71.028
           ],
           "yaxis": "y"
          },
          {
           "hovertemplate": "<b>%{hovertext}</b><br><br>country=Malaysia<br>year=2002<br>gdpPercap=%{x}<br>lifeExp=%{y}<br>pop=%{marker.size}<extra></extra>",
           "hovertext": [
            "Malaysia"
           ],
           "ids": [
            "Malaysia"
           ],
           "legendgroup": "Malaysia",
           "marker": {
            "color": "#B6E880",
            "size": [
             22662365
            ],
            "sizemode": "area",
            "sizeref": 435928.2961983471,
            "symbol": "circle"
           },
           "mode": "markers",
           "name": "Malaysia",
           "orientation": "v",
           "showlegend": true,
           "type": "scatter",
           "x": [
            10206.97794
           ],
           "xaxis": "x",
           "y": [
            73.044
           ],
           "yaxis": "y"
          },
          {
           "hovertemplate": "<b>%{hovertext}</b><br><br>country=Mongolia<br>year=2002<br>gdpPercap=%{x}<br>lifeExp=%{y}<br>pop=%{marker.size}<extra></extra>",
           "hovertext": [
            "Mongolia"
           ],
           "ids": [
            "Mongolia"
           ],
           "legendgroup": "Mongolia",
           "marker": {
            "color": "#FF97FF",
            "size": [
             2674234
            ],
            "sizemode": "area",
            "sizeref": 435928.2961983471,
            "symbol": "circle"
           },
           "mode": "markers",
           "name": "Mongolia",
           "orientation": "v",
           "showlegend": true,
           "type": "scatter",
           "x": [
            2140.739323
           ],
           "xaxis": "x",
           "y": [
            65.033
           ],
           "yaxis": "y"
          },
          {
           "hovertemplate": "<b>%{hovertext}</b><br><br>country=Myanmar<br>year=2002<br>gdpPercap=%{x}<br>lifeExp=%{y}<br>pop=%{marker.size}<extra></extra>",
           "hovertext": [
            "Myanmar"
           ],
           "ids": [
            "Myanmar"
           ],
           "legendgroup": "Myanmar",
           "marker": {
            "color": "#FECB52",
            "size": [
             45598081
            ],
            "sizemode": "area",
            "sizeref": 435928.2961983471,
            "symbol": "circle"
           },
           "mode": "markers",
           "name": "Myanmar",
           "orientation": "v",
           "showlegend": true,
           "type": "scatter",
           "x": [
            611
           ],
           "xaxis": "x",
           "y": [
            59.908
           ],
           "yaxis": "y"
          },
          {
           "hovertemplate": "<b>%{hovertext}</b><br><br>country=Nepal<br>year=2002<br>gdpPercap=%{x}<br>lifeExp=%{y}<br>pop=%{marker.size}<extra></extra>",
           "hovertext": [
            "Nepal"
           ],
           "ids": [
            "Nepal"
           ],
           "legendgroup": "Nepal",
           "marker": {
            "color": "#636efa",
            "size": [
             25873917
            ],
            "sizemode": "area",
            "sizeref": 435928.2961983471,
            "symbol": "circle"
           },
           "mode": "markers",
           "name": "Nepal",
           "orientation": "v",
           "showlegend": true,
           "type": "scatter",
           "x": [
            1057.206311
           ],
           "xaxis": "x",
           "y": [
            61.34
           ],
           "yaxis": "y"
          },
          {
           "hovertemplate": "<b>%{hovertext}</b><br><br>country=Oman<br>year=2002<br>gdpPercap=%{x}<br>lifeExp=%{y}<br>pop=%{marker.size}<extra></extra>",
           "hovertext": [
            "Oman"
           ],
           "ids": [
            "Oman"
           ],
           "legendgroup": "Oman",
           "marker": {
            "color": "#EF553B",
            "size": [
             2713462
            ],
            "sizemode": "area",
            "sizeref": 435928.2961983471,
            "symbol": "circle"
           },
           "mode": "markers",
           "name": "Oman",
           "orientation": "v",
           "showlegend": true,
           "type": "scatter",
           "x": [
            19774.83687
           ],
           "xaxis": "x",
           "y": [
            74.193
           ],
           "yaxis": "y"
          },
          {
           "hovertemplate": "<b>%{hovertext}</b><br><br>country=Pakistan<br>year=2002<br>gdpPercap=%{x}<br>lifeExp=%{y}<br>pop=%{marker.size}<extra></extra>",
           "hovertext": [
            "Pakistan"
           ],
           "ids": [
            "Pakistan"
           ],
           "legendgroup": "Pakistan",
           "marker": {
            "color": "#00cc96",
            "size": [
             153403524
            ],
            "sizemode": "area",
            "sizeref": 435928.2961983471,
            "symbol": "circle"
           },
           "mode": "markers",
           "name": "Pakistan",
           "orientation": "v",
           "showlegend": true,
           "type": "scatter",
           "x": [
            2092.712441
           ],
           "xaxis": "x",
           "y": [
            63.61
           ],
           "yaxis": "y"
          },
          {
           "hovertemplate": "<b>%{hovertext}</b><br><br>country=Philippines<br>year=2002<br>gdpPercap=%{x}<br>lifeExp=%{y}<br>pop=%{marker.size}<extra></extra>",
           "hovertext": [
            "Philippines"
           ],
           "ids": [
            "Philippines"
           ],
           "legendgroup": "Philippines",
           "marker": {
            "color": "#ab63fa",
            "size": [
             82995088
            ],
            "sizemode": "area",
            "sizeref": 435928.2961983471,
            "symbol": "circle"
           },
           "mode": "markers",
           "name": "Philippines",
           "orientation": "v",
           "showlegend": true,
           "type": "scatter",
           "x": [
            2650.921068
           ],
           "xaxis": "x",
           "y": [
            70.303
           ],
           "yaxis": "y"
          },
          {
           "hovertemplate": "<b>%{hovertext}</b><br><br>country=Saudi Arabia<br>year=2002<br>gdpPercap=%{x}<br>lifeExp=%{y}<br>pop=%{marker.size}<extra></extra>",
           "hovertext": [
            "Saudi Arabia"
           ],
           "ids": [
            "Saudi Arabia"
           ],
           "legendgroup": "Saudi Arabia",
           "marker": {
            "color": "#FFA15A",
            "size": [
             24501530
            ],
            "sizemode": "area",
            "sizeref": 435928.2961983471,
            "symbol": "circle"
           },
           "mode": "markers",
           "name": "Saudi Arabia",
           "orientation": "v",
           "showlegend": true,
           "type": "scatter",
           "x": [
            19014.54118
           ],
           "xaxis": "x",
           "y": [
            71.626
           ],
           "yaxis": "y"
          },
          {
           "hovertemplate": "<b>%{hovertext}</b><br><br>country=Singapore<br>year=2002<br>gdpPercap=%{x}<br>lifeExp=%{y}<br>pop=%{marker.size}<extra></extra>",
           "hovertext": [
            "Singapore"
           ],
           "ids": [
            "Singapore"
           ],
           "legendgroup": "Singapore",
           "marker": {
            "color": "#19d3f3",
            "size": [
             4197776
            ],
            "sizemode": "area",
            "sizeref": 435928.2961983471,
            "symbol": "circle"
           },
           "mode": "markers",
           "name": "Singapore",
           "orientation": "v",
           "showlegend": true,
           "type": "scatter",
           "x": [
            36023.1054
           ],
           "xaxis": "x",
           "y": [
            78.77
           ],
           "yaxis": "y"
          },
          {
           "hovertemplate": "<b>%{hovertext}</b><br><br>country=Sri Lanka<br>year=2002<br>gdpPercap=%{x}<br>lifeExp=%{y}<br>pop=%{marker.size}<extra></extra>",
           "hovertext": [
            "Sri Lanka"
           ],
           "ids": [
            "Sri Lanka"
           ],
           "legendgroup": "Sri Lanka",
           "marker": {
            "color": "#FF6692",
            "size": [
             19576783
            ],
            "sizemode": "area",
            "sizeref": 435928.2961983471,
            "symbol": "circle"
           },
           "mode": "markers",
           "name": "Sri Lanka",
           "orientation": "v",
           "showlegend": true,
           "type": "scatter",
           "x": [
            3015.378833
           ],
           "xaxis": "x",
           "y": [
            70.815
           ],
           "yaxis": "y"
          },
          {
           "hovertemplate": "<b>%{hovertext}</b><br><br>country=Syria<br>year=2002<br>gdpPercap=%{x}<br>lifeExp=%{y}<br>pop=%{marker.size}<extra></extra>",
           "hovertext": [
            "Syria"
           ],
           "ids": [
            "Syria"
           ],
           "legendgroup": "Syria",
           "marker": {
            "color": "#B6E880",
            "size": [
             17155814
            ],
            "sizemode": "area",
            "sizeref": 435928.2961983471,
            "symbol": "circle"
           },
           "mode": "markers",
           "name": "Syria",
           "orientation": "v",
           "showlegend": true,
           "type": "scatter",
           "x": [
            4090.925331
           ],
           "xaxis": "x",
           "y": [
            73.053
           ],
           "yaxis": "y"
          },
          {
           "hovertemplate": "<b>%{hovertext}</b><br><br>country=Taiwan<br>year=2002<br>gdpPercap=%{x}<br>lifeExp=%{y}<br>pop=%{marker.size}<extra></extra>",
           "hovertext": [
            "Taiwan"
           ],
           "ids": [
            "Taiwan"
           ],
           "legendgroup": "Taiwan",
           "marker": {
            "color": "#FF97FF",
            "size": [
             22454239
            ],
            "sizemode": "area",
            "sizeref": 435928.2961983471,
            "symbol": "circle"
           },
           "mode": "markers",
           "name": "Taiwan",
           "orientation": "v",
           "showlegend": true,
           "type": "scatter",
           "x": [
            23235.42329
           ],
           "xaxis": "x",
           "y": [
            76.99
           ],
           "yaxis": "y"
          },
          {
           "hovertemplate": "<b>%{hovertext}</b><br><br>country=Thailand<br>year=2002<br>gdpPercap=%{x}<br>lifeExp=%{y}<br>pop=%{marker.size}<extra></extra>",
           "hovertext": [
            "Thailand"
           ],
           "ids": [
            "Thailand"
           ],
           "legendgroup": "Thailand",
           "marker": {
            "color": "#FECB52",
            "size": [
             62806748
            ],
            "sizemode": "area",
            "sizeref": 435928.2961983471,
            "symbol": "circle"
           },
           "mode": "markers",
           "name": "Thailand",
           "orientation": "v",
           "showlegend": true,
           "type": "scatter",
           "x": [
            5913.187529
           ],
           "xaxis": "x",
           "y": [
            68.564
           ],
           "yaxis": "y"
          },
          {
           "hovertemplate": "<b>%{hovertext}</b><br><br>country=Vietnam<br>year=2002<br>gdpPercap=%{x}<br>lifeExp=%{y}<br>pop=%{marker.size}<extra></extra>",
           "hovertext": [
            "Vietnam"
           ],
           "ids": [
            "Vietnam"
           ],
           "legendgroup": "Vietnam",
           "marker": {
            "color": "#636efa",
            "size": [
             80908147
            ],
            "sizemode": "area",
            "sizeref": 435928.2961983471,
            "symbol": "circle"
           },
           "mode": "markers",
           "name": "Vietnam",
           "orientation": "v",
           "showlegend": true,
           "type": "scatter",
           "x": [
            1764.456677
           ],
           "xaxis": "x",
           "y": [
            73.017
           ],
           "yaxis": "y"
          },
          {
           "hovertemplate": "<b>%{hovertext}</b><br><br>country=West Bank and Gaza<br>year=2002<br>gdpPercap=%{x}<br>lifeExp=%{y}<br>pop=%{marker.size}<extra></extra>",
           "hovertext": [
            "West Bank and Gaza"
           ],
           "ids": [
            "West Bank and Gaza"
           ],
           "legendgroup": "West Bank and Gaza",
           "marker": {
            "color": "#EF553B",
            "size": [
             3389578
            ],
            "sizemode": "area",
            "sizeref": 435928.2961983471,
            "symbol": "circle"
           },
           "mode": "markers",
           "name": "West Bank and Gaza",
           "orientation": "v",
           "showlegend": true,
           "type": "scatter",
           "x": [
            4515.487575
           ],
           "xaxis": "x",
           "y": [
            72.37
           ],
           "yaxis": "y"
          },
          {
           "hovertemplate": "<b>%{hovertext}</b><br><br>country=Yemen, Rep.<br>year=2002<br>gdpPercap=%{x}<br>lifeExp=%{y}<br>pop=%{marker.size}<extra></extra>",
           "hovertext": [
            "Yemen, Rep."
           ],
           "ids": [
            "Yemen, Rep."
           ],
           "legendgroup": "Yemen, Rep.",
           "marker": {
            "color": "#00cc96",
            "size": [
             18701257
            ],
            "sizemode": "area",
            "sizeref": 435928.2961983471,
            "symbol": "circle"
           },
           "mode": "markers",
           "name": "Yemen, Rep.",
           "orientation": "v",
           "showlegend": true,
           "type": "scatter",
           "x": [
            2234.820827
           ],
           "xaxis": "x",
           "y": [
            60.308
           ],
           "yaxis": "y"
          }
         ],
         "name": "2002"
        },
        {
         "data": [
          {
           "hovertemplate": "<b>%{hovertext}</b><br><br>country=Afghanistan<br>year=2007<br>gdpPercap=%{x}<br>lifeExp=%{y}<br>pop=%{marker.size}<extra></extra>",
           "hovertext": [
            "Afghanistan"
           ],
           "ids": [
            "Afghanistan"
           ],
           "legendgroup": "Afghanistan",
           "marker": {
            "color": "#636efa",
            "size": [
             31889923
            ],
            "sizemode": "area",
            "sizeref": 435928.2961983471,
            "symbol": "circle"
           },
           "mode": "markers",
           "name": "Afghanistan",
           "orientation": "v",
           "showlegend": true,
           "type": "scatter",
           "x": [
            974.5803384
           ],
           "xaxis": "x",
           "y": [
            43.828
           ],
           "yaxis": "y"
          },
          {
           "hovertemplate": "<b>%{hovertext}</b><br><br>country=Bahrain<br>year=2007<br>gdpPercap=%{x}<br>lifeExp=%{y}<br>pop=%{marker.size}<extra></extra>",
           "hovertext": [
            "Bahrain"
           ],
           "ids": [
            "Bahrain"
           ],
           "legendgroup": "Bahrain",
           "marker": {
            "color": "#EF553B",
            "size": [
             708573
            ],
            "sizemode": "area",
            "sizeref": 435928.2961983471,
            "symbol": "circle"
           },
           "mode": "markers",
           "name": "Bahrain",
           "orientation": "v",
           "showlegend": true,
           "type": "scatter",
           "x": [
            29796.04834
           ],
           "xaxis": "x",
           "y": [
            75.635
           ],
           "yaxis": "y"
          },
          {
           "hovertemplate": "<b>%{hovertext}</b><br><br>country=Bangladesh<br>year=2007<br>gdpPercap=%{x}<br>lifeExp=%{y}<br>pop=%{marker.size}<extra></extra>",
           "hovertext": [
            "Bangladesh"
           ],
           "ids": [
            "Bangladesh"
           ],
           "legendgroup": "Bangladesh",
           "marker": {
            "color": "#00cc96",
            "size": [
             150448339
            ],
            "sizemode": "area",
            "sizeref": 435928.2961983471,
            "symbol": "circle"
           },
           "mode": "markers",
           "name": "Bangladesh",
           "orientation": "v",
           "showlegend": true,
           "type": "scatter",
           "x": [
            1391.253792
           ],
           "xaxis": "x",
           "y": [
            64.062
           ],
           "yaxis": "y"
          },
          {
           "hovertemplate": "<b>%{hovertext}</b><br><br>country=Cambodia<br>year=2007<br>gdpPercap=%{x}<br>lifeExp=%{y}<br>pop=%{marker.size}<extra></extra>",
           "hovertext": [
            "Cambodia"
           ],
           "ids": [
            "Cambodia"
           ],
           "legendgroup": "Cambodia",
           "marker": {
            "color": "#ab63fa",
            "size": [
             14131858
            ],
            "sizemode": "area",
            "sizeref": 435928.2961983471,
            "symbol": "circle"
           },
           "mode": "markers",
           "name": "Cambodia",
           "orientation": "v",
           "showlegend": true,
           "type": "scatter",
           "x": [
            1713.778686
           ],
           "xaxis": "x",
           "y": [
            59.723
           ],
           "yaxis": "y"
          },
          {
           "hovertemplate": "<b>%{hovertext}</b><br><br>country=China<br>year=2007<br>gdpPercap=%{x}<br>lifeExp=%{y}<br>pop=%{marker.size}<extra></extra>",
           "hovertext": [
            "China"
           ],
           "ids": [
            "China"
           ],
           "legendgroup": "China",
           "marker": {
            "color": "#FFA15A",
            "size": [
             1318683096
            ],
            "sizemode": "area",
            "sizeref": 435928.2961983471,
            "symbol": "circle"
           },
           "mode": "markers",
           "name": "China",
           "orientation": "v",
           "showlegend": true,
           "type": "scatter",
           "x": [
            4959.114854
           ],
           "xaxis": "x",
           "y": [
            72.961
           ],
           "yaxis": "y"
          },
          {
           "hovertemplate": "<b>%{hovertext}</b><br><br>country=Hong Kong, China<br>year=2007<br>gdpPercap=%{x}<br>lifeExp=%{y}<br>pop=%{marker.size}<extra></extra>",
           "hovertext": [
            "Hong Kong, China"
           ],
           "ids": [
            "Hong Kong, China"
           ],
           "legendgroup": "Hong Kong, China",
           "marker": {
            "color": "#19d3f3",
            "size": [
             6980412
            ],
            "sizemode": "area",
            "sizeref": 435928.2961983471,
            "symbol": "circle"
           },
           "mode": "markers",
           "name": "Hong Kong, China",
           "orientation": "v",
           "showlegend": true,
           "type": "scatter",
           "x": [
            39724.97867
           ],
           "xaxis": "x",
           "y": [
            82.208
           ],
           "yaxis": "y"
          },
          {
           "hovertemplate": "<b>%{hovertext}</b><br><br>country=India<br>year=2007<br>gdpPercap=%{x}<br>lifeExp=%{y}<br>pop=%{marker.size}<extra></extra>",
           "hovertext": [
            "India"
           ],
           "ids": [
            "India"
           ],
           "legendgroup": "India",
           "marker": {
            "color": "#FF6692",
            "size": [
             1110396331
            ],
            "sizemode": "area",
            "sizeref": 435928.2961983471,
            "symbol": "circle"
           },
           "mode": "markers",
           "name": "India",
           "orientation": "v",
           "showlegend": true,
           "type": "scatter",
           "x": [
            2452.210407
           ],
           "xaxis": "x",
           "y": [
            64.69800000000001
           ],
           "yaxis": "y"
          },
          {
           "hovertemplate": "<b>%{hovertext}</b><br><br>country=Indonesia<br>year=2007<br>gdpPercap=%{x}<br>lifeExp=%{y}<br>pop=%{marker.size}<extra></extra>",
           "hovertext": [
            "Indonesia"
           ],
           "ids": [
            "Indonesia"
           ],
           "legendgroup": "Indonesia",
           "marker": {
            "color": "#B6E880",
            "size": [
             223547000
            ],
            "sizemode": "area",
            "sizeref": 435928.2961983471,
            "symbol": "circle"
           },
           "mode": "markers",
           "name": "Indonesia",
           "orientation": "v",
           "showlegend": true,
           "type": "scatter",
           "x": [
            3540.651564
           ],
           "xaxis": "x",
           "y": [
            70.65
           ],
           "yaxis": "y"
          },
          {
           "hovertemplate": "<b>%{hovertext}</b><br><br>country=Iran<br>year=2007<br>gdpPercap=%{x}<br>lifeExp=%{y}<br>pop=%{marker.size}<extra></extra>",
           "hovertext": [
            "Iran"
           ],
           "ids": [
            "Iran"
           ],
           "legendgroup": "Iran",
           "marker": {
            "color": "#FF97FF",
            "size": [
             69453570
            ],
            "sizemode": "area",
            "sizeref": 435928.2961983471,
            "symbol": "circle"
           },
           "mode": "markers",
           "name": "Iran",
           "orientation": "v",
           "showlegend": true,
           "type": "scatter",
           "x": [
            11605.71449
           ],
           "xaxis": "x",
           "y": [
            70.964
           ],
           "yaxis": "y"
          },
          {
           "hovertemplate": "<b>%{hovertext}</b><br><br>country=Iraq<br>year=2007<br>gdpPercap=%{x}<br>lifeExp=%{y}<br>pop=%{marker.size}<extra></extra>",
           "hovertext": [
            "Iraq"
           ],
           "ids": [
            "Iraq"
           ],
           "legendgroup": "Iraq",
           "marker": {
            "color": "#FECB52",
            "size": [
             27499638
            ],
            "sizemode": "area",
            "sizeref": 435928.2961983471,
            "symbol": "circle"
           },
           "mode": "markers",
           "name": "Iraq",
           "orientation": "v",
           "showlegend": true,
           "type": "scatter",
           "x": [
            4471.061906
           ],
           "xaxis": "x",
           "y": [
            59.545
           ],
           "yaxis": "y"
          },
          {
           "hovertemplate": "<b>%{hovertext}</b><br><br>country=Israel<br>year=2007<br>gdpPercap=%{x}<br>lifeExp=%{y}<br>pop=%{marker.size}<extra></extra>",
           "hovertext": [
            "Israel"
           ],
           "ids": [
            "Israel"
           ],
           "legendgroup": "Israel",
           "marker": {
            "color": "#636efa",
            "size": [
             6426679
            ],
            "sizemode": "area",
            "sizeref": 435928.2961983471,
            "symbol": "circle"
           },
           "mode": "markers",
           "name": "Israel",
           "orientation": "v",
           "showlegend": true,
           "type": "scatter",
           "x": [
            25523.2771
           ],
           "xaxis": "x",
           "y": [
            80.745
           ],
           "yaxis": "y"
          },
          {
           "hovertemplate": "<b>%{hovertext}</b><br><br>country=Japan<br>year=2007<br>gdpPercap=%{x}<br>lifeExp=%{y}<br>pop=%{marker.size}<extra></extra>",
           "hovertext": [
            "Japan"
           ],
           "ids": [
            "Japan"
           ],
           "legendgroup": "Japan",
           "marker": {
            "color": "#EF553B",
            "size": [
             127467972
            ],
            "sizemode": "area",
            "sizeref": 435928.2961983471,
            "symbol": "circle"
           },
           "mode": "markers",
           "name": "Japan",
           "orientation": "v",
           "showlegend": true,
           "type": "scatter",
           "x": [
            31656.06806
           ],
           "xaxis": "x",
           "y": [
            82.603
           ],
           "yaxis": "y"
          },
          {
           "hovertemplate": "<b>%{hovertext}</b><br><br>country=Jordan<br>year=2007<br>gdpPercap=%{x}<br>lifeExp=%{y}<br>pop=%{marker.size}<extra></extra>",
           "hovertext": [
            "Jordan"
           ],
           "ids": [
            "Jordan"
           ],
           "legendgroup": "Jordan",
           "marker": {
            "color": "#00cc96",
            "size": [
             6053193
            ],
            "sizemode": "area",
            "sizeref": 435928.2961983471,
            "symbol": "circle"
           },
           "mode": "markers",
           "name": "Jordan",
           "orientation": "v",
           "showlegend": true,
           "type": "scatter",
           "x": [
            4519.461171
           ],
           "xaxis": "x",
           "y": [
            72.535
           ],
           "yaxis": "y"
          },
          {
           "hovertemplate": "<b>%{hovertext}</b><br><br>country=Korea, Dem. Rep.<br>year=2007<br>gdpPercap=%{x}<br>lifeExp=%{y}<br>pop=%{marker.size}<extra></extra>",
           "hovertext": [
            "Korea, Dem. Rep."
           ],
           "ids": [
            "Korea, Dem. Rep."
           ],
           "legendgroup": "Korea, Dem. Rep.",
           "marker": {
            "color": "#ab63fa",
            "size": [
             23301725
            ],
            "sizemode": "area",
            "sizeref": 435928.2961983471,
            "symbol": "circle"
           },
           "mode": "markers",
           "name": "Korea, Dem. Rep.",
           "orientation": "v",
           "showlegend": true,
           "type": "scatter",
           "x": [
            1593.06548
           ],
           "xaxis": "x",
           "y": [
            67.297
           ],
           "yaxis": "y"
          },
          {
           "hovertemplate": "<b>%{hovertext}</b><br><br>country=Korea, Rep.<br>year=2007<br>gdpPercap=%{x}<br>lifeExp=%{y}<br>pop=%{marker.size}<extra></extra>",
           "hovertext": [
            "Korea, Rep."
           ],
           "ids": [
            "Korea, Rep."
           ],
           "legendgroup": "Korea, Rep.",
           "marker": {
            "color": "#FFA15A",
            "size": [
             49044790
            ],
            "sizemode": "area",
            "sizeref": 435928.2961983471,
            "symbol": "circle"
           },
           "mode": "markers",
           "name": "Korea, Rep.",
           "orientation": "v",
           "showlegend": true,
           "type": "scatter",
           "x": [
            23348.139730000006
           ],
           "xaxis": "x",
           "y": [
            78.623
           ],
           "yaxis": "y"
          },
          {
           "hovertemplate": "<b>%{hovertext}</b><br><br>country=Kuwait<br>year=2007<br>gdpPercap=%{x}<br>lifeExp=%{y}<br>pop=%{marker.size}<extra></extra>",
           "hovertext": [
            "Kuwait"
           ],
           "ids": [
            "Kuwait"
           ],
           "legendgroup": "Kuwait",
           "marker": {
            "color": "#19d3f3",
            "size": [
             2505559
            ],
            "sizemode": "area",
            "sizeref": 435928.2961983471,
            "symbol": "circle"
           },
           "mode": "markers",
           "name": "Kuwait",
           "orientation": "v",
           "showlegend": true,
           "type": "scatter",
           "x": [
            47306.98978
           ],
           "xaxis": "x",
           "y": [
            77.58800000000002
           ],
           "yaxis": "y"
          },
          {
           "hovertemplate": "<b>%{hovertext}</b><br><br>country=Lebanon<br>year=2007<br>gdpPercap=%{x}<br>lifeExp=%{y}<br>pop=%{marker.size}<extra></extra>",
           "hovertext": [
            "Lebanon"
           ],
           "ids": [
            "Lebanon"
           ],
           "legendgroup": "Lebanon",
           "marker": {
            "color": "#FF6692",
            "size": [
             3921278
            ],
            "sizemode": "area",
            "sizeref": 435928.2961983471,
            "symbol": "circle"
           },
           "mode": "markers",
           "name": "Lebanon",
           "orientation": "v",
           "showlegend": true,
           "type": "scatter",
           "x": [
            10461.05868
           ],
           "xaxis": "x",
           "y": [
            71.993
           ],
           "yaxis": "y"
          },
          {
           "hovertemplate": "<b>%{hovertext}</b><br><br>country=Malaysia<br>year=2007<br>gdpPercap=%{x}<br>lifeExp=%{y}<br>pop=%{marker.size}<extra></extra>",
           "hovertext": [
            "Malaysia"
           ],
           "ids": [
            "Malaysia"
           ],
           "legendgroup": "Malaysia",
           "marker": {
            "color": "#B6E880",
            "size": [
             24821286
            ],
            "sizemode": "area",
            "sizeref": 435928.2961983471,
            "symbol": "circle"
           },
           "mode": "markers",
           "name": "Malaysia",
           "orientation": "v",
           "showlegend": true,
           "type": "scatter",
           "x": [
            12451.6558
           ],
           "xaxis": "x",
           "y": [
            74.241
           ],
           "yaxis": "y"
          },
          {
           "hovertemplate": "<b>%{hovertext}</b><br><br>country=Mongolia<br>year=2007<br>gdpPercap=%{x}<br>lifeExp=%{y}<br>pop=%{marker.size}<extra></extra>",
           "hovertext": [
            "Mongolia"
           ],
           "ids": [
            "Mongolia"
           ],
           "legendgroup": "Mongolia",
           "marker": {
            "color": "#FF97FF",
            "size": [
             2874127
            ],
            "sizemode": "area",
            "sizeref": 435928.2961983471,
            "symbol": "circle"
           },
           "mode": "markers",
           "name": "Mongolia",
           "orientation": "v",
           "showlegend": true,
           "type": "scatter",
           "x": [
            3095.7722710000007
           ],
           "xaxis": "x",
           "y": [
            66.803
           ],
           "yaxis": "y"
          },
          {
           "hovertemplate": "<b>%{hovertext}</b><br><br>country=Myanmar<br>year=2007<br>gdpPercap=%{x}<br>lifeExp=%{y}<br>pop=%{marker.size}<extra></extra>",
           "hovertext": [
            "Myanmar"
           ],
           "ids": [
            "Myanmar"
           ],
           "legendgroup": "Myanmar",
           "marker": {
            "color": "#FECB52",
            "size": [
             47761980
            ],
            "sizemode": "area",
            "sizeref": 435928.2961983471,
            "symbol": "circle"
           },
           "mode": "markers",
           "name": "Myanmar",
           "orientation": "v",
           "showlegend": true,
           "type": "scatter",
           "x": [
            944
           ],
           "xaxis": "x",
           "y": [
            62.069
           ],
           "yaxis": "y"
          },
          {
           "hovertemplate": "<b>%{hovertext}</b><br><br>country=Nepal<br>year=2007<br>gdpPercap=%{x}<br>lifeExp=%{y}<br>pop=%{marker.size}<extra></extra>",
           "hovertext": [
            "Nepal"
           ],
           "ids": [
            "Nepal"
           ],
           "legendgroup": "Nepal",
           "marker": {
            "color": "#636efa",
            "size": [
             28901790
            ],
            "sizemode": "area",
            "sizeref": 435928.2961983471,
            "symbol": "circle"
           },
           "mode": "markers",
           "name": "Nepal",
           "orientation": "v",
           "showlegend": true,
           "type": "scatter",
           "x": [
            1091.359778
           ],
           "xaxis": "x",
           "y": [
            63.785
           ],
           "yaxis": "y"
          },
          {
           "hovertemplate": "<b>%{hovertext}</b><br><br>country=Oman<br>year=2007<br>gdpPercap=%{x}<br>lifeExp=%{y}<br>pop=%{marker.size}<extra></extra>",
           "hovertext": [
            "Oman"
           ],
           "ids": [
            "Oman"
           ],
           "legendgroup": "Oman",
           "marker": {
            "color": "#EF553B",
            "size": [
             3204897
            ],
            "sizemode": "area",
            "sizeref": 435928.2961983471,
            "symbol": "circle"
           },
           "mode": "markers",
           "name": "Oman",
           "orientation": "v",
           "showlegend": true,
           "type": "scatter",
           "x": [
            22316.19287
           ],
           "xaxis": "x",
           "y": [
            75.64
           ],
           "yaxis": "y"
          },
          {
           "hovertemplate": "<b>%{hovertext}</b><br><br>country=Pakistan<br>year=2007<br>gdpPercap=%{x}<br>lifeExp=%{y}<br>pop=%{marker.size}<extra></extra>",
           "hovertext": [
            "Pakistan"
           ],
           "ids": [
            "Pakistan"
           ],
           "legendgroup": "Pakistan",
           "marker": {
            "color": "#00cc96",
            "size": [
             169270617
            ],
            "sizemode": "area",
            "sizeref": 435928.2961983471,
            "symbol": "circle"
           },
           "mode": "markers",
           "name": "Pakistan",
           "orientation": "v",
           "showlegend": true,
           "type": "scatter",
           "x": [
            2605.94758
           ],
           "xaxis": "x",
           "y": [
            65.483
           ],
           "yaxis": "y"
          },
          {
           "hovertemplate": "<b>%{hovertext}</b><br><br>country=Philippines<br>year=2007<br>gdpPercap=%{x}<br>lifeExp=%{y}<br>pop=%{marker.size}<extra></extra>",
           "hovertext": [
            "Philippines"
           ],
           "ids": [
            "Philippines"
           ],
           "legendgroup": "Philippines",
           "marker": {
            "color": "#ab63fa",
            "size": [
             91077287
            ],
            "sizemode": "area",
            "sizeref": 435928.2961983471,
            "symbol": "circle"
           },
           "mode": "markers",
           "name": "Philippines",
           "orientation": "v",
           "showlegend": true,
           "type": "scatter",
           "x": [
            3190.481016
           ],
           "xaxis": "x",
           "y": [
            71.688
           ],
           "yaxis": "y"
          },
          {
           "hovertemplate": "<b>%{hovertext}</b><br><br>country=Saudi Arabia<br>year=2007<br>gdpPercap=%{x}<br>lifeExp=%{y}<br>pop=%{marker.size}<extra></extra>",
           "hovertext": [
            "Saudi Arabia"
           ],
           "ids": [
            "Saudi Arabia"
           ],
           "legendgroup": "Saudi Arabia",
           "marker": {
            "color": "#FFA15A",
            "size": [
             27601038
            ],
            "sizemode": "area",
            "sizeref": 435928.2961983471,
            "symbol": "circle"
           },
           "mode": "markers",
           "name": "Saudi Arabia",
           "orientation": "v",
           "showlegend": true,
           "type": "scatter",
           "x": [
            21654.83194
           ],
           "xaxis": "x",
           "y": [
            72.777
           ],
           "yaxis": "y"
          },
          {
           "hovertemplate": "<b>%{hovertext}</b><br><br>country=Singapore<br>year=2007<br>gdpPercap=%{x}<br>lifeExp=%{y}<br>pop=%{marker.size}<extra></extra>",
           "hovertext": [
            "Singapore"
           ],
           "ids": [
            "Singapore"
           ],
           "legendgroup": "Singapore",
           "marker": {
            "color": "#19d3f3",
            "size": [
             4553009
            ],
            "sizemode": "area",
            "sizeref": 435928.2961983471,
            "symbol": "circle"
           },
           "mode": "markers",
           "name": "Singapore",
           "orientation": "v",
           "showlegend": true,
           "type": "scatter",
           "x": [
            47143.17964
           ],
           "xaxis": "x",
           "y": [
            79.972
           ],
           "yaxis": "y"
          },
          {
           "hovertemplate": "<b>%{hovertext}</b><br><br>country=Sri Lanka<br>year=2007<br>gdpPercap=%{x}<br>lifeExp=%{y}<br>pop=%{marker.size}<extra></extra>",
           "hovertext": [
            "Sri Lanka"
           ],
           "ids": [
            "Sri Lanka"
           ],
           "legendgroup": "Sri Lanka",
           "marker": {
            "color": "#FF6692",
            "size": [
             20378239
            ],
            "sizemode": "area",
            "sizeref": 435928.2961983471,
            "symbol": "circle"
           },
           "mode": "markers",
           "name": "Sri Lanka",
           "orientation": "v",
           "showlegend": true,
           "type": "scatter",
           "x": [
            3970.095407
           ],
           "xaxis": "x",
           "y": [
            72.396
           ],
           "yaxis": "y"
          },
          {
           "hovertemplate": "<b>%{hovertext}</b><br><br>country=Syria<br>year=2007<br>gdpPercap=%{x}<br>lifeExp=%{y}<br>pop=%{marker.size}<extra></extra>",
           "hovertext": [
            "Syria"
           ],
           "ids": [
            "Syria"
           ],
           "legendgroup": "Syria",
           "marker": {
            "color": "#B6E880",
            "size": [
             19314747
            ],
            "sizemode": "area",
            "sizeref": 435928.2961983471,
            "symbol": "circle"
           },
           "mode": "markers",
           "name": "Syria",
           "orientation": "v",
           "showlegend": true,
           "type": "scatter",
           "x": [
            4184.548089
           ],
           "xaxis": "x",
           "y": [
            74.143
           ],
           "yaxis": "y"
          },
          {
           "hovertemplate": "<b>%{hovertext}</b><br><br>country=Taiwan<br>year=2007<br>gdpPercap=%{x}<br>lifeExp=%{y}<br>pop=%{marker.size}<extra></extra>",
           "hovertext": [
            "Taiwan"
           ],
           "ids": [
            "Taiwan"
           ],
           "legendgroup": "Taiwan",
           "marker": {
            "color": "#FF97FF",
            "size": [
             23174294
            ],
            "sizemode": "area",
            "sizeref": 435928.2961983471,
            "symbol": "circle"
           },
           "mode": "markers",
           "name": "Taiwan",
           "orientation": "v",
           "showlegend": true,
           "type": "scatter",
           "x": [
            28718.27684
           ],
           "xaxis": "x",
           "y": [
            78.4
           ],
           "yaxis": "y"
          },
          {
           "hovertemplate": "<b>%{hovertext}</b><br><br>country=Thailand<br>year=2007<br>gdpPercap=%{x}<br>lifeExp=%{y}<br>pop=%{marker.size}<extra></extra>",
           "hovertext": [
            "Thailand"
           ],
           "ids": [
            "Thailand"
           ],
           "legendgroup": "Thailand",
           "marker": {
            "color": "#FECB52",
            "size": [
             65068149
            ],
            "sizemode": "area",
            "sizeref": 435928.2961983471,
            "symbol": "circle"
           },
           "mode": "markers",
           "name": "Thailand",
           "orientation": "v",
           "showlegend": true,
           "type": "scatter",
           "x": [
            7458.396326999998
           ],
           "xaxis": "x",
           "y": [
            70.616
           ],
           "yaxis": "y"
          },
          {
           "hovertemplate": "<b>%{hovertext}</b><br><br>country=Vietnam<br>year=2007<br>gdpPercap=%{x}<br>lifeExp=%{y}<br>pop=%{marker.size}<extra></extra>",
           "hovertext": [
            "Vietnam"
           ],
           "ids": [
            "Vietnam"
           ],
           "legendgroup": "Vietnam",
           "marker": {
            "color": "#636efa",
            "size": [
             85262356
            ],
            "sizemode": "area",
            "sizeref": 435928.2961983471,
            "symbol": "circle"
           },
           "mode": "markers",
           "name": "Vietnam",
           "orientation": "v",
           "showlegend": true,
           "type": "scatter",
           "x": [
            2441.576404
           ],
           "xaxis": "x",
           "y": [
            74.249
           ],
           "yaxis": "y"
          },
          {
           "hovertemplate": "<b>%{hovertext}</b><br><br>country=West Bank and Gaza<br>year=2007<br>gdpPercap=%{x}<br>lifeExp=%{y}<br>pop=%{marker.size}<extra></extra>",
           "hovertext": [
            "West Bank and Gaza"
           ],
           "ids": [
            "West Bank and Gaza"
           ],
           "legendgroup": "West Bank and Gaza",
           "marker": {
            "color": "#EF553B",
            "size": [
             4018332
            ],
            "sizemode": "area",
            "sizeref": 435928.2961983471,
            "symbol": "circle"
           },
           "mode": "markers",
           "name": "West Bank and Gaza",
           "orientation": "v",
           "showlegend": true,
           "type": "scatter",
           "x": [
            3025.349798
           ],
           "xaxis": "x",
           "y": [
            73.422
           ],
           "yaxis": "y"
          },
          {
           "hovertemplate": "<b>%{hovertext}</b><br><br>country=Yemen, Rep.<br>year=2007<br>gdpPercap=%{x}<br>lifeExp=%{y}<br>pop=%{marker.size}<extra></extra>",
           "hovertext": [
            "Yemen, Rep."
           ],
           "ids": [
            "Yemen, Rep."
           ],
           "legendgroup": "Yemen, Rep.",
           "marker": {
            "color": "#00cc96",
            "size": [
             22211743
            ],
            "sizemode": "area",
            "sizeref": 435928.2961983471,
            "symbol": "circle"
           },
           "mode": "markers",
           "name": "Yemen, Rep.",
           "orientation": "v",
           "showlegend": true,
           "type": "scatter",
           "x": [
            2280.769906
           ],
           "xaxis": "x",
           "y": [
            62.698
           ],
           "yaxis": "y"
          }
         ],
         "name": "2007"
        }
       ],
       "layout": {
        "legend": {
         "itemsizing": "constant",
         "title": {
          "text": "country"
         },
         "tracegroupgap": 0
        },
        "margin": {
         "t": 60
        },
        "sliders": [
         {
          "active": 0,
          "currentvalue": {
           "prefix": "year="
          },
          "len": 0.9,
          "pad": {
           "b": 10,
           "t": 60
          },
          "steps": [
           {
            "args": [
             [
              "1952"
             ],
             {
              "frame": {
               "duration": 0,
               "redraw": false
              },
              "fromcurrent": true,
              "mode": "immediate",
              "transition": {
               "duration": 0,
               "easing": "linear"
              }
             }
            ],
            "label": "1952",
            "method": "animate"
           },
           {
            "args": [
             [
              "1957"
             ],
             {
              "frame": {
               "duration": 0,
               "redraw": false
              },
              "fromcurrent": true,
              "mode": "immediate",
              "transition": {
               "duration": 0,
               "easing": "linear"
              }
             }
            ],
            "label": "1957",
            "method": "animate"
           },
           {
            "args": [
             [
              "1962"
             ],
             {
              "frame": {
               "duration": 0,
               "redraw": false
              },
              "fromcurrent": true,
              "mode": "immediate",
              "transition": {
               "duration": 0,
               "easing": "linear"
              }
             }
            ],
            "label": "1962",
            "method": "animate"
           },
           {
            "args": [
             [
              "1967"
             ],
             {
              "frame": {
               "duration": 0,
               "redraw": false
              },
              "fromcurrent": true,
              "mode": "immediate",
              "transition": {
               "duration": 0,
               "easing": "linear"
              }
             }
            ],
            "label": "1967",
            "method": "animate"
           },
           {
            "args": [
             [
              "1972"
             ],
             {
              "frame": {
               "duration": 0,
               "redraw": false
              },
              "fromcurrent": true,
              "mode": "immediate",
              "transition": {
               "duration": 0,
               "easing": "linear"
              }
             }
            ],
            "label": "1972",
            "method": "animate"
           },
           {
            "args": [
             [
              "1977"
             ],
             {
              "frame": {
               "duration": 0,
               "redraw": false
              },
              "fromcurrent": true,
              "mode": "immediate",
              "transition": {
               "duration": 0,
               "easing": "linear"
              }
             }
            ],
            "label": "1977",
            "method": "animate"
           },
           {
            "args": [
             [
              "1982"
             ],
             {
              "frame": {
               "duration": 0,
               "redraw": false
              },
              "fromcurrent": true,
              "mode": "immediate",
              "transition": {
               "duration": 0,
               "easing": "linear"
              }
             }
            ],
            "label": "1982",
            "method": "animate"
           },
           {
            "args": [
             [
              "1987"
             ],
             {
              "frame": {
               "duration": 0,
               "redraw": false
              },
              "fromcurrent": true,
              "mode": "immediate",
              "transition": {
               "duration": 0,
               "easing": "linear"
              }
             }
            ],
            "label": "1987",
            "method": "animate"
           },
           {
            "args": [
             [
              "1992"
             ],
             {
              "frame": {
               "duration": 0,
               "redraw": false
              },
              "fromcurrent": true,
              "mode": "immediate",
              "transition": {
               "duration": 0,
               "easing": "linear"
              }
             }
            ],
            "label": "1992",
            "method": "animate"
           },
           {
            "args": [
             [
              "1997"
             ],
             {
              "frame": {
               "duration": 0,
               "redraw": false
              },
              "fromcurrent": true,
              "mode": "immediate",
              "transition": {
               "duration": 0,
               "easing": "linear"
              }
             }
            ],
            "label": "1997",
            "method": "animate"
           },
           {
            "args": [
             [
              "2002"
             ],
             {
              "frame": {
               "duration": 0,
               "redraw": false
              },
              "fromcurrent": true,
              "mode": "immediate",
              "transition": {
               "duration": 0,
               "easing": "linear"
              }
             }
            ],
            "label": "2002",
            "method": "animate"
           },
           {
            "args": [
             [
              "2007"
             ],
             {
              "frame": {
               "duration": 0,
               "redraw": false
              },
              "fromcurrent": true,
              "mode": "immediate",
              "transition": {
               "duration": 0,
               "easing": "linear"
              }
             }
            ],
            "label": "2007",
            "method": "animate"
           }
          ],
          "x": 0.1,
          "xanchor": "left",
          "y": 0,
          "yanchor": "top"
         }
        ],
        "template": {
         "data": {
          "bar": [
           {
            "error_x": {
             "color": "#2a3f5f"
            },
            "error_y": {
             "color": "#2a3f5f"
            },
            "marker": {
             "line": {
              "color": "#E5ECF6",
              "width": 0.5
             },
             "pattern": {
              "fillmode": "overlay",
              "size": 10,
              "solidity": 0.2
             }
            },
            "type": "bar"
           }
          ],
          "barpolar": [
           {
            "marker": {
             "line": {
              "color": "#E5ECF6",
              "width": 0.5
             },
             "pattern": {
              "fillmode": "overlay",
              "size": 10,
              "solidity": 0.2
             }
            },
            "type": "barpolar"
           }
          ],
          "carpet": [
           {
            "aaxis": {
             "endlinecolor": "#2a3f5f",
             "gridcolor": "white",
             "linecolor": "white",
             "minorgridcolor": "white",
             "startlinecolor": "#2a3f5f"
            },
            "baxis": {
             "endlinecolor": "#2a3f5f",
             "gridcolor": "white",
             "linecolor": "white",
             "minorgridcolor": "white",
             "startlinecolor": "#2a3f5f"
            },
            "type": "carpet"
           }
          ],
          "choropleth": [
           {
            "colorbar": {
             "outlinewidth": 0,
             "ticks": ""
            },
            "type": "choropleth"
           }
          ],
          "contour": [
           {
            "colorbar": {
             "outlinewidth": 0,
             "ticks": ""
            },
            "colorscale": [
             [
              0,
              "#0d0887"
             ],
             [
              0.1111111111111111,
              "#46039f"
             ],
             [
              0.2222222222222222,
              "#7201a8"
             ],
             [
              0.3333333333333333,
              "#9c179e"
             ],
             [
              0.4444444444444444,
              "#bd3786"
             ],
             [
              0.5555555555555556,
              "#d8576b"
             ],
             [
              0.6666666666666666,
              "#ed7953"
             ],
             [
              0.7777777777777778,
              "#fb9f3a"
             ],
             [
              0.8888888888888888,
              "#fdca26"
             ],
             [
              1,
              "#f0f921"
             ]
            ],
            "type": "contour"
           }
          ],
          "contourcarpet": [
           {
            "colorbar": {
             "outlinewidth": 0,
             "ticks": ""
            },
            "type": "contourcarpet"
           }
          ],
          "heatmap": [
           {
            "colorbar": {
             "outlinewidth": 0,
             "ticks": ""
            },
            "colorscale": [
             [
              0,
              "#0d0887"
             ],
             [
              0.1111111111111111,
              "#46039f"
             ],
             [
              0.2222222222222222,
              "#7201a8"
             ],
             [
              0.3333333333333333,
              "#9c179e"
             ],
             [
              0.4444444444444444,
              "#bd3786"
             ],
             [
              0.5555555555555556,
              "#d8576b"
             ],
             [
              0.6666666666666666,
              "#ed7953"
             ],
             [
              0.7777777777777778,
              "#fb9f3a"
             ],
             [
              0.8888888888888888,
              "#fdca26"
             ],
             [
              1,
              "#f0f921"
             ]
            ],
            "type": "heatmap"
           }
          ],
          "heatmapgl": [
           {
            "colorbar": {
             "outlinewidth": 0,
             "ticks": ""
            },
            "colorscale": [
             [
              0,
              "#0d0887"
             ],
             [
              0.1111111111111111,
              "#46039f"
             ],
             [
              0.2222222222222222,
              "#7201a8"
             ],
             [
              0.3333333333333333,
              "#9c179e"
             ],
             [
              0.4444444444444444,
              "#bd3786"
             ],
             [
              0.5555555555555556,
              "#d8576b"
             ],
             [
              0.6666666666666666,
              "#ed7953"
             ],
             [
              0.7777777777777778,
              "#fb9f3a"
             ],
             [
              0.8888888888888888,
              "#fdca26"
             ],
             [
              1,
              "#f0f921"
             ]
            ],
            "type": "heatmapgl"
           }
          ],
          "histogram": [
           {
            "marker": {
             "pattern": {
              "fillmode": "overlay",
              "size": 10,
              "solidity": 0.2
             }
            },
            "type": "histogram"
           }
          ],
          "histogram2d": [
           {
            "colorbar": {
             "outlinewidth": 0,
             "ticks": ""
            },
            "colorscale": [
             [
              0,
              "#0d0887"
             ],
             [
              0.1111111111111111,
              "#46039f"
             ],
             [
              0.2222222222222222,
              "#7201a8"
             ],
             [
              0.3333333333333333,
              "#9c179e"
             ],
             [
              0.4444444444444444,
              "#bd3786"
             ],
             [
              0.5555555555555556,
              "#d8576b"
             ],
             [
              0.6666666666666666,
              "#ed7953"
             ],
             [
              0.7777777777777778,
              "#fb9f3a"
             ],
             [
              0.8888888888888888,
              "#fdca26"
             ],
             [
              1,
              "#f0f921"
             ]
            ],
            "type": "histogram2d"
           }
          ],
          "histogram2dcontour": [
           {
            "colorbar": {
             "outlinewidth": 0,
             "ticks": ""
            },
            "colorscale": [
             [
              0,
              "#0d0887"
             ],
             [
              0.1111111111111111,
              "#46039f"
             ],
             [
              0.2222222222222222,
              "#7201a8"
             ],
             [
              0.3333333333333333,
              "#9c179e"
             ],
             [
              0.4444444444444444,
              "#bd3786"
             ],
             [
              0.5555555555555556,
              "#d8576b"
             ],
             [
              0.6666666666666666,
              "#ed7953"
             ],
             [
              0.7777777777777778,
              "#fb9f3a"
             ],
             [
              0.8888888888888888,
              "#fdca26"
             ],
             [
              1,
              "#f0f921"
             ]
            ],
            "type": "histogram2dcontour"
           }
          ],
          "mesh3d": [
           {
            "colorbar": {
             "outlinewidth": 0,
             "ticks": ""
            },
            "type": "mesh3d"
           }
          ],
          "parcoords": [
           {
            "line": {
             "colorbar": {
              "outlinewidth": 0,
              "ticks": ""
             }
            },
            "type": "parcoords"
           }
          ],
          "pie": [
           {
            "automargin": true,
            "type": "pie"
           }
          ],
          "scatter": [
           {
            "fillpattern": {
             "fillmode": "overlay",
             "size": 10,
             "solidity": 0.2
            },
            "type": "scatter"
           }
          ],
          "scatter3d": [
           {
            "line": {
             "colorbar": {
              "outlinewidth": 0,
              "ticks": ""
             }
            },
            "marker": {
             "colorbar": {
              "outlinewidth": 0,
              "ticks": ""
             }
            },
            "type": "scatter3d"
           }
          ],
          "scattercarpet": [
           {
            "marker": {
             "colorbar": {
              "outlinewidth": 0,
              "ticks": ""
             }
            },
            "type": "scattercarpet"
           }
          ],
          "scattergeo": [
           {
            "marker": {
             "colorbar": {
              "outlinewidth": 0,
              "ticks": ""
             }
            },
            "type": "scattergeo"
           }
          ],
          "scattergl": [
           {
            "marker": {
             "colorbar": {
              "outlinewidth": 0,
              "ticks": ""
             }
            },
            "type": "scattergl"
           }
          ],
          "scattermapbox": [
           {
            "marker": {
             "colorbar": {
              "outlinewidth": 0,
              "ticks": ""
             }
            },
            "type": "scattermapbox"
           }
          ],
          "scatterpolar": [
           {
            "marker": {
             "colorbar": {
              "outlinewidth": 0,
              "ticks": ""
             }
            },
            "type": "scatterpolar"
           }
          ],
          "scatterpolargl": [
           {
            "marker": {
             "colorbar": {
              "outlinewidth": 0,
              "ticks": ""
             }
            },
            "type": "scatterpolargl"
           }
          ],
          "scatterternary": [
           {
            "marker": {
             "colorbar": {
              "outlinewidth": 0,
              "ticks": ""
             }
            },
            "type": "scatterternary"
           }
          ],
          "surface": [
           {
            "colorbar": {
             "outlinewidth": 0,
             "ticks": ""
            },
            "colorscale": [
             [
              0,
              "#0d0887"
             ],
             [
              0.1111111111111111,
              "#46039f"
             ],
             [
              0.2222222222222222,
              "#7201a8"
             ],
             [
              0.3333333333333333,
              "#9c179e"
             ],
             [
              0.4444444444444444,
              "#bd3786"
             ],
             [
              0.5555555555555556,
              "#d8576b"
             ],
             [
              0.6666666666666666,
              "#ed7953"
             ],
             [
              0.7777777777777778,
              "#fb9f3a"
             ],
             [
              0.8888888888888888,
              "#fdca26"
             ],
             [
              1,
              "#f0f921"
             ]
            ],
            "type": "surface"
           }
          ],
          "table": [
           {
            "cells": {
             "fill": {
              "color": "#EBF0F8"
             },
             "line": {
              "color": "white"
             }
            },
            "header": {
             "fill": {
              "color": "#C8D4E3"
             },
             "line": {
              "color": "white"
             }
            },
            "type": "table"
           }
          ]
         },
         "layout": {
          "annotationdefaults": {
           "arrowcolor": "#2a3f5f",
           "arrowhead": 0,
           "arrowwidth": 1
          },
          "autotypenumbers": "strict",
          "coloraxis": {
           "colorbar": {
            "outlinewidth": 0,
            "ticks": ""
           }
          },
          "colorscale": {
           "diverging": [
            [
             0,
             "#8e0152"
            ],
            [
             0.1,
             "#c51b7d"
            ],
            [
             0.2,
             "#de77ae"
            ],
            [
             0.3,
             "#f1b6da"
            ],
            [
             0.4,
             "#fde0ef"
            ],
            [
             0.5,
             "#f7f7f7"
            ],
            [
             0.6,
             "#e6f5d0"
            ],
            [
             0.7,
             "#b8e186"
            ],
            [
             0.8,
             "#7fbc41"
            ],
            [
             0.9,
             "#4d9221"
            ],
            [
             1,
             "#276419"
            ]
           ],
           "sequential": [
            [
             0,
             "#0d0887"
            ],
            [
             0.1111111111111111,
             "#46039f"
            ],
            [
             0.2222222222222222,
             "#7201a8"
            ],
            [
             0.3333333333333333,
             "#9c179e"
            ],
            [
             0.4444444444444444,
             "#bd3786"
            ],
            [
             0.5555555555555556,
             "#d8576b"
            ],
            [
             0.6666666666666666,
             "#ed7953"
            ],
            [
             0.7777777777777778,
             "#fb9f3a"
            ],
            [
             0.8888888888888888,
             "#fdca26"
            ],
            [
             1,
             "#f0f921"
            ]
           ],
           "sequentialminus": [
            [
             0,
             "#0d0887"
            ],
            [
             0.1111111111111111,
             "#46039f"
            ],
            [
             0.2222222222222222,
             "#7201a8"
            ],
            [
             0.3333333333333333,
             "#9c179e"
            ],
            [
             0.4444444444444444,
             "#bd3786"
            ],
            [
             0.5555555555555556,
             "#d8576b"
            ],
            [
             0.6666666666666666,
             "#ed7953"
            ],
            [
             0.7777777777777778,
             "#fb9f3a"
            ],
            [
             0.8888888888888888,
             "#fdca26"
            ],
            [
             1,
             "#f0f921"
            ]
           ]
          },
          "colorway": [
           "#636efa",
           "#EF553B",
           "#00cc96",
           "#ab63fa",
           "#FFA15A",
           "#19d3f3",
           "#FF6692",
           "#B6E880",
           "#FF97FF",
           "#FECB52"
          ],
          "font": {
           "color": "#2a3f5f"
          },
          "geo": {
           "bgcolor": "white",
           "lakecolor": "white",
           "landcolor": "#E5ECF6",
           "showlakes": true,
           "showland": true,
           "subunitcolor": "white"
          },
          "hoverlabel": {
           "align": "left"
          },
          "hovermode": "closest",
          "mapbox": {
           "style": "light"
          },
          "paper_bgcolor": "white",
          "plot_bgcolor": "#E5ECF6",
          "polar": {
           "angularaxis": {
            "gridcolor": "white",
            "linecolor": "white",
            "ticks": ""
           },
           "bgcolor": "#E5ECF6",
           "radialaxis": {
            "gridcolor": "white",
            "linecolor": "white",
            "ticks": ""
           }
          },
          "scene": {
           "xaxis": {
            "backgroundcolor": "#E5ECF6",
            "gridcolor": "white",
            "gridwidth": 2,
            "linecolor": "white",
            "showbackground": true,
            "ticks": "",
            "zerolinecolor": "white"
           },
           "yaxis": {
            "backgroundcolor": "#E5ECF6",
            "gridcolor": "white",
            "gridwidth": 2,
            "linecolor": "white",
            "showbackground": true,
            "ticks": "",
            "zerolinecolor": "white"
           },
           "zaxis": {
            "backgroundcolor": "#E5ECF6",
            "gridcolor": "white",
            "gridwidth": 2,
            "linecolor": "white",
            "showbackground": true,
            "ticks": "",
            "zerolinecolor": "white"
           }
          },
          "shapedefaults": {
           "line": {
            "color": "#2a3f5f"
           }
          },
          "ternary": {
           "aaxis": {
            "gridcolor": "white",
            "linecolor": "white",
            "ticks": ""
           },
           "baxis": {
            "gridcolor": "white",
            "linecolor": "white",
            "ticks": ""
           },
           "bgcolor": "#E5ECF6",
           "caxis": {
            "gridcolor": "white",
            "linecolor": "white",
            "ticks": ""
           }
          },
          "title": {
           "x": 0.05
          },
          "xaxis": {
           "automargin": true,
           "gridcolor": "white",
           "linecolor": "white",
           "ticks": "",
           "title": {
            "standoff": 15
           },
           "zerolinecolor": "white",
           "zerolinewidth": 2
          },
          "yaxis": {
           "automargin": true,
           "gridcolor": "white",
           "linecolor": "white",
           "ticks": "",
           "title": {
            "standoff": 15
           },
           "zerolinecolor": "white",
           "zerolinewidth": 2
          }
         }
        },
        "updatemenus": [
         {
          "buttons": [
           {
            "args": [
             null,
             {
              "frame": {
               "duration": 500,
               "redraw": false
              },
              "fromcurrent": true,
              "mode": "immediate",
              "transition": {
               "duration": 500,
               "easing": "linear"
              }
             }
            ],
            "label": "&#9654;",
            "method": "animate"
           },
           {
            "args": [
             [
              null
             ],
             {
              "frame": {
               "duration": 0,
               "redraw": false
              },
              "fromcurrent": true,
              "mode": "immediate",
              "transition": {
               "duration": 0,
               "easing": "linear"
              }
             }
            ],
            "label": "&#9724;",
            "method": "animate"
           }
          ],
          "direction": "left",
          "pad": {
           "r": 10,
           "t": 70
          },
          "showactive": false,
          "type": "buttons",
          "x": 0.1,
          "xanchor": "right",
          "y": 0,
          "yanchor": "top"
         }
        ],
        "xaxis": {
         "anchor": "y",
         "domain": [
          0,
          1
         ],
         "range": [
          2,
          5
         ],
         "title": {
          "text": "gdpPercap"
         },
         "type": "log"
        },
        "yaxis": {
         "anchor": "x",
         "domain": [
          0,
          1
         ],
         "range": [
          25,
          90
         ],
         "title": {
          "text": "lifeExp"
         }
        }
       }
      }
     },
     "metadata": {},
     "output_type": "display_data"
    }
   ],
   "source": [
    "#animate a scatter plot\n",
    "import plotly.express as px\n",
    "import pandas as pd\n",
    "import numpy as np\n",
    "df = px.data.gapminder().query(\"continent=='Asia'\")\n",
    "fig = px.scatter(df, x=\"gdpPercap\", y=\"lifeExp\", animation_frame=\"year\", animation_group=\"country\",\n",
    "              size=\"pop\", color=\"country\", hover_name=\"country\",\n",
    "                log_x=True, size_max=55, range_x=[100,100000], range_y=[25,90])\n",
    "fig.show()"
   ]
  },
  {
   "cell_type": "code",
   "execution_count": null,
   "metadata": {},
   "outputs": [],
   "source": []
  }
 ],
 "metadata": {
  "kernelspec": {
   "display_name": "Python 3.10.2 64-bit",
   "language": "python",
   "name": "python3"
  },
  "language_info": {
   "codemirror_mode": {
    "name": "ipython",
    "version": 3
   },
   "file_extension": ".py",
   "mimetype": "text/x-python",
   "name": "python",
   "nbconvert_exporter": "python",
   "pygments_lexer": "ipython3",
   "version": "3.10.2"
  },
  "orig_nbformat": 4,
  "vscode": {
   "interpreter": {
    "hash": "8c3d4d9970fc5c09c50d9318a9c7fbf4d0159e4b28833276f5678ee22bded273"
   }
  }
 },
 "nbformat": 4,
 "nbformat_minor": 2
}
